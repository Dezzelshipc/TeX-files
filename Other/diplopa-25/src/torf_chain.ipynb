{
 "cells": [
  {
   "cell_type": "code",
   "execution_count": 383,
   "metadata": {},
   "outputs": [],
   "source": [
    "import numpy as np\n",
    "import matplotlib.pyplot as plt"
   ]
  },
  {
   "cell_type": "code",
   "execution_count": 384,
   "metadata": {},
   "outputs": [],
   "source": [
    "def runge_kutta(function, y0: np.ndarray | float, time_space: np.ndarray) -> tuple[np.ndarray, np.ndarray]:\n",
    "    h = time_space[1] - time_space[0]\n",
    "    num = len(time_space)\n",
    "    x_a = time_space\n",
    "\n",
    "    y_a = [y0] * (num)\n",
    "\n",
    "    for i in range(num - 1):\n",
    "        k0 = function(x_a[i], y_a[i])\n",
    "        k1 = function(x_a[i] + h / 2, y_a[i] + h * k0 / 2)\n",
    "        k2 = function(x_a[i] + h / 2, y_a[i] + h * k1 / 2)\n",
    "        k3 = function(x_a[i] + h, y_a[i] + h * k2)\n",
    "        y_a[i + 1] = y_a[i] + h / 6 * (k0 + 2 * k1 + 2 * k2 + k3)\n",
    "\n",
    "    return x_a, np.array(y_a)"
   ]
  },
  {
   "cell_type": "code",
   "execution_count": 411,
   "metadata": {},
   "outputs": [
    {
     "name": "stdout",
     "output_type": "stream",
     "text": [
      "q=1\n",
      "[20 16 12  8] [0.  0.3 0.2 0.1] [0 4 3 2]\n"
     ]
    }
   ],
   "source": [
    "n = 4 # 0 - 3\n",
    "q = 1\n",
    "print(f\"{q=}\")\n",
    "\n",
    "Q = 100\n",
    "alpha = np.array([20, 16, 12, 8]) # n\n",
    "k = np.append([0], [0.3, 0.2, 0.1]) # n-1, 0<=k_i<=1\n",
    "m = np.append([0], [4, 3, 2]) # n-1\n",
    "a = np.append([0], [0.9, 0.9, 0.9]) # n-1, 0<=a_i<=1\n",
    "\n",
    "g = np.append([0], k[1:] * alpha[:-1] / alpha[1:])\n",
    "H = np.append([1], [ np.prod(g[2-(i%2):i+2:2]) for i in range(1, n) ])\n",
    "\n",
    "mu =np.append([0], m[1:] / alpha[1:])\n",
    "f = np.append([0], [ sum(mu[2-(i%2):i+2:2]/H[2-(i%2):i+2:2]) for i in range(1, n) ])\n",
    "\n",
    "print( alpha, k, m )"
   ]
  },
  {
   "cell_type": "code",
   "execution_count": 412,
   "metadata": {},
   "outputs": [
    {
     "name": "stdout",
     "output_type": "stream",
     "text": [
      "[ 0.         12.5        95.83333333]\n",
      "[0.66666667 7.5        0.         1.75      ]\n"
     ]
    }
   ],
   "source": [
    "# Flow\n",
    "\n",
    "N = np.zeros(n)\n",
    "\n",
    "if q % 2 == 0:\n",
    "    N[0] = Q / ( alpha[0] * f[q] )\n",
    "    N[1] = f[q]\n",
    "else:\n",
    "    N[0] = f[q]\n",
    "    N[1] = Q / ( alpha[0] * f[q] )\n",
    "\n",
    "\n",
    "for s in range(1, n//2):\n",
    "    N[s*2] = H[2*s-1] * (N[0] - f[2*s-1])\n",
    "    N[s*2+1] = H[2*s] * (N[1] - f[2*s])\n",
    "\n",
    "NF = N.copy()\n",
    "NF = np.where(NF < 0, 0, NF)\n",
    "\n",
    "print( alpha[0] * f[:-1] * f[1:] )\n",
    "print(NF)"
   ]
  },
  {
   "cell_type": "code",
   "execution_count": 413,
   "metadata": {},
   "outputs": [
    {
     "name": "stdout",
     "output_type": "stream",
     "text": [
      "[0.66666667 8.11633412 0.         1.91435577]\n"
     ]
    }
   ],
   "source": [
    "# Cycle\n",
    "\n",
    "_phi = a[2::2] * m[2::2] * H[1::2]\n",
    "phi = np.append([0], np.cumsum(_phi) )\n",
    "\n",
    "_psi = a[1::2] * m[1::2] * H[::2]\n",
    "psi = np.append([0], np.cumsum(_psi) )\n",
    "\n",
    "_omega = a[1:] * m[1:] * f[:-1] * H[:-1]\n",
    "omega = np.append([0], np.cumsum(_omega) )\n",
    "\n",
    "N = np.zeros(n)\n",
    "\n",
    "if q % 2 == 0:\n",
    "    N[0] = ( Q + f[q] * psi[q//2] - omega[q] ) / ( alpha[0] * f[q] - phi[q//2] )\n",
    "    N[1] = f[q]\n",
    "else:\n",
    "    N[0] = f[q]\n",
    "    N[1] = ( Q + f[q] * psi[q//2] - omega[q] ) / ( alpha[0] * f[q] - phi[q//2 + 1] )\n",
    "\n",
    "\n",
    "for s in range(1, n//2):\n",
    "    N[s*2] = H[2*s-1] * (N[0] - f[2*s-1])\n",
    "    N[s*2+1] = H[2*s] * (N[1] - f[2*s])\n",
    "\n",
    "\n",
    "NC = N.copy()\n",
    "\n",
    "print(NC)"
   ]
  },
  {
   "cell_type": "code",
   "execution_count": 414,
   "metadata": {},
   "outputs": [],
   "source": [
    "# flow chain\n",
    "def get_right_flow(func_v, func_1=None):\n",
    "    func_1 = func_1 or func_v\n",
    "    def right_flow(t, x):\n",
    "        return np.append(\n",
    "            [Q - alpha[0] * func_1(x[0]) * x[1]],\n",
    "            [\n",
    "                -m[i] * x[i] + k[i] * alpha[i-1] * func_v(x[i-1]) * x[i] - (x[i+1] if i < n-1 else 0 ) * alpha[i] * func_v(x[i])\n",
    "                for i in range(1, n)\n",
    "            ]\n",
    "        )\n",
    "    return right_flow\n",
    "\n",
    "def identity(x):\n",
    "    return x\n",
    "\n",
    "# def right_flow(t, x):\n",
    "#     return np.append(\n",
    "#         [Q - alpha[0] * x[0] * x[1]],\n",
    "#         [\n",
    "#             x[i] * (-m[i] + k[i] * alpha[i-1] * x[i-1] - (alpha[i] * x[i+1] if i < n-1 else 0 ))\n",
    "#             for i in range(1, n)\n",
    "#         ]\n",
    "#     )"
   ]
  },
  {
   "cell_type": "code",
   "execution_count": null,
   "metadata": {},
   "outputs": [],
   "source": [
    "t_s = np.arange(0, 100, 0.01)\n",
    "N0 = np.array([ 2 ] * n)\n",
    "\n",
    "right_flow = get_right_flow(identity)\n",
    "# right_flow = get_right_flow(np.atan)\n",
    "\n",
    "Tl, Nl = runge_kutta(right_flow, N0, t_s)"
   ]
  },
  {
   "cell_type": "code",
   "execution_count": 418,
   "metadata": {},
   "outputs": [
    {
     "name": "stdout",
     "output_type": "stream",
     "text": [
      "[0.66666667 7.5        0.         1.75      ]\n",
      "[5.11111111 0.97826087 1.66666667 0.01086957]\n"
     ]
    },
    {
     "data": {
      "image/png": "[encoded data removed]",
      "text/plain": [
       "<Figure size 640x480 with 1 Axes>"
      ]
     },
     "metadata": {},
     "output_type": "display_data"
    }
   ],
   "source": [
    "slc_start = 0\n",
    "slc = -1\n",
    "\n",
    "start = 3\n",
    "leg = []\n",
    "\n",
    "# for i in range(start,n):\n",
    "#     plt.plot([0, Tl[slc-1]], [NF[i]]*2, \"--\")\n",
    "#     leg.append(f\"Равн{i}\")\n",
    "\n",
    "for i in range(start,n):\n",
    "    plt.plot(Tl[slc_start:slc], Nl[slc_start:slc,i])\n",
    "    leg.append(f\"Вид{i}\")\n",
    "\n",
    "plt.legend(\n",
    "    leg, \n",
    "    loc='upper right'\n",
    ")\n",
    "plt.xlabel('t')\n",
    "plt.ylabel('N')\n",
    "print(NF)\n",
    "\n",
    "print(Nl[-1])\n",
    "\n",
    "plt.savefig(\"./figs/exp1.pdf\")"
   ]
  },
  {
   "cell_type": "code",
   "execution_count": null,
   "metadata": {},
   "outputs": [],
   "source": [
    "# cycle chain\n",
    "def right_cycle(t, x):\n",
    "    return np.append(\n",
    "        [ Q - alpha[0] * x[0] * x[1] + sum(a * m * x) ],\n",
    "        [\n",
    "            x[i] * (-m[i] + k[i] * alpha[i-1] * x[i-1] - (alpha[i] * x[i+1] if i < n-1 else 0 ))\n",
    "            for i in range(1, n)\n",
    "        ]\n",
    "    )"
   ]
  },
  {
   "cell_type": "code",
   "execution_count": 164,
   "metadata": {},
   "outputs": [],
   "source": [
    "t_s2 = np.arange(0, 50, 0.01)\n",
    "N1 = np.array([ 5 ] * n)\n",
    "\n",
    "Tl2, Nl2 = runge_kutta(right_cycle, N1, t_s2)"
   ]
  },
  {
   "cell_type": "code",
   "execution_count": 165,
   "metadata": {},
   "outputs": [
    {
     "name": "stdout",
     "output_type": "stream",
     "text": [
      "[55.532926    6.25        2.91496945  0.        ]\n"
     ]
    },
    {
     "data": {
      "image/png": "[encoded data removed]",
      "text/plain": [
       "<Figure size 640x480 with 1 Axes>"
      ]
     },
     "metadata": {},
     "output_type": "display_data"
    }
   ],
   "source": [
    "slc = -1\n",
    "\n",
    "start = 0\n",
    "leg = []\n",
    "\n",
    "for i in range(start,n):\n",
    "    plt.plot([0, Tl2[slc-1]], [NC[i]]*2, \"--\")\n",
    "    leg.append(f\"tar{i}\")\n",
    "\n",
    "for i in range(start,n):\n",
    "    plt.plot(Tl2[:slc], Nl2[:slc,i])\n",
    "    leg.append(f\"mod{i}\")\n",
    "\n",
    "plt.legend(leg)\n",
    "print(NC)"
   ]
  },
  {
   "cell_type": "code",
   "execution_count": 166,
   "metadata": {},
   "outputs": [
    {
     "name": "stdout",
     "output_type": "stream",
     "text": [
      "[53.33333333  6.25        2.75        0.        ] [55.532926    6.25        2.91496945  0.        ]\n"
     ]
    }
   ],
   "source": [
    "print(NF, NC)"
   ]
  }
 ],
 "metadata": {
  "kernelspec": {
   "display_name": "Python 3",
   "language": "python",
   "name": "python3"
  },
  "language_info": {
   "codemirror_mode": {
    "name": "ipython",
    "version": 3
   },
   "file_extension": ".py",
   "mimetype": "text/x-python",
   "name": "python",
   "nbconvert_exporter": "python",
   "pygments_lexer": "ipython3",
   "version": "3.12.9"
  }
 },
 "nbformat": 4,
 "nbformat_minor": 2
}
