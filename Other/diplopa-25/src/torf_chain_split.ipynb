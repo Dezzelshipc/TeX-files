{
 "cells": [
  {
   "cell_type": "code",
   "execution_count": 72,
   "metadata": {},
   "outputs": [],
   "source": [
    "import numpy as np\n",
    "import matplotlib.pyplot as plt"
   ]
  },
  {
   "cell_type": "code",
   "execution_count": 5,
   "metadata": {},
   "outputs": [],
   "source": [
    "def runge_kutta(function, y0: np.ndarray | float, time_space: np.ndarray) -> tuple[np.ndarray, np.ndarray]:\n",
    "    h = time_space[1] - time_space[0]\n",
    "    num = len(time_space)\n",
    "    x_a = time_space\n",
    "\n",
    "    y_a = [y0] * (num)\n",
    "\n",
    "    for i in range(num - 1):\n",
    "        k0 = function(x_a[i], y_a[i])\n",
    "        k1 = function(x_a[i] + h / 2, y_a[i] + h * k0 / 2)\n",
    "        k2 = function(x_a[i] + h / 2, y_a[i] + h * k1 / 2)\n",
    "        k3 = function(x_a[i] + h, y_a[i] + h * k2)\n",
    "        y_a[i + 1] = y_a[i] + h / 6 * (k0 + 2 * k1 + 2 * k2 + k3)\n",
    "\n",
    "    return x_a, np.array(y_a)"
   ]
  },
  {
   "cell_type": "code",
   "execution_count": null,
   "metadata": {},
   "outputs": [
    {
     "name": "stdout",
     "output_type": "stream",
     "text": [
      "3 3 7\n"
     ]
    }
   ],
   "source": [
    "Q = 100\n",
    "s = 2\n",
    "\n",
    "# alpha = np.array([20, 16, 12, 8])\n",
    "# k = np.append([0], [0.3, 0.2, 0.1])\n",
    "# m = np.append([0], [4, 3, 2])\n",
    "# a = np.append([0], [0.3, 0.3, 0.3])\n",
    "\n",
    "# alpha2 = np.array([16, 12, 8])\n",
    "# k2 = np.array([0.3, 0.2, 0.1])\n",
    "# m2 = np.array([4, 3, 2])\n",
    "# a2 = np.array([0.3, 0.3, 0.3])\n",
    "\n",
    "_q = 5\n",
    "_r = 3\n",
    "\n",
    "alpha = np.array([2] * (_q+1))\n",
    "k = np.append([0], [0.5] * _q)\n",
    "m = np.append([0], [0.2] * _q)\n",
    "a = np.append([0, 0.1], [0] * (_q-1))\n",
    "\n",
    "alpha2 = np.array([0.1] * _r)\n",
    "k2 = np.array([0.5] * _r)\n",
    "m2 = np.array([0.1] * _r)\n",
    "a2 = np.array([0] * _r)\n",
    "\n",
    "\n",
    "ab = 0.4\n",
    "q = len(m) - 1\n",
    "r = len(m2)\n",
    "\n",
    "cc = np.append(a*m, a2*m2)\n",
    "alpha = np.append(alpha, alpha2)\n",
    "k = np.append(k, k2)\n",
    "m = np.append(m, m2)\n",
    "a = np.append(a, a2)\n",
    "\n",
    "cc[2:] = 0\n",
    "\n",
    "\n",
    "# g = np.append([0], k[1:] * alpha[:-1] / alpha[1:])\n",
    "# H = np.append([1], [ np.prod(g[2-(i%2):i+2:2]) for i in range(1, n) ])\n",
    "\n",
    "# mu =np.append([0], m[1:] / alpha[1:])\n",
    "# f = np.append([0], [ sum(mu[2-(i%2):i+2:2]/H[2-(i%2):i+2:2]) for i in range(1, n) ])\n",
    "\n",
    "\n",
    "n = len(alpha)\n",
    "print(q, r, n)"
   ]
  },
  {
   "cell_type": "code",
   "execution_count": 66,
   "metadata": {},
   "outputs": [],
   "source": [
    "def get_right_split(func_v, func_1=None):\n",
    "    func_1 = func_1 or func_v\n",
    "    def right(t, x):\n",
    "        return np.array([\n",
    "            *[Q - alpha[0] * func_1(x[0]) * x[1] + sum(cc * x)],\n",
    "            *[\n",
    "                -m[i] * x[i] + k[i] * alpha[i-1] * func_v(x[i-1]) * x[i] - x[i+1] * alpha[i] * func_v(x[i])\n",
    "                for i in range(1, s)\n",
    "            ],\n",
    "            *[\n",
    "                -m[s] * x[s] + k[s] * alpha[s-1] * func_v(x[s-1]) * x[s] - x[s+1] * alpha[s] * func_v(x[s]) - ab * func_v(x[s]) * x[q+1]\n",
    "            ],\n",
    "            *[\n",
    "                -m[i] * x[i] + k[i] * alpha[i-1] * func_v(x[i-1]) * x[i] - (x[i+1] if i < q-1 else 0 ) * alpha[i] * func_v(x[i])\n",
    "                for i in range(s+1, q+1)\n",
    "            ],\n",
    "            *[\n",
    "                -m[q+1] * x[q+1] + k[q+1] * ab * func_v(x[s]) * x[q+1] - x[q+2] * alpha[q+1] * func_v(x[q+1])\n",
    "            ],\n",
    "            *[\n",
    "                -m[i] * x[i] + k[i] * alpha[i-1] * func_v(x[i-1]) * x[i] - (x[i+1] if i < r-1 else 0 ) * alpha[i] * func_v(x[i])\n",
    "                for i in range(q+2, q+r+1)\n",
    "            ],\n",
    "        ])\n",
    "    return right\n",
    "\n",
    "\n",
    "def identity(x):\n",
    "    return x"
   ]
  },
  {
   "cell_type": "code",
   "execution_count": 70,
   "metadata": {},
   "outputs": [],
   "source": [
    "Q = 10\n",
    "t_s = np.arange(0, 40, 0.001)\n",
    "N0 = np.array([ 2 ] * (1+q+r))\n",
    "\n",
    "right_flow = get_right_split(identity)\n",
    "# right_flow = get_right_flow(np.atan)\n",
    "\n",
    "Tl, Nl = runge_kutta(right_flow, N0, t_s)"
   ]
  },
  {
   "cell_type": "code",
   "execution_count": 71,
   "metadata": {},
   "outputs": [
    {
     "name": "stdout",
     "output_type": "stream",
     "text": [
      "[6.66666667e-01 8.24175824e-01 1.60851549e-12 4.02133085e-35\n",
      " 2.29378395e-75 1.83770670e-52 9.28576257e-35]\n",
      "0.06\n"
     ]
    },
    {
     "data": {
      "image/png": "[encoded data removed]",
      "text/plain": [
       "<Figure size 640x480 with 1 Axes>"
      ]
     },
     "metadata": {},
     "output_type": "display_data"
    }
   ],
   "source": [
    "slc_start = 0\n",
    "slc = -1\n",
    "\n",
    "start = 0\n",
    "leg = []\n",
    "\n",
    "# for i in range(start,n):\n",
    "#     plt.plot([0, Tl[slc-1]], [NF[i]]*2, \"--\")\n",
    "#     leg.append(f\"Равн{i}\")\n",
    "\n",
    "for i in range(start,n):\n",
    "    plt.plot(Tl[slc_start:slc], Nl[slc_start:slc,i])\n",
    "    leg.append(f\"Вид{i}\")\n",
    "\n",
    "plt.legend(\n",
    "    leg, \n",
    "    loc='upper right'\n",
    ")\n",
    "plt.xlabel('t')\n",
    "plt.ylabel('N')\n",
    "\n",
    "print(Nl[-1])\n",
    "\n",
    "plt.savefig(\"./figs/exp3.pdf\")\n",
    "print(cc[1]/alpha[0])"
   ]
  }
 ],
 "metadata": {
  "kernelspec": {
   "display_name": "Python 3",
   "language": "python",
   "name": "python3"
  },
  "language_info": {
   "codemirror_mode": {
    "name": "ipython",
    "version": 3
   },
   "file_extension": ".py",
   "mimetype": "text/x-python",
   "name": "python",
   "nbconvert_exporter": "python",
   "pygments_lexer": "ipython3",
   "version": "3.12.9"
  }
 },
 "nbformat": 4,
 "nbformat_minor": 2
}
