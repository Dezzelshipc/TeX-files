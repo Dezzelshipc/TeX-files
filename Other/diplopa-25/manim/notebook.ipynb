{
 "cells": [
  {
   "cell_type": "code",
   "execution_count": 210,
   "metadata": {},
   "outputs": [],
   "source": [
    "from manim import *\n",
    "from manim_slides import Slide\n",
    "from liba import *\n",
    "\n",
    "FEFU_BLUE = ManimColor(\"#091117\")"
   ]
  },
  {
   "cell_type": "code",
   "execution_count": 57,
   "metadata": {},
   "outputs": [
    {
     "data": {
      "text/html": [
       "<pre style=\"white-space:pre;overflow-x:auto;line-height:normal;font-family:Menlo,'DejaVu Sans Mono',consolas,'Courier New',monospace\">Manim Community <span style=\"color: #008000; text-decoration-color: #008000\">v0.19.0</span>\n",
       "\n",
       "</pre>\n"
      ],
      "text/plain": [
       "Manim Community \u001b[32mv0.\u001b[0m\u001b[32m19.0\u001b[0m\n",
       "\n"
      ]
     },
     "metadata": {},
     "output_type": "display_data"
    },
    {
     "name": "stderr",
     "output_type": "stream",
     "text": [
      "                                                                                                                               \r"
     ]
    },
    {
     "data": {
      "text/html": [
       "<video src=\"media\\jupyter\\Intro@2025-04-01@22-01-31.mp4\" controls autoplay loop style=\"max-width: 60%;\"  >\n",
       "      Your browser does not support the <code>video</code> element.\n",
       "    </video>"
      ],
      "text/plain": [
       "<IPython.core.display.Video object>"
      ]
     },
     "metadata": {},
     "output_type": "display_data"
    }
   ],
   "source": [
    "%%manim -qm -v WARNING  Intro\n",
    "\n",
    "class Intro(Slide):\n",
    "    def construct(self):\n",
    "        t1 = Tex(\"1\").to_corner(DL).set_opacity(0.1)\n",
    "        self.add(t1)\n",
    "         \n",
    "        self.wait()\n",
    "        self.next_slide()\n",
    "        self.remove(t1)\n",
    "\n",
    "        logo = SVGMobject(\"assets/logo\").scale(1.5)\n",
    "        self.play(Write(logo), run_time=2)\n",
    "        self.wait(0.05)\n",
    "\n",
    "        self.play(LaggedStart( ApplyWave(logo), Circumscribe(logo, Circle), lag_ratio=0.25))\n",
    "\n",
    "        name = Text(\"Держапольский Юрий Витальевич\\nБ9121-01.03.02сп\", font=\"Times New Roman\").scale(0.5).to_corner(DL)\n",
    "\n",
    "        title = VGroup(\n",
    "            Text(\"Моделирование трофических сетей\").scale(1.2),\n",
    "            Text(\"Особенности динамики видов в трофических цепях\").move_to(DOWN)\n",
    "        ).scale(0.7).move_to(ORIGIN)\n",
    "\n",
    "\n",
    "        self.play(logo.animate.scale(0.5).to_corner(DR))\n",
    "        self.wait(0.1)\n",
    "        self.play(Write(name), Write(title))\n",
    "        self.wait()\n",
    "\n",
    "        self.next_slide()\n",
    "\n",
    "        self.play(\n",
    "            FadeOut(logo, shift=DOWN),\n",
    "            FadeOut(title, shift=DOWN),\n",
    "            FadeOut(name, shift=DOWN)\n",
    "        )\n",
    "\n",
    "        self.wait()\n",
    "        self.next_slide()"
   ]
  },
  {
   "cell_type": "code",
   "execution_count": 228,
   "metadata": {},
   "outputs": [
    {
     "data": {
      "text/html": [
       "<pre style=\"white-space:pre;overflow-x:auto;line-height:normal;font-family:Menlo,'DejaVu Sans Mono',consolas,'Courier New',monospace\">Manim Community <span style=\"color: #008000; text-decoration-color: #008000\">v0.19.0</span>\n",
       "\n",
       "</pre>\n"
      ],
      "text/plain": [
       "Manim Community \u001b[32mv0.\u001b[0m\u001b[32m19.0\u001b[0m\n",
       "\n"
      ]
     },
     "metadata": {},
     "output_type": "display_data"
    },
    {
     "name": "stderr",
     "output_type": "stream",
     "text": [
      "                                                                                                                                       \r"
     ]
    },
    {
     "data": {
      "text/html": [
       "<video src=\"media\\jupyter\\Outro@2025-04-02@02-30-36.mp4\" controls autoplay loop style=\"max-width: 60%;\"  >\n",
       "      Your browser does not support the <code>video</code> element.\n",
       "    </video>"
      ],
      "text/plain": [
       "<IPython.core.display.Video object>"
      ]
     },
     "metadata": {},
     "output_type": "display_data"
    }
   ],
   "source": [
    "%%manim -qp -v WARNING Outro\n",
    "\n",
    "class Outro(Slide):\n",
    "    def construct(self):\n",
    "        text = Text(\"Спасибо за внимание!\", font=\"Times New Roman\").scale(1.5)\n",
    "        logo = SVGMobject(\"assets/logo2\").scale(1.5).to_corner(UP)\n",
    "\n",
    "        self.play(Write(logo), Write(text), run_time=2)\n",
    "        self.wait(0.5)\n",
    "\n",
    "        banner = ManimBanner().scale(0.4).to_corner(DOWN)\n",
    "        made = Text(\"Сделано с помощью\", font=\"Times New Roman\").scale(0.8).next_to(banner, UP)\n",
    "        self.play(banner.create())\n",
    "        self.play(\n",
    "            Write(made, run_time=1),\n",
    "            banner.expand()\n",
    "        )\n",
    "\n",
    "        t1 = Tex(\"-1\").to_corner(DL).set_opacity(0.1)\n",
    "        self.add(t1)\n",
    "        self.wait()\n",
    "        self.next_slide()\n",
    "\n",
    "\n",
    "        self.play(\n",
    "            Unwrite(logo, reverse=False),\n",
    "            Unwrite(text, reverse=False),\n",
    "            Unwrite(banner),\n",
    "            Unwrite(made)\n",
    "        )\n",
    "        self.wait()\n",
    "        self.next_slide()"
   ]
  },
  {
   "cell_type": "code",
   "execution_count": 100,
   "metadata": {},
   "outputs": [],
   "source": [
    "class Tikz(MathTex):\n",
    "    def __init__(\n",
    "            self, *tex_strings, arg_separator=\"\", tex_environment=\"tikzpicture\", **kwargs\n",
    "    ):\n",
    "        kwargs[\"stroke_width\"] = kwargs.get(\"stroke_width\") or 1 \n",
    "        kwargs[\"tex_template\"] = kwargs.get(\"tex_template\") or TexTemplate()\\\n",
    "            .add_to_preamble(r\"\\usepackage{tikz}\")\\\n",
    "            .add_to_document(r\"\\usetikzlibrary{shapes.geometric, calc}\")\n",
    "        super().__init__(\n",
    "            *tex_strings,\n",
    "            arg_separator=arg_separator,\n",
    "            tex_environment=tex_environment,\n",
    "            **kwargs,\n",
    "        )"
   ]
  },
  {
   "cell_type": "code",
   "execution_count": 209,
   "metadata": {},
   "outputs": [
    {
     "data": {
      "text/html": [
       "<pre style=\"white-space:pre;overflow-x:auto;line-height:normal;font-family:Menlo,'DejaVu Sans Mono',consolas,'Courier New',monospace\">Manim Community <span style=\"color: #008000; text-decoration-color: #008000\">v0.19.0</span>\n",
       "\n",
       "</pre>\n"
      ],
      "text/plain": [
       "Manim Community \u001b[32mv0.\u001b[0m\u001b[32m19.0\u001b[0m\n",
       "\n"
      ]
     },
     "metadata": {},
     "output_type": "display_data"
    },
    {
     "name": "stderr",
     "output_type": "stream",
     "text": [
      "                                                                                                                                                                                                                                                                                                                                                                                                                                                                                                                                                                                                                                                                                                                                                                                                                                                                                                                                                                                                                                                                                                                                                                                                                                                                                                                                                                                                                                                                                                                                                                                                                                                                                                                                                                                                                                                         \r"
     ]
    },
    {
     "data": {
      "text/html": [
       "<video src=\"media\\jupyter\\FirstTwoModels@2025-04-02@02-06-39.mp4\" controls autoplay loop style=\"max-width: 60%;\"  >\n",
       "      Your browser does not support the <code>video</code> element.\n",
       "    </video>"
      ],
      "text/plain": [
       "<IPython.core.display.Video object>"
      ]
     },
     "metadata": {},
     "output_type": "display_data"
    }
   ],
   "source": [
    "%%manim -qm -v WARNING FirstTwoModels\n",
    "\n",
    "class FirstTwoModels(Slide):\n",
    "    graph1_text = r\"\"\"\n",
    "        \\tikzstyle{roundnode} = [draw, circle, text centered];\n",
    "        \\tikzstyle{squarenode} = [draw, regular polygon, regular polygon sides=4, text centered, inner sep=0];\n",
    "        \\tikzstyle{arrow} = [thick, ->, >=stealth];\n",
    "    \n",
    "        % Left - Flow\n",
    "        \\node[roundnode] (RF) at (0,8) {$R$};\n",
    "\n",
    "        \\node[squarenode] (NF1) at (0,6) {$N_1$};\n",
    "        \\node (NF1M) at (2,6) {$m_1 N_1$};\n",
    "        \\draw [arrow] (NF1) -- (NF1M);\n",
    "\n",
    "        \\node[squarenode] (NF2) at (0,4) {$N_2$};\n",
    "        \\node (NF2M) at (2,4) {$m_2 N_2$};\n",
    "        \\draw [arrow] (NF2) -- (NF2M);\n",
    "\n",
    "        \\node (DF) at (0,2) {$\\vdots\\vphantom{lp}$};\n",
    "\n",
    "        \\node[squarenode] (NFN) at (0,0) {$N_n$};\n",
    "        \\node (NFNM) at (2,0) {$m_n N_n$};\n",
    "        \\draw [arrow] (NFN) -- (NFNM);\n",
    "        \n",
    "        \\draw [arrow] (0,10) -- node[anchor=east] {$Q$} (RF);\n",
    "        \\draw [arrow] (RF) --   node[anchor=east] {$V_0(R)$} (NF1);\n",
    "        \\draw [arrow] (NF1) --  node[anchor=east] {$V_1(N_1)$} (NF2);\n",
    "        \\draw [arrow] (NF2) --  node[anchor=east] {$V_2(N_2)$} (DF);\n",
    "        \\draw [arrow] (DF) --   node[anchor=east] {$V_{n-1}(N_{n-1})$} (NFN);\n",
    "\n",
    "\n",
    "        \\path[arrow] (NF1) edge [loop left] node {$k_1 V_0$} ();\n",
    "        \\path[arrow] (NF2) edge [loop left] node {$k_2 V_1$} ();\n",
    "        \\path[arrow] (NFN) edge [loop left] node {$k_n V_{n-1}$} ();\"\"\"\n",
    "\n",
    "    graph2_text = r\"\"\"\n",
    "        \\tikzstyle{roundnode} = [draw, circle, text centered];\n",
    "        \\tikzstyle{squarenode} = [draw, regular polygon, regular polygon sides=4, text centered, inner sep=0];\n",
    "        \\tikzstyle{arrow} = [thick, ->, >=stealth];\n",
    "    \n",
    "        \\node (BTC) at (11, 10) {};\n",
    "        \\node (BBC) at (11, 0) {};\n",
    "\n",
    "        \\node[roundnode] (RC) at (8,8) {$R$};\n",
    "\n",
    "        \\node[squarenode] (NC1) at (8,6) {$N_1$};\n",
    "        \\draw [arrow] (NC1) -- node[anchor=south] {$m_1 N_1$} ($(BTC)!(NC1)!(BBC)$);\n",
    "\n",
    "        \\node[squarenode] (NC2) at (8,4) {$N_2$};\n",
    "        \\draw [arrow] (NC2) -- node[anchor=south] {$m_2 N_2$} ($(BTC)!(NC2)!(BBC)$);\n",
    "\n",
    "        \\node (DC) at (8,2) {$\\vdots\\vphantom{lp}$};\n",
    "        \\node (DC2) at ($(BTC)!(DC)!(BBC)$) {$\\vdots\\vphantom{lp}$};\n",
    "\n",
    "        \\node[squarenode] (NCN) at (8,0) {$N_n$};\n",
    "        \\draw [arrow] (NCN) -- node[anchor=south] {$m_n N_n$} ($(BTC)!(NCN)!(BBC)$);\n",
    "        \n",
    "        \\draw [arrow] (8,10) -- node[anchor=east] {$Q$} (RC);\n",
    "        \\draw [arrow] (RC) --   node[anchor=east] {$V_0(R)$} (NC1);\n",
    "        \\draw [arrow] (NC1) --  node[anchor=east] {$V_1(N_1)$} (NC2);\n",
    "        \\draw [arrow] (NC2) --  node[anchor=east] {$V_2(N_2)$} (DC);\n",
    "        \\draw [arrow] (DC) --   node[anchor=east] {$V_{n-1}(N_{n-1})$} (NCN);\n",
    "        \n",
    "        \\draw [arrow] (DC2) |- node[pos=0.75, anchor=south] \n",
    "        {$\\textstyle\\sum\\limits_{i=1}^n a_i m_i N_i$} (RC);\n",
    "        \n",
    "        \\path[arrow] (NC1) edge [loop left] node {$k_1 V_0$} ();\n",
    "        \\path[arrow] (NC2) edge [loop left] node {$k_2 V_1$} ();\n",
    "        \\path[arrow] (NCN) edge [loop left] node (KNVN1) {$k_n V_{n-1}$} ();\n",
    "\n",
    "        \\draw [arrow] ($(KNVN1)!(BTC)!(NCN)$) -- (DC2);\"\"\"\n",
    "\n",
    "    def sw(self, time = 0.05):\n",
    "        self.wait(time)\n",
    "        self.next_slide()\n",
    "\n",
    "    def construct(self):\n",
    "        \n",
    "        graph1 = Tikz(self.graph1_text).scale(0.5)\n",
    "        self.play(Write(graph1), run_time=4)\n",
    "        self.sw()\n",
    "\n",
    "        self.play(graph1.animate.to_corner(LEFT))\n",
    "        self.sw()\n",
    "\n",
    "        diff1 = MathTex(r\"\"\"\\left\\{\\begin{split}\n",
    "                & \\frac{dR}{dt} = Q - V_0(R) N_1 \\vphantom{\\sum_{i=1}^{n}}\\hphantom{+\\sum_{i=1}^{n} a_i m_i N_i,}, \\\\\n",
    "                & \\frac{dN_1}{dt} = -m_1 N_1 + k_1 V_0(R) N_1 - V_1(N_1) N_2, \\\\\n",
    "                & \\dots \\\\\n",
    "                & \\frac{dN_i}{dt} = -m_i N_i + k_i V_{i-1}(N_{i-1}) N_i - V_i(N_i) N_{i+1}, \\\\\n",
    "                & \\dots \\\\\n",
    "                & \\frac{dN_n}{dt} = -m_n N_n + k_n V_{n-1}(N_{n-1}) N_n.\n",
    "            \\end{split}\\right.\"\"\", tex_environment=\"equation*\").scale(0.8).to_corner(RIGHT)\n",
    "\n",
    "        self.play(Write(diff1))\n",
    "        self.sw()\n",
    "\n",
    "        graph2 = Tikz(self.graph2_text).scale(0.5).to_corner(LEFT)\n",
    "        self.play(FadeOut(graph1), FadeIn(graph2), run_time=1)\n",
    "        self.sw()\n",
    "\n",
    "        \n",
    "        diff2 = MathTex(r\"\"\"\\left\\{\\begin{split}\n",
    "                & \\frac{dR}{dt} = Q - V_0(R) N_1 \\mathcolor{yellow}{+ \\sum_{i=1}^{n} a_i m_i N_i}, \\\\\n",
    "                & \\frac{dN_1}{dt} = -m_1 N_1 + k_1 V_0(R) N_1 - V_1(N_1) N_2, \\\\\n",
    "                & \\dots \\\\\n",
    "                & \\frac{dN_i}{dt} = -m_i N_i + k_i V_{i-1}(N_{i-1}) N_i - V_i(N_i) N_{i+1}, \\\\\n",
    "                & \\dots \\\\\n",
    "                & \\frac{dN_n}{dt} = -m_n N_n + k_n V_{n-1}(N_{n-1}) N_n.\n",
    "            \\end{split}\\right.\"\"\", \n",
    "            tex_environment=\"equation*\",\n",
    "            tex_template = TexTemplate().add_to_preamble(r\"\\usepackage{xcolor}\")\n",
    "        ).scale(0.8).to_corner(RIGHT)\n",
    "\n",
    "        ka_limits = MathTex(r\"0 \\leq k_i, a_i \\leq 1\").scale(0.8).to_corner(DOWN)\n",
    "\n",
    "        self.play(FadeOut(diff1), FadeIn(diff2), Write(ka_limits))\n",
    "        self.sw()\n",
    "\n",
    "        self.play(\n",
    "            diff2.animate.scale(0.6).to_corner(DR),\n",
    "            Unwrite(ka_limits)\n",
    "        )\n",
    "        self.sw()\n",
    "\n",
    "        subst = VGroup(MathTex(r\"{{ V_0(R) }}\", \"=\", r\"{{ \\alpha_0 R }}\"), MathTex(r\"V_i(N_i) = \\alpha_i N_i\")).arrange(DOWN).move_to(UP)\n",
    "\n",
    "        self.play(Write(subst))\n",
    "        self.sw()\n",
    "\n",
    "        subst_r = MathTex(r\"{{ V_0(R) }}\", \"=\", r\"{{ \\alpha_0 R }}\", \"=\", r\"{{ \\alpha_0 N_0 }}\")\n",
    "        subst_r.align_to(subst[0], LEFT + UP)\n",
    "\n",
    "        self.play(TransformMatchingTex(subst[0], subst_r))\n",
    "        self.sw()\n",
    "        \n",
    "        subst.remove(subst[0])\n",
    "        subst.add(subst_r)\n",
    "        self.play(\n",
    "            subst.animate.to_corner(UP)\n",
    "        )\n",
    "\n",
    "        self.play(Unwrite(graph2), run_time=1)\n",
    "        self.sw()\n",
    "\n",
    "        diff3 = MathTex(r\"\"\"\\left\\{\\begin{split}\n",
    "                & \\frac{dN_0}{dt} = Q - \\alpha_0 N_0 N_1 \\mathcolor{yellow}{+ \\sum_{i=1}^{n} a_i m_i N_i}, \\\\\n",
    "                & \\frac{dN_i}{dt} = N_i (-m_i + k_i \\alpha_{i-1} N_{i-1} - \\alpha_i N_{i+1}), \\\\\n",
    "                & N_{n+1} \\equiv 0.\n",
    "            \\end{split}\\right.\"\"\", \n",
    "            tex_environment=\"equation*\",\n",
    "            tex_template = TexTemplate().add_to_preamble(r\"\\usepackage{xcolor}\")\n",
    "            ).scale(0.8).to_corner(LEFT).align_to(diff2, UP)\n",
    "\n",
    "        self.play(Write(diff3))\n",
    "        self.sw()\n",
    "\n",
    "        self.play(Unwrite(subst), Unwrite(diff2), Unwrite(diff3))\n",
    "        self.sw()"
   ]
  }
 ],
 "metadata": {
  "kernelspec": {
   "display_name": "Python 3",
   "language": "python",
   "name": "python3"
  },
  "language_info": {
   "codemirror_mode": {
    "name": "ipython",
    "version": 3
   },
   "file_extension": ".py",
   "mimetype": "text/x-python",
   "name": "python",
   "nbconvert_exporter": "python",
   "pygments_lexer": "ipython3",
   "version": "3.12.9"
  }
 },
 "nbformat": 4,
 "nbformat_minor": 2
}
