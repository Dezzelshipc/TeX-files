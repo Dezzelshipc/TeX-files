{
 "cells": [
  {
   "cell_type": "code",
   "execution_count": 1,
   "metadata": {},
   "outputs": [],
   "source": [
    "from manim import *\n",
    "from manim_slides import Slide\n",
    "from liba import *\n",
    "\n",
    "FEFU_BLUE = ManimColor(\"#091117\")\n",
    "\n",
    "colors = [ BLUE, GREEN, PURPLE, RED, ORANGE, YELLOW, PINK ]"
   ]
  },
  {
   "cell_type": "markdown",
   "metadata": {},
   "source": [
    "ql, qm, qh, qp, qk -- 854x480 15FPS, 1280x720 30FPS, 1920x1080 60FPS, 2560x1440 60FPS, 3840x2160 60FPS"
   ]
  },
  {
   "cell_type": "code",
   "execution_count": 67,
   "metadata": {},
   "outputs": [
    {
     "data": {
      "text/html": [
       "<pre style=\"white-space:pre;overflow-x:auto;line-height:normal;font-family:Menlo,'DejaVu Sans Mono',consolas,'Courier New',monospace\">Manim Community <span style=\"color: #008000; text-decoration-color: #008000\">v0.19.0</span>\n",
       "\n",
       "</pre>\n"
      ],
      "text/plain": [
       "Manim Community \u001b[32mv0.\u001b[0m\u001b[32m19.0\u001b[0m\n",
       "\n"
      ]
     },
     "metadata": {},
     "output_type": "display_data"
    },
    {
     "name": "stderr",
     "output_type": "stream",
     "text": [
      "                                                                                                                                       \r"
     ]
    },
    {
     "data": {
      "text/html": [
       "<pre style=\"white-space:pre;overflow-x:auto;line-height:normal;font-family:Menlo,'DejaVu Sans Mono',consolas,'Courier New',monospace\"><span style=\"color: #7fbfbf; text-decoration-color: #7fbfbf\">[06/06/25 23:02:23] </span><span style=\"color: #000080; text-decoration-color: #000080\">INFO    </span> Generated <span style=\"color: #008080; text-decoration-color: #008080; font-weight: bold\">3</span> slides to                                                      <a href=\"file://c:\\Users\\foler\\AppData\\Local\\Programs\\Python\\Python312\\Lib\\site-packages\\manim_slides\\slide\\base.py\" target=\"_blank\"><span style=\"color: #7f7f7f; text-decoration-color: #7f7f7f\">base.py</span></a><span style=\"color: #7f7f7f; text-decoration-color: #7f7f7f\">:</span><a href=\"file://c:\\Users\\foler\\AppData\\Local\\Programs\\Python\\Python312\\Lib\\site-packages\\manim_slides\\slide\\base.py#599\" target=\"_blank\"><span style=\"color: #7f7f7f; text-decoration-color: #7f7f7f\">599</span></a>\n",
       "<span style=\"color: #7fbfbf; text-decoration-color: #7fbfbf\">                    </span>         <span style=\"color: #008000; text-decoration-color: #008000\">'c:\\Programs\\Github\\TeX-files\\Other\\diplopa-25\\manim\\slides\\files\\Intro'</span>   <span style=\"color: #7f7f7f; text-decoration-color: #7f7f7f\">           </span>\n",
       "</pre>\n"
      ],
      "text/plain": [
       "\u001b[2;36m[06/06/25 23:02:23]\u001b[0m\u001b[2;36m \u001b[0m\u001b[34mINFO    \u001b[0m Generated \u001b[1;36m3\u001b[0m slides to                                                      \u001b]8;id=478848;file://c:\\Users\\foler\\AppData\\Local\\Programs\\Python\\Python312\\Lib\\site-packages\\manim_slides\\slide\\base.py\u001b\\\u001b[2mbase.py\u001b[0m\u001b]8;;\u001b\\\u001b[2m:\u001b[0m\u001b]8;id=691967;file://c:\\Users\\foler\\AppData\\Local\\Programs\\Python\\Python312\\Lib\\site-packages\\manim_slides\\slide\\base.py#599\u001b\\\u001b[2m599\u001b[0m\u001b]8;;\u001b\\\n",
       "\u001b[2;36m                    \u001b[0m         \u001b[32m'c:\\Programs\\Github\\TeX-files\\Other\\diplopa-25\\manim\\slides\\files\\Intro'\u001b[0m   \u001b[2m           \u001b[0m\n"
      ]
     },
     "metadata": {},
     "output_type": "display_data"
    },
    {
     "data": {
      "text/html": [
       "<pre style=\"white-space:pre;overflow-x:auto;line-height:normal;font-family:Menlo,'DejaVu Sans Mono',consolas,'Courier New',monospace\"><span style=\"color: #7fbfbf; text-decoration-color: #7fbfbf\">[06/06/25 23:02:23] </span><span style=\"color: #008000; text-decoration-color: #008000\">INFO    </span> Generated <span style=\"color: #008000; text-decoration-color: #008000\">3</span> slides to                                                      <a href=\"file://c:\\Users\\foler\\AppData\\Local\\Programs\\Python\\Python312\\Lib\\site-packages\\manim_slides\\slide\\base.py\" target=\"_blank\"><span style=\"color: #7f7f7f; text-decoration-color: #7f7f7f\">base.py</span></a><span style=\"color: #7f7f7f; text-decoration-color: #7f7f7f\">:</span><a href=\"file://c:\\Users\\foler\\AppData\\Local\\Programs\\Python\\Python312\\Lib\\site-packages\\manim_slides\\slide\\base.py#599\" target=\"_blank\"><span style=\"color: #7f7f7f; text-decoration-color: #7f7f7f\">599</span></a>\n",
       "<span style=\"color: #7fbfbf; text-decoration-color: #7fbfbf\">                    </span>         <span style=\"color: #008000; text-decoration-color: #008000\">'c:\\Programs\\Github\\TeX-files\\Other\\diplopa-25\\manim\\slides\\files\\Intro'</span>   <span style=\"color: #7f7f7f; text-decoration-color: #7f7f7f\">           </span>\n",
       "</pre>\n"
      ],
      "text/plain": [
       "\u001b[2;36m[06/06/25 23:02:23]\u001b[0m\u001b[2;36m \u001b[0m\u001b[32mINFO    \u001b[0m Generated \u001b[32m3\u001b[0m slides to                                                      \u001b]8;id=986212;file://c:\\Users\\foler\\AppData\\Local\\Programs\\Python\\Python312\\Lib\\site-packages\\manim_slides\\slide\\base.py\u001b\\\u001b[2mbase.py\u001b[0m\u001b]8;;\u001b\\\u001b[2m:\u001b[0m\u001b]8;id=899322;file://c:\\Users\\foler\\AppData\\Local\\Programs\\Python\\Python312\\Lib\\site-packages\\manim_slides\\slide\\base.py#599\u001b\\\u001b[2m599\u001b[0m\u001b]8;;\u001b\\\n",
       "\u001b[2;36m                    \u001b[0m         \u001b[32m'c:\\Programs\\Github\\TeX-files\\Other\\diplopa-25\\manim\\slides\\files\\Intro'\u001b[0m   \u001b[2m           \u001b[0m\n"
      ]
     },
     "metadata": {},
     "output_type": "display_data"
    },
    {
     "data": {
      "text/html": [
       "<pre style=\"white-space:pre;overflow-x:auto;line-height:normal;font-family:Menlo,'DejaVu Sans Mono',consolas,'Courier New',monospace\"><span style=\"color: #7fbfbf; text-decoration-color: #7fbfbf\">                    </span><span style=\"color: #000080; text-decoration-color: #000080\">INFO    </span> Slide <span style=\"color: #008000; text-decoration-color: #008000\">'Intro'</span> configuration written in                                     <a href=\"file://c:\\Users\\foler\\AppData\\Local\\Programs\\Python\\Python312\\Lib\\site-packages\\manim_slides\\slide\\base.py\" target=\"_blank\"><span style=\"color: #7f7f7f; text-decoration-color: #7f7f7f\">base.py</span></a><span style=\"color: #7f7f7f; text-decoration-color: #7f7f7f\">:</span><a href=\"file://c:\\Users\\foler\\AppData\\Local\\Programs\\Python\\Python312\\Lib\\site-packages\\manim_slides\\slide\\base.py#611\" target=\"_blank\"><span style=\"color: #7f7f7f; text-decoration-color: #7f7f7f\">611</span></a>\n",
       "<span style=\"color: #7fbfbf; text-decoration-color: #7fbfbf\">                    </span>         <span style=\"color: #008000; text-decoration-color: #008000\">'c:\\Programs\\Github\\TeX-files\\Other\\diplopa-25\\manim\\slides\\Intro.json'</span>    <span style=\"color: #7f7f7f; text-decoration-color: #7f7f7f\">           </span>\n",
       "</pre>\n"
      ],
      "text/plain": [
       "\u001b[2;36m                   \u001b[0m\u001b[2;36m \u001b[0m\u001b[34mINFO    \u001b[0m Slide \u001b[32m'Intro'\u001b[0m configuration written in                                     \u001b]8;id=979307;file://c:\\Users\\foler\\AppData\\Local\\Programs\\Python\\Python312\\Lib\\site-packages\\manim_slides\\slide\\base.py\u001b\\\u001b[2mbase.py\u001b[0m\u001b]8;;\u001b\\\u001b[2m:\u001b[0m\u001b]8;id=586525;file://c:\\Users\\foler\\AppData\\Local\\Programs\\Python\\Python312\\Lib\\site-packages\\manim_slides\\slide\\base.py#611\u001b\\\u001b[2m611\u001b[0m\u001b]8;;\u001b\\\n",
       "\u001b[2;36m                    \u001b[0m         \u001b[32m'c:\\Programs\\Github\\TeX-files\\Other\\diplopa-25\\manim\\slides\\Intro.json'\u001b[0m    \u001b[2m           \u001b[0m\n"
      ]
     },
     "metadata": {},
     "output_type": "display_data"
    },
    {
     "data": {
      "text/html": [
       "<pre style=\"white-space:pre;overflow-x:auto;line-height:normal;font-family:Menlo,'DejaVu Sans Mono',consolas,'Courier New',monospace\"><span style=\"color: #7fbfbf; text-decoration-color: #7fbfbf\">                    </span><span style=\"color: #008000; text-decoration-color: #008000\">INFO    </span> Slide <span style=\"color: #008000; text-decoration-color: #008000\">'Intro'</span> configuration written in                                     <a href=\"file://c:\\Users\\foler\\AppData\\Local\\Programs\\Python\\Python312\\Lib\\site-packages\\manim_slides\\slide\\base.py\" target=\"_blank\"><span style=\"color: #7f7f7f; text-decoration-color: #7f7f7f\">base.py</span></a><span style=\"color: #7f7f7f; text-decoration-color: #7f7f7f\">:</span><a href=\"file://c:\\Users\\foler\\AppData\\Local\\Programs\\Python\\Python312\\Lib\\site-packages\\manim_slides\\slide\\base.py#611\" target=\"_blank\"><span style=\"color: #7f7f7f; text-decoration-color: #7f7f7f\">611</span></a>\n",
       "<span style=\"color: #7fbfbf; text-decoration-color: #7fbfbf\">                    </span>         <span style=\"color: #008000; text-decoration-color: #008000\">'c:\\Programs\\Github\\TeX-files\\Other\\diplopa-25\\manim\\slides\\Intro.json'</span>    <span style=\"color: #7f7f7f; text-decoration-color: #7f7f7f\">           </span>\n",
       "</pre>\n"
      ],
      "text/plain": [
       "\u001b[2;36m                   \u001b[0m\u001b[2;36m \u001b[0m\u001b[32mINFO    \u001b[0m Slide \u001b[32m'Intro'\u001b[0m configuration written in                                     \u001b]8;id=533687;file://c:\\Users\\foler\\AppData\\Local\\Programs\\Python\\Python312\\Lib\\site-packages\\manim_slides\\slide\\base.py\u001b\\\u001b[2mbase.py\u001b[0m\u001b]8;;\u001b\\\u001b[2m:\u001b[0m\u001b]8;id=379291;file://c:\\Users\\foler\\AppData\\Local\\Programs\\Python\\Python312\\Lib\\site-packages\\manim_slides\\slide\\base.py#611\u001b\\\u001b[2m611\u001b[0m\u001b]8;;\u001b\\\n",
       "\u001b[2;36m                    \u001b[0m         \u001b[32m'c:\\Programs\\Github\\TeX-files\\Other\\diplopa-25\\manim\\slides\\Intro.json'\u001b[0m    \u001b[2m           \u001b[0m\n"
      ]
     },
     "metadata": {},
     "output_type": "display_data"
    },
    {
     "data": {
      "text/html": [
       "<video src=\"media\\jupyter\\Intro@2025-06-06@23-02-23.mp4\" controls autoplay loop style=\"max-width: 60%;\"  >\n",
       "      Your browser does not support the <code>video</code> element.\n",
       "    </video>"
      ],
      "text/plain": [
       "<IPython.core.display.Video object>"
      ]
     },
     "metadata": {},
     "output_type": "display_data"
    }
   ],
   "source": [
    "%%manim  -qm -v WARNING  Intro\n",
    "\n",
    "class Intro(SWSlide):\n",
    "    def construct(self):\n",
    "        t1 = PageNum(1)\n",
    "        self.add(t1)\n",
    "        \n",
    "        self.sw()\n",
    "\n",
    "        logo = SVGMobject(\"assets/logo\").scale(1.5)\n",
    "        self.play(Write(logo), Unwrite(t1), run_time=2)\n",
    "\n",
    "        self.play(LaggedStart( ApplyWave(logo), Circumscribe(logo, Circle), lag_ratio=0.25))\n",
    "\n",
    "        name = Paragraph(\n",
    "            \"Выполнил: Держапольский Юрий Витальевич, Б9121-01.03.02сп\",\n",
    "            \"Руководитель: д.ф.-м.н, профессор Абакумов А. И.\",\n",
    "            font=\"Times New Roman\",\n",
    "            alignment=\"left\",\n",
    "            line_spacing=1\n",
    "        ).scale(0.5).to_corner(DL)\n",
    "\n",
    "        title = Paragraph(\n",
    "            \"Моделирование трофических сетей\",\n",
    "            \"Особенности динамики видов в трофических цепях\",\n",
    "            alignment=\"center\",\n",
    "            line_spacing=0.25\n",
    "        ).move_to(ORIGIN).scale(1.2)\n",
    "        title[1].scale(0.6)\n",
    "\n",
    "\n",
    "        self.play(logo.animate.scale(0.5).to_corner(DR))\n",
    "        self.wait(0.1)\n",
    "        self.play(Write(name), Write(title), run_time=2)\n",
    "\n",
    "        self.sw()\n",
    "\n",
    "        self.play(\n",
    "            FadeOut(logo, shift=DOWN),\n",
    "            FadeOut(title, shift=DOWN),\n",
    "            FadeOut(name, shift=DOWN)\n",
    "        )\n",
    "\n",
    "        self.sw()"
   ]
  },
  {
   "cell_type": "code",
   "execution_count": 68,
   "metadata": {},
   "outputs": [
    {
     "data": {
      "text/html": [
       "<pre style=\"white-space:pre;overflow-x:auto;line-height:normal;font-family:Menlo,'DejaVu Sans Mono',consolas,'Courier New',monospace\">Manim Community <span style=\"color: #008000; text-decoration-color: #008000\">v0.19.0</span>\n",
       "\n",
       "</pre>\n"
      ],
      "text/plain": [
       "Manim Community \u001b[32mv0.\u001b[0m\u001b[32m19.0\u001b[0m\n",
       "\n"
      ]
     },
     "metadata": {},
     "output_type": "display_data"
    },
    {
     "name": "stderr",
     "output_type": "stream",
     "text": [
      "                                                                                                                                                                                                                                                                                                                                                                                                                                                                                                                                                                                                                                                                                                                                                                                                                                                                                                                                                                                                                                                                                                                                                                                                                                                                                                                                                                                                                                                                                                                                                                                                                                                                                                                                                                                                                                                                                                                                                                                                                                                                                                                                                                                                                                                                                                                                                                                                                                                                                                                                                                                                                                                                                                                                                                                                                                                                                                                                                                                                                                                                                \r"
     ]
    },
    {
     "data": {
      "text/html": [
       "<pre style=\"white-space:pre;overflow-x:auto;line-height:normal;font-family:Menlo,'DejaVu Sans Mono',consolas,'Courier New',monospace\"><span style=\"color: #7fbfbf; text-decoration-color: #7fbfbf\">[06/06/25 23:03:48] </span><span style=\"color: #000080; text-decoration-color: #000080\">INFO    </span> Generated <span style=\"color: #008080; text-decoration-color: #008080; font-weight: bold\">6</span> slides to                                                      <a href=\"file://c:\\Users\\foler\\AppData\\Local\\Programs\\Python\\Python312\\Lib\\site-packages\\manim_slides\\slide\\base.py\" target=\"_blank\"><span style=\"color: #7f7f7f; text-decoration-color: #7f7f7f\">base.py</span></a><span style=\"color: #7f7f7f; text-decoration-color: #7f7f7f\">:</span><a href=\"file://c:\\Users\\foler\\AppData\\Local\\Programs\\Python\\Python312\\Lib\\site-packages\\manim_slides\\slide\\base.py#599\" target=\"_blank\"><span style=\"color: #7f7f7f; text-decoration-color: #7f7f7f\">599</span></a>\n",
       "<span style=\"color: #7fbfbf; text-decoration-color: #7fbfbf\">                    </span>         <span style=\"color: #008000; text-decoration-color: #008000\">'c:\\Programs\\Github\\TeX-files\\Other\\diplopa-25\\manim\\slides\\files\\DiplomIn</span> <span style=\"color: #7f7f7f; text-decoration-color: #7f7f7f\">           </span>\n",
       "<span style=\"color: #7fbfbf; text-decoration-color: #7fbfbf\">                    </span>         <span style=\"color: #008000; text-decoration-color: #008000\">tro'</span>                                                                       <span style=\"color: #7f7f7f; text-decoration-color: #7f7f7f\">           </span>\n",
       "</pre>\n"
      ],
      "text/plain": [
       "\u001b[2;36m[06/06/25 23:03:48]\u001b[0m\u001b[2;36m \u001b[0m\u001b[34mINFO    \u001b[0m Generated \u001b[1;36m6\u001b[0m slides to                                                      \u001b]8;id=364970;file://c:\\Users\\foler\\AppData\\Local\\Programs\\Python\\Python312\\Lib\\site-packages\\manim_slides\\slide\\base.py\u001b\\\u001b[2mbase.py\u001b[0m\u001b]8;;\u001b\\\u001b[2m:\u001b[0m\u001b]8;id=504617;file://c:\\Users\\foler\\AppData\\Local\\Programs\\Python\\Python312\\Lib\\site-packages\\manim_slides\\slide\\base.py#599\u001b\\\u001b[2m599\u001b[0m\u001b]8;;\u001b\\\n",
       "\u001b[2;36m                    \u001b[0m         \u001b[32m'c:\\Programs\\Github\\TeX-files\\Other\\diplopa-25\\manim\\slides\\files\\DiplomIn\u001b[0m \u001b[2m           \u001b[0m\n",
       "\u001b[2;36m                    \u001b[0m         \u001b[32mtro'\u001b[0m                                                                       \u001b[2m           \u001b[0m\n"
      ]
     },
     "metadata": {},
     "output_type": "display_data"
    },
    {
     "data": {
      "text/html": [
       "<pre style=\"white-space:pre;overflow-x:auto;line-height:normal;font-family:Menlo,'DejaVu Sans Mono',consolas,'Courier New',monospace\"><span style=\"color: #7fbfbf; text-decoration-color: #7fbfbf\">[06/06/25 23:03:48] </span><span style=\"color: #008000; text-decoration-color: #008000\">INFO    </span> Generated <span style=\"color: #008000; text-decoration-color: #008000\">6</span> slides to                                                      <a href=\"file://c:\\Users\\foler\\AppData\\Local\\Programs\\Python\\Python312\\Lib\\site-packages\\manim_slides\\slide\\base.py\" target=\"_blank\"><span style=\"color: #7f7f7f; text-decoration-color: #7f7f7f\">base.py</span></a><span style=\"color: #7f7f7f; text-decoration-color: #7f7f7f\">:</span><a href=\"file://c:\\Users\\foler\\AppData\\Local\\Programs\\Python\\Python312\\Lib\\site-packages\\manim_slides\\slide\\base.py#599\" target=\"_blank\"><span style=\"color: #7f7f7f; text-decoration-color: #7f7f7f\">599</span></a>\n",
       "<span style=\"color: #7fbfbf; text-decoration-color: #7fbfbf\">                    </span>         <span style=\"color: #008000; text-decoration-color: #008000\">'c:\\Programs\\Github\\TeX-files\\Other\\diplopa-25\\manim\\slides\\files\\DiplomIn</span> <span style=\"color: #7f7f7f; text-decoration-color: #7f7f7f\">           </span>\n",
       "<span style=\"color: #7fbfbf; text-decoration-color: #7fbfbf\">                    </span>         <span style=\"color: #008000; text-decoration-color: #008000\">tro'</span>                                                                       <span style=\"color: #7f7f7f; text-decoration-color: #7f7f7f\">           </span>\n",
       "</pre>\n"
      ],
      "text/plain": [
       "\u001b[2;36m[06/06/25 23:03:48]\u001b[0m\u001b[2;36m \u001b[0m\u001b[32mINFO    \u001b[0m Generated \u001b[32m6\u001b[0m slides to                                                      \u001b]8;id=832119;file://c:\\Users\\foler\\AppData\\Local\\Programs\\Python\\Python312\\Lib\\site-packages\\manim_slides\\slide\\base.py\u001b\\\u001b[2mbase.py\u001b[0m\u001b]8;;\u001b\\\u001b[2m:\u001b[0m\u001b]8;id=100637;file://c:\\Users\\foler\\AppData\\Local\\Programs\\Python\\Python312\\Lib\\site-packages\\manim_slides\\slide\\base.py#599\u001b\\\u001b[2m599\u001b[0m\u001b]8;;\u001b\\\n",
       "\u001b[2;36m                    \u001b[0m         \u001b[32m'c:\\Programs\\Github\\TeX-files\\Other\\diplopa-25\\manim\\slides\\files\\DiplomIn\u001b[0m \u001b[2m           \u001b[0m\n",
       "\u001b[2;36m                    \u001b[0m         \u001b[32mtro'\u001b[0m                                                                       \u001b[2m           \u001b[0m\n"
      ]
     },
     "metadata": {},
     "output_type": "display_data"
    },
    {
     "data": {
      "text/html": [
       "<pre style=\"white-space:pre;overflow-x:auto;line-height:normal;font-family:Menlo,'DejaVu Sans Mono',consolas,'Courier New',monospace\"><span style=\"color: #7fbfbf; text-decoration-color: #7fbfbf\">                    </span><span style=\"color: #000080; text-decoration-color: #000080\">INFO    </span> Slide <span style=\"color: #008000; text-decoration-color: #008000\">'DiplomIntro'</span> configuration written in                               <a href=\"file://c:\\Users\\foler\\AppData\\Local\\Programs\\Python\\Python312\\Lib\\site-packages\\manim_slides\\slide\\base.py\" target=\"_blank\"><span style=\"color: #7f7f7f; text-decoration-color: #7f7f7f\">base.py</span></a><span style=\"color: #7f7f7f; text-decoration-color: #7f7f7f\">:</span><a href=\"file://c:\\Users\\foler\\AppData\\Local\\Programs\\Python\\Python312\\Lib\\site-packages\\manim_slides\\slide\\base.py#611\" target=\"_blank\"><span style=\"color: #7f7f7f; text-decoration-color: #7f7f7f\">611</span></a>\n",
       "<span style=\"color: #7fbfbf; text-decoration-color: #7fbfbf\">                    </span>         <span style=\"color: #008000; text-decoration-color: #008000\">'c:\\Programs\\Github\\TeX-files\\Other\\diplopa-25\\manim\\slides\\DiplomIntro.js</span> <span style=\"color: #7f7f7f; text-decoration-color: #7f7f7f\">           </span>\n",
       "<span style=\"color: #7fbfbf; text-decoration-color: #7fbfbf\">                    </span>         <span style=\"color: #008000; text-decoration-color: #008000\">on'</span>                                                                        <span style=\"color: #7f7f7f; text-decoration-color: #7f7f7f\">           </span>\n",
       "</pre>\n"
      ],
      "text/plain": [
       "\u001b[2;36m                   \u001b[0m\u001b[2;36m \u001b[0m\u001b[34mINFO    \u001b[0m Slide \u001b[32m'DiplomIntro'\u001b[0m configuration written in                               \u001b]8;id=846961;file://c:\\Users\\foler\\AppData\\Local\\Programs\\Python\\Python312\\Lib\\site-packages\\manim_slides\\slide\\base.py\u001b\\\u001b[2mbase.py\u001b[0m\u001b]8;;\u001b\\\u001b[2m:\u001b[0m\u001b]8;id=599815;file://c:\\Users\\foler\\AppData\\Local\\Programs\\Python\\Python312\\Lib\\site-packages\\manim_slides\\slide\\base.py#611\u001b\\\u001b[2m611\u001b[0m\u001b]8;;\u001b\\\n",
       "\u001b[2;36m                    \u001b[0m         \u001b[32m'c:\\Programs\\Github\\TeX-files\\Other\\diplopa-25\\manim\\slides\\DiplomIntro.js\u001b[0m \u001b[2m           \u001b[0m\n",
       "\u001b[2;36m                    \u001b[0m         \u001b[32mon'\u001b[0m                                                                        \u001b[2m           \u001b[0m\n"
      ]
     },
     "metadata": {},
     "output_type": "display_data"
    },
    {
     "data": {
      "text/html": [
       "<pre style=\"white-space:pre;overflow-x:auto;line-height:normal;font-family:Menlo,'DejaVu Sans Mono',consolas,'Courier New',monospace\"><span style=\"color: #7fbfbf; text-decoration-color: #7fbfbf\">                    </span><span style=\"color: #008000; text-decoration-color: #008000\">INFO    </span> Slide <span style=\"color: #008000; text-decoration-color: #008000\">'DiplomIntro'</span> configuration written in                               <a href=\"file://c:\\Users\\foler\\AppData\\Local\\Programs\\Python\\Python312\\Lib\\site-packages\\manim_slides\\slide\\base.py\" target=\"_blank\"><span style=\"color: #7f7f7f; text-decoration-color: #7f7f7f\">base.py</span></a><span style=\"color: #7f7f7f; text-decoration-color: #7f7f7f\">:</span><a href=\"file://c:\\Users\\foler\\AppData\\Local\\Programs\\Python\\Python312\\Lib\\site-packages\\manim_slides\\slide\\base.py#611\" target=\"_blank\"><span style=\"color: #7f7f7f; text-decoration-color: #7f7f7f\">611</span></a>\n",
       "<span style=\"color: #7fbfbf; text-decoration-color: #7fbfbf\">                    </span>         <span style=\"color: #008000; text-decoration-color: #008000\">'c:\\Programs\\Github\\TeX-files\\Other\\diplopa-25\\manim\\slides\\DiplomIntro.js</span> <span style=\"color: #7f7f7f; text-decoration-color: #7f7f7f\">           </span>\n",
       "<span style=\"color: #7fbfbf; text-decoration-color: #7fbfbf\">                    </span>         <span style=\"color: #008000; text-decoration-color: #008000\">on'</span>                                                                        <span style=\"color: #7f7f7f; text-decoration-color: #7f7f7f\">           </span>\n",
       "</pre>\n"
      ],
      "text/plain": [
       "\u001b[2;36m                   \u001b[0m\u001b[2;36m \u001b[0m\u001b[32mINFO    \u001b[0m Slide \u001b[32m'DiplomIntro'\u001b[0m configuration written in                               \u001b]8;id=546734;file://c:\\Users\\foler\\AppData\\Local\\Programs\\Python\\Python312\\Lib\\site-packages\\manim_slides\\slide\\base.py\u001b\\\u001b[2mbase.py\u001b[0m\u001b]8;;\u001b\\\u001b[2m:\u001b[0m\u001b]8;id=293021;file://c:\\Users\\foler\\AppData\\Local\\Programs\\Python\\Python312\\Lib\\site-packages\\manim_slides\\slide\\base.py#611\u001b\\\u001b[2m611\u001b[0m\u001b]8;;\u001b\\\n",
       "\u001b[2;36m                    \u001b[0m         \u001b[32m'c:\\Programs\\Github\\TeX-files\\Other\\diplopa-25\\manim\\slides\\DiplomIntro.js\u001b[0m \u001b[2m           \u001b[0m\n",
       "\u001b[2;36m                    \u001b[0m         \u001b[32mon'\u001b[0m                                                                        \u001b[2m           \u001b[0m\n"
      ]
     },
     "metadata": {},
     "output_type": "display_data"
    },
    {
     "data": {
      "text/html": [
       "<video src=\"media\\jupyter\\DiplomIntro@2025-06-06@23-03-48.mp4\" controls autoplay loop style=\"max-width: 60%;\"  >\n",
       "      Your browser does not support the <code>video</code> element.\n",
       "    </video>"
      ],
      "text/plain": [
       "<IPython.core.display.Video object>"
      ]
     },
     "metadata": {},
     "output_type": "display_data"
    }
   ],
   "source": [
    "%%manim -qm -v WARNING DiplomIntro\n",
    "\n",
    "class DiplomIntro(SWSlide):\n",
    "    troph_net_text = r\"\"\"\n",
    "            \\tikzstyle{roundnode} = [draw, circle, text centered,text width=5mm];\n",
    "            \\tikzstyle{squarenode} = [draw, regular polygon, regular polygon sides=4, text centered, inner sep=0];\n",
    "            \\tikzstyle{arrow} = [thick, -{Stealth[length=4mm]}];\n",
    "            \\tikzstyle{arrow2} = [thick, {Stealth[length=4mm]}-{Stealth[length=4mm]} ];\n",
    "\n",
    "            \\node[roundnode] (1) at (0,0) {$1$};\n",
    "            \\node[roundnode] (2) at (5.5,0) {$2$};\n",
    "            \\node[roundnode] (3) at (1.75,-3) {$3$};\n",
    "            \\node[roundnode] (4) at (9,-3) {$4$};\n",
    "            \\node[roundnode] (5) at (0,-6) {$5$};\n",
    "            \\node[roundnode] (6) at (4.5,-6) {$6$};\n",
    "            \\node[roundnode] (7) at (7.5,-6) {$7$};\n",
    "            \\node[roundnode] (8) at (10,-6) {$8$};\n",
    "            \\node[roundnode] (9) at (3,-9) {$9$};\n",
    "            \\node[roundnode] (10)at (8,-9) {$10$};\n",
    "            \\node[roundnode] (11)at (2,-12) {$11$};\n",
    "            \\node[roundnode] (12)at (6,-12) {$12$};\n",
    "\n",
    "            \\draw[arrow] (1) to (5);\n",
    "            \\draw[arrow] (1) to[bend left=16] (6);\n",
    "            \\draw[arrow] (1) to (8);\n",
    "            \\draw[arrow] (1) to (9);\n",
    "\n",
    "            \\draw[arrow] (2) to (6);\n",
    "            \\draw[arrow] (2) to (7);\n",
    "            \\draw[arrow] (2) to (8);\n",
    "\n",
    "            \\draw[arrow] (3) to (6);\n",
    "            \\draw[arrow] (3) to (9);\n",
    "            \\draw[arrow] (3) to (11);\n",
    "\n",
    "            \\draw[arrow] (4) to (6);\n",
    "            \\draw[arrow] (4) to (7);\n",
    "            \\draw[arrow] (4) to (8);\n",
    "            \\draw[arrow] (4) to (9);\n",
    "\n",
    "            \\draw[arrow] (5) to (11);\n",
    "\n",
    "            \\draw[arrow] (6) to (9);\n",
    "            \\draw[arrow] (6) to (10);\n",
    "            \\draw[arrow] (6) to[bend left=16] (11);\n",
    "            \\draw[arrow] (6) to (12);\n",
    "\n",
    "            \\draw[arrow] (7) to[bend left=8] (11);\n",
    "            \\draw[arrow] (7) to (12);\n",
    "\n",
    "            \\draw[arrow] (8) to (10);\n",
    "            \\draw[arrow] (8) to[bend left=20] (12);\n",
    "\n",
    "\n",
    "            \\node (3in) at ([yshift=5cm]3) {};\n",
    "            \\draw[arrow, dashed] (3in) to (3);\n",
    "            \n",
    "            \\node (4in) at ([yshift=5cm]4) {};\n",
    "            \\draw[arrow, dashed] (4in) to (4);\n",
    "\n",
    "            \\node at (5.5,1.5) {\\textit{Солнечный свет}};\n",
    "\n",
    "            \\node (1in) at ([xshift=-3cm]1) {};\n",
    "            \\node (2in) at ([xshift=8cm]2) {};\n",
    "            \n",
    "            \\draw[arrow] (1in) to (1);\n",
    "            \\draw[arrow] (2in) to node[pos=0.25,anchor=south] {\\textit{Вносимая органика}} (2);\n",
    "\n",
    "            \\node at ([xshift=3cm]4) {\\textit{Продуценты}};\n",
    "            \\node[align=center] at ([xshift=2cm]8) {\\textit{Первичные}\\\\\\textit{консументы}};\n",
    "            \\node[align=center] at ([xshift=4cm]10) {\\textit{Промежуточный}\\\\\\textit{уровень}};\n",
    "            \\node[align=center] at ([xshift=5cm]12) {\\textit{Вторичные}\\\\\\textit{консументы}};\"\"\"\n",
    "\n",
    "\n",
    "    def construct(self):\n",
    "        PAGE_NUM = PageNum(2)\n",
    "        title = Title2(\"Введение\")\n",
    "\n",
    "        chain_def_list = [\n",
    "            \"В экологии структура сообщества,\",\n",
    "            \"демонстрирующая перенос энергии,\",\n",
    "            \"заключённой в пище от одного вида к другому,\",\n",
    "            \"где виды связаны между собой отношениями хищник-жертва,\",\n",
    "            \"называется трофической цепью.\"\n",
    "        ]\n",
    "\n",
    "        def txt(x):\n",
    "            return Text(x, t2s={'трофической цепью':ITALIC, 'экологии':ITALIC}, t2w={'трофической цепью':BOLD})\n",
    "\n",
    "        chain_def = VGroup(*list(map(txt, chain_def_list))).scale(0.7).arrange(DOWN)\n",
    "\n",
    "        ul = Underline(chain_def[-1][-len('трофической цепью'):-1])\n",
    "\n",
    "        anim_fade_in = [Write(title)] + list(map(lambda x: FadeIn(x, shift=UP), chain_def)) + [FadeIn(ul, shift=UP)]\n",
    "\n",
    "        self.play(\n",
    "            FadeIn(PAGE_NUM, shift=DOWN), \n",
    "            AnimationGroup(*anim_fade_in, lag_ratio=0.2)\n",
    "        )\n",
    "\n",
    "        self.sw()\n",
    "\n",
    "        self.play(\n",
    "            Unwrite(chain_def, reverse=False), \n",
    "            Uncreate(ul), \n",
    "            FadeOut(title, shift=UP), \n",
    "            run_time=1\n",
    "        )\n",
    "\n",
    "        self.remove(title)\n",
    "        self.sw()\n",
    "\n",
    "        troph_net = Tikz(self.troph_net_text).scale(0.35)\n",
    "\n",
    "        # self.add(troph_net)\n",
    "        self.play(FadeIn(troph_net), PAGE_NUM.animate.bump(), run_time=2)\n",
    "\n",
    "        self.sw(0.5)\n",
    "\n",
    "        rect_avg = Rectangle(YELLOW, width=6.0, height=0.7).shift(0.33*DOWN+0.18*LEFT)\n",
    "        \n",
    "        rect_dom = Rectangle(YELLOW, width=5.5, height=0.8).shift(1.05*DOWN+1.05*RIGHT).rotate(72*DEGREES)\n",
    "\n",
    "        self.play(Create(rect_avg))\n",
    "\n",
    "        self.sw()\n",
    "\n",
    "        self.play(rect_avg.animate.become(rect_dom))\n",
    "\n",
    "        self.sw()\n",
    "\n",
    "        self.play(FadeOut(troph_net), Uncreate(rect_avg), PAGE_NUM.animate.bump())\n",
    "\n",
    "        self.sw()\n",
    "\n",
    "        "
   ]
  },
  {
   "cell_type": "code",
   "execution_count": 70,
   "metadata": {},
   "outputs": [
    {
     "data": {
      "text/html": [
       "<pre style=\"white-space:pre;overflow-x:auto;line-height:normal;font-family:Menlo,'DejaVu Sans Mono',consolas,'Courier New',monospace\">Manim Community <span style=\"color: #008000; text-decoration-color: #008000\">v0.19.0</span>\n",
       "\n",
       "</pre>\n"
      ],
      "text/plain": [
       "Manim Community \u001b[32mv0.\u001b[0m\u001b[32m19.0\u001b[0m\n",
       "\n"
      ]
     },
     "metadata": {},
     "output_type": "display_data"
    },
    {
     "name": "stderr",
     "output_type": "stream",
     "text": [
      "                                                                                                                                       \r"
     ]
    },
    {
     "data": {
      "text/html": [
       "<pre style=\"white-space:pre;overflow-x:auto;line-height:normal;font-family:Menlo,'DejaVu Sans Mono',consolas,'Courier New',monospace\"><span style=\"color: #7fbfbf; text-decoration-color: #7fbfbf\">[06/06/25 23:06:04] </span><span style=\"color: #000080; text-decoration-color: #000080\">INFO    </span> Generated <span style=\"color: #008080; text-decoration-color: #008080; font-weight: bold\">1</span> slides to                                                      <a href=\"file://c:\\Users\\foler\\AppData\\Local\\Programs\\Python\\Python312\\Lib\\site-packages\\manim_slides\\slide\\base.py\" target=\"_blank\"><span style=\"color: #7f7f7f; text-decoration-color: #7f7f7f\">base.py</span></a><span style=\"color: #7f7f7f; text-decoration-color: #7f7f7f\">:</span><a href=\"file://c:\\Users\\foler\\AppData\\Local\\Programs\\Python\\Python312\\Lib\\site-packages\\manim_slides\\slide\\base.py#599\" target=\"_blank\"><span style=\"color: #7f7f7f; text-decoration-color: #7f7f7f\">599</span></a>\n",
       "<span style=\"color: #7fbfbf; text-decoration-color: #7fbfbf\">                    </span>         <span style=\"color: #008000; text-decoration-color: #008000\">'c:\\Programs\\Github\\TeX-files\\Other\\diplopa-25\\manim\\slides\\files\\Outro'</span>   <span style=\"color: #7f7f7f; text-decoration-color: #7f7f7f\">           </span>\n",
       "</pre>\n"
      ],
      "text/plain": [
       "\u001b[2;36m[06/06/25 23:06:04]\u001b[0m\u001b[2;36m \u001b[0m\u001b[34mINFO    \u001b[0m Generated \u001b[1;36m1\u001b[0m slides to                                                      \u001b]8;id=699357;file://c:\\Users\\foler\\AppData\\Local\\Programs\\Python\\Python312\\Lib\\site-packages\\manim_slides\\slide\\base.py\u001b\\\u001b[2mbase.py\u001b[0m\u001b]8;;\u001b\\\u001b[2m:\u001b[0m\u001b]8;id=213645;file://c:\\Users\\foler\\AppData\\Local\\Programs\\Python\\Python312\\Lib\\site-packages\\manim_slides\\slide\\base.py#599\u001b\\\u001b[2m599\u001b[0m\u001b]8;;\u001b\\\n",
       "\u001b[2;36m                    \u001b[0m         \u001b[32m'c:\\Programs\\Github\\TeX-files\\Other\\diplopa-25\\manim\\slides\\files\\Outro'\u001b[0m   \u001b[2m           \u001b[0m\n"
      ]
     },
     "metadata": {},
     "output_type": "display_data"
    },
    {
     "data": {
      "text/html": [
       "<pre style=\"white-space:pre;overflow-x:auto;line-height:normal;font-family:Menlo,'DejaVu Sans Mono',consolas,'Courier New',monospace\"><span style=\"color: #7fbfbf; text-decoration-color: #7fbfbf\">[06/06/25 23:06:04] </span><span style=\"color: #008000; text-decoration-color: #008000\">INFO    </span> Generated <span style=\"color: #008000; text-decoration-color: #008000\">1</span> slides to                                                      <a href=\"file://c:\\Users\\foler\\AppData\\Local\\Programs\\Python\\Python312\\Lib\\site-packages\\manim_slides\\slide\\base.py\" target=\"_blank\"><span style=\"color: #7f7f7f; text-decoration-color: #7f7f7f\">base.py</span></a><span style=\"color: #7f7f7f; text-decoration-color: #7f7f7f\">:</span><a href=\"file://c:\\Users\\foler\\AppData\\Local\\Programs\\Python\\Python312\\Lib\\site-packages\\manim_slides\\slide\\base.py#599\" target=\"_blank\"><span style=\"color: #7f7f7f; text-decoration-color: #7f7f7f\">599</span></a>\n",
       "<span style=\"color: #7fbfbf; text-decoration-color: #7fbfbf\">                    </span>         <span style=\"color: #008000; text-decoration-color: #008000\">'c:\\Programs\\Github\\TeX-files\\Other\\diplopa-25\\manim\\slides\\files\\Outro'</span>   <span style=\"color: #7f7f7f; text-decoration-color: #7f7f7f\">           </span>\n",
       "</pre>\n"
      ],
      "text/plain": [
       "\u001b[2;36m[06/06/25 23:06:04]\u001b[0m\u001b[2;36m \u001b[0m\u001b[32mINFO    \u001b[0m Generated \u001b[32m1\u001b[0m slides to                                                      \u001b]8;id=715050;file://c:\\Users\\foler\\AppData\\Local\\Programs\\Python\\Python312\\Lib\\site-packages\\manim_slides\\slide\\base.py\u001b\\\u001b[2mbase.py\u001b[0m\u001b]8;;\u001b\\\u001b[2m:\u001b[0m\u001b]8;id=5132;file://c:\\Users\\foler\\AppData\\Local\\Programs\\Python\\Python312\\Lib\\site-packages\\manim_slides\\slide\\base.py#599\u001b\\\u001b[2m599\u001b[0m\u001b]8;;\u001b\\\n",
       "\u001b[2;36m                    \u001b[0m         \u001b[32m'c:\\Programs\\Github\\TeX-files\\Other\\diplopa-25\\manim\\slides\\files\\Outro'\u001b[0m   \u001b[2m           \u001b[0m\n"
      ]
     },
     "metadata": {},
     "output_type": "display_data"
    },
    {
     "data": {
      "text/html": [
       "<pre style=\"white-space:pre;overflow-x:auto;line-height:normal;font-family:Menlo,'DejaVu Sans Mono',consolas,'Courier New',monospace\"><span style=\"color: #7fbfbf; text-decoration-color: #7fbfbf\">                    </span><span style=\"color: #000080; text-decoration-color: #000080\">INFO    </span> Slide <span style=\"color: #008000; text-decoration-color: #008000\">'Outro'</span> configuration written in                                     <a href=\"file://c:\\Users\\foler\\AppData\\Local\\Programs\\Python\\Python312\\Lib\\site-packages\\manim_slides\\slide\\base.py\" target=\"_blank\"><span style=\"color: #7f7f7f; text-decoration-color: #7f7f7f\">base.py</span></a><span style=\"color: #7f7f7f; text-decoration-color: #7f7f7f\">:</span><a href=\"file://c:\\Users\\foler\\AppData\\Local\\Programs\\Python\\Python312\\Lib\\site-packages\\manim_slides\\slide\\base.py#611\" target=\"_blank\"><span style=\"color: #7f7f7f; text-decoration-color: #7f7f7f\">611</span></a>\n",
       "<span style=\"color: #7fbfbf; text-decoration-color: #7fbfbf\">                    </span>         <span style=\"color: #008000; text-decoration-color: #008000\">'c:\\Programs\\Github\\TeX-files\\Other\\diplopa-25\\manim\\slides\\Outro.json'</span>    <span style=\"color: #7f7f7f; text-decoration-color: #7f7f7f\">           </span>\n",
       "</pre>\n"
      ],
      "text/plain": [
       "\u001b[2;36m                   \u001b[0m\u001b[2;36m \u001b[0m\u001b[34mINFO    \u001b[0m Slide \u001b[32m'Outro'\u001b[0m configuration written in                                     \u001b]8;id=896591;file://c:\\Users\\foler\\AppData\\Local\\Programs\\Python\\Python312\\Lib\\site-packages\\manim_slides\\slide\\base.py\u001b\\\u001b[2mbase.py\u001b[0m\u001b]8;;\u001b\\\u001b[2m:\u001b[0m\u001b]8;id=312502;file://c:\\Users\\foler\\AppData\\Local\\Programs\\Python\\Python312\\Lib\\site-packages\\manim_slides\\slide\\base.py#611\u001b\\\u001b[2m611\u001b[0m\u001b]8;;\u001b\\\n",
       "\u001b[2;36m                    \u001b[0m         \u001b[32m'c:\\Programs\\Github\\TeX-files\\Other\\diplopa-25\\manim\\slides\\Outro.json'\u001b[0m    \u001b[2m           \u001b[0m\n"
      ]
     },
     "metadata": {},
     "output_type": "display_data"
    },
    {
     "data": {
      "text/html": [
       "<pre style=\"white-space:pre;overflow-x:auto;line-height:normal;font-family:Menlo,'DejaVu Sans Mono',consolas,'Courier New',monospace\"><span style=\"color: #7fbfbf; text-decoration-color: #7fbfbf\">                    </span><span style=\"color: #008000; text-decoration-color: #008000\">INFO    </span> Slide <span style=\"color: #008000; text-decoration-color: #008000\">'Outro'</span> configuration written in                                     <a href=\"file://c:\\Users\\foler\\AppData\\Local\\Programs\\Python\\Python312\\Lib\\site-packages\\manim_slides\\slide\\base.py\" target=\"_blank\"><span style=\"color: #7f7f7f; text-decoration-color: #7f7f7f\">base.py</span></a><span style=\"color: #7f7f7f; text-decoration-color: #7f7f7f\">:</span><a href=\"file://c:\\Users\\foler\\AppData\\Local\\Programs\\Python\\Python312\\Lib\\site-packages\\manim_slides\\slide\\base.py#611\" target=\"_blank\"><span style=\"color: #7f7f7f; text-decoration-color: #7f7f7f\">611</span></a>\n",
       "<span style=\"color: #7fbfbf; text-decoration-color: #7fbfbf\">                    </span>         <span style=\"color: #008000; text-decoration-color: #008000\">'c:\\Programs\\Github\\TeX-files\\Other\\diplopa-25\\manim\\slides\\Outro.json'</span>    <span style=\"color: #7f7f7f; text-decoration-color: #7f7f7f\">           </span>\n",
       "</pre>\n"
      ],
      "text/plain": [
       "\u001b[2;36m                   \u001b[0m\u001b[2;36m \u001b[0m\u001b[32mINFO    \u001b[0m Slide \u001b[32m'Outro'\u001b[0m configuration written in                                     \u001b]8;id=836813;file://c:\\Users\\foler\\AppData\\Local\\Programs\\Python\\Python312\\Lib\\site-packages\\manim_slides\\slide\\base.py\u001b\\\u001b[2mbase.py\u001b[0m\u001b]8;;\u001b\\\u001b[2m:\u001b[0m\u001b]8;id=610586;file://c:\\Users\\foler\\AppData\\Local\\Programs\\Python\\Python312\\Lib\\site-packages\\manim_slides\\slide\\base.py#611\u001b\\\u001b[2m611\u001b[0m\u001b]8;;\u001b\\\n",
       "\u001b[2;36m                    \u001b[0m         \u001b[32m'c:\\Programs\\Github\\TeX-files\\Other\\diplopa-25\\manim\\slides\\Outro.json'\u001b[0m    \u001b[2m           \u001b[0m\n"
      ]
     },
     "metadata": {},
     "output_type": "display_data"
    },
    {
     "data": {
      "text/html": [
       "<video src=\"media\\jupyter\\Outro@2025-06-06@23-06-04.mp4\" controls autoplay loop style=\"max-width: 60%;\"  >\n",
       "      Your browser does not support the <code>video</code> element.\n",
       "    </video>"
      ],
      "text/plain": [
       "<IPython.core.display.Video object>"
      ]
     },
     "metadata": {},
     "output_type": "display_data"
    }
   ],
   "source": [
    "%%manim -qm -v WARNING Outro\n",
    "\n",
    "class Outro(SWSlide):\n",
    "    def construct(self):\n",
    "        PAGE_NUM = PageNum(-1)\n",
    "        text = Text(\"Спасибо за внимание!\", font=\"Times New Roman\").scale(1.5)\n",
    "        logo = SVGMobject(\"assets/logo2\").scale(1.5).to_corner(UP)\n",
    "\n",
    "        self.play(Write(logo), Write(text), FadeIn(PAGE_NUM, shift=UP), run_time=1.5)\n",
    "        self.wait(0.5)\n",
    "\n",
    "        banner = ManimBanner().scale(0.4).to_corner(DOWN)\n",
    "        made = Text(\"Сделано с помощью\", font=\"Times New Roman\").scale(0.8).next_to(banner, UP)\n",
    "        self.play(banner.create())\n",
    "        self.play(\n",
    "            Write(made, run_time=1),\n",
    "            banner.expand()\n",
    "        )\n",
    "\n",
    "        name = Paragraph(\n",
    "            \"Выполнил: Держапольский Юрий Витальевич, Б9121-01.03.02сп\",\n",
    "            \"Руководитель: д.ф.-м.н, профессор Абакумов А. И.\",\n",
    "            alignment=\"center\",\n",
    "            line_spacing=1\n",
    "        ).scale(0.5).to_corner(DOWN)\n",
    "\n",
    "        title = Paragraph(\n",
    "            \"Моделирование трофических сетей\",\n",
    "            \"Особенности динамики видов в трофических цепях\",\n",
    "            alignment=\"center\",\n",
    "            line_spacing=0.25\n",
    "        ).move_to(ORIGIN).scale(1.2)\n",
    "        title[1].scale(0.6)\n",
    "\n",
    "\n",
    "        self.play(\n",
    "            banner.animate.scale(0.5).to_corner(UR),\n",
    "            logo.animate.scale(0.5).to_corner(UL),\n",
    "            FadeOut(text, shift=UP),\n",
    "            FadeOut(made, shift=UP),\n",
    "        )\n",
    "        self.wait(0.1)\n",
    "        self.play(Write(name), Write(title), run_time=2)\n",
    "        self.wait()\n"
   ]
  },
  {
   "cell_type": "code",
   "execution_count": 71,
   "metadata": {},
   "outputs": [
    {
     "data": {
      "text/html": [
       "<pre style=\"white-space:pre;overflow-x:auto;line-height:normal;font-family:Menlo,'DejaVu Sans Mono',consolas,'Courier New',monospace\">Manim Community <span style=\"color: #008000; text-decoration-color: #008000\">v0.19.0</span>\n",
       "\n",
       "</pre>\n"
      ],
      "text/plain": [
       "Manim Community \u001b[32mv0.\u001b[0m\u001b[32m19.0\u001b[0m\n",
       "\n"
      ]
     },
     "metadata": {},
     "output_type": "display_data"
    },
    {
     "name": "stderr",
     "output_type": "stream",
     "text": [
      "                                                                                                                                                                                                                                                                                                                                                                                                                                                                                                                                                                                                                                                                                                                                                                                                                                                                                                                                                                                                                                                                                                                                                                                                                                                                                                                                                                                                                                                                                                                                                                                                                                                                                                                                                                                                                                                                                                                                                                                                                                                                                                                                                                                                                                                                                                                                                                                                                                                                                                                                                                                                                                                                                                                                                                                                                                                                                                                                                                                                                                                                                                                                                                                 \r"
     ]
    },
    {
     "data": {
      "text/html": [
       "<pre style=\"white-space:pre;overflow-x:auto;line-height:normal;font-family:Menlo,'DejaVu Sans Mono',consolas,'Courier New',monospace\"><span style=\"color: #7fbfbf; text-decoration-color: #7fbfbf\">[06/06/25 23:07:47] </span><span style=\"color: #000080; text-decoration-color: #000080\">INFO    </span> Generated <span style=\"color: #008080; text-decoration-color: #008080; font-weight: bold\">8</span> slides to                                                      <a href=\"file://c:\\Users\\foler\\AppData\\Local\\Programs\\Python\\Python312\\Lib\\site-packages\\manim_slides\\slide\\base.py\" target=\"_blank\"><span style=\"color: #7f7f7f; text-decoration-color: #7f7f7f\">base.py</span></a><span style=\"color: #7f7f7f; text-decoration-color: #7f7f7f\">:</span><a href=\"file://c:\\Users\\foler\\AppData\\Local\\Programs\\Python\\Python312\\Lib\\site-packages\\manim_slides\\slide\\base.py#599\" target=\"_blank\"><span style=\"color: #7f7f7f; text-decoration-color: #7f7f7f\">599</span></a>\n",
       "<span style=\"color: #7fbfbf; text-decoration-color: #7fbfbf\">                    </span>         <span style=\"color: #008000; text-decoration-color: #008000\">'c:\\Programs\\Github\\TeX-files\\Other\\diplopa-25\\manim\\slides\\files\\ModelsIn</span> <span style=\"color: #7f7f7f; text-decoration-color: #7f7f7f\">           </span>\n",
       "<span style=\"color: #7fbfbf; text-decoration-color: #7fbfbf\">                    </span>         <span style=\"color: #008000; text-decoration-color: #008000\">tro'</span>                                                                       <span style=\"color: #7f7f7f; text-decoration-color: #7f7f7f\">           </span>\n",
       "</pre>\n"
      ],
      "text/plain": [
       "\u001b[2;36m[06/06/25 23:07:47]\u001b[0m\u001b[2;36m \u001b[0m\u001b[34mINFO    \u001b[0m Generated \u001b[1;36m8\u001b[0m slides to                                                      \u001b]8;id=418599;file://c:\\Users\\foler\\AppData\\Local\\Programs\\Python\\Python312\\Lib\\site-packages\\manim_slides\\slide\\base.py\u001b\\\u001b[2mbase.py\u001b[0m\u001b]8;;\u001b\\\u001b[2m:\u001b[0m\u001b]8;id=407282;file://c:\\Users\\foler\\AppData\\Local\\Programs\\Python\\Python312\\Lib\\site-packages\\manim_slides\\slide\\base.py#599\u001b\\\u001b[2m599\u001b[0m\u001b]8;;\u001b\\\n",
       "\u001b[2;36m                    \u001b[0m         \u001b[32m'c:\\Programs\\Github\\TeX-files\\Other\\diplopa-25\\manim\\slides\\files\\ModelsIn\u001b[0m \u001b[2m           \u001b[0m\n",
       "\u001b[2;36m                    \u001b[0m         \u001b[32mtro'\u001b[0m                                                                       \u001b[2m           \u001b[0m\n"
      ]
     },
     "metadata": {},
     "output_type": "display_data"
    },
    {
     "data": {
      "text/html": [
       "<pre style=\"white-space:pre;overflow-x:auto;line-height:normal;font-family:Menlo,'DejaVu Sans Mono',consolas,'Courier New',monospace\"><span style=\"color: #7fbfbf; text-decoration-color: #7fbfbf\">[06/06/25 23:07:47] </span><span style=\"color: #008000; text-decoration-color: #008000\">INFO    </span> Generated <span style=\"color: #008000; text-decoration-color: #008000\">8</span> slides to                                                      <a href=\"file://c:\\Users\\foler\\AppData\\Local\\Programs\\Python\\Python312\\Lib\\site-packages\\manim_slides\\slide\\base.py\" target=\"_blank\"><span style=\"color: #7f7f7f; text-decoration-color: #7f7f7f\">base.py</span></a><span style=\"color: #7f7f7f; text-decoration-color: #7f7f7f\">:</span><a href=\"file://c:\\Users\\foler\\AppData\\Local\\Programs\\Python\\Python312\\Lib\\site-packages\\manim_slides\\slide\\base.py#599\" target=\"_blank\"><span style=\"color: #7f7f7f; text-decoration-color: #7f7f7f\">599</span></a>\n",
       "<span style=\"color: #7fbfbf; text-decoration-color: #7fbfbf\">                    </span>         <span style=\"color: #008000; text-decoration-color: #008000\">'c:\\Programs\\Github\\TeX-files\\Other\\diplopa-25\\manim\\slides\\files\\ModelsIn</span> <span style=\"color: #7f7f7f; text-decoration-color: #7f7f7f\">           </span>\n",
       "<span style=\"color: #7fbfbf; text-decoration-color: #7fbfbf\">                    </span>         <span style=\"color: #008000; text-decoration-color: #008000\">tro'</span>                                                                       <span style=\"color: #7f7f7f; text-decoration-color: #7f7f7f\">           </span>\n",
       "</pre>\n"
      ],
      "text/plain": [
       "\u001b[2;36m[06/06/25 23:07:47]\u001b[0m\u001b[2;36m \u001b[0m\u001b[32mINFO    \u001b[0m Generated \u001b[32m8\u001b[0m slides to                                                      \u001b]8;id=9208;file://c:\\Users\\foler\\AppData\\Local\\Programs\\Python\\Python312\\Lib\\site-packages\\manim_slides\\slide\\base.py\u001b\\\u001b[2mbase.py\u001b[0m\u001b]8;;\u001b\\\u001b[2m:\u001b[0m\u001b]8;id=654990;file://c:\\Users\\foler\\AppData\\Local\\Programs\\Python\\Python312\\Lib\\site-packages\\manim_slides\\slide\\base.py#599\u001b\\\u001b[2m599\u001b[0m\u001b]8;;\u001b\\\n",
       "\u001b[2;36m                    \u001b[0m         \u001b[32m'c:\\Programs\\Github\\TeX-files\\Other\\diplopa-25\\manim\\slides\\files\\ModelsIn\u001b[0m \u001b[2m           \u001b[0m\n",
       "\u001b[2;36m                    \u001b[0m         \u001b[32mtro'\u001b[0m                                                                       \u001b[2m           \u001b[0m\n"
      ]
     },
     "metadata": {},
     "output_type": "display_data"
    },
    {
     "data": {
      "text/html": [
       "<pre style=\"white-space:pre;overflow-x:auto;line-height:normal;font-family:Menlo,'DejaVu Sans Mono',consolas,'Courier New',monospace\"><span style=\"color: #7fbfbf; text-decoration-color: #7fbfbf\">                    </span><span style=\"color: #000080; text-decoration-color: #000080\">INFO    </span> Slide <span style=\"color: #008000; text-decoration-color: #008000\">'ModelsIntro'</span> configuration written in                               <a href=\"file://c:\\Users\\foler\\AppData\\Local\\Programs\\Python\\Python312\\Lib\\site-packages\\manim_slides\\slide\\base.py\" target=\"_blank\"><span style=\"color: #7f7f7f; text-decoration-color: #7f7f7f\">base.py</span></a><span style=\"color: #7f7f7f; text-decoration-color: #7f7f7f\">:</span><a href=\"file://c:\\Users\\foler\\AppData\\Local\\Programs\\Python\\Python312\\Lib\\site-packages\\manim_slides\\slide\\base.py#611\" target=\"_blank\"><span style=\"color: #7f7f7f; text-decoration-color: #7f7f7f\">611</span></a>\n",
       "<span style=\"color: #7fbfbf; text-decoration-color: #7fbfbf\">                    </span>         <span style=\"color: #008000; text-decoration-color: #008000\">'c:\\Programs\\Github\\TeX-files\\Other\\diplopa-25\\manim\\slides\\ModelsIntro.js</span> <span style=\"color: #7f7f7f; text-decoration-color: #7f7f7f\">           </span>\n",
       "<span style=\"color: #7fbfbf; text-decoration-color: #7fbfbf\">                    </span>         <span style=\"color: #008000; text-decoration-color: #008000\">on'</span>                                                                        <span style=\"color: #7f7f7f; text-decoration-color: #7f7f7f\">           </span>\n",
       "</pre>\n"
      ],
      "text/plain": [
       "\u001b[2;36m                   \u001b[0m\u001b[2;36m \u001b[0m\u001b[34mINFO    \u001b[0m Slide \u001b[32m'ModelsIntro'\u001b[0m configuration written in                               \u001b]8;id=667326;file://c:\\Users\\foler\\AppData\\Local\\Programs\\Python\\Python312\\Lib\\site-packages\\manim_slides\\slide\\base.py\u001b\\\u001b[2mbase.py\u001b[0m\u001b]8;;\u001b\\\u001b[2m:\u001b[0m\u001b]8;id=900355;file://c:\\Users\\foler\\AppData\\Local\\Programs\\Python\\Python312\\Lib\\site-packages\\manim_slides\\slide\\base.py#611\u001b\\\u001b[2m611\u001b[0m\u001b]8;;\u001b\\\n",
       "\u001b[2;36m                    \u001b[0m         \u001b[32m'c:\\Programs\\Github\\TeX-files\\Other\\diplopa-25\\manim\\slides\\ModelsIntro.js\u001b[0m \u001b[2m           \u001b[0m\n",
       "\u001b[2;36m                    \u001b[0m         \u001b[32mon'\u001b[0m                                                                        \u001b[2m           \u001b[0m\n"
      ]
     },
     "metadata": {},
     "output_type": "display_data"
    },
    {
     "data": {
      "text/html": [
       "<pre style=\"white-space:pre;overflow-x:auto;line-height:normal;font-family:Menlo,'DejaVu Sans Mono',consolas,'Courier New',monospace\"><span style=\"color: #7fbfbf; text-decoration-color: #7fbfbf\">                    </span><span style=\"color: #008000; text-decoration-color: #008000\">INFO    </span> Slide <span style=\"color: #008000; text-decoration-color: #008000\">'ModelsIntro'</span> configuration written in                               <a href=\"file://c:\\Users\\foler\\AppData\\Local\\Programs\\Python\\Python312\\Lib\\site-packages\\manim_slides\\slide\\base.py\" target=\"_blank\"><span style=\"color: #7f7f7f; text-decoration-color: #7f7f7f\">base.py</span></a><span style=\"color: #7f7f7f; text-decoration-color: #7f7f7f\">:</span><a href=\"file://c:\\Users\\foler\\AppData\\Local\\Programs\\Python\\Python312\\Lib\\site-packages\\manim_slides\\slide\\base.py#611\" target=\"_blank\"><span style=\"color: #7f7f7f; text-decoration-color: #7f7f7f\">611</span></a>\n",
       "<span style=\"color: #7fbfbf; text-decoration-color: #7fbfbf\">                    </span>         <span style=\"color: #008000; text-decoration-color: #008000\">'c:\\Programs\\Github\\TeX-files\\Other\\diplopa-25\\manim\\slides\\ModelsIntro.js</span> <span style=\"color: #7f7f7f; text-decoration-color: #7f7f7f\">           </span>\n",
       "<span style=\"color: #7fbfbf; text-decoration-color: #7fbfbf\">                    </span>         <span style=\"color: #008000; text-decoration-color: #008000\">on'</span>                                                                        <span style=\"color: #7f7f7f; text-decoration-color: #7f7f7f\">           </span>\n",
       "</pre>\n"
      ],
      "text/plain": [
       "\u001b[2;36m                   \u001b[0m\u001b[2;36m \u001b[0m\u001b[32mINFO    \u001b[0m Slide \u001b[32m'ModelsIntro'\u001b[0m configuration written in                               \u001b]8;id=359337;file://c:\\Users\\foler\\AppData\\Local\\Programs\\Python\\Python312\\Lib\\site-packages\\manim_slides\\slide\\base.py\u001b\\\u001b[2mbase.py\u001b[0m\u001b]8;;\u001b\\\u001b[2m:\u001b[0m\u001b]8;id=733357;file://c:\\Users\\foler\\AppData\\Local\\Programs\\Python\\Python312\\Lib\\site-packages\\manim_slides\\slide\\base.py#611\u001b\\\u001b[2m611\u001b[0m\u001b]8;;\u001b\\\n",
       "\u001b[2;36m                    \u001b[0m         \u001b[32m'c:\\Programs\\Github\\TeX-files\\Other\\diplopa-25\\manim\\slides\\ModelsIntro.js\u001b[0m \u001b[2m           \u001b[0m\n",
       "\u001b[2;36m                    \u001b[0m         \u001b[32mon'\u001b[0m                                                                        \u001b[2m           \u001b[0m\n"
      ]
     },
     "metadata": {},
     "output_type": "display_data"
    },
    {
     "data": {
      "text/html": [
       "<video src=\"media\\jupyter\\ModelsIntro@2025-06-06@23-07-47.mp4\" controls autoplay loop style=\"max-width: 60%;\"  >\n",
       "      Your browser does not support the <code>video</code> element.\n",
       "    </video>"
      ],
      "text/plain": [
       "<IPython.core.display.Video object>"
      ]
     },
     "metadata": {},
     "output_type": "display_data"
    }
   ],
   "source": [
    "%%manim -qm -v WARNING ModelsIntro\n",
    "\n",
    "class ModelsIntro(SWSlide):\n",
    "    graph1_text = r\"\"\"\n",
    "        \\tikzstyle{roundnode} = [draw, circle, text centered];\n",
    "        \\tikzstyle{squarenode} = [draw, regular polygon, regular polygon sides=4, text centered, inner sep=0];\n",
    "        \\tikzstyle{arrow} = [thick, ->, >=stealth];\n",
    "    \n",
    "        % Left - Flow\n",
    "        \\node[roundnode] (RF) at (0,8) {$R$};\n",
    "\n",
    "        \\node[squarenode] (NF1) at (0,6) {$N_1$};\n",
    "        \\node (NF1M) at (2,6) {$m_1 N_1$};\n",
    "        \\draw [arrow] (NF1) -- (NF1M);\n",
    "\n",
    "        \\node[squarenode] (NF2) at (0,4) {$N_2$};\n",
    "        \\node (NF2M) at (2,4) {$m_2 N_2$};\n",
    "        \\draw [arrow] (NF2) -- (NF2M);\n",
    "\n",
    "        \\node (DF) at (0,2) {$\\vdots\\vphantom{lp}$};\n",
    "\n",
    "        \\node[squarenode] (NFN) at (0,0) {$N_n$};\n",
    "        \\node (NFNM) at (2,0) {$m_n N_n$};\n",
    "        \\draw [arrow] (NFN) -- (NFNM);\n",
    "        \n",
    "        \\draw [arrow] (0,10) -- node[anchor=east] {$Q$} (RF);\n",
    "        \\draw [arrow] (RF) --   node[anchor=east] {$V_0(R)$} (NF1);\n",
    "        \\draw [arrow] (NF1) --  node[anchor=east] {$V_1(N_1)$} (NF2);\n",
    "        \\draw [arrow] (NF2) --  node[anchor=east] {$V_2(N_2)$} (DF);\n",
    "        \\draw [arrow] (DF) --   node[anchor=east] {$V_{n-1}(N_{n-1})$} (NFN);\n",
    "\n",
    "\n",
    "        \\path[arrow] (NF1) edge [loop left] node {$k_1 V_0$} ();\n",
    "        \\path[arrow] (NF2) edge [loop left] node {$k_2 V_1$} ();\n",
    "        \\path[arrow] (NFN) edge [loop left] node {$k_n V_{n-1}$} ();\"\"\"\n",
    "\n",
    "    graph2_text = r\"\"\"\n",
    "        \\tikzstyle{roundnode} = [draw, circle, text centered];\n",
    "        \\tikzstyle{squarenode} = [draw, regular polygon, regular polygon sides=4, text centered, inner sep=0];\n",
    "        \\tikzstyle{arrow} = [thick, ->, >=stealth];\n",
    "    \n",
    "        \\node (BTC) at (11, 10) {};\n",
    "        \\node (BBC) at (11, 0) {};\n",
    "\n",
    "        \\node[roundnode] (RC) at (8,8) {$R$};\n",
    "\n",
    "        \\node[squarenode] (NC1) at (8,6) {$N_1$};\n",
    "        \\draw [arrow] (NC1) -- node[anchor=south] {$m_1 N_1$} ($(BTC)!(NC1)!(BBC)$);\n",
    "\n",
    "        \\node[squarenode] (NC2) at (8,4) {$N_2$};\n",
    "        \\draw [arrow] (NC2) -- node[anchor=south] {$m_2 N_2$} ($(BTC)!(NC2)!(BBC)$);\n",
    "\n",
    "        \\node (DC) at (8,2) {$\\vdots\\vphantom{lp}$};\n",
    "        \\node (DC2) at ($(BTC)!(DC)!(BBC)$) {$\\vdots\\vphantom{lp}$};\n",
    "\n",
    "        \\node[squarenode] (NCN) at (8,0) {$N_n$};\n",
    "        \\draw [arrow] (NCN) -- node[anchor=south] {$m_n N_n$} ($(BTC)!(NCN)!(BBC)$);\n",
    "        \n",
    "        \\draw [arrow] (8,10) -- node[anchor=east] {$Q$} (RC);\n",
    "        \\draw [arrow] (RC) --   node[anchor=east] {$V_0(R)$} (NC1);\n",
    "        \\draw [arrow] (NC1) --  node[anchor=east] {$V_1(N_1)$} (NC2);\n",
    "        \\draw [arrow] (NC2) --  node[anchor=east] {$V_2(N_2)$} (DC);\n",
    "        \\draw [arrow] (DC) --   node[anchor=east] {$V_{n-1}(N_{n-1})$} (NCN);\n",
    "        \n",
    "        \\draw [arrow] (DC2) |- node[pos=0.75, anchor=south] \n",
    "        {$\\textstyle\\sum\\limits_{i=1}^n a_i m_i N_i$} (RC);\n",
    "        \n",
    "        \\path[arrow] (NC1) edge [loop left] node {$k_1 V_0$} ();\n",
    "        \\path[arrow] (NC2) edge [loop left] node {$k_2 V_1$} ();\n",
    "        \\path[arrow] (NCN) edge [loop left] node (KNVN1) {$k_n V_{n-1}$} ();\n",
    "\n",
    "        \\draw [arrow] ($(KNVN1)!(BTC)!(NCN)$) -- (DC2);\"\"\"\n",
    "\n",
    "    graph3_text = r\"\"\"\\tikzstyle{roundnode} = [draw, circle, text centered];\n",
    "        \\tikzstyle{squarenode} = [draw, regular polygon, regular polygon sides=4, text centered, inner sep=0, text width=0.92cm];\n",
    "        \\tikzstyle{arrow} = [thick, ->, >=stealth];\n",
    "        \n",
    "\n",
    "        \\node[roundnode] (N0) at (0,0) {$N_0$};\n",
    "\n",
    "        \\node[squarenode] (N1) at ([yshift=-2cm]N0) {$N_1$};\n",
    "        \\node (ND) at ([yshift=-1.5cm]N1) {$\\vdots\\vphantom{lp}$};\n",
    "        \\node[squarenode] (NS) at ([yshift=-1.5cm]ND) {$N_s$};\n",
    "\n",
    "\n",
    "        \\node[squarenode] (NS1) at ([xshift=-1.5cm,yshift=-2cm]NS) {$N_{s+1}$};\n",
    "        \\node (NSD) at ([yshift=-1.5cm]NS1) {$\\vdots\\vphantom{lp}$};\n",
    "        \\node[squarenode] (NQ) at ([yshift=-1.5cm]NSD) {$N_q$};\n",
    "\n",
    "\n",
    "        \\node[squarenode] (M1) at ([xshift=1.5cm,yshift=-2cm]NS) {$N'_{1}$};\n",
    "        \\node (MD) at ([yshift=-1.5cm]M1) {$\\vdots\\vphantom{lp}$};\n",
    "        \\node[squarenode] (Mm1) at ([yshift=-1.5cm]MD) {$N'_{r-1}$};\n",
    "        \\node[squarenode] (MR) at ([yshift=-2cm]Mm1) {$N'_r$};\n",
    "\n",
    "\n",
    "        \\node (QN0) at ([yshift=1.5cm]N0) {};\n",
    "        \\draw [arrow] (QN0) -- node[anchor=east] {$Q$} (N0);\n",
    "\n",
    "        \n",
    "        \\draw [arrow] (N0) -- (N1);\n",
    "        \\draw [arrow] (N1) -- (ND);\n",
    "        \\draw [arrow] (ND) -- (NS);\n",
    "        \n",
    "        \\draw [arrow] (NS) -- node[anchor=east] {$V_s(N_s)$} (NS1);\n",
    "        \\draw [arrow] (NS1) -- (NSD);\n",
    "        \\draw [arrow] (NSD) -- (NQ);\n",
    "\n",
    "        \\draw [arrow] (NS) -- node[anchor=west] {$V^b_s(N_s)$} (M1);\n",
    "        \\draw [arrow] (M1) -- (MD);\n",
    "        \\draw [arrow] (MD) -- (Mm1);\n",
    "        \\draw [arrow] (Mm1) -- (MR);\n",
    "\n",
    "        \\node (DBS) at ([xshift=-5cm]ND) {$\\vdots\\vphantom{lp}$};\n",
    "        \\node (DBR) at ([xshift=5cm]ND) {$\\vdots\\vphantom{lp}$};\n",
    "        \\node (DBS2) at ($(DBS)!(NSD)!(DBS)$) {$\\vdots\\vphantom{lp}$};\n",
    "        \\node (DBR2) at ($(DBR)!(MD)!(DBR)$) {$\\vdots\\vphantom{lp}$};\n",
    "\n",
    "\n",
    "        \\draw[arrow] ($(DBS)!(NQ)!(DBS)$) -- (DBS2);\n",
    "        \\draw[arrow] (DBS2) -- (DBS);\n",
    "        \\draw[arrow] (DBS) |- node[pos=0.75, anchor=south] {$\\textstyle\\sum\\limits_{i=1}^q a_i m_i N_i$} (N0);\n",
    "\n",
    "\n",
    "        \\draw[arrow] ($(DBR)!(MR)!(DBR)$) -- (DBR2);\n",
    "        \\draw[arrow] (DBR2) -- (DBR);\n",
    "        \\draw[arrow] (DBR) |- node[pos=0.75, anchor=south] {$\\textstyle\\sum\\limits_{i=1}^r a_i m'_i N'_i$} (N0);\n",
    "\n",
    "\n",
    "        \\draw[arrow] (N1) -- node[anchor=south] {$m_1 N_1$} ($(DBS)!(N1)!(DBS)$);\n",
    "        \\draw[arrow] (NS) -- node[anchor=south] {$m_s N_s$} ($(DBS)!(NS)!(DBS)$);\n",
    "        \\draw[arrow] (NS1) -- node[anchor=south] {$m_{s+1} N_{s+1}$} ($(DBS)!(NS1)!(DBS)$);\n",
    "        \\draw[arrow] (NQ) -- node[anchor=south] {$m_q N_q$} ($(DBS)!(NQ)!(DBS)$);\n",
    "        \n",
    "\n",
    "        \\draw[arrow] (M1) -- node[anchor=south] {$m'_1 N'_1$} ($(DBR)!(M1)!(DBR)$);\n",
    "        \\draw[arrow] (Mm1) -- node[anchor=south] {$m'_{r-1} N'_{r-1}$} ($(DBR)!(Mm1)!(DBR)$);\n",
    "        \\draw[arrow] (MR) -- node[anchor=south] {$m'_{r} N'_{r}$} ($(DBR)!(MR)!(DBR)$);\"\"\"\n",
    "\n",
    "    def construct(self):\n",
    "        PAGE_NUM = PageNum(4)\n",
    "        self.add(PAGE_NUM)\n",
    "        \n",
    "        graph1 = Tikz(self.graph1_text).scale(0.5)\n",
    "        self.play(Write(graph1), run_time=2)\n",
    "        self.sw()\n",
    "\n",
    "        self.play(graph1.animate.to_corner(LEFT))\n",
    "        # self.sw()\n",
    "\n",
    "        diff1 = MathTex(r\"\"\"\\left\\{\\begin{split}\n",
    "                & \\frac{dR}{dt} = Q - V_0(R) N_1 \\vphantom{\\sum_{i=1}^{n}}\\hphantom{+\\sum_{i=1}^{n} a_i m_i N_i,}, \\\\\n",
    "                & \\frac{dN_1}{dt} = -m_1 N_1 + k_1 V_0(R) N_1 - V_1(N_1) N_2, \\\\\n",
    "                & \\frac{dN_i}{dt} = -m_i N_i + k_i V_{i-1}(N_{i-1}) N_i - V_i(N_i) N_{i+1}, \\\\\n",
    "                & \\frac{dN_n}{dt} = -m_n N_n + k_n V_{n-1}(N_{n-1}) N_n.\n",
    "            \\end{split}\\right.\"\"\", tex_environment=\"equation*\").scale(0.8).to_corner(RIGHT)\n",
    "\n",
    "        self.play(Write(diff1))\n",
    "        self.sw()\n",
    "\n",
    "        graph2 = Tikz(self.graph2_text).scale(0.5).to_corner(LEFT)\n",
    "        self.play(FadeOut(graph1), FadeIn(graph2), run_time=1)\n",
    "        # self.sw()\n",
    "\n",
    "        \n",
    "        diff2 = MathTex(r\"\"\"\\left\\{\\begin{split}\n",
    "                & \\frac{dR}{dt} = Q - V_0(R) N_1 \\mathcolor{yellow}{+ \\sum_{i=1}^{n} a_i m_i N_i}, \\\\\n",
    "                & \\frac{dN_1}{dt} = -m_1 N_1 + k_1 V_0(R) N_1 - V_1(N_1) N_2, \\\\\n",
    "                & \\frac{dN_i}{dt} = -m_i N_i + k_i V_{i-1}(N_{i-1}) N_i - V_i(N_i) N_{i+1}, \\\\\n",
    "                & \\frac{dN_n}{dt} = -m_n N_n + k_n V_{n-1}(N_{n-1}) N_n.\n",
    "            \\end{split}\\right.\"\"\", \n",
    "            tex_environment=\"equation*\",\n",
    "            tex_template = TexTemplate().add_to_preamble(r\"\\usepackage{xcolor}\")\n",
    "        ).scale(0.8).to_corner(RIGHT)\n",
    "\n",
    "        ka_limits = MathTex(r\"0 \\leq k_i, a_i \\leq 1\").scale(0.8).to_corner(DOWN)\n",
    "\n",
    "        self.play(FadeOut(diff1), FadeIn(diff2), Write(ka_limits))\n",
    "        self.sw()\n",
    "\n",
    "        self.play(\n",
    "            diff2.animate.scale(0.6).to_corner(RIGHT),\n",
    "            Unwrite(ka_limits), \n",
    "            PAGE_NUM.animate.bump()\n",
    "        )\n",
    "        # self.sw()\n",
    "\n",
    "        subst = VGroup(MathTex(r\"{{ V_0(R) }}\", \"=\", r\"{{ \\alpha_0 R }}\"), MathTex(r\"V_i(N_i) = \\alpha_i N_i\")).arrange(DOWN).to_corner(UP)\n",
    "\n",
    "        self.play(Write(subst), run_time=1)\n",
    "        # self.sw()\n",
    "\n",
    "        subst_r = MathTex(r\"{{ V_0(R) }}\", \"=\", r\"{{ \\alpha_0 R }}\", \"=\", r\"{{ \\alpha_0 N_0 }}\")\n",
    "        subst_r.align_to(subst[0], LEFT + UP)\n",
    "\n",
    "        self.play(TransformMatchingTex(subst[0], subst_r), run_time=1)\n",
    "        self.sw()\n",
    "        \n",
    "        subst.remove(subst[0])\n",
    "        subst.add(subst_r)\n",
    "\n",
    "        self.play(FadeOut(graph2, shift=LEFT), run_time=1)\n",
    "        # self.sw()\n",
    "\n",
    "        diff3 = MathTex(r\"\"\"\\left\\{\\begin{split}\n",
    "                & \\frac{dN_0}{dt} = Q - \\alpha_0 N_0 N_1 \\mathcolor{yellow}{+ \\sum_{i=1}^{n} a_i m_i N_i}, \\\\\n",
    "                & \\frac{dN_i}{dt} = N_i (-m_i + k_i \\alpha_{i-1} N_{i-1} - \\alpha_i N_{i+1}), \\\\\n",
    "                & N_{n+1} \\equiv 0.\n",
    "            \\end{split}\\right.\"\"\", \n",
    "            tex_environment=\"equation*\",\n",
    "            tex_template = TexTemplate().add_to_preamble(r\"\\usepackage{xcolor}\")\n",
    "            ).scale(0.8).to_corner(LEFT).align_to(diff2, UP)\n",
    "\n",
    "        self.play(Write(diff3))\n",
    "        self.sw()\n",
    "\n",
    "        self.play(Unwrite(subst), Unwrite(diff2), Unwrite(diff3))\n",
    "        # self.sw()\n",
    "\n",
    "        title = Title2(\"Цель\")\n",
    "\n",
    "        question = Paragraph(\n",
    "            \"Найти условия\", \n",
    "            \"существования и устойчивости\",\n",
    "            \"трофической цепи\",\n",
    "            \"определённой длины\",\n",
    "            line_spacing=1,\n",
    "            alignment=\"center\"\n",
    "        ).move_to(ORIGIN)\n",
    "\n",
    "        anim_question = [Write(title)] + list(map(lambda x: FadeIn(x, shift=UP), question))\n",
    "\n",
    "        self.play(AnimationGroup(*anim_question, lag_ratio=0.25), PAGE_NUM.animate.bump())\n",
    "        self.sw()\n",
    "\n",
    "        graph3 = Tikz(self.graph3_text).scale(0.4)\n",
    "        q2 = MathTex(r\"\\ldots (q, r)?\").to_corner(RIGHT)\n",
    "\n",
    "        self.play( \n",
    "            AnimationGroup(\n",
    "                FadeOut(question, shift=DOWN), \n",
    "                FadeOut(title, shift=UP), \n",
    "                FadeIn(graph3), \n",
    "                Write(q2), \n",
    "                lag_ratio=0.25\n",
    "            ), \n",
    "            PAGE_NUM.animate.increment_value(1)\n",
    "        )\n",
    "        self.sw()\n",
    "\n",
    "        self.play(ShrinkToCenter(graph3), FadeOut(q2, shift=RIGHT), PAGE_NUM.animate.bump())\n",
    "        self.sw()"
   ]
  },
  {
   "cell_type": "code",
   "execution_count": 72,
   "metadata": {},
   "outputs": [
    {
     "data": {
      "text/html": [
       "<pre style=\"white-space:pre;overflow-x:auto;line-height:normal;font-family:Menlo,'DejaVu Sans Mono',consolas,'Courier New',monospace\">Manim Community <span style=\"color: #008000; text-decoration-color: #008000\">v0.19.0</span>\n",
       "\n",
       "</pre>\n"
      ],
      "text/plain": [
       "Manim Community \u001b[32mv0.\u001b[0m\u001b[32m19.0\u001b[0m\n",
       "\n"
      ]
     },
     "metadata": {},
     "output_type": "display_data"
    },
    {
     "name": "stderr",
     "output_type": "stream",
     "text": [
      "                                                                                                                                                \r"
     ]
    },
    {
     "data": {
      "text/html": [
       "<pre style=\"white-space:pre;overflow-x:auto;line-height:normal;font-family:Menlo,'DejaVu Sans Mono',consolas,'Courier New',monospace\"><span style=\"color: #7fbfbf; text-decoration-color: #7fbfbf\">[06/06/25 23:08:51] </span><span style=\"color: #000080; text-decoration-color: #000080\">INFO    </span> Generated <span style=\"color: #008080; text-decoration-color: #008080; font-weight: bold\">2</span> slides to                                                      <a href=\"file://c:\\Users\\foler\\AppData\\Local\\Programs\\Python\\Python312\\Lib\\site-packages\\manim_slides\\slide\\base.py\" target=\"_blank\"><span style=\"color: #7f7f7f; text-decoration-color: #7f7f7f\">base.py</span></a><span style=\"color: #7f7f7f; text-decoration-color: #7f7f7f\">:</span><a href=\"file://c:\\Users\\foler\\AppData\\Local\\Programs\\Python\\Python312\\Lib\\site-packages\\manim_slides\\slide\\base.py#599\" target=\"_blank\"><span style=\"color: #7f7f7f; text-decoration-color: #7f7f7f\">599</span></a>\n",
       "<span style=\"color: #7fbfbf; text-decoration-color: #7fbfbf\">                    </span>         <span style=\"color: #008000; text-decoration-color: #008000\">'c:\\Programs\\Github\\TeX-files\\Other\\diplopa-25\\manim\\slides\\files\\Stabilit</span> <span style=\"color: #7f7f7f; text-decoration-color: #7f7f7f\">           </span>\n",
       "<span style=\"color: #7fbfbf; text-decoration-color: #7fbfbf\">                    </span>         <span style=\"color: #008000; text-decoration-color: #008000\">yTypes'</span>                                                                    <span style=\"color: #7f7f7f; text-decoration-color: #7f7f7f\">           </span>\n",
       "</pre>\n"
      ],
      "text/plain": [
       "\u001b[2;36m[06/06/25 23:08:51]\u001b[0m\u001b[2;36m \u001b[0m\u001b[34mINFO    \u001b[0m Generated \u001b[1;36m2\u001b[0m slides to                                                      \u001b]8;id=996336;file://c:\\Users\\foler\\AppData\\Local\\Programs\\Python\\Python312\\Lib\\site-packages\\manim_slides\\slide\\base.py\u001b\\\u001b[2mbase.py\u001b[0m\u001b]8;;\u001b\\\u001b[2m:\u001b[0m\u001b]8;id=646879;file://c:\\Users\\foler\\AppData\\Local\\Programs\\Python\\Python312\\Lib\\site-packages\\manim_slides\\slide\\base.py#599\u001b\\\u001b[2m599\u001b[0m\u001b]8;;\u001b\\\n",
       "\u001b[2;36m                    \u001b[0m         \u001b[32m'c:\\Programs\\Github\\TeX-files\\Other\\diplopa-25\\manim\\slides\\files\\Stabilit\u001b[0m \u001b[2m           \u001b[0m\n",
       "\u001b[2;36m                    \u001b[0m         \u001b[32myTypes'\u001b[0m                                                                    \u001b[2m           \u001b[0m\n"
      ]
     },
     "metadata": {},
     "output_type": "display_data"
    },
    {
     "data": {
      "text/html": [
       "<pre style=\"white-space:pre;overflow-x:auto;line-height:normal;font-family:Menlo,'DejaVu Sans Mono',consolas,'Courier New',monospace\"><span style=\"color: #7fbfbf; text-decoration-color: #7fbfbf\">[06/06/25 23:08:51] </span><span style=\"color: #008000; text-decoration-color: #008000\">INFO    </span> Generated <span style=\"color: #008000; text-decoration-color: #008000\">2</span> slides to                                                      <a href=\"file://c:\\Users\\foler\\AppData\\Local\\Programs\\Python\\Python312\\Lib\\site-packages\\manim_slides\\slide\\base.py\" target=\"_blank\"><span style=\"color: #7f7f7f; text-decoration-color: #7f7f7f\">base.py</span></a><span style=\"color: #7f7f7f; text-decoration-color: #7f7f7f\">:</span><a href=\"file://c:\\Users\\foler\\AppData\\Local\\Programs\\Python\\Python312\\Lib\\site-packages\\manim_slides\\slide\\base.py#599\" target=\"_blank\"><span style=\"color: #7f7f7f; text-decoration-color: #7f7f7f\">599</span></a>\n",
       "<span style=\"color: #7fbfbf; text-decoration-color: #7fbfbf\">                    </span>         <span style=\"color: #008000; text-decoration-color: #008000\">'c:\\Programs\\Github\\TeX-files\\Other\\diplopa-25\\manim\\slides\\files\\Stabilit</span> <span style=\"color: #7f7f7f; text-decoration-color: #7f7f7f\">           </span>\n",
       "<span style=\"color: #7fbfbf; text-decoration-color: #7fbfbf\">                    </span>         <span style=\"color: #008000; text-decoration-color: #008000\">yTypes'</span>                                                                    <span style=\"color: #7f7f7f; text-decoration-color: #7f7f7f\">           </span>\n",
       "</pre>\n"
      ],
      "text/plain": [
       "\u001b[2;36m[06/06/25 23:08:51]\u001b[0m\u001b[2;36m \u001b[0m\u001b[32mINFO    \u001b[0m Generated \u001b[32m2\u001b[0m slides to                                                      \u001b]8;id=160850;file://c:\\Users\\foler\\AppData\\Local\\Programs\\Python\\Python312\\Lib\\site-packages\\manim_slides\\slide\\base.py\u001b\\\u001b[2mbase.py\u001b[0m\u001b]8;;\u001b\\\u001b[2m:\u001b[0m\u001b]8;id=582741;file://c:\\Users\\foler\\AppData\\Local\\Programs\\Python\\Python312\\Lib\\site-packages\\manim_slides\\slide\\base.py#599\u001b\\\u001b[2m599\u001b[0m\u001b]8;;\u001b\\\n",
       "\u001b[2;36m                    \u001b[0m         \u001b[32m'c:\\Programs\\Github\\TeX-files\\Other\\diplopa-25\\manim\\slides\\files\\Stabilit\u001b[0m \u001b[2m           \u001b[0m\n",
       "\u001b[2;36m                    \u001b[0m         \u001b[32myTypes'\u001b[0m                                                                    \u001b[2m           \u001b[0m\n"
      ]
     },
     "metadata": {},
     "output_type": "display_data"
    },
    {
     "data": {
      "text/html": [
       "<pre style=\"white-space:pre;overflow-x:auto;line-height:normal;font-family:Menlo,'DejaVu Sans Mono',consolas,'Courier New',monospace\"><span style=\"color: #7fbfbf; text-decoration-color: #7fbfbf\">                    </span><span style=\"color: #000080; text-decoration-color: #000080\">INFO    </span> Slide <span style=\"color: #008000; text-decoration-color: #008000\">'StabilityTypes'</span> configuration written in                            <a href=\"file://c:\\Users\\foler\\AppData\\Local\\Programs\\Python\\Python312\\Lib\\site-packages\\manim_slides\\slide\\base.py\" target=\"_blank\"><span style=\"color: #7f7f7f; text-decoration-color: #7f7f7f\">base.py</span></a><span style=\"color: #7f7f7f; text-decoration-color: #7f7f7f\">:</span><a href=\"file://c:\\Users\\foler\\AppData\\Local\\Programs\\Python\\Python312\\Lib\\site-packages\\manim_slides\\slide\\base.py#611\" target=\"_blank\"><span style=\"color: #7f7f7f; text-decoration-color: #7f7f7f\">611</span></a>\n",
       "<span style=\"color: #7fbfbf; text-decoration-color: #7fbfbf\">                    </span>         <span style=\"color: #008000; text-decoration-color: #008000\">'c:\\Programs\\Github\\TeX-files\\Other\\diplopa-25\\manim\\slides\\StabilityTypes</span> <span style=\"color: #7f7f7f; text-decoration-color: #7f7f7f\">           </span>\n",
       "<span style=\"color: #7fbfbf; text-decoration-color: #7fbfbf\">                    </span>         <span style=\"color: #008000; text-decoration-color: #008000\">.json'</span>                                                                     <span style=\"color: #7f7f7f; text-decoration-color: #7f7f7f\">           </span>\n",
       "</pre>\n"
      ],
      "text/plain": [
       "\u001b[2;36m                   \u001b[0m\u001b[2;36m \u001b[0m\u001b[34mINFO    \u001b[0m Slide \u001b[32m'StabilityTypes'\u001b[0m configuration written in                            \u001b]8;id=352730;file://c:\\Users\\foler\\AppData\\Local\\Programs\\Python\\Python312\\Lib\\site-packages\\manim_slides\\slide\\base.py\u001b\\\u001b[2mbase.py\u001b[0m\u001b]8;;\u001b\\\u001b[2m:\u001b[0m\u001b]8;id=769816;file://c:\\Users\\foler\\AppData\\Local\\Programs\\Python\\Python312\\Lib\\site-packages\\manim_slides\\slide\\base.py#611\u001b\\\u001b[2m611\u001b[0m\u001b]8;;\u001b\\\n",
       "\u001b[2;36m                    \u001b[0m         \u001b[32m'c:\\Programs\\Github\\TeX-files\\Other\\diplopa-25\\manim\\slides\\StabilityTypes\u001b[0m \u001b[2m           \u001b[0m\n",
       "\u001b[2;36m                    \u001b[0m         \u001b[32m.json'\u001b[0m                                                                     \u001b[2m           \u001b[0m\n"
      ]
     },
     "metadata": {},
     "output_type": "display_data"
    },
    {
     "data": {
      "text/html": [
       "<pre style=\"white-space:pre;overflow-x:auto;line-height:normal;font-family:Menlo,'DejaVu Sans Mono',consolas,'Courier New',monospace\"><span style=\"color: #7fbfbf; text-decoration-color: #7fbfbf\">                    </span><span style=\"color: #008000; text-decoration-color: #008000\">INFO    </span> Slide <span style=\"color: #008000; text-decoration-color: #008000\">'StabilityTypes'</span> configuration written in                            <a href=\"file://c:\\Users\\foler\\AppData\\Local\\Programs\\Python\\Python312\\Lib\\site-packages\\manim_slides\\slide\\base.py\" target=\"_blank\"><span style=\"color: #7f7f7f; text-decoration-color: #7f7f7f\">base.py</span></a><span style=\"color: #7f7f7f; text-decoration-color: #7f7f7f\">:</span><a href=\"file://c:\\Users\\foler\\AppData\\Local\\Programs\\Python\\Python312\\Lib\\site-packages\\manim_slides\\slide\\base.py#611\" target=\"_blank\"><span style=\"color: #7f7f7f; text-decoration-color: #7f7f7f\">611</span></a>\n",
       "<span style=\"color: #7fbfbf; text-decoration-color: #7fbfbf\">                    </span>         <span style=\"color: #008000; text-decoration-color: #008000\">'c:\\Programs\\Github\\TeX-files\\Other\\diplopa-25\\manim\\slides\\StabilityTypes</span> <span style=\"color: #7f7f7f; text-decoration-color: #7f7f7f\">           </span>\n",
       "<span style=\"color: #7fbfbf; text-decoration-color: #7fbfbf\">                    </span>         <span style=\"color: #008000; text-decoration-color: #008000\">.json'</span>                                                                     <span style=\"color: #7f7f7f; text-decoration-color: #7f7f7f\">           </span>\n",
       "</pre>\n"
      ],
      "text/plain": [
       "\u001b[2;36m                   \u001b[0m\u001b[2;36m \u001b[0m\u001b[32mINFO    \u001b[0m Slide \u001b[32m'StabilityTypes'\u001b[0m configuration written in                            \u001b]8;id=987539;file://c:\\Users\\foler\\AppData\\Local\\Programs\\Python\\Python312\\Lib\\site-packages\\manim_slides\\slide\\base.py\u001b\\\u001b[2mbase.py\u001b[0m\u001b]8;;\u001b\\\u001b[2m:\u001b[0m\u001b]8;id=644752;file://c:\\Users\\foler\\AppData\\Local\\Programs\\Python\\Python312\\Lib\\site-packages\\manim_slides\\slide\\base.py#611\u001b\\\u001b[2m611\u001b[0m\u001b]8;;\u001b\\\n",
       "\u001b[2;36m                    \u001b[0m         \u001b[32m'c:\\Programs\\Github\\TeX-files\\Other\\diplopa-25\\manim\\slides\\StabilityTypes\u001b[0m \u001b[2m           \u001b[0m\n",
       "\u001b[2;36m                    \u001b[0m         \u001b[32m.json'\u001b[0m                                                                     \u001b[2m           \u001b[0m\n"
      ]
     },
     "metadata": {},
     "output_type": "display_data"
    },
    {
     "data": {
      "text/html": [
       "<video src=\"media\\jupyter\\StabilityTypes@2025-06-06@23-08-51.mp4\" controls autoplay loop style=\"max-width: 60%;\"  >\n",
       "      Your browser does not support the <code>video</code> element.\n",
       "    </video>"
      ],
      "text/plain": [
       "<IPython.core.display.Video object>"
      ]
     },
     "metadata": {},
     "output_type": "display_data"
    }
   ],
   "source": [
    "%%manim -qm -v WARNING StabilityTypes\n",
    "\n",
    "class StabilityTypes(SWSlide):    \n",
    "    def construct(self):\n",
    "        PAGE_NUM = PageNum(8)\n",
    "        title = Title2(\"Способы исследования устойчивости\")\n",
    "\n",
    "        self.add(PAGE_NUM)\n",
    "        self.play(Write(title, run_time=1.5))\n",
    "\n",
    "        models_names = [\n",
    "            \"Проточная\",\n",
    "            \"Циклическая\",\n",
    "            \"Ветвящаяся\"\n",
    "        ]\n",
    "\n",
    "        models_group = VGroup(*map(lambda x: Text(x, weight=BOLD), models_names)).scale(0.8).arrange(RIGHT, buff=1.0).move_to(UP*1.5)\n",
    "\n",
    "        self.play(FadeIn(models_group, shift=UP))\n",
    "\n",
    "        stability_names = [\n",
    "            [\"Качественная\",\"устойчивость\"],\n",
    "            [\"По первому\",\"приближению\"],\n",
    "            [\"По функции\",\"Ляпунова\"]\n",
    "        ]\n",
    "\n",
    "        stability_group = VGroup(*map(lambda x: Paragraph(*x, alignment=\"center\", line_spacing=0.5), stability_names)).scale(0.8)\n",
    "\n",
    "        for sg, mg in zip(stability_group, models_group):\n",
    "            sg.next_to(mg, DOWN)\n",
    "            sg.shift(DOWN)\n",
    "\n",
    "        anim_list = [FadeIn(sg, shift=UP) for sg in stability_group]\n",
    "\n",
    "        self.play(AnimationGroup(*anim_list, lag_ratio=0.15))\n",
    "        self.sw()\n",
    "\n",
    "        self.play(\n",
    "            FadeOut(title, shift=UP), \n",
    "            FadeOut(models_group, shift=UP),\n",
    "            FadeOut(stability_group, shift=DOWN),\n",
    "            PAGE_NUM.animate.bump()\n",
    "        )\n",
    "        self.sw()\n",
    "\n"
   ]
  },
  {
   "cell_type": "code",
   "execution_count": 73,
   "metadata": {},
   "outputs": [
    {
     "data": {
      "text/html": [
       "<pre style=\"white-space:pre;overflow-x:auto;line-height:normal;font-family:Menlo,'DejaVu Sans Mono',consolas,'Courier New',monospace\">Manim Community <span style=\"color: #008000; text-decoration-color: #008000\">v0.19.0</span>\n",
       "\n",
       "</pre>\n"
      ],
      "text/plain": [
       "Manim Community \u001b[32mv0.\u001b[0m\u001b[32m19.0\u001b[0m\n",
       "\n"
      ]
     },
     "metadata": {},
     "output_type": "display_data"
    },
    {
     "name": "stderr",
     "output_type": "stream",
     "text": [
      "                                                                                                                                               \r"
     ]
    },
    {
     "data": {
      "text/html": [
       "<pre style=\"white-space:pre;overflow-x:auto;line-height:normal;font-family:Menlo,'DejaVu Sans Mono',consolas,'Courier New',monospace\"><span style=\"color: #7fbfbf; text-decoration-color: #7fbfbf\">[06/06/25 23:09:43] </span><span style=\"color: #000080; text-decoration-color: #000080\">INFO    </span> Generated <span style=\"color: #008080; text-decoration-color: #008080; font-weight: bold\">2</span> slides to                                                      <a href=\"file://c:\\Users\\foler\\AppData\\Local\\Programs\\Python\\Python312\\Lib\\site-packages\\manim_slides\\slide\\base.py\" target=\"_blank\"><span style=\"color: #7f7f7f; text-decoration-color: #7f7f7f\">base.py</span></a><span style=\"color: #7f7f7f; text-decoration-color: #7f7f7f\">:</span><a href=\"file://c:\\Users\\foler\\AppData\\Local\\Programs\\Python\\Python312\\Lib\\site-packages\\manim_slides\\slide\\base.py#599\" target=\"_blank\"><span style=\"color: #7f7f7f; text-decoration-color: #7f7f7f\">599</span></a>\n",
       "<span style=\"color: #7fbfbf; text-decoration-color: #7fbfbf\">                    </span>         <span style=\"color: #008000; text-decoration-color: #008000\">'c:\\Programs\\Github\\TeX-files\\Other\\diplopa-25\\manim\\slides\\files\\SignStab</span> <span style=\"color: #7f7f7f; text-decoration-color: #7f7f7f\">           </span>\n",
       "<span style=\"color: #7fbfbf; text-decoration-color: #7fbfbf\">                    </span>         <span style=\"color: #008000; text-decoration-color: #008000\">ility'</span>                                                                     <span style=\"color: #7f7f7f; text-decoration-color: #7f7f7f\">           </span>\n",
       "</pre>\n"
      ],
      "text/plain": [
       "\u001b[2;36m[06/06/25 23:09:43]\u001b[0m\u001b[2;36m \u001b[0m\u001b[34mINFO    \u001b[0m Generated \u001b[1;36m2\u001b[0m slides to                                                      \u001b]8;id=627328;file://c:\\Users\\foler\\AppData\\Local\\Programs\\Python\\Python312\\Lib\\site-packages\\manim_slides\\slide\\base.py\u001b\\\u001b[2mbase.py\u001b[0m\u001b]8;;\u001b\\\u001b[2m:\u001b[0m\u001b]8;id=770056;file://c:\\Users\\foler\\AppData\\Local\\Programs\\Python\\Python312\\Lib\\site-packages\\manim_slides\\slide\\base.py#599\u001b\\\u001b[2m599\u001b[0m\u001b]8;;\u001b\\\n",
       "\u001b[2;36m                    \u001b[0m         \u001b[32m'c:\\Programs\\Github\\TeX-files\\Other\\diplopa-25\\manim\\slides\\files\\SignStab\u001b[0m \u001b[2m           \u001b[0m\n",
       "\u001b[2;36m                    \u001b[0m         \u001b[32mility'\u001b[0m                                                                     \u001b[2m           \u001b[0m\n"
      ]
     },
     "metadata": {},
     "output_type": "display_data"
    },
    {
     "data": {
      "text/html": [
       "<pre style=\"white-space:pre;overflow-x:auto;line-height:normal;font-family:Menlo,'DejaVu Sans Mono',consolas,'Courier New',monospace\"><span style=\"color: #7fbfbf; text-decoration-color: #7fbfbf\">[06/06/25 23:09:43] </span><span style=\"color: #008000; text-decoration-color: #008000\">INFO    </span> Generated <span style=\"color: #008000; text-decoration-color: #008000\">2</span> slides to                                                      <a href=\"file://c:\\Users\\foler\\AppData\\Local\\Programs\\Python\\Python312\\Lib\\site-packages\\manim_slides\\slide\\base.py\" target=\"_blank\"><span style=\"color: #7f7f7f; text-decoration-color: #7f7f7f\">base.py</span></a><span style=\"color: #7f7f7f; text-decoration-color: #7f7f7f\">:</span><a href=\"file://c:\\Users\\foler\\AppData\\Local\\Programs\\Python\\Python312\\Lib\\site-packages\\manim_slides\\slide\\base.py#599\" target=\"_blank\"><span style=\"color: #7f7f7f; text-decoration-color: #7f7f7f\">599</span></a>\n",
       "<span style=\"color: #7fbfbf; text-decoration-color: #7fbfbf\">                    </span>         <span style=\"color: #008000; text-decoration-color: #008000\">'c:\\Programs\\Github\\TeX-files\\Other\\diplopa-25\\manim\\slides\\files\\SignStab</span> <span style=\"color: #7f7f7f; text-decoration-color: #7f7f7f\">           </span>\n",
       "<span style=\"color: #7fbfbf; text-decoration-color: #7fbfbf\">                    </span>         <span style=\"color: #008000; text-decoration-color: #008000\">ility'</span>                                                                     <span style=\"color: #7f7f7f; text-decoration-color: #7f7f7f\">           </span>\n",
       "</pre>\n"
      ],
      "text/plain": [
       "\u001b[2;36m[06/06/25 23:09:43]\u001b[0m\u001b[2;36m \u001b[0m\u001b[32mINFO    \u001b[0m Generated \u001b[32m2\u001b[0m slides to                                                      \u001b]8;id=863685;file://c:\\Users\\foler\\AppData\\Local\\Programs\\Python\\Python312\\Lib\\site-packages\\manim_slides\\slide\\base.py\u001b\\\u001b[2mbase.py\u001b[0m\u001b]8;;\u001b\\\u001b[2m:\u001b[0m\u001b]8;id=230142;file://c:\\Users\\foler\\AppData\\Local\\Programs\\Python\\Python312\\Lib\\site-packages\\manim_slides\\slide\\base.py#599\u001b\\\u001b[2m599\u001b[0m\u001b]8;;\u001b\\\n",
       "\u001b[2;36m                    \u001b[0m         \u001b[32m'c:\\Programs\\Github\\TeX-files\\Other\\diplopa-25\\manim\\slides\\files\\SignStab\u001b[0m \u001b[2m           \u001b[0m\n",
       "\u001b[2;36m                    \u001b[0m         \u001b[32mility'\u001b[0m                                                                     \u001b[2m           \u001b[0m\n"
      ]
     },
     "metadata": {},
     "output_type": "display_data"
    },
    {
     "data": {
      "text/html": [
       "<pre style=\"white-space:pre;overflow-x:auto;line-height:normal;font-family:Menlo,'DejaVu Sans Mono',consolas,'Courier New',monospace\"><span style=\"color: #7fbfbf; text-decoration-color: #7fbfbf\">                    </span><span style=\"color: #000080; text-decoration-color: #000080\">INFO    </span> Slide <span style=\"color: #008000; text-decoration-color: #008000\">'SignStability'</span> configuration written in                             <a href=\"file://c:\\Users\\foler\\AppData\\Local\\Programs\\Python\\Python312\\Lib\\site-packages\\manim_slides\\slide\\base.py\" target=\"_blank\"><span style=\"color: #7f7f7f; text-decoration-color: #7f7f7f\">base.py</span></a><span style=\"color: #7f7f7f; text-decoration-color: #7f7f7f\">:</span><a href=\"file://c:\\Users\\foler\\AppData\\Local\\Programs\\Python\\Python312\\Lib\\site-packages\\manim_slides\\slide\\base.py#611\" target=\"_blank\"><span style=\"color: #7f7f7f; text-decoration-color: #7f7f7f\">611</span></a>\n",
       "<span style=\"color: #7fbfbf; text-decoration-color: #7fbfbf\">                    </span>         <span style=\"color: #008000; text-decoration-color: #008000\">'c:\\Programs\\Github\\TeX-files\\Other\\diplopa-25\\manim\\slides\\SignStability.</span> <span style=\"color: #7f7f7f; text-decoration-color: #7f7f7f\">           </span>\n",
       "<span style=\"color: #7fbfbf; text-decoration-color: #7fbfbf\">                    </span>         <span style=\"color: #008000; text-decoration-color: #008000\">json'</span>                                                                      <span style=\"color: #7f7f7f; text-decoration-color: #7f7f7f\">           </span>\n",
       "</pre>\n"
      ],
      "text/plain": [
       "\u001b[2;36m                   \u001b[0m\u001b[2;36m \u001b[0m\u001b[34mINFO    \u001b[0m Slide \u001b[32m'SignStability'\u001b[0m configuration written in                             \u001b]8;id=718961;file://c:\\Users\\foler\\AppData\\Local\\Programs\\Python\\Python312\\Lib\\site-packages\\manim_slides\\slide\\base.py\u001b\\\u001b[2mbase.py\u001b[0m\u001b]8;;\u001b\\\u001b[2m:\u001b[0m\u001b]8;id=519022;file://c:\\Users\\foler\\AppData\\Local\\Programs\\Python\\Python312\\Lib\\site-packages\\manim_slides\\slide\\base.py#611\u001b\\\u001b[2m611\u001b[0m\u001b]8;;\u001b\\\n",
       "\u001b[2;36m                    \u001b[0m         \u001b[32m'c:\\Programs\\Github\\TeX-files\\Other\\diplopa-25\\manim\\slides\\SignStability.\u001b[0m \u001b[2m           \u001b[0m\n",
       "\u001b[2;36m                    \u001b[0m         \u001b[32mjson'\u001b[0m                                                                      \u001b[2m           \u001b[0m\n"
      ]
     },
     "metadata": {},
     "output_type": "display_data"
    },
    {
     "data": {
      "text/html": [
       "<pre style=\"white-space:pre;overflow-x:auto;line-height:normal;font-family:Menlo,'DejaVu Sans Mono',consolas,'Courier New',monospace\"><span style=\"color: #7fbfbf; text-decoration-color: #7fbfbf\">                    </span><span style=\"color: #008000; text-decoration-color: #008000\">INFO    </span> Slide <span style=\"color: #008000; text-decoration-color: #008000\">'SignStability'</span> configuration written in                             <a href=\"file://c:\\Users\\foler\\AppData\\Local\\Programs\\Python\\Python312\\Lib\\site-packages\\manim_slides\\slide\\base.py\" target=\"_blank\"><span style=\"color: #7f7f7f; text-decoration-color: #7f7f7f\">base.py</span></a><span style=\"color: #7f7f7f; text-decoration-color: #7f7f7f\">:</span><a href=\"file://c:\\Users\\foler\\AppData\\Local\\Programs\\Python\\Python312\\Lib\\site-packages\\manim_slides\\slide\\base.py#611\" target=\"_blank\"><span style=\"color: #7f7f7f; text-decoration-color: #7f7f7f\">611</span></a>\n",
       "<span style=\"color: #7fbfbf; text-decoration-color: #7fbfbf\">                    </span>         <span style=\"color: #008000; text-decoration-color: #008000\">'c:\\Programs\\Github\\TeX-files\\Other\\diplopa-25\\manim\\slides\\SignStability.</span> <span style=\"color: #7f7f7f; text-decoration-color: #7f7f7f\">           </span>\n",
       "<span style=\"color: #7fbfbf; text-decoration-color: #7fbfbf\">                    </span>         <span style=\"color: #008000; text-decoration-color: #008000\">json'</span>                                                                      <span style=\"color: #7f7f7f; text-decoration-color: #7f7f7f\">           </span>\n",
       "</pre>\n"
      ],
      "text/plain": [
       "\u001b[2;36m                   \u001b[0m\u001b[2;36m \u001b[0m\u001b[32mINFO    \u001b[0m Slide \u001b[32m'SignStability'\u001b[0m configuration written in                             \u001b]8;id=528099;file://c:\\Users\\foler\\AppData\\Local\\Programs\\Python\\Python312\\Lib\\site-packages\\manim_slides\\slide\\base.py\u001b\\\u001b[2mbase.py\u001b[0m\u001b]8;;\u001b\\\u001b[2m:\u001b[0m\u001b]8;id=404097;file://c:\\Users\\foler\\AppData\\Local\\Programs\\Python\\Python312\\Lib\\site-packages\\manim_slides\\slide\\base.py#611\u001b\\\u001b[2m611\u001b[0m\u001b]8;;\u001b\\\n",
       "\u001b[2;36m                    \u001b[0m         \u001b[32m'c:\\Programs\\Github\\TeX-files\\Other\\diplopa-25\\manim\\slides\\SignStability.\u001b[0m \u001b[2m           \u001b[0m\n",
       "\u001b[2;36m                    \u001b[0m         \u001b[32mjson'\u001b[0m                                                                      \u001b[2m           \u001b[0m\n"
      ]
     },
     "metadata": {},
     "output_type": "display_data"
    },
    {
     "data": {
      "text/html": [
       "<video src=\"media\\jupyter\\SignStability@2025-06-06@23-09-43.mp4\" controls autoplay loop style=\"max-width: 60%;\"  >\n",
       "      Your browser does not support the <code>video</code> element.\n",
       "    </video>"
      ],
      "text/plain": [
       "<IPython.core.display.Video object>"
      ]
     },
     "metadata": {},
     "output_type": "display_data"
    }
   ],
   "source": [
    "%%manim -qm -v WARNING SignStability\n",
    "\n",
    "class SignStability(SWSlide):    \n",
    "    def construct(self):\n",
    "        PAGE_NUM = PageNum(9)\n",
    "        self.add(PAGE_NUM)\n",
    "        \n",
    "        sign_stab = Paragraph(\n",
    "            \"Качественной устойчивостью матрицы\",\n",
    "            \"(или знак-устойчивостью) называется\",\n",
    "            \"устойчивость этой матрицы при любых\",\n",
    "            \"значениях абсолютных величин\",\n",
    "            \"её ненулевых элементов\",\n",
    "            alignment=\"center\",\n",
    "            line_spacing=0.5,\n",
    "            t2w={'Качественной устойчивостью матрицы':BOLD}\n",
    "        ).scale(0.9)\n",
    "\n",
    "        sign_stab[0].shift(0.2*UP)\n",
    "\n",
    "        ul = Underline(sign_stab[0])\n",
    "\n",
    "        anim_list = list(map(lambda x: FadeIn(x, shift=UP), sign_stab)) + [Create(ul)]\n",
    "\n",
    "        self.play(AnimationGroup(*anim_list, lag_ratio=0.1))\n",
    "        self.sw()\n",
    "\n",
    "        self.play(FadeOut(sign_stab, shift=DOWN), FadeOut(ul, shift=DOWN), PAGE_NUM.animate.bump())\n",
    "        self.sw()"
   ]
  },
  {
   "cell_type": "code",
   "execution_count": 75,
   "metadata": {},
   "outputs": [
    {
     "data": {
      "text/html": [
       "<pre style=\"white-space:pre;overflow-x:auto;line-height:normal;font-family:Menlo,'DejaVu Sans Mono',consolas,'Courier New',monospace\">Manim Community <span style=\"color: #008000; text-decoration-color: #008000\">v0.19.0</span>\n",
       "\n",
       "</pre>\n"
      ],
      "text/plain": [
       "Manim Community \u001b[32mv0.\u001b[0m\u001b[32m19.0\u001b[0m\n",
       "\n"
      ]
     },
     "metadata": {},
     "output_type": "display_data"
    },
    {
     "name": "stderr",
     "output_type": "stream",
     "text": [
      "                                                                                                                                                   \r"
     ]
    },
    {
     "data": {
      "text/html": [
       "<pre style=\"white-space:pre;overflow-x:auto;line-height:normal;font-family:Menlo,'DejaVu Sans Mono',consolas,'Courier New',monospace\"><span style=\"color: #7fbfbf; text-decoration-color: #7fbfbf\">[06/06/25 23:10:55] </span><span style=\"color: #000080; text-decoration-color: #000080\">INFO    </span> Generated <span style=\"color: #008080; text-decoration-color: #008080; font-weight: bold\">3</span> slides to                                                      <a href=\"file://c:\\Users\\foler\\AppData\\Local\\Programs\\Python\\Python312\\Lib\\site-packages\\manim_slides\\slide\\base.py\" target=\"_blank\"><span style=\"color: #7f7f7f; text-decoration-color: #7f7f7f\">base.py</span></a><span style=\"color: #7f7f7f; text-decoration-color: #7f7f7f\">:</span><a href=\"file://c:\\Users\\foler\\AppData\\Local\\Programs\\Python\\Python312\\Lib\\site-packages\\manim_slides\\slide\\base.py#599\" target=\"_blank\"><span style=\"color: #7f7f7f; text-decoration-color: #7f7f7f\">599</span></a>\n",
       "<span style=\"color: #7fbfbf; text-decoration-color: #7fbfbf\">                    </span>         <span style=\"color: #008000; text-decoration-color: #008000\">'c:\\Programs\\Github\\TeX-files\\Other\\diplopa-25\\manim\\slides\\files\\ExampleF</span> <span style=\"color: #7f7f7f; text-decoration-color: #7f7f7f\">           </span>\n",
       "<span style=\"color: #7fbfbf; text-decoration-color: #7fbfbf\">                    </span>         <span style=\"color: #008000; text-decoration-color: #008000\">low1Intro'</span>                                                                 <span style=\"color: #7f7f7f; text-decoration-color: #7f7f7f\">           </span>\n",
       "</pre>\n"
      ],
      "text/plain": [
       "\u001b[2;36m[06/06/25 23:10:55]\u001b[0m\u001b[2;36m \u001b[0m\u001b[34mINFO    \u001b[0m Generated \u001b[1;36m3\u001b[0m slides to                                                      \u001b]8;id=945651;file://c:\\Users\\foler\\AppData\\Local\\Programs\\Python\\Python312\\Lib\\site-packages\\manim_slides\\slide\\base.py\u001b\\\u001b[2mbase.py\u001b[0m\u001b]8;;\u001b\\\u001b[2m:\u001b[0m\u001b]8;id=484621;file://c:\\Users\\foler\\AppData\\Local\\Programs\\Python\\Python312\\Lib\\site-packages\\manim_slides\\slide\\base.py#599\u001b\\\u001b[2m599\u001b[0m\u001b]8;;\u001b\\\n",
       "\u001b[2;36m                    \u001b[0m         \u001b[32m'c:\\Programs\\Github\\TeX-files\\Other\\diplopa-25\\manim\\slides\\files\\ExampleF\u001b[0m \u001b[2m           \u001b[0m\n",
       "\u001b[2;36m                    \u001b[0m         \u001b[32mlow1Intro'\u001b[0m                                                                 \u001b[2m           \u001b[0m\n"
      ]
     },
     "metadata": {},
     "output_type": "display_data"
    },
    {
     "data": {
      "text/html": [
       "<pre style=\"white-space:pre;overflow-x:auto;line-height:normal;font-family:Menlo,'DejaVu Sans Mono',consolas,'Courier New',monospace\"><span style=\"color: #7fbfbf; text-decoration-color: #7fbfbf\">[06/06/25 23:10:55] </span><span style=\"color: #008000; text-decoration-color: #008000\">INFO    </span> Generated <span style=\"color: #008000; text-decoration-color: #008000\">3</span> slides to                                                      <a href=\"file://c:\\Users\\foler\\AppData\\Local\\Programs\\Python\\Python312\\Lib\\site-packages\\manim_slides\\slide\\base.py\" target=\"_blank\"><span style=\"color: #7f7f7f; text-decoration-color: #7f7f7f\">base.py</span></a><span style=\"color: #7f7f7f; text-decoration-color: #7f7f7f\">:</span><a href=\"file://c:\\Users\\foler\\AppData\\Local\\Programs\\Python\\Python312\\Lib\\site-packages\\manim_slides\\slide\\base.py#599\" target=\"_blank\"><span style=\"color: #7f7f7f; text-decoration-color: #7f7f7f\">599</span></a>\n",
       "<span style=\"color: #7fbfbf; text-decoration-color: #7fbfbf\">                    </span>         <span style=\"color: #008000; text-decoration-color: #008000\">'c:\\Programs\\Github\\TeX-files\\Other\\diplopa-25\\manim\\slides\\files\\ExampleF</span> <span style=\"color: #7f7f7f; text-decoration-color: #7f7f7f\">           </span>\n",
       "<span style=\"color: #7fbfbf; text-decoration-color: #7fbfbf\">                    </span>         <span style=\"color: #008000; text-decoration-color: #008000\">low1Intro'</span>                                                                 <span style=\"color: #7f7f7f; text-decoration-color: #7f7f7f\">           </span>\n",
       "</pre>\n"
      ],
      "text/plain": [
       "\u001b[2;36m[06/06/25 23:10:55]\u001b[0m\u001b[2;36m \u001b[0m\u001b[32mINFO    \u001b[0m Generated \u001b[32m3\u001b[0m slides to                                                      \u001b]8;id=486634;file://c:\\Users\\foler\\AppData\\Local\\Programs\\Python\\Python312\\Lib\\site-packages\\manim_slides\\slide\\base.py\u001b\\\u001b[2mbase.py\u001b[0m\u001b]8;;\u001b\\\u001b[2m:\u001b[0m\u001b]8;id=369843;file://c:\\Users\\foler\\AppData\\Local\\Programs\\Python\\Python312\\Lib\\site-packages\\manim_slides\\slide\\base.py#599\u001b\\\u001b[2m599\u001b[0m\u001b]8;;\u001b\\\n",
       "\u001b[2;36m                    \u001b[0m         \u001b[32m'c:\\Programs\\Github\\TeX-files\\Other\\diplopa-25\\manim\\slides\\files\\ExampleF\u001b[0m \u001b[2m           \u001b[0m\n",
       "\u001b[2;36m                    \u001b[0m         \u001b[32mlow1Intro'\u001b[0m                                                                 \u001b[2m           \u001b[0m\n"
      ]
     },
     "metadata": {},
     "output_type": "display_data"
    },
    {
     "data": {
      "text/html": [
       "<pre style=\"white-space:pre;overflow-x:auto;line-height:normal;font-family:Menlo,'DejaVu Sans Mono',consolas,'Courier New',monospace\"><span style=\"color: #7fbfbf; text-decoration-color: #7fbfbf\">                    </span><span style=\"color: #000080; text-decoration-color: #000080\">INFO    </span> Slide <span style=\"color: #008000; text-decoration-color: #008000\">'ExampleFlow1Intro'</span> configuration written in                         <a href=\"file://c:\\Users\\foler\\AppData\\Local\\Programs\\Python\\Python312\\Lib\\site-packages\\manim_slides\\slide\\base.py\" target=\"_blank\"><span style=\"color: #7f7f7f; text-decoration-color: #7f7f7f\">base.py</span></a><span style=\"color: #7f7f7f; text-decoration-color: #7f7f7f\">:</span><a href=\"file://c:\\Users\\foler\\AppData\\Local\\Programs\\Python\\Python312\\Lib\\site-packages\\manim_slides\\slide\\base.py#611\" target=\"_blank\"><span style=\"color: #7f7f7f; text-decoration-color: #7f7f7f\">611</span></a>\n",
       "<span style=\"color: #7fbfbf; text-decoration-color: #7fbfbf\">                    </span>         <span style=\"color: #008000; text-decoration-color: #008000\">'c:\\Programs\\Github\\TeX-files\\Other\\diplopa-25\\manim\\slides\\ExampleFlow1In</span> <span style=\"color: #7f7f7f; text-decoration-color: #7f7f7f\">           </span>\n",
       "<span style=\"color: #7fbfbf; text-decoration-color: #7fbfbf\">                    </span>         <span style=\"color: #008000; text-decoration-color: #008000\">tro.json'</span>                                                                  <span style=\"color: #7f7f7f; text-decoration-color: #7f7f7f\">           </span>\n",
       "</pre>\n"
      ],
      "text/plain": [
       "\u001b[2;36m                   \u001b[0m\u001b[2;36m \u001b[0m\u001b[34mINFO    \u001b[0m Slide \u001b[32m'ExampleFlow1Intro'\u001b[0m configuration written in                         \u001b]8;id=897346;file://c:\\Users\\foler\\AppData\\Local\\Programs\\Python\\Python312\\Lib\\site-packages\\manim_slides\\slide\\base.py\u001b\\\u001b[2mbase.py\u001b[0m\u001b]8;;\u001b\\\u001b[2m:\u001b[0m\u001b]8;id=128614;file://c:\\Users\\foler\\AppData\\Local\\Programs\\Python\\Python312\\Lib\\site-packages\\manim_slides\\slide\\base.py#611\u001b\\\u001b[2m611\u001b[0m\u001b]8;;\u001b\\\n",
       "\u001b[2;36m                    \u001b[0m         \u001b[32m'c:\\Programs\\Github\\TeX-files\\Other\\diplopa-25\\manim\\slides\\ExampleFlow1In\u001b[0m \u001b[2m           \u001b[0m\n",
       "\u001b[2;36m                    \u001b[0m         \u001b[32mtro.json'\u001b[0m                                                                  \u001b[2m           \u001b[0m\n"
      ]
     },
     "metadata": {},
     "output_type": "display_data"
    },
    {
     "data": {
      "text/html": [
       "<pre style=\"white-space:pre;overflow-x:auto;line-height:normal;font-family:Menlo,'DejaVu Sans Mono',consolas,'Courier New',monospace\"><span style=\"color: #7fbfbf; text-decoration-color: #7fbfbf\">                    </span><span style=\"color: #008000; text-decoration-color: #008000\">INFO    </span> Slide <span style=\"color: #008000; text-decoration-color: #008000\">'ExampleFlow1Intro'</span> configuration written in                         <a href=\"file://c:\\Users\\foler\\AppData\\Local\\Programs\\Python\\Python312\\Lib\\site-packages\\manim_slides\\slide\\base.py\" target=\"_blank\"><span style=\"color: #7f7f7f; text-decoration-color: #7f7f7f\">base.py</span></a><span style=\"color: #7f7f7f; text-decoration-color: #7f7f7f\">:</span><a href=\"file://c:\\Users\\foler\\AppData\\Local\\Programs\\Python\\Python312\\Lib\\site-packages\\manim_slides\\slide\\base.py#611\" target=\"_blank\"><span style=\"color: #7f7f7f; text-decoration-color: #7f7f7f\">611</span></a>\n",
       "<span style=\"color: #7fbfbf; text-decoration-color: #7fbfbf\">                    </span>         <span style=\"color: #008000; text-decoration-color: #008000\">'c:\\Programs\\Github\\TeX-files\\Other\\diplopa-25\\manim\\slides\\ExampleFlow1In</span> <span style=\"color: #7f7f7f; text-decoration-color: #7f7f7f\">           </span>\n",
       "<span style=\"color: #7fbfbf; text-decoration-color: #7fbfbf\">                    </span>         <span style=\"color: #008000; text-decoration-color: #008000\">tro.json'</span>                                                                  <span style=\"color: #7f7f7f; text-decoration-color: #7f7f7f\">           </span>\n",
       "</pre>\n"
      ],
      "text/plain": [
       "\u001b[2;36m                   \u001b[0m\u001b[2;36m \u001b[0m\u001b[32mINFO    \u001b[0m Slide \u001b[32m'ExampleFlow1Intro'\u001b[0m configuration written in                         \u001b]8;id=641512;file://c:\\Users\\foler\\AppData\\Local\\Programs\\Python\\Python312\\Lib\\site-packages\\manim_slides\\slide\\base.py\u001b\\\u001b[2mbase.py\u001b[0m\u001b]8;;\u001b\\\u001b[2m:\u001b[0m\u001b]8;id=81558;file://c:\\Users\\foler\\AppData\\Local\\Programs\\Python\\Python312\\Lib\\site-packages\\manim_slides\\slide\\base.py#611\u001b\\\u001b[2m611\u001b[0m\u001b]8;;\u001b\\\n",
       "\u001b[2;36m                    \u001b[0m         \u001b[32m'c:\\Programs\\Github\\TeX-files\\Other\\diplopa-25\\manim\\slides\\ExampleFlow1In\u001b[0m \u001b[2m           \u001b[0m\n",
       "\u001b[2;36m                    \u001b[0m         \u001b[32mtro.json'\u001b[0m                                                                  \u001b[2m           \u001b[0m\n"
      ]
     },
     "metadata": {},
     "output_type": "display_data"
    },
    {
     "data": {
      "text/html": [
       "<video src=\"media\\jupyter\\ExampleFlow1Intro@2025-06-06@23-10-55.mp4\" controls autoplay loop style=\"max-width: 60%;\"  >\n",
       "      Your browser does not support the <code>video</code> element.\n",
       "    </video>"
      ],
      "text/plain": [
       "<IPython.core.display.Video object>"
      ]
     },
     "metadata": {},
     "output_type": "display_data"
    }
   ],
   "source": [
    "%%manim -qm -v WARNING ExampleFlow1Intro\n",
    "\n",
    "class ExampleFlow1Intro(SWSlide):    \n",
    "    def construct(self):\n",
    "        PAGE_NUM = PageNum(10)\n",
    "        self.add(PAGE_NUM)\n",
    "        title = Title2(\"Пример проточной цепи\")\n",
    "\n",
    "        tab_param = MathTable(\n",
    "            [[\"i\", 0, 1, 2, 3],\n",
    "            [r\"\\alpha_i\", 20, 16, 12, 8],\n",
    "            [r\"k_i\", \"\", 0.3, 0.2, 0.1],\n",
    "            [r\"m_i\", \"\", 4, 3,2]],\n",
    "            # include_outer_lines=True\n",
    "        )\n",
    "\n",
    "        anim_list = [Write(title, run_time=1), FadeIn(tab_param, rate_func=rate_functions.ease_out_sine, run_time=2)]\n",
    "\n",
    "        self.play( AnimationGroup(*anim_list, lag_ratio=0.2) )\n",
    "        self.sw()\n",
    "\n",
    "        line = NumberLine(\n",
    "            x_range=[0, 120, 10],\n",
    "            length=12,\n",
    "            numbers_to_include=[0],\n",
    "            numbers_with_elongated_ticks=[0],\n",
    "            include_tip=True,\n",
    "            include_numbers=True,\n",
    "            font_size=40,\n",
    "        )\n",
    "\n",
    "        d_vals = {12.5: MathTex(r\"12.5\"), 95.83: MathTex(r\"95.83\\ldots\")}\n",
    "        line.add_labels(d_vals)\n",
    "        for x in d_vals.keys():\n",
    "            line.add(line.get_tick(x, line.tick_size * 2))\n",
    "\n",
    "        Q = MathTex(\"Q\").next_to(line, RIGHT).shift(0.2*UP)\n",
    "\n",
    "        sig_stab = Paragraph(\n",
    "            \"Проточная цепь качественно устойчива\",\n",
    "            \"Длина зависит от входящей энергии\",\n",
    "            alignment=\"center\",\n",
    "            line_spacing=1\n",
    "        ).scale(0.9).to_corner(UP)\n",
    "\n",
    "        self.play(FadeOut(title, shift=UP), FadeOut(tab_param, shift=DOWN))\n",
    "        self.play(FadeIn(sig_stab, shift=DOWN), Write(line), Write(Q), PAGE_NUM.animate.bump())\n",
    "        # self.sw()\n",
    "\n",
    "        points = [0, 12.5, 95.83, 140]\n",
    "        ii = [1, 2, 3]\n",
    "\n",
    "        shift = 0.2\n",
    "        braces = VGroup(\n",
    "            VGroup(\n",
    "                b := BraceBetweenPoints(*line.n2p([p1+shift, p2-shift]), UP).set_color(YELLOW),\n",
    "                MathTex(fr\"q = {i}\").next_to(b, UP)\n",
    "            ).shift(0.1 * UP)\n",
    "            for p1, p2, i in zip(points[:-1], points[1:], ii)\n",
    "        )\n",
    "\n",
    "        anim_list = list(map(lambda x: FadeIn(x, shift=DOWN), braces))\n",
    "\n",
    "        self.play(AnimationGroup(*anim_list, lag_ratio=0.2))\n",
    "        self.sw()\n",
    "\n",
    "        self.play(\n",
    "            FadeOut(braces, shift=DOWN),\n",
    "            FadeOut(line, shift=DOWN),\n",
    "            FadeOut(Q, shift=DOWN),\n",
    "            FadeOut(sig_stab, shift=UP),\n",
    "            PAGE_NUM.animate.bump()\n",
    "        )\n",
    "        self.sw()"
   ]
  },
  {
   "cell_type": "code",
   "execution_count": null,
   "metadata": {},
   "outputs": [
    {
     "data": {
      "text/html": [
       "<pre style=\"white-space:pre;overflow-x:auto;line-height:normal;font-family:Menlo,'DejaVu Sans Mono',consolas,'Courier New',monospace\">Manim Community <span style=\"color: #008000; text-decoration-color: #008000\">v0.19.0</span>\n",
       "\n",
       "</pre>\n"
      ],
      "text/plain": [
       "Manim Community \u001b[32mv0.\u001b[0m\u001b[32m19.0\u001b[0m\n",
       "\n"
      ]
     },
     "metadata": {},
     "output_type": "display_data"
    },
    {
     "name": "stderr",
     "output_type": "stream",
     "text": [
      "                                                                                                                                              \r"
     ]
    },
    {
     "ename": "ValueError",
     "evalue": "[Errno 22] Invalid argument: 'slides\\\\files\\\\ExampleFlow1\\\\66229f05d32569e985c7060680d53a2121a37608743819c3685b89f040c41b14_reversed.mp4'",
     "output_type": "error",
     "traceback": [
      "\u001b[31m---------------------------------------------------------------------------\u001b[39m",
      "\u001b[31mValueError\u001b[39m                                Traceback (most recent call last)",
      "\u001b[36mCell\u001b[39m\u001b[36m \u001b[39m\u001b[32mIn[5]\u001b[39m\u001b[32m, line 1\u001b[39m\n\u001b[32m----> \u001b[39m\u001b[32m1\u001b[39m \u001b[43mget_ipython\u001b[49m\u001b[43m(\u001b[49m\u001b[43m)\u001b[49m\u001b[43m.\u001b[49m\u001b[43mrun_cell_magic\u001b[49m\u001b[43m(\u001b[49m\u001b[33;43m'\u001b[39;49m\u001b[33;43mmanim\u001b[39;49m\u001b[33;43m'\u001b[39;49m\u001b[43m,\u001b[49m\u001b[43m \u001b[49m\u001b[33;43m'\u001b[39;49m\u001b[33;43m-ql -v WARNING ExampleFlow1\u001b[39;49m\u001b[33;43m'\u001b[39;49m\u001b[43m,\u001b[49m\u001b[43m \u001b[49m\u001b[33;43m'\u001b[39;49m\u001b[38;5;130;43;01m\\n\u001b[39;49;00m\u001b[33;43mclass ExampleFlow1(SWSlide):\u001b[39;49m\u001b[38;5;130;43;01m\\n\u001b[39;49;00m\u001b[33;43m    def construct(self):\u001b[39;49m\u001b[38;5;130;43;01m\\n\u001b[39;49;00m\u001b[33;43m        def get_graph_points(data_main: DataClass, func_v, y0) -> VGroup:\u001b[39;49m\u001b[38;5;130;43;01m\\n\u001b[39;49;00m\u001b[33;43m            data = data_main.with_Q(Q.tracker.get_value())\u001b[39;49m\u001b[38;5;130;43;01m\\n\u001b[39;49;00m\u001b[33;43m            \u001b[39;49m\u001b[38;5;130;43;01m\\n\u001b[39;49;00m\u001b[33;43m            right_flow = get_right_flow(func_v, data)\u001b[39;49m\u001b[38;5;130;43;01m\\n\u001b[39;49;00m\u001b[38;5;130;43;01m\\n\u001b[39;49;00m\u001b[33;43m            h = 0.01\u001b[39;49m\u001b[38;5;130;43;01m\\n\u001b[39;49;00m\u001b[33;43m            X, Y = runge_kutta(\u001b[39;49m\u001b[38;5;130;43;01m\\n\u001b[39;49;00m\u001b[33;43m                function=right_flow,\u001b[39;49m\u001b[38;5;130;43;01m\\n\u001b[39;49;00m\u001b[33;43m                time_space_params=(x_max.get_value(), h),\u001b[39;49m\u001b[38;5;130;43;01m\\n\u001b[39;49;00m\u001b[33;43m                y0=y0\u001b[39;49m\u001b[38;5;130;43;01m\\n\u001b[39;49;00m\u001b[33;43m            )\u001b[39;49m\u001b[38;5;130;43;01m\\n\u001b[39;49;00m\u001b[38;5;130;43;01m\\n\u001b[39;49;00m\u001b[33;43m            _axes = Axes(\u001b[39;49m\u001b[38;5;130;43;01m\\n\u001b[39;49;00m\u001b[33;43m                x_range=[0, x_max.get_value()],\u001b[39;49m\u001b[38;5;130;43;01m\\n\u001b[39;49;00m\u001b[33;43m                y_range=[0, y_max.get_value()]\u001b[39;49m\u001b[38;5;130;43;01m\\n\u001b[39;49;00m\u001b[33;43m            )\u001b[39;49m\u001b[38;5;130;43;01m\\n\u001b[39;49;00m\u001b[38;5;130;43;01m\\n\u001b[39;49;00m\u001b[33;43m            return VGroup(*[ \u001b[39;49m\u001b[38;5;130;43;01m\\n\u001b[39;49;00m\u001b[33;43m                VMobject().set_points_as_corners(_axes.c2p(np.matrix([X, y_i]).T)).set_color(clr)\u001b[39;49m\u001b[38;5;130;43;01m\\n\u001b[39;49;00m\u001b[33;43m                for y_i, clr in zip(Y.T, colors)\u001b[39;49m\u001b[38;5;130;43;01m\\n\u001b[39;49;00m\u001b[33;43m            ], *[\u001b[39;49m\u001b[38;5;130;43;01m\\n\u001b[39;49;00m\u001b[33;43m                DecimalNumber(y_i[-1], num_decimal_places=3).move_to(_axes.c2p(X[-1], y_i[-1])).shift(UP/4).set_color(clr)\u001b[39;49m\u001b[38;5;130;43;01m\\n\u001b[39;49;00m\u001b[33;43m                for y_i, clr in zip(Y.T, colors)\u001b[39;49m\u001b[38;5;130;43;01m\\n\u001b[39;49;00m\u001b[33;43m            ])\u001b[39;49m\u001b[38;5;130;43;01m\\n\u001b[39;49;00m\u001b[33;43m        \u001b[39;49m\u001b[38;5;130;43;01m\\n\u001b[39;49;00m\u001b[33;43m        x_max = ValueTracker(100)\u001b[39;49m\u001b[38;5;130;43;01m\\n\u001b[39;49;00m\u001b[33;43m        y_max = ValueTracker(10)\u001b[39;49m\u001b[38;5;130;43;01m\\n\u001b[39;49;00m\u001b[33;43m        Q = Variable(0.5, \u001b[39;49m\u001b[33;43m\"\u001b[39;49m\u001b[33;43mQ\u001b[39;49m\u001b[33;43m\"\u001b[39;49m\u001b[33;43m, num_decimal_places=2).to_corner(UP)\u001b[39;49m\u001b[38;5;130;43;01m\\n\u001b[39;49;00m\u001b[33;43m        Q.value.group_with_commas=False\u001b[39;49m\u001b[38;5;130;43;01m\\n\u001b[39;49;00m\u001b[38;5;130;43;01m\\n\u001b[39;49;00m\u001b[33;43m        axes = always_redraw(lambda: Axes(\u001b[39;49m\u001b[38;5;130;43;01m\\n\u001b[39;49;00m\u001b[33;43m            x_range=[0, x_max.get_value(), x_max.get_value()//10],\u001b[39;49m\u001b[38;5;130;43;01m\\n\u001b[39;49;00m\u001b[33;43m            y_range=[0, y_max.get_value(), max(0.5, y_max.get_value()//4)],\u001b[39;49m\u001b[38;5;130;43;01m\\n\u001b[39;49;00m\u001b[33;43m            ).add_coordinates()\u001b[39;49m\u001b[38;5;130;43;01m\\n\u001b[39;49;00m\u001b[33;43m        )\u001b[39;49m\u001b[38;5;130;43;01m\\n\u001b[39;49;00m\u001b[38;5;130;43;01m\\n\u001b[39;49;00m\u001b[33;43m        x_label = axes.get_x_axis_label(\u001b[39;49m\u001b[33;43m\"\u001b[39;49m\u001b[33;43mt\u001b[39;49m\u001b[33;43m\"\u001b[39;49m\u001b[33;43m, edge=RIGHT, direction=DR)\u001b[39;49m\u001b[38;5;130;43;01m\\n\u001b[39;49;00m\u001b[33;43m        y_label = axes.get_y_axis_label(\u001b[39;49m\u001b[33;43m\"\u001b[39;49m\u001b[33;43mN\u001b[39;49m\u001b[33;43m\"\u001b[39;49m\u001b[33;43m, edge=UP, direction=UL)\u001b[39;49m\u001b[38;5;130;43;01m\\n\u001b[39;49;00m\u001b[33;43m        axes_labels = VGroup(x_label, y_label)\u001b[39;49m\u001b[38;5;130;43;01m\\n\u001b[39;49;00m\u001b[38;5;130;43;01m\\n\u001b[39;49;00m\u001b[33;43m        PAGE_NUM = PageNum(12)\u001b[39;49m\u001b[38;5;130;43;01m\\n\u001b[39;49;00m\u001b[38;5;130;43;01m\\n\u001b[39;49;00m\u001b[33;43m        self.add(axes, axes_labels, Q, PAGE_NUM)\u001b[39;49m\u001b[38;5;130;43;01m\\n\u001b[39;49;00m\u001b[33;43m        self.play(Write(axes), Write(axes_labels), Write(Q), PAGE_NUM.animate.shift(0.5*DR))\u001b[39;49m\u001b[38;5;130;43;01m\\n\u001b[39;49;00m\u001b[33;43m        self.sw()\u001b[39;49m\u001b[38;5;130;43;01m\\n\u001b[39;49;00m\u001b[38;5;130;43;01m\\n\u001b[39;49;00m\u001b[33;43m        data = DataClass.get_example1()\u001b[39;49m\u001b[38;5;130;43;01m\\n\u001b[39;49;00m\u001b[33;43m        y0 = (2,)*data.n\u001b[39;49m\u001b[38;5;130;43;01m\\n\u001b[39;49;00m\u001b[33;43m        \u001b[39;49m\u001b[38;5;130;43;01m\\n\u001b[39;49;00m\u001b[33;43m        curves = always_redraw(lambda: get_graph_points(data, identity, y0))\u001b[39;49m\u001b[38;5;130;43;01m\\n\u001b[39;49;00m\u001b[38;5;130;43;01m\\n\u001b[39;49;00m\u001b[33;43m        \u001b[39;49m\u001b[38;5;130;43;01m\\n\u001b[39;49;00m\u001b[33;43m        species = VGroup(*[\u001b[39;49m\u001b[38;5;130;43;01m\\n\u001b[39;49;00m\u001b[33;43m            MathTex(f\u001b[39;49m\u001b[33;43m\"\u001b[39;49m\u001b[33;43mN_\u001b[39;49m\u001b[38;5;132;43;01m{i}\u001b[39;49;00m\u001b[33;43m\"\u001b[39;49m\u001b[33;43m).set_color(c) for i, c in enumerate(colors[:data.n])\u001b[39;49m\u001b[38;5;130;43;01m\\n\u001b[39;49;00m\u001b[33;43m        ]).arrange().to_corner(UR)\u001b[39;49m\u001b[38;5;130;43;01m\\n\u001b[39;49;00m\u001b[38;5;130;43;01m\\n\u001b[39;49;00m\u001b[33;43m        self.play(\u001b[39;49m\u001b[38;5;130;43;01m\\n\u001b[39;49;00m\u001b[33;43m            Succession(\u001b[39;49m\u001b[38;5;130;43;01m\\n\u001b[39;49;00m\u001b[33;43m                Create(curves[:4], run_time=3),\u001b[39;49m\u001b[38;5;130;43;01m\\n\u001b[39;49;00m\u001b[33;43m                Write(curves[4:], run_time=1)\u001b[39;49m\u001b[38;5;130;43;01m\\n\u001b[39;49;00m\u001b[33;43m            ),\u001b[39;49m\u001b[38;5;130;43;01m\\n\u001b[39;49;00m\u001b[33;43m            Write(species, run_time=1)\u001b[39;49m\u001b[38;5;130;43;01m\\n\u001b[39;49;00m\u001b[33;43m        )\u001b[39;49m\u001b[38;5;130;43;01m\\n\u001b[39;49;00m\u001b[33;43m        self.add(curves, species)\u001b[39;49m\u001b[38;5;130;43;01m\\n\u001b[39;49;00m\u001b[33;43m        self.sw()\u001b[39;49m\u001b[38;5;130;43;01m\\n\u001b[39;49;00m\u001b[38;5;130;43;01m\\n\u001b[39;49;00m\u001b[33;43m        self.play(\u001b[39;49m\u001b[38;5;130;43;01m\\n\u001b[39;49;00m\u001b[33;43m            Q.tracker.animate.set_value(12), \u001b[39;49m\u001b[38;5;130;43;01m\\n\u001b[39;49;00m\u001b[33;43m            run_time=4\u001b[39;49m\u001b[38;5;130;43;01m\\n\u001b[39;49;00m\u001b[33;43m        )\u001b[39;49m\u001b[38;5;130;43;01m\\n\u001b[39;49;00m\u001b[33;43m        self.sw()\u001b[39;49m\u001b[38;5;130;43;01m\\n\u001b[39;49;00m\u001b[33;43m        \u001b[39;49m\u001b[38;5;130;43;01m\\n\u001b[39;49;00m\u001b[33;43m        # self.play(\u001b[39;49m\u001b[38;5;130;43;01m\\n\u001b[39;49;00m\u001b[33;43m        #     x_max.animate.set_value(100),\u001b[39;49m\u001b[38;5;130;43;01m\\n\u001b[39;49;00m\u001b[33;43m        #     y_max.animate.set_value(1), \u001b[39;49m\u001b[38;5;130;43;01m\\n\u001b[39;49;00m\u001b[33;43m        #     run_time=2\u001b[39;49m\u001b[38;5;130;43;01m\\n\u001b[39;49;00m\u001b[33;43m        # )\u001b[39;49m\u001b[38;5;130;43;01m\\n\u001b[39;49;00m\u001b[33;43m        # self.sw()\u001b[39;49m\u001b[38;5;130;43;01m\\n\u001b[39;49;00m\u001b[33;43m        # self.play(\u001b[39;49m\u001b[38;5;130;43;01m\\n\u001b[39;49;00m\u001b[33;43m        #     Q.tracker.animate.set_value(13), \u001b[39;49m\u001b[38;5;130;43;01m\\n\u001b[39;49;00m\u001b[33;43m        #     run_time=2\u001b[39;49m\u001b[38;5;130;43;01m\\n\u001b[39;49;00m\u001b[33;43m        # )\u001b[39;49m\u001b[38;5;130;43;01m\\n\u001b[39;49;00m\u001b[33;43m        # self.sw()        \u001b[39;49m\u001b[38;5;130;43;01m\\n\u001b[39;49;00m\u001b[33;43m        \u001b[39;49m\u001b[38;5;130;43;01m\\n\u001b[39;49;00m\u001b[33;43m        # self.play(\u001b[39;49m\u001b[38;5;130;43;01m\\n\u001b[39;49;00m\u001b[33;43m        #     y_max.animate.set_value(6), \u001b[39;49m\u001b[38;5;130;43;01m\\n\u001b[39;49;00m\u001b[33;43m        #     run_time=2\u001b[39;49m\u001b[38;5;130;43;01m\\n\u001b[39;49;00m\u001b[33;43m        # )\u001b[39;49m\u001b[38;5;130;43;01m\\n\u001b[39;49;00m\u001b[33;43m        # self.sw()\u001b[39;49m\u001b[38;5;130;43;01m\\n\u001b[39;49;00m\u001b[33;43m        # self.play(\u001b[39;49m\u001b[38;5;130;43;01m\\n\u001b[39;49;00m\u001b[33;43m        #     Q.tracker.animate.set_value(95), \u001b[39;49m\u001b[38;5;130;43;01m\\n\u001b[39;49;00m\u001b[33;43m        #     run_time=5\u001b[39;49m\u001b[38;5;130;43;01m\\n\u001b[39;49;00m\u001b[33;43m        # )\u001b[39;49m\u001b[38;5;130;43;01m\\n\u001b[39;49;00m\u001b[33;43m        # self.sw()\u001b[39;49m\u001b[38;5;130;43;01m\\n\u001b[39;49;00m\u001b[38;5;130;43;01m\\n\u001b[39;49;00m\u001b[33;43m        # self.play(\u001b[39;49m\u001b[38;5;130;43;01m\\n\u001b[39;49;00m\u001b[33;43m        #     Q.tracker.animate.set_value(100), \u001b[39;49m\u001b[38;5;130;43;01m\\n\u001b[39;49;00m\u001b[33;43m        #     run_time=2\u001b[39;49m\u001b[38;5;130;43;01m\\n\u001b[39;49;00m\u001b[33;43m        # )\u001b[39;49m\u001b[38;5;130;43;01m\\n\u001b[39;49;00m\u001b[33;43m        # self.sw()        \u001b[39;49m\u001b[38;5;130;43;01m\\n\u001b[39;49;00m\u001b[33;43m        # self.play(\u001b[39;49m\u001b[38;5;130;43;01m\\n\u001b[39;49;00m\u001b[33;43m        #     x_max.animate.set_value(20),\u001b[39;49m\u001b[38;5;130;43;01m\\n\u001b[39;49;00m\u001b[33;43m        #     y_max.animate.set_value(15), \u001b[39;49m\u001b[38;5;130;43;01m\\n\u001b[39;49;00m\u001b[33;43m        #     run_time=2\u001b[39;49m\u001b[38;5;130;43;01m\\n\u001b[39;49;00m\u001b[33;43m        # )\u001b[39;49m\u001b[38;5;130;43;01m\\n\u001b[39;49;00m\u001b[33;43m        # self.sw()\u001b[39;49m\u001b[38;5;130;43;01m\\n\u001b[39;49;00m\u001b[33;43m        # self.play(\u001b[39;49m\u001b[38;5;130;43;01m\\n\u001b[39;49;00m\u001b[33;43m        #     Q.tracker.animate.set_value(1000), \u001b[39;49m\u001b[38;5;130;43;01m\\n\u001b[39;49;00m\u001b[33;43m        #     run_time=5\u001b[39;49m\u001b[38;5;130;43;01m\\n\u001b[39;49;00m\u001b[33;43m        # )\u001b[39;49m\u001b[38;5;130;43;01m\\n\u001b[39;49;00m\u001b[33;43m        # self.sw()\u001b[39;49m\u001b[38;5;130;43;01m\\n\u001b[39;49;00m\u001b[33;43m        # self.play(\u001b[39;49m\u001b[38;5;130;43;01m\\n\u001b[39;49;00m\u001b[33;43m        #     Uncreate(axes),\u001b[39;49m\u001b[38;5;130;43;01m\\n\u001b[39;49;00m\u001b[33;43m        #     Uncreate(curves[:4]),\u001b[39;49m\u001b[38;5;130;43;01m\\n\u001b[39;49;00m\u001b[33;43m        #     Unwrite(curves[4:]),\u001b[39;49m\u001b[38;5;130;43;01m\\n\u001b[39;49;00m\u001b[33;43m        #     Unwrite(axes_labels),\u001b[39;49m\u001b[38;5;130;43;01m\\n\u001b[39;49;00m\u001b[33;43m        #     Unwrite(Q),\u001b[39;49m\u001b[38;5;130;43;01m\\n\u001b[39;49;00m\u001b[33;43m        #     Unwrite(species),\u001b[39;49m\u001b[38;5;130;43;01m\\n\u001b[39;49;00m\u001b[33;43m        #     run_time=2\u001b[39;49m\u001b[38;5;130;43;01m\\n\u001b[39;49;00m\u001b[33;43m        # )\u001b[39;49m\u001b[38;5;130;43;01m\\n\u001b[39;49;00m\u001b[33;43m        # self.sw()\u001b[39;49m\u001b[38;5;130;43;01m\\n\u001b[39;49;00m\u001b[33;43m'\u001b[39;49m\u001b[43m)\u001b[49m\n",
      "\u001b[36mFile \u001b[39m\u001b[32m~\\AppData\\Roaming\\Python\\Python312\\site-packages\\IPython\\core\\interactiveshell.py:2539\u001b[39m, in \u001b[36mInteractiveShell.run_cell_magic\u001b[39m\u001b[34m(self, magic_name, line, cell)\u001b[39m\n\u001b[32m   2537\u001b[39m \u001b[38;5;28;01mwith\u001b[39;00m \u001b[38;5;28mself\u001b[39m.builtin_trap:\n\u001b[32m   2538\u001b[39m     args = (magic_arg_s, cell)\n\u001b[32m-> \u001b[39m\u001b[32m2539\u001b[39m     result = \u001b[43mfn\u001b[49m\u001b[43m(\u001b[49m\u001b[43m*\u001b[49m\u001b[43margs\u001b[49m\u001b[43m,\u001b[49m\u001b[43m \u001b[49m\u001b[43m*\u001b[49m\u001b[43m*\u001b[49m\u001b[43mkwargs\u001b[49m\u001b[43m)\u001b[49m\n\u001b[32m   2541\u001b[39m \u001b[38;5;66;03m# The code below prevents the output from being displayed\u001b[39;00m\n\u001b[32m   2542\u001b[39m \u001b[38;5;66;03m# when using magics with decorator @output_can_be_silenced\u001b[39;00m\n\u001b[32m   2543\u001b[39m \u001b[38;5;66;03m# when the last Python token in the expression is a ';'.\u001b[39;00m\n\u001b[32m   2544\u001b[39m \u001b[38;5;28;01mif\u001b[39;00m \u001b[38;5;28mgetattr\u001b[39m(fn, magic.MAGIC_OUTPUT_CAN_BE_SILENCED, \u001b[38;5;28;01mFalse\u001b[39;00m):\n",
      "\u001b[36mFile \u001b[39m\u001b[32mc:\\Users\\foler\\AppData\\Local\\Programs\\Python\\Python312\\Lib\\site-packages\\manim\\utils\\ipython_magic.py:143\u001b[39m, in \u001b[36mManimMagic.manim\u001b[39m\u001b[34m(self, line, cell, local_ns)\u001b[39m\n\u001b[32m    141\u001b[39m     SceneClass = local_ns[config[\u001b[33m\"\u001b[39m\u001b[33mscene_names\u001b[39m\u001b[33m\"\u001b[39m][\u001b[32m0\u001b[39m]]\n\u001b[32m    142\u001b[39m     scene = SceneClass(renderer=renderer)\n\u001b[32m--> \u001b[39m\u001b[32m143\u001b[39m     \u001b[43mscene\u001b[49m\u001b[43m.\u001b[49m\u001b[43mrender\u001b[49m\u001b[43m(\u001b[49m\u001b[43m)\u001b[49m\n\u001b[32m    144\u001b[39m \u001b[38;5;28;01mfinally\u001b[39;00m:\n\u001b[32m    145\u001b[39m     \u001b[38;5;66;03m# Shader cache becomes invalid as the context is destroyed\u001b[39;00m\n\u001b[32m    146\u001b[39m     shader_program_cache.clear()\n",
      "\u001b[36mFile \u001b[39m\u001b[32mc:\\Users\\foler\\AppData\\Local\\Programs\\Python\\Python312\\Lib\\site-packages\\manim_slides\\slide\\manim.py:167\u001b[39m, in \u001b[36mSlide.render\u001b[39m\u001b[34m(self, *args, **kwargs)\u001b[39m\n\u001b[32m    163\u001b[39m \u001b[38;5;28msuper\u001b[39m().render(*args, **kwargs)\n\u001b[32m    165\u001b[39m config[\u001b[33m\"\u001b[39m\u001b[33mmax_files_cached\u001b[39m\u001b[33m\"\u001b[39m] = max_files_cached\n\u001b[32m--> \u001b[39m\u001b[32m167\u001b[39m \u001b[38;5;28;43mself\u001b[39;49m\u001b[43m.\u001b[49m\u001b[43m_save_slides\u001b[49m\u001b[43m(\u001b[49m\n\u001b[32m    168\u001b[39m \u001b[43m    \u001b[49m\u001b[43muse_cache\u001b[49m\u001b[43m=\u001b[49m\u001b[38;5;129;43;01mnot\u001b[39;49;00m\u001b[43m \u001b[49m\u001b[43m(\u001b[49m\u001b[43mconfig\u001b[49m\u001b[43m[\u001b[49m\u001b[33;43m\"\u001b[39;49m\u001b[33;43mdisable_caching\u001b[39;49m\u001b[33;43m\"\u001b[39;49m\u001b[43m]\u001b[49m\u001b[43m \u001b[49m\u001b[38;5;129;43;01mor\u001b[39;49;00m\u001b[43m \u001b[49m\u001b[38;5;28;43mself\u001b[39;49m\u001b[43m.\u001b[49m\u001b[43mdisable_caching\u001b[49m\u001b[43m)\u001b[49m\u001b[43m,\u001b[49m\n\u001b[32m    169\u001b[39m \u001b[43m    \u001b[49m\u001b[43mflush_cache\u001b[49m\u001b[43m=\u001b[49m\u001b[43m(\u001b[49m\u001b[43mconfig\u001b[49m\u001b[43m[\u001b[49m\u001b[33;43m\"\u001b[39;49m\u001b[33;43mflush_cache\u001b[39;49m\u001b[33;43m\"\u001b[39;49m\u001b[43m]\u001b[49m\u001b[43m \u001b[49m\u001b[38;5;129;43;01mor\u001b[39;49;00m\u001b[43m \u001b[49m\u001b[38;5;28;43mself\u001b[39;49m\u001b[43m.\u001b[49m\u001b[43mflush_cache\u001b[49m\u001b[43m)\u001b[49m\u001b[43m,\u001b[49m\n\u001b[32m    170\u001b[39m \u001b[43m    \u001b[49m\u001b[43mskip_reversing\u001b[49m\u001b[43m=\u001b[49m\u001b[38;5;28;43mself\u001b[39;49m\u001b[43m.\u001b[49m\u001b[43mskip_reversing\u001b[49m\u001b[43m,\u001b[49m\n\u001b[32m    171\u001b[39m \u001b[43m\u001b[49m\u001b[43m)\u001b[49m\n\u001b[32m    173\u001b[39m \u001b[38;5;28;01mif\u001b[39;00m flush_manim_cache:\n\u001b[32m    174\u001b[39m     \u001b[38;5;28mself\u001b[39m.renderer.file_writer.flush_cache_directory()\n",
      "\u001b[36mFile \u001b[39m\u001b[32mc:\\Users\\foler\\AppData\\Local\\Programs\\Python\\Python312\\Lib\\site-packages\\manim_slides\\slide\\base.py:583\u001b[39m, in \u001b[36mBaseSlide._save_slides\u001b[39m\u001b[34m(self, use_cache, flush_cache, skip_reversing)\u001b[39m\n\u001b[32m    581\u001b[39m             rev_file = dst_file\n\u001b[32m    582\u001b[39m         \u001b[38;5;28;01melse\u001b[39;00m:\n\u001b[32m--> \u001b[39m\u001b[32m583\u001b[39m             \u001b[43mreverse_video_file\u001b[49m\u001b[43m(\u001b[49m\n\u001b[32m    584\u001b[39m \u001b[43m                \u001b[49m\u001b[43mdst_file\u001b[49m\u001b[43m,\u001b[49m\n\u001b[32m    585\u001b[39m \u001b[43m                \u001b[49m\u001b[43mrev_file\u001b[49m\u001b[43m,\u001b[49m\n\u001b[32m    586\u001b[39m \u001b[43m                \u001b[49m\u001b[43mmax_segment_duration\u001b[49m\u001b[43m=\u001b[49m\u001b[38;5;28;43mself\u001b[39;49m\u001b[43m.\u001b[49m\u001b[43mmax_duration_before_split_reverse\u001b[49m\u001b[43m,\u001b[49m\n\u001b[32m    587\u001b[39m \u001b[43m                \u001b[49m\u001b[43mnum_processes\u001b[49m\u001b[43m=\u001b[49m\u001b[38;5;28;43mself\u001b[39;49m\u001b[43m.\u001b[49m\u001b[43mnum_processes\u001b[49m\u001b[43m,\u001b[49m\n\u001b[32m    588\u001b[39m \u001b[43m                \u001b[49m\u001b[43mleave\u001b[49m\u001b[43m=\u001b[49m\u001b[38;5;28;43mself\u001b[39;49m\u001b[43m.\u001b[49m\u001b[43m_leave_progress_bar\u001b[49m\u001b[43m,\u001b[49m\n\u001b[32m    589\u001b[39m \u001b[43m                \u001b[49m\u001b[43mascii\u001b[49m\u001b[43m=\u001b[49m\u001b[38;5;28;43;01mTrue\u001b[39;49;00m\u001b[43m \u001b[49m\u001b[38;5;28;43;01mif\u001b[39;49;00m\u001b[43m \u001b[49m\u001b[43mplatform\u001b[49m\u001b[43m.\u001b[49m\u001b[43msystem\u001b[49m\u001b[43m(\u001b[49m\u001b[43m)\u001b[49m\u001b[43m \u001b[49m\u001b[43m==\u001b[49m\u001b[43m \u001b[49m\u001b[33;43m\"\u001b[39;49m\u001b[33;43mWindows\u001b[39;49m\u001b[33;43m\"\u001b[39;49m\u001b[43m \u001b[49m\u001b[38;5;28;43;01melse\u001b[39;49;00m\u001b[43m \u001b[49m\u001b[38;5;28;43;01mNone\u001b[39;49;00m\u001b[43m,\u001b[49m\n\u001b[32m    590\u001b[39m \u001b[43m                \u001b[49m\u001b[43mdisable\u001b[49m\u001b[43m=\u001b[49m\u001b[38;5;129;43;01mnot\u001b[39;49;00m\u001b[43m \u001b[49m\u001b[38;5;28;43mself\u001b[39;49m\u001b[43m.\u001b[49m\u001b[43m_show_progress_bar\u001b[49m\u001b[43m,\u001b[49m\n\u001b[32m    591\u001b[39m \u001b[43m            \u001b[49m\u001b[43m)\u001b[49m\n\u001b[32m    593\u001b[39m     slides.append(\n\u001b[32m    594\u001b[39m         SlideConfig.from_pre_slide_config_and_files(\n\u001b[32m    595\u001b[39m             pre_slide_config, dst_file, rev_file\n\u001b[32m    596\u001b[39m         )\n\u001b[32m    597\u001b[39m     )\n\u001b[32m    599\u001b[39m logger.info(\n\u001b[32m    600\u001b[39m     \u001b[33mf\u001b[39m\u001b[33m\"\u001b[39m\u001b[33mGenerated \u001b[39m\u001b[38;5;132;01m{\u001b[39;00m\u001b[38;5;28mlen\u001b[39m(slides)\u001b[38;5;132;01m}\u001b[39;00m\u001b[33m slides to \u001b[39m\u001b[33m'\u001b[39m\u001b[38;5;132;01m{\u001b[39;00mscene_files_folder.absolute()\u001b[38;5;132;01m}\u001b[39;00m\u001b[33m'\u001b[39m\u001b[33m\"\u001b[39m\n\u001b[32m    601\u001b[39m )\n",
      "\u001b[36mFile \u001b[39m\u001b[32mc:\\Users\\foler\\AppData\\Local\\Programs\\Python\\Python312\\Lib\\site-packages\\manim_slides\\utils.py:197\u001b[39m, in \u001b[36mreverse_video_file\u001b[39m\u001b[34m(src, dest, max_segment_duration, num_processes, **tqdm_kwargs)\u001b[39m\n\u001b[32m    186\u001b[39m     \u001b[38;5;28;01mfor\u001b[39;00m _ \u001b[38;5;129;01min\u001b[39;00m tqdm(\n\u001b[32m    187\u001b[39m         pool.imap_unordered(\n\u001b[32m    188\u001b[39m             reverse_video_file_in_one_chunk, \u001b[38;5;28mzip\u001b[39m(src_files, rev_files)\n\u001b[32m   (...)\u001b[39m\u001b[32m    193\u001b[39m         **tqdm_kwargs,\n\u001b[32m    194\u001b[39m     ):\n\u001b[32m    195\u001b[39m         \u001b[38;5;28;01mpass\u001b[39;00m  \u001b[38;5;66;03m# We just consume the iterator\u001b[39;00m\n\u001b[32m--> \u001b[39m\u001b[32m197\u001b[39m \u001b[43mconcatenate_video_files\u001b[49m\u001b[43m(\u001b[49m\u001b[43mrev_files\u001b[49m\u001b[43m[\u001b[49m\u001b[43m:\u001b[49m\u001b[43m:\u001b[49m\u001b[43m-\u001b[49m\u001b[32;43m1\u001b[39;49m\u001b[43m]\u001b[49m\u001b[43m,\u001b[49m\u001b[43m \u001b[49m\u001b[43mdest\u001b[49m\u001b[43m)\u001b[49m\n",
      "\u001b[36mFile \u001b[39m\u001b[32mc:\\Users\\foler\\AppData\\Local\\Programs\\Python\\Python312\\Lib\\site-packages\\manim_slides\\utils.py:67\u001b[39m, in \u001b[36mconcatenate_video_files\u001b[39m\u001b[34m(files, dest)\u001b[39m\n\u001b[32m     65\u001b[39m         \u001b[38;5;28;01melse\u001b[39;00m:\n\u001b[32m     66\u001b[39m             \u001b[38;5;28;01mcontinue\u001b[39;00m  \u001b[38;5;66;03m# We don't support subtitles\u001b[39;00m\n\u001b[32m---> \u001b[39m\u001b[32m67\u001b[39m         \u001b[43moutput_container\u001b[49m\u001b[43m.\u001b[49m\u001b[43mmux\u001b[49m\u001b[43m(\u001b[49m\u001b[43mpacket\u001b[49m\u001b[43m)\u001b[49m\n\u001b[32m     69\u001b[39m os.unlink(tmp_file)\n",
      "\u001b[36mFile \u001b[39m\u001b[32mav\\\\container\\\\output.pyx:257\u001b[39m, in \u001b[36mav.container.output.OutputContainer.mux\u001b[39m\u001b[34m()\u001b[39m\n",
      "\u001b[36mFile \u001b[39m\u001b[32mav\\\\container\\\\output.pyx:278\u001b[39m, in \u001b[36mav.container.output.OutputContainer.mux_one\u001b[39m\u001b[34m()\u001b[39m\n",
      "\u001b[36mFile \u001b[39m\u001b[32mav\\\\container\\\\core.pyx:286\u001b[39m, in \u001b[36mav.container.core.Container.err_check\u001b[39m\u001b[34m()\u001b[39m\n",
      "\u001b[36mFile \u001b[39m\u001b[32mav\\\\error.pyx:326\u001b[39m, in \u001b[36mav.error.err_check\u001b[39m\u001b[34m()\u001b[39m\n",
      "\u001b[31mValueError\u001b[39m: [Errno 22] Invalid argument: 'slides\\\\files\\\\ExampleFlow1\\\\66229f05d32569e985c7060680d53a2121a37608743819c3685b89f040c41b14_reversed.mp4'"
     ]
    }
   ],
   "source": [
    "# %%manim -ql -v WARNING ExampleFlow1\n",
    "\n",
    "class ExampleFlow1(SWSlide):\n",
    "    def construct(self):\n",
    "        def get_graph_points(data_main: DataClass, func_v, y0) -> VGroup:\n",
    "            data = data_main.with_Q(Q.tracker.get_value())\n",
    "            \n",
    "            right_flow = get_right_flow(func_v, data)\n",
    "\n",
    "            h = 0.01\n",
    "            X, Y = runge_kutta(\n",
    "                function=right_flow,\n",
    "                time_space_params=(x_max.get_value(), h),\n",
    "                y0=y0\n",
    "            )\n",
    "\n",
    "            _axes = Axes(\n",
    "                x_range=[0, x_max.get_value()],\n",
    "                y_range=[0, y_max.get_value()]\n",
    "            )\n",
    "\n",
    "            return VGroup(*[ \n",
    "                VMobject().set_points_as_corners(_axes.c2p(np.matrix([X, y_i]).T)).set_color(clr)\n",
    "                for y_i, clr in zip(Y.T, colors)\n",
    "            ], *[\n",
    "                DecimalNumber(y_i[-1], num_decimal_places=3).move_to(_axes.c2p(X[-1], y_i[-1])).shift(UP/4).set_color(clr)\n",
    "                for y_i, clr in zip(Y.T, colors)\n",
    "            ])\n",
    "        \n",
    "        x_max = ValueTracker(100)\n",
    "        y_max = ValueTracker(10)\n",
    "        Q = Variable(0.5, \"Q\", num_decimal_places=2).to_corner(UP)\n",
    "        Q.value.group_with_commas=False\n",
    "\n",
    "        axes = always_redraw(lambda: Axes(\n",
    "            x_range=[0, x_max.get_value(), x_max.get_value()//10],\n",
    "            y_range=[0, y_max.get_value(), max(0.5, y_max.get_value()//4)],\n",
    "            ).add_coordinates()\n",
    "        )\n",
    "\n",
    "        x_label = axes.get_x_axis_label(\"t\", edge=RIGHT, direction=DR)\n",
    "        y_label = axes.get_y_axis_label(\"N\", edge=UP, direction=UL)\n",
    "        axes_labels = VGroup(x_label, y_label)\n",
    "\n",
    "        PAGE_NUM = PageNum(12)\n",
    "\n",
    "        self.add(axes, axes_labels, Q, PAGE_NUM)\n",
    "        self.play(Write(axes), Write(axes_labels), Write(Q), PAGE_NUM.animate.shift(0.5*DR))\n",
    "        self.sw()\n",
    "\n",
    "        data = DataClass.get_example1()\n",
    "        y0 = (2,)*data.n\n",
    "        \n",
    "        curves = always_redraw(lambda: get_graph_points(data, identity, y0))\n",
    "\n",
    "        \n",
    "        species = VGroup(*[\n",
    "            MathTex(f\"N_{i}\").set_color(c) for i, c in enumerate(colors[:data.n])\n",
    "        ]).arrange().to_corner(UR)\n",
    "\n",
    "        self.play(\n",
    "            Succession(\n",
    "                Create(curves[:4], run_time=3),\n",
    "                Write(curves[4:], run_time=1)\n",
    "            ),\n",
    "            Write(species, run_time=1)\n",
    "        )\n",
    "        self.add(curves, species)\n",
    "        self.sw()\n",
    "\n",
    "        self.play(\n",
    "            Q.tracker.animate.set_value(12), \n",
    "            run_time=4\n",
    "        )\n",
    "        self.sw()\n",
    "        \n",
    "        # self.play(\n",
    "        #     x_max.animate.set_value(100),\n",
    "        #     y_max.animate.set_value(1), \n",
    "        #     run_time=2\n",
    "        # )\n",
    "        # self.sw()\n",
    "        # self.play(\n",
    "        #     Q.tracker.animate.set_value(13), \n",
    "        #     run_time=2\n",
    "        # )\n",
    "        # self.sw()        \n",
    "        \n",
    "        # self.play(\n",
    "        #     y_max.animate.set_value(6), \n",
    "        #     run_time=2\n",
    "        # )\n",
    "        # self.sw()\n",
    "        # self.play(\n",
    "        #     Q.tracker.animate.set_value(95), \n",
    "        #     run_time=5\n",
    "        # )\n",
    "        # self.sw()\n",
    "\n",
    "        # self.play(\n",
    "        #     Q.tracker.animate.set_value(100), \n",
    "        #     run_time=2\n",
    "        # )\n",
    "        # self.sw()        \n",
    "        # self.play(\n",
    "        #     x_max.animate.set_value(20),\n",
    "        #     y_max.animate.set_value(15), \n",
    "        #     run_time=2\n",
    "        # )\n",
    "        # self.sw()\n",
    "        # self.play(\n",
    "        #     Q.tracker.animate.set_value(1000), \n",
    "        #     run_time=5\n",
    "        # )\n",
    "        # self.sw()\n",
    "        # self.play(\n",
    "        #     Uncreate(axes),\n",
    "        #     Uncreate(curves[:4]),\n",
    "        #     Unwrite(curves[4:]),\n",
    "        #     Unwrite(axes_labels),\n",
    "        #     Unwrite(Q),\n",
    "        #     Unwrite(species),\n",
    "        #     run_time=2\n",
    "        # )\n",
    "        # self.sw()\n"
   ]
  },
  {
   "cell_type": "code",
   "execution_count": null,
   "metadata": {},
   "outputs": [],
   "source": [
    "%%manim -qm -v WARNING CycleSplitIntro\n",
    "\n",
    "class CycleSplitIntro(SWSlide):    \n",
    "    def construct(self):\n",
    "        PAGE_NUM = PageNum(13)\n",
    "        self.add(PAGE_NUM)\n",
    "\n",
    "        "
   ]
  }
 ],
 "metadata": {
  "kernelspec": {
   "display_name": "Python 3",
   "language": "python",
   "name": "python3"
  },
  "language_info": {
   "codemirror_mode": {
    "name": "ipython",
    "version": 3
   },
   "file_extension": ".py",
   "mimetype": "text/x-python",
   "name": "python",
   "nbconvert_exporter": "python",
   "pygments_lexer": "ipython3",
   "version": "3.12.9"
  }
 },
 "nbformat": 4,
 "nbformat_minor": 2
}
