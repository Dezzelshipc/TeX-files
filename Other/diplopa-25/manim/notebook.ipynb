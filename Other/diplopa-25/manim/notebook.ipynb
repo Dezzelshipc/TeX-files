{
 "cells": [
  {
   "cell_type": "code",
   "execution_count": 1,
   "metadata": {},
   "outputs": [],
   "source": [
    "from manim import *\n",
    "from liba import *\n",
    "\n",
    "FEFU_BLUE = ManimColor(\"#091117\")\n",
    "\n",
    "colors = [ BLUE, GREEN, PURPLE, RED, ORANGE, YELLOW, PINK ]"
   ]
  },
  {
   "cell_type": "markdown",
   "metadata": {},
   "source": [
    "* ql -- 854x480 15FPS\n",
    "* qm -- 1280x720 30FPS\n",
    "* qh -- 1920x1080 60FPS\n",
    "* qp -- 2560x1440 60FPS\n",
    "* qk -- 3840x2160 60FPS"
   ]
  },
  {
   "cell_type": "code",
   "execution_count": null,
   "metadata": {},
   "outputs": [
    {
     "data": {
      "text/html": [
       "<pre style=\"white-space:pre;overflow-x:auto;line-height:normal;font-family:Menlo,'DejaVu Sans Mono',consolas,'Courier New',monospace\">Manim Community <span style=\"color: #008000; text-decoration-color: #008000\">v0.19.0</span>\n",
       "\n",
       "</pre>\n"
      ],
      "text/plain": [
       "Manim Community \u001b[32mv0.\u001b[0m\u001b[32m19.0\u001b[0m\n",
       "\n"
      ]
     },
     "metadata": {},
     "output_type": "display_data"
    },
    {
     "name": "stderr",
     "output_type": "stream",
     "text": [
      "                                                                                                                                       \r"
     ]
    },
    {
     "data": {
      "text/html": [
       "<pre style=\"white-space:pre;overflow-x:auto;line-height:normal;font-family:Menlo,'DejaVu Sans Mono',consolas,'Courier New',monospace\"><span style=\"color: #7fbfbf; text-decoration-color: #7fbfbf\">[06/17/25 20:48:54] </span><span style=\"color: #000080; text-decoration-color: #000080\">INFO    </span> Generated <span style=\"color: #008080; text-decoration-color: #008080; font-weight: bold\">3</span> slides to                                                      <a href=\"file://c:\\Users\\foler\\AppData\\Local\\Programs\\Python\\Python312\\Lib\\site-packages\\manim_slides\\slide\\base.py\" target=\"_blank\"><span style=\"color: #7f7f7f; text-decoration-color: #7f7f7f\">base.py</span></a><span style=\"color: #7f7f7f; text-decoration-color: #7f7f7f\">:</span><a href=\"file://c:\\Users\\foler\\AppData\\Local\\Programs\\Python\\Python312\\Lib\\site-packages\\manim_slides\\slide\\base.py#599\" target=\"_blank\"><span style=\"color: #7f7f7f; text-decoration-color: #7f7f7f\">599</span></a>\n",
       "<span style=\"color: #7fbfbf; text-decoration-color: #7fbfbf\">                    </span>         <span style=\"color: #008000; text-decoration-color: #008000\">'c:\\Programs\\Github\\TeX-files\\Other\\diplopa-25\\manim\\slides\\files\\Intro'</span>   <span style=\"color: #7f7f7f; text-decoration-color: #7f7f7f\">           </span>\n",
       "</pre>\n"
      ],
      "text/plain": [
       "\u001b[2;36m[06/17/25 20:48:54]\u001b[0m\u001b[2;36m \u001b[0m\u001b[34mINFO    \u001b[0m Generated \u001b[1;36m3\u001b[0m slides to                                                      \u001b]8;id=295522;file://c:\\Users\\foler\\AppData\\Local\\Programs\\Python\\Python312\\Lib\\site-packages\\manim_slides\\slide\\base.py\u001b\\\u001b[2mbase.py\u001b[0m\u001b]8;;\u001b\\\u001b[2m:\u001b[0m\u001b]8;id=277512;file://c:\\Users\\foler\\AppData\\Local\\Programs\\Python\\Python312\\Lib\\site-packages\\manim_slides\\slide\\base.py#599\u001b\\\u001b[2m599\u001b[0m\u001b]8;;\u001b\\\n",
       "\u001b[2;36m                    \u001b[0m         \u001b[32m'c:\\Programs\\Github\\TeX-files\\Other\\diplopa-25\\manim\\slides\\files\\Intro'\u001b[0m   \u001b[2m           \u001b[0m\n"
      ]
     },
     "metadata": {},
     "output_type": "display_data"
    },
    {
     "data": {
      "text/html": [
       "<pre style=\"white-space:pre;overflow-x:auto;line-height:normal;font-family:Menlo,'DejaVu Sans Mono',consolas,'Courier New',monospace\"><span style=\"color: #7fbfbf; text-decoration-color: #7fbfbf\">[06/17/25 20:48:54] </span><span style=\"color: #008000; text-decoration-color: #008000\">INFO    </span> Generated <span style=\"color: #008000; text-decoration-color: #008000\">3</span> slides to                                                      <a href=\"file://c:\\Users\\foler\\AppData\\Local\\Programs\\Python\\Python312\\Lib\\site-packages\\manim_slides\\slide\\base.py\" target=\"_blank\"><span style=\"color: #7f7f7f; text-decoration-color: #7f7f7f\">base.py</span></a><span style=\"color: #7f7f7f; text-decoration-color: #7f7f7f\">:</span><a href=\"file://c:\\Users\\foler\\AppData\\Local\\Programs\\Python\\Python312\\Lib\\site-packages\\manim_slides\\slide\\base.py#599\" target=\"_blank\"><span style=\"color: #7f7f7f; text-decoration-color: #7f7f7f\">599</span></a>\n",
       "<span style=\"color: #7fbfbf; text-decoration-color: #7fbfbf\">                    </span>         <span style=\"color: #008000; text-decoration-color: #008000\">'c:\\Programs\\Github\\TeX-files\\Other\\diplopa-25\\manim\\slides\\files\\Intro'</span>   <span style=\"color: #7f7f7f; text-decoration-color: #7f7f7f\">           </span>\n",
       "</pre>\n"
      ],
      "text/plain": [
       "\u001b[2;36m[06/17/25 20:48:54]\u001b[0m\u001b[2;36m \u001b[0m\u001b[32mINFO    \u001b[0m Generated \u001b[32m3\u001b[0m slides to                                                      \u001b]8;id=543470;file://c:\\Users\\foler\\AppData\\Local\\Programs\\Python\\Python312\\Lib\\site-packages\\manim_slides\\slide\\base.py\u001b\\\u001b[2mbase.py\u001b[0m\u001b]8;;\u001b\\\u001b[2m:\u001b[0m\u001b]8;id=573891;file://c:\\Users\\foler\\AppData\\Local\\Programs\\Python\\Python312\\Lib\\site-packages\\manim_slides\\slide\\base.py#599\u001b\\\u001b[2m599\u001b[0m\u001b]8;;\u001b\\\n",
       "\u001b[2;36m                    \u001b[0m         \u001b[32m'c:\\Programs\\Github\\TeX-files\\Other\\diplopa-25\\manim\\slides\\files\\Intro'\u001b[0m   \u001b[2m           \u001b[0m\n"
      ]
     },
     "metadata": {},
     "output_type": "display_data"
    },
    {
     "data": {
      "text/html": [
       "<pre style=\"white-space:pre;overflow-x:auto;line-height:normal;font-family:Menlo,'DejaVu Sans Mono',consolas,'Courier New',monospace\"><span style=\"color: #7fbfbf; text-decoration-color: #7fbfbf\">                    </span><span style=\"color: #000080; text-decoration-color: #000080\">INFO    </span> Slide <span style=\"color: #008000; text-decoration-color: #008000\">'Intro'</span> configuration written in                                     <a href=\"file://c:\\Users\\foler\\AppData\\Local\\Programs\\Python\\Python312\\Lib\\site-packages\\manim_slides\\slide\\base.py\" target=\"_blank\"><span style=\"color: #7f7f7f; text-decoration-color: #7f7f7f\">base.py</span></a><span style=\"color: #7f7f7f; text-decoration-color: #7f7f7f\">:</span><a href=\"file://c:\\Users\\foler\\AppData\\Local\\Programs\\Python\\Python312\\Lib\\site-packages\\manim_slides\\slide\\base.py#611\" target=\"_blank\"><span style=\"color: #7f7f7f; text-decoration-color: #7f7f7f\">611</span></a>\n",
       "<span style=\"color: #7fbfbf; text-decoration-color: #7fbfbf\">                    </span>         <span style=\"color: #008000; text-decoration-color: #008000\">'c:\\Programs\\Github\\TeX-files\\Other\\diplopa-25\\manim\\slides\\Intro.json'</span>    <span style=\"color: #7f7f7f; text-decoration-color: #7f7f7f\">           </span>\n",
       "</pre>\n"
      ],
      "text/plain": [
       "\u001b[2;36m                   \u001b[0m\u001b[2;36m \u001b[0m\u001b[34mINFO    \u001b[0m Slide \u001b[32m'Intro'\u001b[0m configuration written in                                     \u001b]8;id=463945;file://c:\\Users\\foler\\AppData\\Local\\Programs\\Python\\Python312\\Lib\\site-packages\\manim_slides\\slide\\base.py\u001b\\\u001b[2mbase.py\u001b[0m\u001b]8;;\u001b\\\u001b[2m:\u001b[0m\u001b]8;id=495627;file://c:\\Users\\foler\\AppData\\Local\\Programs\\Python\\Python312\\Lib\\site-packages\\manim_slides\\slide\\base.py#611\u001b\\\u001b[2m611\u001b[0m\u001b]8;;\u001b\\\n",
       "\u001b[2;36m                    \u001b[0m         \u001b[32m'c:\\Programs\\Github\\TeX-files\\Other\\diplopa-25\\manim\\slides\\Intro.json'\u001b[0m    \u001b[2m           \u001b[0m\n"
      ]
     },
     "metadata": {},
     "output_type": "display_data"
    },
    {
     "data": {
      "text/html": [
       "<pre style=\"white-space:pre;overflow-x:auto;line-height:normal;font-family:Menlo,'DejaVu Sans Mono',consolas,'Courier New',monospace\"><span style=\"color: #7fbfbf; text-decoration-color: #7fbfbf\">                    </span><span style=\"color: #008000; text-decoration-color: #008000\">INFO    </span> Slide <span style=\"color: #008000; text-decoration-color: #008000\">'Intro'</span> configuration written in                                     <a href=\"file://c:\\Users\\foler\\AppData\\Local\\Programs\\Python\\Python312\\Lib\\site-packages\\manim_slides\\slide\\base.py\" target=\"_blank\"><span style=\"color: #7f7f7f; text-decoration-color: #7f7f7f\">base.py</span></a><span style=\"color: #7f7f7f; text-decoration-color: #7f7f7f\">:</span><a href=\"file://c:\\Users\\foler\\AppData\\Local\\Programs\\Python\\Python312\\Lib\\site-packages\\manim_slides\\slide\\base.py#611\" target=\"_blank\"><span style=\"color: #7f7f7f; text-decoration-color: #7f7f7f\">611</span></a>\n",
       "<span style=\"color: #7fbfbf; text-decoration-color: #7fbfbf\">                    </span>         <span style=\"color: #008000; text-decoration-color: #008000\">'c:\\Programs\\Github\\TeX-files\\Other\\diplopa-25\\manim\\slides\\Intro.json'</span>    <span style=\"color: #7f7f7f; text-decoration-color: #7f7f7f\">           </span>\n",
       "</pre>\n"
      ],
      "text/plain": [
       "\u001b[2;36m                   \u001b[0m\u001b[2;36m \u001b[0m\u001b[32mINFO    \u001b[0m Slide \u001b[32m'Intro'\u001b[0m configuration written in                                     \u001b]8;id=52550;file://c:\\Users\\foler\\AppData\\Local\\Programs\\Python\\Python312\\Lib\\site-packages\\manim_slides\\slide\\base.py\u001b\\\u001b[2mbase.py\u001b[0m\u001b]8;;\u001b\\\u001b[2m:\u001b[0m\u001b]8;id=24521;file://c:\\Users\\foler\\AppData\\Local\\Programs\\Python\\Python312\\Lib\\site-packages\\manim_slides\\slide\\base.py#611\u001b\\\u001b[2m611\u001b[0m\u001b]8;;\u001b\\\n",
       "\u001b[2;36m                    \u001b[0m         \u001b[32m'c:\\Programs\\Github\\TeX-files\\Other\\diplopa-25\\manim\\slides\\Intro.json'\u001b[0m    \u001b[2m           \u001b[0m\n"
      ]
     },
     "metadata": {},
     "output_type": "display_data"
    },
    {
     "data": {
      "text/html": [
       "<video src=\"media\\jupyter\\Intro@2025-06-17@20-48-54.mp4\" controls autoplay loop style=\"max-width: 60%;\"  >\n",
       "      Your browser does not support the <code>video</code> element.\n",
       "    </video>"
      ],
      "text/plain": [
       "<IPython.core.display.Video object>"
      ]
     },
     "metadata": {},
     "output_type": "display_data"
    }
   ],
   "source": [
    "%%manim -qp -v WARNING Intro\n",
    "\n",
    "class Intro(SWSlide):\n",
    "    def construct(self):\n",
    "        PAGE_NUM = PageNum(1)\n",
    "        self.add(PAGE_NUM)\n",
    "\n",
    "        self.sw()\n",
    "\n",
    "        logo = SVGMobject(\"assets/logo\").scale(1.5)\n",
    "        self.play(\n",
    "            AnimationGroup( Write(logo), Unwrite(PAGE_NUM) ),\n",
    "            run_time=2\n",
    "        )\n",
    "\n",
    "        self.play(LaggedStart( ApplyWave(logo), Circumscribe(logo, Circle), lag_ratio=0.25))\n",
    "\n",
    "        name = Paragraph(\n",
    "            \"Выполнил: Держапольский Юрий Витальевич, Б9121-01.03.02сп\",\n",
    "            \"Руководитель: д.ф.-м.н, профессор Абакумов А. И.\",\n",
    "            font=\"Times New Roman\",\n",
    "            alignment=\"left\",\n",
    "            line_spacing=1\n",
    "        ).scale(0.5).to_corner(DL)\n",
    "\n",
    "        title = Paragraph(\n",
    "            \"Моделирование трофических сетей\",\n",
    "            \"Особенности динамики видов в трофических цепях\",\n",
    "            alignment=\"center\",\n",
    "            line_spacing=0.25\n",
    "        ).move_to(ORIGIN).scale(1.2)\n",
    "        title[1].scale(0.6)\n",
    "\n",
    "\n",
    "        self.play(logo.animate.scale(0.5).to_corner(DR))\n",
    "        self.wait(0.1)\n",
    "        self.play(Write(name), Write(title), run_time=2)\n",
    "\n",
    "        self.sw()\n",
    "\n",
    "        self.play(\n",
    "            FadeOut(logo, shift=DOWN),\n",
    "            FadeOut(title, shift=DOWN),\n",
    "            FadeOut(name, shift=DOWN)\n",
    "        )\n",
    "\n",
    "        self.sw()"
   ]
  },
  {
   "cell_type": "code",
   "execution_count": 5,
   "metadata": {},
   "outputs": [
    {
     "data": {
      "text/html": [
       "<pre style=\"white-space:pre;overflow-x:auto;line-height:normal;font-family:Menlo,'DejaVu Sans Mono',consolas,'Courier New',monospace\">Manim Community <span style=\"color: #008000; text-decoration-color: #008000\">v0.19.0</span>\n",
       "\n",
       "</pre>\n"
      ],
      "text/plain": [
       "Manim Community \u001b[32mv0.\u001b[0m\u001b[32m19.0\u001b[0m\n",
       "\n"
      ]
     },
     "metadata": {},
     "output_type": "display_data"
    },
    {
     "name": "stderr",
     "output_type": "stream",
     "text": [
      "                                                                                                                                      \r"
     ]
    },
    {
     "data": {
      "text/html": [
       "<pre style=\"white-space:pre;overflow-x:auto;line-height:normal;font-family:Menlo,'DejaVu Sans Mono',consolas,'Courier New',monospace\"><span style=\"color: #7fbfbf; text-decoration-color: #7fbfbf\">[06/19/25 18:32:13] </span><span style=\"color: #000080; text-decoration-color: #000080\">INFO    </span> Generated <span style=\"color: #008080; text-decoration-color: #008080; font-weight: bold\">3</span> slides to                                                      <a href=\"file://c:\\Users\\foler\\AppData\\Local\\Programs\\Python\\Python312\\Lib\\site-packages\\manim_slides\\slide\\base.py\" target=\"_blank\"><span style=\"color: #7f7f7f; text-decoration-color: #7f7f7f\">base.py</span></a><span style=\"color: #7f7f7f; text-decoration-color: #7f7f7f\">:</span><a href=\"file://c:\\Users\\foler\\AppData\\Local\\Programs\\Python\\Python312\\Lib\\site-packages\\manim_slides\\slide\\base.py#599\" target=\"_blank\"><span style=\"color: #7f7f7f; text-decoration-color: #7f7f7f\">599</span></a>\n",
       "<span style=\"color: #7fbfbf; text-decoration-color: #7fbfbf\">                    </span>         <span style=\"color: #008000; text-decoration-color: #008000\">'c:\\Programs\\Github\\TeX-files\\Other\\diplopa-25\\manim\\slides\\files\\Goal'</span>    <span style=\"color: #7f7f7f; text-decoration-color: #7f7f7f\">           </span>\n",
       "</pre>\n"
      ],
      "text/plain": [
       "\u001b[2;36m[06/19/25 18:32:13]\u001b[0m\u001b[2;36m \u001b[0m\u001b[34mINFO    \u001b[0m Generated \u001b[1;36m3\u001b[0m slides to                                                      \u001b]8;id=969600;file://c:\\Users\\foler\\AppData\\Local\\Programs\\Python\\Python312\\Lib\\site-packages\\manim_slides\\slide\\base.py\u001b\\\u001b[2mbase.py\u001b[0m\u001b]8;;\u001b\\\u001b[2m:\u001b[0m\u001b]8;id=688170;file://c:\\Users\\foler\\AppData\\Local\\Programs\\Python\\Python312\\Lib\\site-packages\\manim_slides\\slide\\base.py#599\u001b\\\u001b[2m599\u001b[0m\u001b]8;;\u001b\\\n",
       "\u001b[2;36m                    \u001b[0m         \u001b[32m'c:\\Programs\\Github\\TeX-files\\Other\\diplopa-25\\manim\\slides\\files\\Goal'\u001b[0m    \u001b[2m           \u001b[0m\n"
      ]
     },
     "metadata": {},
     "output_type": "display_data"
    },
    {
     "data": {
      "text/html": [
       "<pre style=\"white-space:pre;overflow-x:auto;line-height:normal;font-family:Menlo,'DejaVu Sans Mono',consolas,'Courier New',monospace\"><span style=\"color: #7fbfbf; text-decoration-color: #7fbfbf\">[06/19/25 18:32:13] </span><span style=\"color: #008000; text-decoration-color: #008000\">INFO    </span> Generated <span style=\"color: #008000; text-decoration-color: #008000\">3</span> slides to                                                      <a href=\"file://c:\\Users\\foler\\AppData\\Local\\Programs\\Python\\Python312\\Lib\\site-packages\\manim_slides\\slide\\base.py\" target=\"_blank\"><span style=\"color: #7f7f7f; text-decoration-color: #7f7f7f\">base.py</span></a><span style=\"color: #7f7f7f; text-decoration-color: #7f7f7f\">:</span><a href=\"file://c:\\Users\\foler\\AppData\\Local\\Programs\\Python\\Python312\\Lib\\site-packages\\manim_slides\\slide\\base.py#599\" target=\"_blank\"><span style=\"color: #7f7f7f; text-decoration-color: #7f7f7f\">599</span></a>\n",
       "<span style=\"color: #7fbfbf; text-decoration-color: #7fbfbf\">                    </span>         <span style=\"color: #008000; text-decoration-color: #008000\">'c:\\Programs\\Github\\TeX-files\\Other\\diplopa-25\\manim\\slides\\files\\Goal'</span>    <span style=\"color: #7f7f7f; text-decoration-color: #7f7f7f\">           </span>\n",
       "</pre>\n"
      ],
      "text/plain": [
       "\u001b[2;36m[06/19/25 18:32:13]\u001b[0m\u001b[2;36m \u001b[0m\u001b[32mINFO    \u001b[0m Generated \u001b[32m3\u001b[0m slides to                                                      \u001b]8;id=334981;file://c:\\Users\\foler\\AppData\\Local\\Programs\\Python\\Python312\\Lib\\site-packages\\manim_slides\\slide\\base.py\u001b\\\u001b[2mbase.py\u001b[0m\u001b]8;;\u001b\\\u001b[2m:\u001b[0m\u001b]8;id=187260;file://c:\\Users\\foler\\AppData\\Local\\Programs\\Python\\Python312\\Lib\\site-packages\\manim_slides\\slide\\base.py#599\u001b\\\u001b[2m599\u001b[0m\u001b]8;;\u001b\\\n",
       "\u001b[2;36m                    \u001b[0m         \u001b[32m'c:\\Programs\\Github\\TeX-files\\Other\\diplopa-25\\manim\\slides\\files\\Goal'\u001b[0m    \u001b[2m           \u001b[0m\n"
      ]
     },
     "metadata": {},
     "output_type": "display_data"
    },
    {
     "data": {
      "text/html": [
       "<pre style=\"white-space:pre;overflow-x:auto;line-height:normal;font-family:Menlo,'DejaVu Sans Mono',consolas,'Courier New',monospace\"><span style=\"color: #7fbfbf; text-decoration-color: #7fbfbf\">                    </span><span style=\"color: #000080; text-decoration-color: #000080\">INFO    </span> Slide <span style=\"color: #008000; text-decoration-color: #008000\">'Goal'</span> configuration written in                                      <a href=\"file://c:\\Users\\foler\\AppData\\Local\\Programs\\Python\\Python312\\Lib\\site-packages\\manim_slides\\slide\\base.py\" target=\"_blank\"><span style=\"color: #7f7f7f; text-decoration-color: #7f7f7f\">base.py</span></a><span style=\"color: #7f7f7f; text-decoration-color: #7f7f7f\">:</span><a href=\"file://c:\\Users\\foler\\AppData\\Local\\Programs\\Python\\Python312\\Lib\\site-packages\\manim_slides\\slide\\base.py#611\" target=\"_blank\"><span style=\"color: #7f7f7f; text-decoration-color: #7f7f7f\">611</span></a>\n",
       "<span style=\"color: #7fbfbf; text-decoration-color: #7fbfbf\">                    </span>         <span style=\"color: #008000; text-decoration-color: #008000\">'c:\\Programs\\Github\\TeX-files\\Other\\diplopa-25\\manim\\slides\\Goal.json'</span>     <span style=\"color: #7f7f7f; text-decoration-color: #7f7f7f\">           </span>\n",
       "</pre>\n"
      ],
      "text/plain": [
       "\u001b[2;36m                   \u001b[0m\u001b[2;36m \u001b[0m\u001b[34mINFO    \u001b[0m Slide \u001b[32m'Goal'\u001b[0m configuration written in                                      \u001b]8;id=115354;file://c:\\Users\\foler\\AppData\\Local\\Programs\\Python\\Python312\\Lib\\site-packages\\manim_slides\\slide\\base.py\u001b\\\u001b[2mbase.py\u001b[0m\u001b]8;;\u001b\\\u001b[2m:\u001b[0m\u001b]8;id=91355;file://c:\\Users\\foler\\AppData\\Local\\Programs\\Python\\Python312\\Lib\\site-packages\\manim_slides\\slide\\base.py#611\u001b\\\u001b[2m611\u001b[0m\u001b]8;;\u001b\\\n",
       "\u001b[2;36m                    \u001b[0m         \u001b[32m'c:\\Programs\\Github\\TeX-files\\Other\\diplopa-25\\manim\\slides\\Goal.json'\u001b[0m     \u001b[2m           \u001b[0m\n"
      ]
     },
     "metadata": {},
     "output_type": "display_data"
    },
    {
     "data": {
      "text/html": [
       "<pre style=\"white-space:pre;overflow-x:auto;line-height:normal;font-family:Menlo,'DejaVu Sans Mono',consolas,'Courier New',monospace\"><span style=\"color: #7fbfbf; text-decoration-color: #7fbfbf\">                    </span><span style=\"color: #008000; text-decoration-color: #008000\">INFO    </span> Slide <span style=\"color: #008000; text-decoration-color: #008000\">'Goal'</span> configuration written in                                      <a href=\"file://c:\\Users\\foler\\AppData\\Local\\Programs\\Python\\Python312\\Lib\\site-packages\\manim_slides\\slide\\base.py\" target=\"_blank\"><span style=\"color: #7f7f7f; text-decoration-color: #7f7f7f\">base.py</span></a><span style=\"color: #7f7f7f; text-decoration-color: #7f7f7f\">:</span><a href=\"file://c:\\Users\\foler\\AppData\\Local\\Programs\\Python\\Python312\\Lib\\site-packages\\manim_slides\\slide\\base.py#611\" target=\"_blank\"><span style=\"color: #7f7f7f; text-decoration-color: #7f7f7f\">611</span></a>\n",
       "<span style=\"color: #7fbfbf; text-decoration-color: #7fbfbf\">                    </span>         <span style=\"color: #008000; text-decoration-color: #008000\">'c:\\Programs\\Github\\TeX-files\\Other\\diplopa-25\\manim\\slides\\Goal.json'</span>     <span style=\"color: #7f7f7f; text-decoration-color: #7f7f7f\">           </span>\n",
       "</pre>\n"
      ],
      "text/plain": [
       "\u001b[2;36m                   \u001b[0m\u001b[2;36m \u001b[0m\u001b[32mINFO    \u001b[0m Slide \u001b[32m'Goal'\u001b[0m configuration written in                                      \u001b]8;id=852104;file://c:\\Users\\foler\\AppData\\Local\\Programs\\Python\\Python312\\Lib\\site-packages\\manim_slides\\slide\\base.py\u001b\\\u001b[2mbase.py\u001b[0m\u001b]8;;\u001b\\\u001b[2m:\u001b[0m\u001b]8;id=55769;file://c:\\Users\\foler\\AppData\\Local\\Programs\\Python\\Python312\\Lib\\site-packages\\manim_slides\\slide\\base.py#611\u001b\\\u001b[2m611\u001b[0m\u001b]8;;\u001b\\\n",
       "\u001b[2;36m                    \u001b[0m         \u001b[32m'c:\\Programs\\Github\\TeX-files\\Other\\diplopa-25\\manim\\slides\\Goal.json'\u001b[0m     \u001b[2m           \u001b[0m\n"
      ]
     },
     "metadata": {},
     "output_type": "display_data"
    },
    {
     "data": {
      "text/html": [
       "<video src=\"media\\jupyter\\Goal@2025-06-19@18-32-13.mp4\" controls autoplay loop style=\"max-width: 60%;\"  >\n",
       "      Your browser does not support the <code>video</code> element.\n",
       "    </video>"
      ],
      "text/plain": [
       "<IPython.core.display.Video object>"
      ]
     },
     "metadata": {},
     "output_type": "display_data"
    }
   ],
   "source": [
    "%%manim -qp -v WARNING Goal\n",
    "\n",
    "class Goal(SWSlide):\n",
    "    def construct(self):\n",
    "        PAGE_NUM = PageNum(2)\n",
    "        self.add(PAGE_NUM)\n",
    "        \n",
    "        title = Title2(\"Цель\")\n",
    "\n",
    "        question = Paragraph(\n",
    "            \"Найти условия\", \n",
    "            \"существования и устойчивости\",\n",
    "            \"трофической цепи\",\n",
    "            \"определённой длины\",\n",
    "            line_spacing=1,\n",
    "            alignment=\"center\"\n",
    "        ).move_to(ORIGIN)\n",
    "\n",
    "        anim_question = [Write(title)] + list(map(lambda x: FadeIn(x, shift=UP), question))\n",
    "\n",
    "        self.play(\n",
    "            FadeIn(PAGE_NUM, shift=DOWN), \n",
    "            AnimationGroup(*anim_question, lag_ratio=0.05)\n",
    "        )\n",
    "        self.sw()\n",
    "\n",
    "        title2 = Title2(\"Актуальность\")\n",
    "\n",
    "        actual = Paragraph(\n",
    "            \"Анализ и моделирование\", \n",
    "            \"биологических сообществ\",\n",
    "            \"имеет актуальность:\",\n",
    "            \"вымирающие виды, изменение климата, загрязнение среды;\",\n",
    "            \"оптимизация ресурсов, борьба с вредителями\",\n",
    "            line_spacing=0.5,\n",
    "            alignment=\"center\"\n",
    "        ).move_to(ORIGIN)\n",
    "\n",
    "        last = Paragraph(\n",
    "            \"Сосуществование популяций в модели трофической цепи с учетом \",\n",
    "            \"всеядности хищника и внутривидовой конкуренции жертв. - 2021 [7]\",\n",
    "            line_spacing=0.5,\n",
    "            alignment=\"center\"\n",
    "        ).scale(0.5).to_corner(DOWN)\n",
    "\n",
    "        actual[-1].scale(0.8)\n",
    "        actual[-2].scale(0.8)\n",
    "\n",
    "        self.play(\n",
    "            FadeOut(title),\n",
    "            FadeIn(title2),\n",
    "            FadeIn(last, shift=UP),\n",
    "            Transform(question, actual)\n",
    "        )\n",
    "        self.sw()\n",
    "\n",
    "        self.remove(question)\n",
    "\n",
    "        self.play(\n",
    "            FadeOut(title2, shift=UP),\n",
    "            FadeOut(last, shift=DOWN),\n",
    "            AnimGroupFunc(actual, FadeOut, lag_ratio=0.05, shift=DOWN), \n",
    "            PAGE_NUM.animate.bump()\n",
    "        )\n",
    "        self.sw()"
   ]
  },
  {
   "cell_type": "code",
   "execution_count": 10,
   "metadata": {},
   "outputs": [
    {
     "data": {
      "text/html": [
       "<pre style=\"white-space:pre;overflow-x:auto;line-height:normal;font-family:Menlo,'DejaVu Sans Mono',consolas,'Courier New',monospace\">Manim Community <span style=\"color: #008000; text-decoration-color: #008000\">v0.19.0</span>\n",
       "\n",
       "</pre>\n"
      ],
      "text/plain": [
       "Manim Community \u001b[32mv0.\u001b[0m\u001b[32m19.0\u001b[0m\n",
       "\n"
      ]
     },
     "metadata": {},
     "output_type": "display_data"
    },
    {
     "name": "stderr",
     "output_type": "stream",
     "text": [
      "                                                                                                                                                                                                                                                                                                                                                                                                                                                                                                                                                                                                                                                                                                                                                                                                                                                                                                                                                                                                                                                                                                                                                                                                                                                                                                                                                                                                                                                                                                                                                                                                                                                                                                                                                                                                                                                                                                                                                                                                                                                                                                                                                                                                                                                                                                                                                                                                                                                                                                                                                                                                                                                                                                                                                                                                                                                                                                                                                                                                                                                                                \r"
     ]
    },
    {
     "data": {
      "text/html": [
       "<pre style=\"white-space:pre;overflow-x:auto;line-height:normal;font-family:Menlo,'DejaVu Sans Mono',consolas,'Courier New',monospace\"><span style=\"color: #7fbfbf; text-decoration-color: #7fbfbf\">[06/19/25 15:52:36] </span><span style=\"color: #000080; text-decoration-color: #000080\">INFO    </span> Generated <span style=\"color: #008080; text-decoration-color: #008080; font-weight: bold\">6</span> slides to                                                      <a href=\"file://c:\\Users\\foler\\AppData\\Local\\Programs\\Python\\Python312\\Lib\\site-packages\\manim_slides\\slide\\base.py\" target=\"_blank\"><span style=\"color: #7f7f7f; text-decoration-color: #7f7f7f\">base.py</span></a><span style=\"color: #7f7f7f; text-decoration-color: #7f7f7f\">:</span><a href=\"file://c:\\Users\\foler\\AppData\\Local\\Programs\\Python\\Python312\\Lib\\site-packages\\manim_slides\\slide\\base.py#599\" target=\"_blank\"><span style=\"color: #7f7f7f; text-decoration-color: #7f7f7f\">599</span></a>\n",
       "<span style=\"color: #7fbfbf; text-decoration-color: #7fbfbf\">                    </span>         <span style=\"color: #008000; text-decoration-color: #008000\">'c:\\Programs\\Github\\TeX-files\\Other\\diplopa-25\\manim\\slides\\files\\DiplomIn</span> <span style=\"color: #7f7f7f; text-decoration-color: #7f7f7f\">           </span>\n",
       "<span style=\"color: #7fbfbf; text-decoration-color: #7fbfbf\">                    </span>         <span style=\"color: #008000; text-decoration-color: #008000\">tro'</span>                                                                       <span style=\"color: #7f7f7f; text-decoration-color: #7f7f7f\">           </span>\n",
       "</pre>\n"
      ],
      "text/plain": [
       "\u001b[2;36m[06/19/25 15:52:36]\u001b[0m\u001b[2;36m \u001b[0m\u001b[34mINFO    \u001b[0m Generated \u001b[1;36m6\u001b[0m slides to                                                      \u001b]8;id=128671;file://c:\\Users\\foler\\AppData\\Local\\Programs\\Python\\Python312\\Lib\\site-packages\\manim_slides\\slide\\base.py\u001b\\\u001b[2mbase.py\u001b[0m\u001b]8;;\u001b\\\u001b[2m:\u001b[0m\u001b]8;id=648358;file://c:\\Users\\foler\\AppData\\Local\\Programs\\Python\\Python312\\Lib\\site-packages\\manim_slides\\slide\\base.py#599\u001b\\\u001b[2m599\u001b[0m\u001b]8;;\u001b\\\n",
       "\u001b[2;36m                    \u001b[0m         \u001b[32m'c:\\Programs\\Github\\TeX-files\\Other\\diplopa-25\\manim\\slides\\files\\DiplomIn\u001b[0m \u001b[2m           \u001b[0m\n",
       "\u001b[2;36m                    \u001b[0m         \u001b[32mtro'\u001b[0m                                                                       \u001b[2m           \u001b[0m\n"
      ]
     },
     "metadata": {},
     "output_type": "display_data"
    },
    {
     "data": {
      "text/html": [
       "<pre style=\"white-space:pre;overflow-x:auto;line-height:normal;font-family:Menlo,'DejaVu Sans Mono',consolas,'Courier New',monospace\"><span style=\"color: #7fbfbf; text-decoration-color: #7fbfbf\">[06/19/25 15:52:36] </span><span style=\"color: #008000; text-decoration-color: #008000\">INFO    </span> Generated <span style=\"color: #008000; text-decoration-color: #008000\">6</span> slides to                                                      <a href=\"file://c:\\Users\\foler\\AppData\\Local\\Programs\\Python\\Python312\\Lib\\site-packages\\manim_slides\\slide\\base.py\" target=\"_blank\"><span style=\"color: #7f7f7f; text-decoration-color: #7f7f7f\">base.py</span></a><span style=\"color: #7f7f7f; text-decoration-color: #7f7f7f\">:</span><a href=\"file://c:\\Users\\foler\\AppData\\Local\\Programs\\Python\\Python312\\Lib\\site-packages\\manim_slides\\slide\\base.py#599\" target=\"_blank\"><span style=\"color: #7f7f7f; text-decoration-color: #7f7f7f\">599</span></a>\n",
       "<span style=\"color: #7fbfbf; text-decoration-color: #7fbfbf\">                    </span>         <span style=\"color: #008000; text-decoration-color: #008000\">'c:\\Programs\\Github\\TeX-files\\Other\\diplopa-25\\manim\\slides\\files\\DiplomIn</span> <span style=\"color: #7f7f7f; text-decoration-color: #7f7f7f\">           </span>\n",
       "<span style=\"color: #7fbfbf; text-decoration-color: #7fbfbf\">                    </span>         <span style=\"color: #008000; text-decoration-color: #008000\">tro'</span>                                                                       <span style=\"color: #7f7f7f; text-decoration-color: #7f7f7f\">           </span>\n",
       "</pre>\n"
      ],
      "text/plain": [
       "\u001b[2;36m[06/19/25 15:52:36]\u001b[0m\u001b[2;36m \u001b[0m\u001b[32mINFO    \u001b[0m Generated \u001b[32m6\u001b[0m slides to                                                      \u001b]8;id=42158;file://c:\\Users\\foler\\AppData\\Local\\Programs\\Python\\Python312\\Lib\\site-packages\\manim_slides\\slide\\base.py\u001b\\\u001b[2mbase.py\u001b[0m\u001b]8;;\u001b\\\u001b[2m:\u001b[0m\u001b]8;id=974402;file://c:\\Users\\foler\\AppData\\Local\\Programs\\Python\\Python312\\Lib\\site-packages\\manim_slides\\slide\\base.py#599\u001b\\\u001b[2m599\u001b[0m\u001b]8;;\u001b\\\n",
       "\u001b[2;36m                    \u001b[0m         \u001b[32m'c:\\Programs\\Github\\TeX-files\\Other\\diplopa-25\\manim\\slides\\files\\DiplomIn\u001b[0m \u001b[2m           \u001b[0m\n",
       "\u001b[2;36m                    \u001b[0m         \u001b[32mtro'\u001b[0m                                                                       \u001b[2m           \u001b[0m\n"
      ]
     },
     "metadata": {},
     "output_type": "display_data"
    },
    {
     "data": {
      "text/html": [
       "<pre style=\"white-space:pre;overflow-x:auto;line-height:normal;font-family:Menlo,'DejaVu Sans Mono',consolas,'Courier New',monospace\"><span style=\"color: #7fbfbf; text-decoration-color: #7fbfbf\">                    </span><span style=\"color: #000080; text-decoration-color: #000080\">INFO    </span> Slide <span style=\"color: #008000; text-decoration-color: #008000\">'DiplomIntro'</span> configuration written in                               <a href=\"file://c:\\Users\\foler\\AppData\\Local\\Programs\\Python\\Python312\\Lib\\site-packages\\manim_slides\\slide\\base.py\" target=\"_blank\"><span style=\"color: #7f7f7f; text-decoration-color: #7f7f7f\">base.py</span></a><span style=\"color: #7f7f7f; text-decoration-color: #7f7f7f\">:</span><a href=\"file://c:\\Users\\foler\\AppData\\Local\\Programs\\Python\\Python312\\Lib\\site-packages\\manim_slides\\slide\\base.py#611\" target=\"_blank\"><span style=\"color: #7f7f7f; text-decoration-color: #7f7f7f\">611</span></a>\n",
       "<span style=\"color: #7fbfbf; text-decoration-color: #7fbfbf\">                    </span>         <span style=\"color: #008000; text-decoration-color: #008000\">'c:\\Programs\\Github\\TeX-files\\Other\\diplopa-25\\manim\\slides\\DiplomIntro.js</span> <span style=\"color: #7f7f7f; text-decoration-color: #7f7f7f\">           </span>\n",
       "<span style=\"color: #7fbfbf; text-decoration-color: #7fbfbf\">                    </span>         <span style=\"color: #008000; text-decoration-color: #008000\">on'</span>                                                                        <span style=\"color: #7f7f7f; text-decoration-color: #7f7f7f\">           </span>\n",
       "</pre>\n"
      ],
      "text/plain": [
       "\u001b[2;36m                   \u001b[0m\u001b[2;36m \u001b[0m\u001b[34mINFO    \u001b[0m Slide \u001b[32m'DiplomIntro'\u001b[0m configuration written in                               \u001b]8;id=565898;file://c:\\Users\\foler\\AppData\\Local\\Programs\\Python\\Python312\\Lib\\site-packages\\manim_slides\\slide\\base.py\u001b\\\u001b[2mbase.py\u001b[0m\u001b]8;;\u001b\\\u001b[2m:\u001b[0m\u001b]8;id=211259;file://c:\\Users\\foler\\AppData\\Local\\Programs\\Python\\Python312\\Lib\\site-packages\\manim_slides\\slide\\base.py#611\u001b\\\u001b[2m611\u001b[0m\u001b]8;;\u001b\\\n",
       "\u001b[2;36m                    \u001b[0m         \u001b[32m'c:\\Programs\\Github\\TeX-files\\Other\\diplopa-25\\manim\\slides\\DiplomIntro.js\u001b[0m \u001b[2m           \u001b[0m\n",
       "\u001b[2;36m                    \u001b[0m         \u001b[32mon'\u001b[0m                                                                        \u001b[2m           \u001b[0m\n"
      ]
     },
     "metadata": {},
     "output_type": "display_data"
    },
    {
     "data": {
      "text/html": [
       "<pre style=\"white-space:pre;overflow-x:auto;line-height:normal;font-family:Menlo,'DejaVu Sans Mono',consolas,'Courier New',monospace\"><span style=\"color: #7fbfbf; text-decoration-color: #7fbfbf\">                    </span><span style=\"color: #008000; text-decoration-color: #008000\">INFO    </span> Slide <span style=\"color: #008000; text-decoration-color: #008000\">'DiplomIntro'</span> configuration written in                               <a href=\"file://c:\\Users\\foler\\AppData\\Local\\Programs\\Python\\Python312\\Lib\\site-packages\\manim_slides\\slide\\base.py\" target=\"_blank\"><span style=\"color: #7f7f7f; text-decoration-color: #7f7f7f\">base.py</span></a><span style=\"color: #7f7f7f; text-decoration-color: #7f7f7f\">:</span><a href=\"file://c:\\Users\\foler\\AppData\\Local\\Programs\\Python\\Python312\\Lib\\site-packages\\manim_slides\\slide\\base.py#611\" target=\"_blank\"><span style=\"color: #7f7f7f; text-decoration-color: #7f7f7f\">611</span></a>\n",
       "<span style=\"color: #7fbfbf; text-decoration-color: #7fbfbf\">                    </span>         <span style=\"color: #008000; text-decoration-color: #008000\">'c:\\Programs\\Github\\TeX-files\\Other\\diplopa-25\\manim\\slides\\DiplomIntro.js</span> <span style=\"color: #7f7f7f; text-decoration-color: #7f7f7f\">           </span>\n",
       "<span style=\"color: #7fbfbf; text-decoration-color: #7fbfbf\">                    </span>         <span style=\"color: #008000; text-decoration-color: #008000\">on'</span>                                                                        <span style=\"color: #7f7f7f; text-decoration-color: #7f7f7f\">           </span>\n",
       "</pre>\n"
      ],
      "text/plain": [
       "\u001b[2;36m                   \u001b[0m\u001b[2;36m \u001b[0m\u001b[32mINFO    \u001b[0m Slide \u001b[32m'DiplomIntro'\u001b[0m configuration written in                               \u001b]8;id=313605;file://c:\\Users\\foler\\AppData\\Local\\Programs\\Python\\Python312\\Lib\\site-packages\\manim_slides\\slide\\base.py\u001b\\\u001b[2mbase.py\u001b[0m\u001b]8;;\u001b\\\u001b[2m:\u001b[0m\u001b]8;id=163293;file://c:\\Users\\foler\\AppData\\Local\\Programs\\Python\\Python312\\Lib\\site-packages\\manim_slides\\slide\\base.py#611\u001b\\\u001b[2m611\u001b[0m\u001b]8;;\u001b\\\n",
       "\u001b[2;36m                    \u001b[0m         \u001b[32m'c:\\Programs\\Github\\TeX-files\\Other\\diplopa-25\\manim\\slides\\DiplomIntro.js\u001b[0m \u001b[2m           \u001b[0m\n",
       "\u001b[2;36m                    \u001b[0m         \u001b[32mon'\u001b[0m                                                                        \u001b[2m           \u001b[0m\n"
      ]
     },
     "metadata": {},
     "output_type": "display_data"
    },
    {
     "data": {
      "text/html": [
       "<video src=\"media\\jupyter\\DiplomIntro@2025-06-19@15-52-36.mp4\" controls autoplay loop style=\"max-width: 60%;\"  >\n",
       "      Your browser does not support the <code>video</code> element.\n",
       "    </video>"
      ],
      "text/plain": [
       "<IPython.core.display.Video object>"
      ]
     },
     "metadata": {},
     "output_type": "display_data"
    }
   ],
   "source": [
    "%%manim -qp -v WARNING DiplomIntro\n",
    "\n",
    "class DiplomIntro(SWSlide):\n",
    "    troph_net_text = r\"\"\"\n",
    "            \\tikzstyle{roundnode} = [draw, circle, text centered,text width=5mm];\n",
    "            \\tikzstyle{squarenode} = [draw, regular polygon, regular polygon sides=4, text centered, inner sep=0];\n",
    "            \\tikzstyle{arrow} = [thick, -{Stealth[length=4mm]}];\n",
    "            \\tikzstyle{arrow2} = [thick, {Stealth[length=4mm]}-{Stealth[length=4mm]} ];\n",
    "\n",
    "            \\node[roundnode] (1) at (0,0) {$1$};\n",
    "            \\node[roundnode] (2) at (5.5,0) {$2$};\n",
    "            \\node[roundnode] (3) at (1.75,-3) {$3$};\n",
    "            \\node[roundnode] (4) at (9,-3) {$4$};\n",
    "            \\node[roundnode] (5) at (0,-6) {$5$};\n",
    "            \\node[roundnode] (6) at (4.5,-6) {$6$};\n",
    "            \\node[roundnode] (7) at (7.5,-6) {$7$};\n",
    "            \\node[roundnode] (8) at (10,-6) {$8$};\n",
    "            \\node[roundnode] (9) at (3,-9) {$9$};\n",
    "            \\node[roundnode] (10)at (8,-9) {$10$};\n",
    "            \\node[roundnode] (11)at (2,-12) {$11$};\n",
    "            \\node[roundnode] (12)at (6,-12) {$12$};\n",
    "\n",
    "            \\draw[arrow] (1) to (5);\n",
    "            \\draw[arrow] (1) to[bend left=16] (6);\n",
    "            \\draw[arrow] (1) to (8);\n",
    "            \\draw[arrow] (1) to (9);\n",
    "\n",
    "            \\draw[arrow] (2) to (6);\n",
    "            \\draw[arrow] (2) to (7);\n",
    "            \\draw[arrow] (2) to (8);\n",
    "\n",
    "            \\draw[arrow] (3) to (6);\n",
    "            \\draw[arrow] (3) to (9);\n",
    "            \\draw[arrow] (3) to (11);\n",
    "\n",
    "            \\draw[arrow] (4) to (6);\n",
    "            \\draw[arrow] (4) to (7);\n",
    "            \\draw[arrow] (4) to (8);\n",
    "            \\draw[arrow] (4) to (9);\n",
    "\n",
    "            \\draw[arrow] (5) to (11);\n",
    "\n",
    "            \\draw[arrow] (6) to (9);\n",
    "            \\draw[arrow] (6) to (10);\n",
    "            \\draw[arrow] (6) to[bend left=16] (11);\n",
    "            \\draw[arrow] (6) to (12);\n",
    "\n",
    "            \\draw[arrow] (7) to[bend left=8] (11);\n",
    "            \\draw[arrow] (7) to (12);\n",
    "\n",
    "            \\draw[arrow] (8) to (10);\n",
    "            \\draw[arrow] (8) to[bend left=20] (12);\n",
    "\n",
    "\n",
    "            \\node (3in) at ([yshift=5cm]3) {};\n",
    "            \\draw[arrow, dashed] (3in) to (3);\n",
    "            \n",
    "            \\node (4in) at ([yshift=5cm]4) {};\n",
    "            \\draw[arrow, dashed] (4in) to (4);\n",
    "\n",
    "            \\node at (5.5,1.5) {\\textit{Солнечный свет}};\n",
    "\n",
    "            \\node (1in) at ([xshift=-3cm]1) {};\n",
    "            \\node (2in) at ([xshift=8cm]2) {};\n",
    "            \n",
    "            \\draw[arrow] (1in) to (1);\n",
    "            \\draw[arrow] (2in) to node[pos=0.25,anchor=south] {\\textit{Вносимая органика}} (2);\n",
    "\n",
    "            \\node at ([xshift=3cm]4) {\\textit{Продуценты}};\n",
    "            \\node[align=center] at ([xshift=2cm]8) {\\textit{Первичные}\\\\\\textit{консументы}};\n",
    "            \\node[align=center] at ([xshift=4cm]10) {\\textit{Промежуточный}\\\\\\textit{уровень}};\n",
    "            \\node[align=center] at ([xshift=5cm]12) {\\textit{Вторичные}\\\\\\textit{консументы}};\"\"\"\n",
    "\n",
    "\n",
    "    def construct(self):\n",
    "        PAGE_NUM = PageNum(3)\n",
    "        title = Title2(\"Введение\")\n",
    "\n",
    "        chain_def_list = [\n",
    "            \"В экологии структура сообщества,\",\n",
    "            \"демонстрирующая перенос энергии,\",\n",
    "            \"заключённой в пище от одного вида к другому,\",\n",
    "            \"где виды связаны между собой отношениями хищник-жертва,\",\n",
    "            \"называется трофической цепью.\"\n",
    "        ]\n",
    "\n",
    "        def txt(x):\n",
    "            return Text(x, t2s={'трофической цепью':ITALIC, 'экологии':ITALIC}, t2w={'трофической цепью':BOLD})\n",
    "\n",
    "        chain_def = VGroup(*list(map(txt, chain_def_list))).scale(0.7).arrange(DOWN)\n",
    "\n",
    "        ul = Underline(chain_def[-1][-len('трофической цепью'):-1])\n",
    "\n",
    "        anim_fade_in = [Write(title)] + list(map(lambda x: FadeIn(x, shift=UP), chain_def)) + [FadeIn(ul, shift=UP)]\n",
    "\n",
    "        self.add(PAGE_NUM)\n",
    "        self.play(\n",
    "            AnimationGroup(*anim_fade_in, lag_ratio=0.05)\n",
    "        )\n",
    "\n",
    "        self.sw()\n",
    "\n",
    "        self.play(\n",
    "            Unwrite(chain_def, reverse=False), \n",
    "            Uncreate(ul), \n",
    "            FadeOut(title, shift=UP), \n",
    "            run_time=1\n",
    "        )\n",
    "\n",
    "        self.remove(title)\n",
    "        self.sw()\n",
    "\n",
    "        troph_net = Tikz(self.troph_net_text).scale(0.35)\n",
    "\n",
    "        self.play(FadeIn(troph_net), PAGE_NUM.animate.bump(), run_time=1)\n",
    "\n",
    "        self.sw(0.5)\n",
    "\n",
    "        rect_avg = Rectangle(YELLOW, width=6.0, height=0.7).shift(0.33*DOWN+0.18*LEFT)\n",
    "        \n",
    "        rect_dom = Rectangle(YELLOW, width=5.5, height=0.8).shift(1.05*DOWN+1.05*RIGHT).rotate(72*DEGREES)\n",
    "\n",
    "        self.play(Create(rect_avg))\n",
    "\n",
    "        self.sw()\n",
    "\n",
    "        self.play(rect_avg.animate.become(rect_dom))\n",
    "\n",
    "        self.sw()\n",
    "\n",
    "        self.play(FadeOut(troph_net), Uncreate(rect_avg), PAGE_NUM.animate.bump())\n",
    "\n",
    "        self.sw()\n",
    "\n",
    "        "
   ]
  },
  {
   "cell_type": "code",
   "execution_count": 11,
   "metadata": {},
   "outputs": [
    {
     "data": {
      "text/html": [
       "<pre style=\"white-space:pre;overflow-x:auto;line-height:normal;font-family:Menlo,'DejaVu Sans Mono',consolas,'Courier New',monospace\">Manim Community <span style=\"color: #008000; text-decoration-color: #008000\">v0.19.0</span>\n",
       "\n",
       "</pre>\n"
      ],
      "text/plain": [
       "Manim Community \u001b[32mv0.\u001b[0m\u001b[32m19.0\u001b[0m\n",
       "\n"
      ]
     },
     "metadata": {},
     "output_type": "display_data"
    },
    {
     "name": "stderr",
     "output_type": "stream",
     "text": [
      "                                                                                                                                       \r"
     ]
    },
    {
     "data": {
      "text/html": [
       "<pre style=\"white-space:pre;overflow-x:auto;line-height:normal;font-family:Menlo,'DejaVu Sans Mono',consolas,'Courier New',monospace\"><span style=\"color: #7fbfbf; text-decoration-color: #7fbfbf\">[06/19/25 15:54:42] </span><span style=\"color: #000080; text-decoration-color: #000080\">INFO    </span> Generated <span style=\"color: #008080; text-decoration-color: #008080; font-weight: bold\">1</span> slides to                                                      <a href=\"file://c:\\Users\\foler\\AppData\\Local\\Programs\\Python\\Python312\\Lib\\site-packages\\manim_slides\\slide\\base.py\" target=\"_blank\"><span style=\"color: #7f7f7f; text-decoration-color: #7f7f7f\">base.py</span></a><span style=\"color: #7f7f7f; text-decoration-color: #7f7f7f\">:</span><a href=\"file://c:\\Users\\foler\\AppData\\Local\\Programs\\Python\\Python312\\Lib\\site-packages\\manim_slides\\slide\\base.py#599\" target=\"_blank\"><span style=\"color: #7f7f7f; text-decoration-color: #7f7f7f\">599</span></a>\n",
       "<span style=\"color: #7fbfbf; text-decoration-color: #7fbfbf\">                    </span>         <span style=\"color: #008000; text-decoration-color: #008000\">'c:\\Programs\\Github\\TeX-files\\Other\\diplopa-25\\manim\\slides\\files\\Outro'</span>   <span style=\"color: #7f7f7f; text-decoration-color: #7f7f7f\">           </span>\n",
       "</pre>\n"
      ],
      "text/plain": [
       "\u001b[2;36m[06/19/25 15:54:42]\u001b[0m\u001b[2;36m \u001b[0m\u001b[34mINFO    \u001b[0m Generated \u001b[1;36m1\u001b[0m slides to                                                      \u001b]8;id=217273;file://c:\\Users\\foler\\AppData\\Local\\Programs\\Python\\Python312\\Lib\\site-packages\\manim_slides\\slide\\base.py\u001b\\\u001b[2mbase.py\u001b[0m\u001b]8;;\u001b\\\u001b[2m:\u001b[0m\u001b]8;id=876728;file://c:\\Users\\foler\\AppData\\Local\\Programs\\Python\\Python312\\Lib\\site-packages\\manim_slides\\slide\\base.py#599\u001b\\\u001b[2m599\u001b[0m\u001b]8;;\u001b\\\n",
       "\u001b[2;36m                    \u001b[0m         \u001b[32m'c:\\Programs\\Github\\TeX-files\\Other\\diplopa-25\\manim\\slides\\files\\Outro'\u001b[0m   \u001b[2m           \u001b[0m\n"
      ]
     },
     "metadata": {},
     "output_type": "display_data"
    },
    {
     "data": {
      "text/html": [
       "<pre style=\"white-space:pre;overflow-x:auto;line-height:normal;font-family:Menlo,'DejaVu Sans Mono',consolas,'Courier New',monospace\"><span style=\"color: #7fbfbf; text-decoration-color: #7fbfbf\">[06/19/25 15:54:42] </span><span style=\"color: #008000; text-decoration-color: #008000\">INFO    </span> Generated <span style=\"color: #008000; text-decoration-color: #008000\">1</span> slides to                                                      <a href=\"file://c:\\Users\\foler\\AppData\\Local\\Programs\\Python\\Python312\\Lib\\site-packages\\manim_slides\\slide\\base.py\" target=\"_blank\"><span style=\"color: #7f7f7f; text-decoration-color: #7f7f7f\">base.py</span></a><span style=\"color: #7f7f7f; text-decoration-color: #7f7f7f\">:</span><a href=\"file://c:\\Users\\foler\\AppData\\Local\\Programs\\Python\\Python312\\Lib\\site-packages\\manim_slides\\slide\\base.py#599\" target=\"_blank\"><span style=\"color: #7f7f7f; text-decoration-color: #7f7f7f\">599</span></a>\n",
       "<span style=\"color: #7fbfbf; text-decoration-color: #7fbfbf\">                    </span>         <span style=\"color: #008000; text-decoration-color: #008000\">'c:\\Programs\\Github\\TeX-files\\Other\\diplopa-25\\manim\\slides\\files\\Outro'</span>   <span style=\"color: #7f7f7f; text-decoration-color: #7f7f7f\">           </span>\n",
       "</pre>\n"
      ],
      "text/plain": [
       "\u001b[2;36m[06/19/25 15:54:42]\u001b[0m\u001b[2;36m \u001b[0m\u001b[32mINFO    \u001b[0m Generated \u001b[32m1\u001b[0m slides to                                                      \u001b]8;id=583710;file://c:\\Users\\foler\\AppData\\Local\\Programs\\Python\\Python312\\Lib\\site-packages\\manim_slides\\slide\\base.py\u001b\\\u001b[2mbase.py\u001b[0m\u001b]8;;\u001b\\\u001b[2m:\u001b[0m\u001b]8;id=18532;file://c:\\Users\\foler\\AppData\\Local\\Programs\\Python\\Python312\\Lib\\site-packages\\manim_slides\\slide\\base.py#599\u001b\\\u001b[2m599\u001b[0m\u001b]8;;\u001b\\\n",
       "\u001b[2;36m                    \u001b[0m         \u001b[32m'c:\\Programs\\Github\\TeX-files\\Other\\diplopa-25\\manim\\slides\\files\\Outro'\u001b[0m   \u001b[2m           \u001b[0m\n"
      ]
     },
     "metadata": {},
     "output_type": "display_data"
    },
    {
     "data": {
      "text/html": [
       "<pre style=\"white-space:pre;overflow-x:auto;line-height:normal;font-family:Menlo,'DejaVu Sans Mono',consolas,'Courier New',monospace\"><span style=\"color: #7fbfbf; text-decoration-color: #7fbfbf\">                    </span><span style=\"color: #000080; text-decoration-color: #000080\">INFO    </span> Slide <span style=\"color: #008000; text-decoration-color: #008000\">'Outro'</span> configuration written in                                     <a href=\"file://c:\\Users\\foler\\AppData\\Local\\Programs\\Python\\Python312\\Lib\\site-packages\\manim_slides\\slide\\base.py\" target=\"_blank\"><span style=\"color: #7f7f7f; text-decoration-color: #7f7f7f\">base.py</span></a><span style=\"color: #7f7f7f; text-decoration-color: #7f7f7f\">:</span><a href=\"file://c:\\Users\\foler\\AppData\\Local\\Programs\\Python\\Python312\\Lib\\site-packages\\manim_slides\\slide\\base.py#611\" target=\"_blank\"><span style=\"color: #7f7f7f; text-decoration-color: #7f7f7f\">611</span></a>\n",
       "<span style=\"color: #7fbfbf; text-decoration-color: #7fbfbf\">                    </span>         <span style=\"color: #008000; text-decoration-color: #008000\">'c:\\Programs\\Github\\TeX-files\\Other\\diplopa-25\\manim\\slides\\Outro.json'</span>    <span style=\"color: #7f7f7f; text-decoration-color: #7f7f7f\">           </span>\n",
       "</pre>\n"
      ],
      "text/plain": [
       "\u001b[2;36m                   \u001b[0m\u001b[2;36m \u001b[0m\u001b[34mINFO    \u001b[0m Slide \u001b[32m'Outro'\u001b[0m configuration written in                                     \u001b]8;id=774073;file://c:\\Users\\foler\\AppData\\Local\\Programs\\Python\\Python312\\Lib\\site-packages\\manim_slides\\slide\\base.py\u001b\\\u001b[2mbase.py\u001b[0m\u001b]8;;\u001b\\\u001b[2m:\u001b[0m\u001b]8;id=891594;file://c:\\Users\\foler\\AppData\\Local\\Programs\\Python\\Python312\\Lib\\site-packages\\manim_slides\\slide\\base.py#611\u001b\\\u001b[2m611\u001b[0m\u001b]8;;\u001b\\\n",
       "\u001b[2;36m                    \u001b[0m         \u001b[32m'c:\\Programs\\Github\\TeX-files\\Other\\diplopa-25\\manim\\slides\\Outro.json'\u001b[0m    \u001b[2m           \u001b[0m\n"
      ]
     },
     "metadata": {},
     "output_type": "display_data"
    },
    {
     "data": {
      "text/html": [
       "<pre style=\"white-space:pre;overflow-x:auto;line-height:normal;font-family:Menlo,'DejaVu Sans Mono',consolas,'Courier New',monospace\"><span style=\"color: #7fbfbf; text-decoration-color: #7fbfbf\">                    </span><span style=\"color: #008000; text-decoration-color: #008000\">INFO    </span> Slide <span style=\"color: #008000; text-decoration-color: #008000\">'Outro'</span> configuration written in                                     <a href=\"file://c:\\Users\\foler\\AppData\\Local\\Programs\\Python\\Python312\\Lib\\site-packages\\manim_slides\\slide\\base.py\" target=\"_blank\"><span style=\"color: #7f7f7f; text-decoration-color: #7f7f7f\">base.py</span></a><span style=\"color: #7f7f7f; text-decoration-color: #7f7f7f\">:</span><a href=\"file://c:\\Users\\foler\\AppData\\Local\\Programs\\Python\\Python312\\Lib\\site-packages\\manim_slides\\slide\\base.py#611\" target=\"_blank\"><span style=\"color: #7f7f7f; text-decoration-color: #7f7f7f\">611</span></a>\n",
       "<span style=\"color: #7fbfbf; text-decoration-color: #7fbfbf\">                    </span>         <span style=\"color: #008000; text-decoration-color: #008000\">'c:\\Programs\\Github\\TeX-files\\Other\\diplopa-25\\manim\\slides\\Outro.json'</span>    <span style=\"color: #7f7f7f; text-decoration-color: #7f7f7f\">           </span>\n",
       "</pre>\n"
      ],
      "text/plain": [
       "\u001b[2;36m                   \u001b[0m\u001b[2;36m \u001b[0m\u001b[32mINFO    \u001b[0m Slide \u001b[32m'Outro'\u001b[0m configuration written in                                     \u001b]8;id=973922;file://c:\\Users\\foler\\AppData\\Local\\Programs\\Python\\Python312\\Lib\\site-packages\\manim_slides\\slide\\base.py\u001b\\\u001b[2mbase.py\u001b[0m\u001b]8;;\u001b\\\u001b[2m:\u001b[0m\u001b]8;id=103746;file://c:\\Users\\foler\\AppData\\Local\\Programs\\Python\\Python312\\Lib\\site-packages\\manim_slides\\slide\\base.py#611\u001b\\\u001b[2m611\u001b[0m\u001b]8;;\u001b\\\n",
       "\u001b[2;36m                    \u001b[0m         \u001b[32m'c:\\Programs\\Github\\TeX-files\\Other\\diplopa-25\\manim\\slides\\Outro.json'\u001b[0m    \u001b[2m           \u001b[0m\n"
      ]
     },
     "metadata": {},
     "output_type": "display_data"
    },
    {
     "data": {
      "text/html": [
       "<video src=\"media\\jupyter\\Outro@2025-06-19@15-54-42.mp4\" controls autoplay loop style=\"max-width: 60%;\"  >\n",
       "      Your browser does not support the <code>video</code> element.\n",
       "    </video>"
      ],
      "text/plain": [
       "<IPython.core.display.Video object>"
      ]
     },
     "metadata": {},
     "output_type": "display_data"
    }
   ],
   "source": [
    "%%manim -qp -v WARNING Outro\n",
    "\n",
    "class Outro(SWSlide):\n",
    "    def construct(self):\n",
    "        PAGE_NUM = PageNum(-1)\n",
    "        text = Text(\"Спасибо за внимание!\", font=\"Times New Roman\").scale(1.5)\n",
    "        logo = SVGMobject(\"assets/logo2\").scale(1.5).to_corner(UP)\n",
    "\n",
    "        self.play(\n",
    "            Write(logo), \n",
    "            Write(text), \n",
    "            FadeIn(PAGE_NUM, shift=UP), \n",
    "            run_time=1\n",
    "        )\n",
    "        self.wait(0.1)\n",
    "\n",
    "        banner = ManimBanner().scale(0.4).to_corner(DOWN)\n",
    "        made = Text(\"Сделано с помощью\", font=\"Times New Roman\").scale(0.8).next_to(banner, UP)\n",
    "        self.play(banner.create())\n",
    "        self.play(\n",
    "            Write(made, run_time=1),\n",
    "            banner.expand()\n",
    "        )\n",
    "\n",
    "        name = Paragraph(\n",
    "            \"Выполнил: Держапольский Юрий Витальевич, Б9121-01.03.02сп\",\n",
    "            \"Руководитель: д.ф.-м.н, профессор Абакумов А. И.\",\n",
    "            alignment=\"center\",\n",
    "            line_spacing=1\n",
    "        ).scale(0.5).to_corner(DOWN)\n",
    "\n",
    "        title = Paragraph(\n",
    "            \"Моделирование трофических сетей\",\n",
    "            \"Особенности динамики видов в трофических цепях\",\n",
    "            alignment=\"center\",\n",
    "            line_spacing=0.25\n",
    "        ).move_to(ORIGIN).scale(1.2)\n",
    "        title[1].scale(0.6)\n",
    "\n",
    "\n",
    "        self.play(\n",
    "            banner.animate.scale(0.5).to_corner(UR),\n",
    "            logo.animate.scale(0.5).to_corner(UL),\n",
    "            FadeOut(text, shift=UP),\n",
    "            FadeOut(made, shift=UP),\n",
    "        )\n",
    "        self.wait(0.1)\n",
    "        self.play(Write(name), Write(title), run_time=2)\n",
    "        self.sw()\n"
   ]
  },
  {
   "cell_type": "code",
   "execution_count": 29,
   "metadata": {},
   "outputs": [
    {
     "data": {
      "text/html": [
       "<pre style=\"white-space:pre;overflow-x:auto;line-height:normal;font-family:Menlo,'DejaVu Sans Mono',consolas,'Courier New',monospace\">Manim Community <span style=\"color: #008000; text-decoration-color: #008000\">v0.19.0</span>\n",
       "\n",
       "</pre>\n"
      ],
      "text/plain": [
       "Manim Community \u001b[32mv0.\u001b[0m\u001b[32m19.0\u001b[0m\n",
       "\n"
      ]
     },
     "metadata": {},
     "output_type": "display_data"
    },
    {
     "name": "stderr",
     "output_type": "stream",
     "text": [
      "                                                                                                                                                                                                                                                                                                                                                                                                                                                                                                                                                                                                                                                                                                                                                                                                                                                                                                                                                                                                                                                                                                                                                                                                                                                                                                                                                                                                                                                                                                                                                                                                                                                                                                                                                                                                                                                                                                                                                                                                                                                                                                                                                                                                                                                                                                                                                                                                                                                                                                                                                                                                                                                                                                                                                                                                                                                                                                                                                                                                                                                                                                                                                                       \r"
     ]
    },
    {
     "data": {
      "text/html": [
       "<pre style=\"white-space:pre;overflow-x:auto;line-height:normal;font-family:Menlo,'DejaVu Sans Mono',consolas,'Courier New',monospace\"><span style=\"color: #7fbfbf; text-decoration-color: #7fbfbf\">[06/19/25 19:35:37] </span><span style=\"color: #000080; text-decoration-color: #000080\">INFO    </span> Generated <span style=\"color: #008080; text-decoration-color: #008080; font-weight: bold\">7</span> slides to                                                      <a href=\"file://c:\\Users\\foler\\AppData\\Local\\Programs\\Python\\Python312\\Lib\\site-packages\\manim_slides\\slide\\base.py\" target=\"_blank\"><span style=\"color: #7f7f7f; text-decoration-color: #7f7f7f\">base.py</span></a><span style=\"color: #7f7f7f; text-decoration-color: #7f7f7f\">:</span><a href=\"file://c:\\Users\\foler\\AppData\\Local\\Programs\\Python\\Python312\\Lib\\site-packages\\manim_slides\\slide\\base.py#599\" target=\"_blank\"><span style=\"color: #7f7f7f; text-decoration-color: #7f7f7f\">599</span></a>\n",
       "<span style=\"color: #7fbfbf; text-decoration-color: #7fbfbf\">                    </span>         <span style=\"color: #008000; text-decoration-color: #008000\">'c:\\Programs\\Github\\TeX-files\\Other\\diplopa-25\\manim\\slides\\files\\ModelsIn</span> <span style=\"color: #7f7f7f; text-decoration-color: #7f7f7f\">           </span>\n",
       "<span style=\"color: #7fbfbf; text-decoration-color: #7fbfbf\">                    </span>         <span style=\"color: #008000; text-decoration-color: #008000\">tro'</span>                                                                       <span style=\"color: #7f7f7f; text-decoration-color: #7f7f7f\">           </span>\n",
       "</pre>\n"
      ],
      "text/plain": [
       "\u001b[2;36m[06/19/25 19:35:37]\u001b[0m\u001b[2;36m \u001b[0m\u001b[34mINFO    \u001b[0m Generated \u001b[1;36m7\u001b[0m slides to                                                      \u001b]8;id=870803;file://c:\\Users\\foler\\AppData\\Local\\Programs\\Python\\Python312\\Lib\\site-packages\\manim_slides\\slide\\base.py\u001b\\\u001b[2mbase.py\u001b[0m\u001b]8;;\u001b\\\u001b[2m:\u001b[0m\u001b]8;id=139710;file://c:\\Users\\foler\\AppData\\Local\\Programs\\Python\\Python312\\Lib\\site-packages\\manim_slides\\slide\\base.py#599\u001b\\\u001b[2m599\u001b[0m\u001b]8;;\u001b\\\n",
       "\u001b[2;36m                    \u001b[0m         \u001b[32m'c:\\Programs\\Github\\TeX-files\\Other\\diplopa-25\\manim\\slides\\files\\ModelsIn\u001b[0m \u001b[2m           \u001b[0m\n",
       "\u001b[2;36m                    \u001b[0m         \u001b[32mtro'\u001b[0m                                                                       \u001b[2m           \u001b[0m\n"
      ]
     },
     "metadata": {},
     "output_type": "display_data"
    },
    {
     "data": {
      "text/html": [
       "<pre style=\"white-space:pre;overflow-x:auto;line-height:normal;font-family:Menlo,'DejaVu Sans Mono',consolas,'Courier New',monospace\"><span style=\"color: #7fbfbf; text-decoration-color: #7fbfbf\">[06/19/25 19:35:37] </span><span style=\"color: #008000; text-decoration-color: #008000\">INFO    </span> Generated <span style=\"color: #008000; text-decoration-color: #008000\">7</span> slides to                                                      <a href=\"file://c:\\Users\\foler\\AppData\\Local\\Programs\\Python\\Python312\\Lib\\site-packages\\manim_slides\\slide\\base.py\" target=\"_blank\"><span style=\"color: #7f7f7f; text-decoration-color: #7f7f7f\">base.py</span></a><span style=\"color: #7f7f7f; text-decoration-color: #7f7f7f\">:</span><a href=\"file://c:\\Users\\foler\\AppData\\Local\\Programs\\Python\\Python312\\Lib\\site-packages\\manim_slides\\slide\\base.py#599\" target=\"_blank\"><span style=\"color: #7f7f7f; text-decoration-color: #7f7f7f\">599</span></a>\n",
       "<span style=\"color: #7fbfbf; text-decoration-color: #7fbfbf\">                    </span>         <span style=\"color: #008000; text-decoration-color: #008000\">'c:\\Programs\\Github\\TeX-files\\Other\\diplopa-25\\manim\\slides\\files\\ModelsIn</span> <span style=\"color: #7f7f7f; text-decoration-color: #7f7f7f\">           </span>\n",
       "<span style=\"color: #7fbfbf; text-decoration-color: #7fbfbf\">                    </span>         <span style=\"color: #008000; text-decoration-color: #008000\">tro'</span>                                                                       <span style=\"color: #7f7f7f; text-decoration-color: #7f7f7f\">           </span>\n",
       "</pre>\n"
      ],
      "text/plain": [
       "\u001b[2;36m[06/19/25 19:35:37]\u001b[0m\u001b[2;36m \u001b[0m\u001b[32mINFO    \u001b[0m Generated \u001b[32m7\u001b[0m slides to                                                      \u001b]8;id=888631;file://c:\\Users\\foler\\AppData\\Local\\Programs\\Python\\Python312\\Lib\\site-packages\\manim_slides\\slide\\base.py\u001b\\\u001b[2mbase.py\u001b[0m\u001b]8;;\u001b\\\u001b[2m:\u001b[0m\u001b]8;id=157178;file://c:\\Users\\foler\\AppData\\Local\\Programs\\Python\\Python312\\Lib\\site-packages\\manim_slides\\slide\\base.py#599\u001b\\\u001b[2m599\u001b[0m\u001b]8;;\u001b\\\n",
       "\u001b[2;36m                    \u001b[0m         \u001b[32m'c:\\Programs\\Github\\TeX-files\\Other\\diplopa-25\\manim\\slides\\files\\ModelsIn\u001b[0m \u001b[2m           \u001b[0m\n",
       "\u001b[2;36m                    \u001b[0m         \u001b[32mtro'\u001b[0m                                                                       \u001b[2m           \u001b[0m\n"
      ]
     },
     "metadata": {},
     "output_type": "display_data"
    },
    {
     "data": {
      "text/html": [
       "<pre style=\"white-space:pre;overflow-x:auto;line-height:normal;font-family:Menlo,'DejaVu Sans Mono',consolas,'Courier New',monospace\"><span style=\"color: #7fbfbf; text-decoration-color: #7fbfbf\">                    </span><span style=\"color: #000080; text-decoration-color: #000080\">INFO    </span> Slide <span style=\"color: #008000; text-decoration-color: #008000\">'ModelsIntro'</span> configuration written in                               <a href=\"file://c:\\Users\\foler\\AppData\\Local\\Programs\\Python\\Python312\\Lib\\site-packages\\manim_slides\\slide\\base.py\" target=\"_blank\"><span style=\"color: #7f7f7f; text-decoration-color: #7f7f7f\">base.py</span></a><span style=\"color: #7f7f7f; text-decoration-color: #7f7f7f\">:</span><a href=\"file://c:\\Users\\foler\\AppData\\Local\\Programs\\Python\\Python312\\Lib\\site-packages\\manim_slides\\slide\\base.py#611\" target=\"_blank\"><span style=\"color: #7f7f7f; text-decoration-color: #7f7f7f\">611</span></a>\n",
       "<span style=\"color: #7fbfbf; text-decoration-color: #7fbfbf\">                    </span>         <span style=\"color: #008000; text-decoration-color: #008000\">'c:\\Programs\\Github\\TeX-files\\Other\\diplopa-25\\manim\\slides\\ModelsIntro.js</span> <span style=\"color: #7f7f7f; text-decoration-color: #7f7f7f\">           </span>\n",
       "<span style=\"color: #7fbfbf; text-decoration-color: #7fbfbf\">                    </span>         <span style=\"color: #008000; text-decoration-color: #008000\">on'</span>                                                                        <span style=\"color: #7f7f7f; text-decoration-color: #7f7f7f\">           </span>\n",
       "</pre>\n"
      ],
      "text/plain": [
       "\u001b[2;36m                   \u001b[0m\u001b[2;36m \u001b[0m\u001b[34mINFO    \u001b[0m Slide \u001b[32m'ModelsIntro'\u001b[0m configuration written in                               \u001b]8;id=253530;file://c:\\Users\\foler\\AppData\\Local\\Programs\\Python\\Python312\\Lib\\site-packages\\manim_slides\\slide\\base.py\u001b\\\u001b[2mbase.py\u001b[0m\u001b]8;;\u001b\\\u001b[2m:\u001b[0m\u001b]8;id=195918;file://c:\\Users\\foler\\AppData\\Local\\Programs\\Python\\Python312\\Lib\\site-packages\\manim_slides\\slide\\base.py#611\u001b\\\u001b[2m611\u001b[0m\u001b]8;;\u001b\\\n",
       "\u001b[2;36m                    \u001b[0m         \u001b[32m'c:\\Programs\\Github\\TeX-files\\Other\\diplopa-25\\manim\\slides\\ModelsIntro.js\u001b[0m \u001b[2m           \u001b[0m\n",
       "\u001b[2;36m                    \u001b[0m         \u001b[32mon'\u001b[0m                                                                        \u001b[2m           \u001b[0m\n"
      ]
     },
     "metadata": {},
     "output_type": "display_data"
    },
    {
     "data": {
      "text/html": [
       "<pre style=\"white-space:pre;overflow-x:auto;line-height:normal;font-family:Menlo,'DejaVu Sans Mono',consolas,'Courier New',monospace\"><span style=\"color: #7fbfbf; text-decoration-color: #7fbfbf\">                    </span><span style=\"color: #008000; text-decoration-color: #008000\">INFO    </span> Slide <span style=\"color: #008000; text-decoration-color: #008000\">'ModelsIntro'</span> configuration written in                               <a href=\"file://c:\\Users\\foler\\AppData\\Local\\Programs\\Python\\Python312\\Lib\\site-packages\\manim_slides\\slide\\base.py\" target=\"_blank\"><span style=\"color: #7f7f7f; text-decoration-color: #7f7f7f\">base.py</span></a><span style=\"color: #7f7f7f; text-decoration-color: #7f7f7f\">:</span><a href=\"file://c:\\Users\\foler\\AppData\\Local\\Programs\\Python\\Python312\\Lib\\site-packages\\manim_slides\\slide\\base.py#611\" target=\"_blank\"><span style=\"color: #7f7f7f; text-decoration-color: #7f7f7f\">611</span></a>\n",
       "<span style=\"color: #7fbfbf; text-decoration-color: #7fbfbf\">                    </span>         <span style=\"color: #008000; text-decoration-color: #008000\">'c:\\Programs\\Github\\TeX-files\\Other\\diplopa-25\\manim\\slides\\ModelsIntro.js</span> <span style=\"color: #7f7f7f; text-decoration-color: #7f7f7f\">           </span>\n",
       "<span style=\"color: #7fbfbf; text-decoration-color: #7fbfbf\">                    </span>         <span style=\"color: #008000; text-decoration-color: #008000\">on'</span>                                                                        <span style=\"color: #7f7f7f; text-decoration-color: #7f7f7f\">           </span>\n",
       "</pre>\n"
      ],
      "text/plain": [
       "\u001b[2;36m                   \u001b[0m\u001b[2;36m \u001b[0m\u001b[32mINFO    \u001b[0m Slide \u001b[32m'ModelsIntro'\u001b[0m configuration written in                               \u001b]8;id=202457;file://c:\\Users\\foler\\AppData\\Local\\Programs\\Python\\Python312\\Lib\\site-packages\\manim_slides\\slide\\base.py\u001b\\\u001b[2mbase.py\u001b[0m\u001b]8;;\u001b\\\u001b[2m:\u001b[0m\u001b]8;id=448427;file://c:\\Users\\foler\\AppData\\Local\\Programs\\Python\\Python312\\Lib\\site-packages\\manim_slides\\slide\\base.py#611\u001b\\\u001b[2m611\u001b[0m\u001b]8;;\u001b\\\n",
       "\u001b[2;36m                    \u001b[0m         \u001b[32m'c:\\Programs\\Github\\TeX-files\\Other\\diplopa-25\\manim\\slides\\ModelsIntro.js\u001b[0m \u001b[2m           \u001b[0m\n",
       "\u001b[2;36m                    \u001b[0m         \u001b[32mon'\u001b[0m                                                                        \u001b[2m           \u001b[0m\n"
      ]
     },
     "metadata": {},
     "output_type": "display_data"
    },
    {
     "data": {
      "text/html": [
       "<video src=\"media\\jupyter\\ModelsIntro@2025-06-19@19-35-37.mp4\" controls autoplay loop style=\"max-width: 60%;\"  >\n",
       "      Your browser does not support the <code>video</code> element.\n",
       "    </video>"
      ],
      "text/plain": [
       "<IPython.core.display.Video object>"
      ]
     },
     "metadata": {},
     "output_type": "display_data"
    }
   ],
   "source": [
    "%%manim -qp -v WARNING ModelsIntro\n",
    "\n",
    "class ModelsIntro(SWSlide):\n",
    "    graph1_text = r\"\"\"\n",
    "        \\tikzstyle{roundnode} = [draw, circle, text centered];\n",
    "        \\tikzstyle{squarenode} = [draw, regular polygon, regular polygon sides=4, text centered, inner sep=0];\n",
    "        \\tikzstyle{arrow} = [thick, ->, >=stealth];\n",
    "    \n",
    "        % Left - Flow\n",
    "        \\node[roundnode] (RF) at (0,8) {$R$};\n",
    "\n",
    "        \\node[squarenode] (NF1) at (0,6) {$N_1$};\n",
    "        \\node (NF1M) at (2,6) {$m_1 N_1$};\n",
    "        \\draw [arrow] (NF1) -- (NF1M);\n",
    "\n",
    "        \\node[squarenode] (NF2) at (0,4) {$N_2$};\n",
    "        \\node (NF2M) at (2,4) {$m_2 N_2$};\n",
    "        \\draw [arrow] (NF2) -- (NF2M);\n",
    "\n",
    "        \\node (DF) at (0,2) {$\\vdots\\vphantom{lp}$};\n",
    "\n",
    "        \\node[squarenode] (NFN) at (0,0) {$N_n$};\n",
    "        \\node (NFNM) at (2,0) {$m_n N_n$};\n",
    "        \\draw [arrow] (NFN) -- (NFNM);\n",
    "        \n",
    "        \\draw [arrow] (0,10) -- node[anchor=east] {$Q$} (RF);\n",
    "        \\draw [arrow] (RF) --   node[anchor=east] {$V_0(R)$} (NF1);\n",
    "        \\draw [arrow] (NF1) --  node[anchor=east] {$V_1(N_1)$} (NF2);\n",
    "        \\draw [arrow] (NF2) --  node[anchor=east] {$V_2(N_2)$} (DF);\n",
    "        \\draw [arrow] (DF) --   node[anchor=east] {$V_{n-1}(N_{n-1})$} (NFN);\n",
    "\n",
    "\n",
    "        \\path[arrow] (NF1) edge [loop left] node {$k_1 V_0$} ();\n",
    "        \\path[arrow] (NF2) edge [loop left] node {$k_2 V_1$} ();\n",
    "        \\path[arrow] (NFN) edge [loop left] node {$k_n V_{n-1}$} ();\"\"\"\n",
    "\n",
    "    graph2_text = r\"\"\"\n",
    "        \\tikzstyle{roundnode} = [draw, circle, text centered];\n",
    "        \\tikzstyle{squarenode} = [draw, regular polygon, regular polygon sides=4, text centered, inner sep=0];\n",
    "        \\tikzstyle{arrow} = [thick, ->, >=stealth];\n",
    "    \n",
    "        \\node (BTC) at (11, 10) {};\n",
    "        \\node (BBC) at (11, 0) {};\n",
    "\n",
    "        \\node[roundnode] (RC) at (8,8) {$R$};\n",
    "\n",
    "        \\node[squarenode] (NC1) at (8,6) {$N_1$};\n",
    "        \\draw [arrow] (NC1) -- node[anchor=south] {$m_1 N_1$} ($(BTC)!(NC1)!(BBC)$);\n",
    "\n",
    "        \\node[squarenode] (NC2) at (8,4) {$N_2$};\n",
    "        \\draw [arrow] (NC2) -- node[anchor=south] {$m_2 N_2$} ($(BTC)!(NC2)!(BBC)$);\n",
    "\n",
    "        \\node (DC) at (8,2) {$\\vdots\\vphantom{lp}$};\n",
    "        \\node (DC2) at ($(BTC)!(DC)!(BBC)$) {$\\vdots\\vphantom{lp}$};\n",
    "\n",
    "        \\node[squarenode] (NCN) at (8,0) {$N_n$};\n",
    "        \\draw [arrow] (NCN) -- node[anchor=south] {$m_n N_n$} ($(BTC)!(NCN)!(BBC)$);\n",
    "        \n",
    "        \\draw [arrow] (8,10) -- node[anchor=east] {$Q$} (RC);\n",
    "        \\draw [arrow] (RC) --   node[anchor=east] {$V_0(R)$} (NC1);\n",
    "        \\draw [arrow] (NC1) --  node[anchor=east] {$V_1(N_1)$} (NC2);\n",
    "        \\draw [arrow] (NC2) --  node[anchor=east] {$V_2(N_2)$} (DC);\n",
    "        \\draw [arrow] (DC) --   node[anchor=east] {$V_{n-1}(N_{n-1})$} (NCN);\n",
    "        \n",
    "        \\draw [arrow] (DC2) |- node[pos=0.75, anchor=south] \n",
    "        {$\\textstyle\\sum\\limits_{i=1}^n a_i m_i N_i$} (RC);\n",
    "        \n",
    "        \\path[arrow] (NC1) edge [loop left] node {$k_1 V_0$} ();\n",
    "        \\path[arrow] (NC2) edge [loop left] node {$k_2 V_1$} ();\n",
    "        \\path[arrow] (NCN) edge [loop left] node (KNVN1) {$k_n V_{n-1}$} ();\n",
    "\n",
    "        \\draw [arrow] ($(KNVN1)!(BTC)!(NCN)$) -- (DC2);\"\"\"\n",
    "\n",
    "    graph3_text = r\"\"\"\\tikzstyle{roundnode} = [draw, circle, text centered];\n",
    "        \\tikzstyle{squarenode} = [draw, regular polygon, regular polygon sides=4, text centered, inner sep=0, text width=0.92cm];\n",
    "        \\tikzstyle{arrow} = [thick, ->, >=stealth];\n",
    "        \n",
    "\n",
    "        \\node[roundnode] (N0) at (0,0) {$N_0$};\n",
    "\n",
    "        \\node[squarenode] (N1) at ([yshift=-2cm]N0) {$N_1$};\n",
    "        \\node (ND) at ([yshift=-1.5cm]N1) {$\\vdots\\vphantom{lp}$};\n",
    "        \\node[squarenode] (NS) at ([yshift=-1.5cm]ND) {$N_s$};\n",
    "\n",
    "\n",
    "        \\node[squarenode] (NS1) at ([xshift=-1.5cm,yshift=-2cm]NS) {$N_{s+1}$};\n",
    "        \\node (NSD) at ([yshift=-1.5cm]NS1) {$\\vdots\\vphantom{lp}$};\n",
    "        \\node[squarenode] (NQ) at ([yshift=-1.5cm]NSD) {$N_q$};\n",
    "\n",
    "\n",
    "        \\node[squarenode] (M1) at ([xshift=1.5cm,yshift=-2cm]NS) {$N'_{1}$};\n",
    "        \\node (MD) at ([yshift=-1.5cm]M1) {$\\vdots\\vphantom{lp}$};\n",
    "        \\node[squarenode] (Mm1) at ([yshift=-1.5cm]MD) {$N'_{r-1}$};\n",
    "        \\node[squarenode] (MR) at ([yshift=-2cm]Mm1) {$N'_r$};\n",
    "\n",
    "\n",
    "        \\node (QN0) at ([yshift=1.5cm]N0) {};\n",
    "        \\draw [arrow] (QN0) -- node[anchor=east] {$Q$} (N0);\n",
    "\n",
    "        \n",
    "        \\draw [arrow] (N0) -- (N1);\n",
    "        \\draw [arrow] (N1) -- (ND);\n",
    "        \\draw [arrow] (ND) -- (NS);\n",
    "        \n",
    "        \\draw [arrow] (NS) -- node[anchor=east] {$V_s(N_s)$} (NS1);\n",
    "        \\draw [arrow] (NS1) -- (NSD);\n",
    "        \\draw [arrow] (NSD) -- (NQ);\n",
    "\n",
    "        \\draw [arrow] (NS) -- node[anchor=west] {$V^b_s(N_s)$} (M1);\n",
    "        \\draw [arrow] (M1) -- (MD);\n",
    "        \\draw [arrow] (MD) -- (Mm1);\n",
    "        \\draw [arrow] (Mm1) -- (MR);\n",
    "\n",
    "        \\node (DBS) at ([xshift=-5cm]ND) {$\\vdots\\vphantom{lp}$};\n",
    "        \\node (DBR) at ([xshift=5cm]ND) {$\\vdots\\vphantom{lp}$};\n",
    "        \\node (DBS2) at ($(DBS)!(NSD)!(DBS)$) {$\\vdots\\vphantom{lp}$};\n",
    "        \\node (DBR2) at ($(DBR)!(MD)!(DBR)$) {$\\vdots\\vphantom{lp}$};\n",
    "\n",
    "\n",
    "        \\draw[arrow] ($(DBS)!(NQ)!(DBS)$) -- (DBS2);\n",
    "        \\draw[arrow] (DBS2) -- (DBS);\n",
    "        \\draw[arrow] (DBS) |- node[pos=0.75, anchor=south] {$\\textstyle\\sum\\limits_{i=1}^q a_i m_i N_i$} (N0);\n",
    "\n",
    "\n",
    "        \\draw[arrow] ($(DBR)!(MR)!(DBR)$) -- (DBR2);\n",
    "        \\draw[arrow] (DBR2) -- (DBR);\n",
    "        \\draw[arrow] (DBR) |- node[pos=0.75, anchor=south] {$\\textstyle\\sum\\limits_{i=1}^r a_i m'_i N'_i$} (N0);\n",
    "\n",
    "\n",
    "        \\draw[arrow] (N1) -- node[anchor=south] {$m_1 N_1$} ($(DBS)!(N1)!(DBS)$);\n",
    "        \\draw[arrow] (NS) -- node[anchor=south] {$m_s N_s$} ($(DBS)!(NS)!(DBS)$);\n",
    "        \\draw[arrow] (NS1) -- node[anchor=south] {$m_{s+1} N_{s+1}$} ($(DBS)!(NS1)!(DBS)$);\n",
    "        \\draw[arrow] (NQ) -- node[anchor=south] {$m_q N_q$} ($(DBS)!(NQ)!(DBS)$);\n",
    "        \n",
    "\n",
    "        \\draw[arrow] (M1) -- node[anchor=south] {$m'_1 N'_1$} ($(DBR)!(M1)!(DBR)$);\n",
    "        \\draw[arrow] (Mm1) -- node[anchor=south] {$m'_{r-1} N'_{r-1}$} ($(DBR)!(Mm1)!(DBR)$);\n",
    "        \\draw[arrow] (MR) -- node[anchor=south] {$m'_{r} N'_{r}$} ($(DBR)!(MR)!(DBR)$);\"\"\"\n",
    "\n",
    "    def construct(self):\n",
    "        PAGE_NUM = PageNum(5)\n",
    "        self.add(PAGE_NUM)\n",
    "        \n",
    "        graph1 = Tikz(self.graph1_text).scale(0.5).to_corner(LEFT)\n",
    "\n",
    "        obozn = VGroup(\n",
    "            VGroup( MathTex(\"R\"), Tex(\"--\"), Text(\"входящий ресурс\") ),\n",
    "            VGroup( MathTex(\"Q\"), Tex(\"--\"), Text(\"скорость входящего ресурса\") ),\n",
    "            VGroup( MathTex(\"N_i\"), Tex(\"--\"), Text(\"виды существ и растений\") ),\n",
    "            VGroup( MathTex(\"V_i\"), Tex(\"--\"), Paragraph(\"скорость потребления биомассы\", \"(трофические функции)\") ),\n",
    "            VGroup( MathTex(\"k_i\"), Tex(\"--\"), Text(\"доля ресурса на воспроизводство\") ),\n",
    "            VGroup( MathTex(\"m_i\"), Tex(\"--\"), Text(\"скорость отмирания биомассы\") ),\n",
    "        )\n",
    "        for vg in obozn:\n",
    "            vg[0].scale(1.4)\n",
    "            vg.arrange(RIGHT)\n",
    "\n",
    "        obozn[-2][-1].shift(0.09*DOWN)\n",
    "        obozn.scale(0.7).arrange(DOWN, aligned_edge=LEFT, buff=0.5).to_corner(RIGHT)\n",
    "\n",
    "        brace = Brace(obozn[:2], LEFT)\n",
    "        principle = Paragraph(\"Принцип\", \"Либиха\", alignment=\"right\").scale(0.8).next_to(brace, LEFT)\n",
    "        obozn += brace\n",
    "        obozn += principle\n",
    "\n",
    "        self.play(\n",
    "            FadeIn(graph1, shift=UP), \n",
    "            AnimGroupFunc(obozn, FadeIn, shift=UP, lag_ratio=0.025),\n",
    "        )\n",
    "        self.sw()\n",
    "\n",
    "        diff1 = MathTex(r\"\"\"\\left\\{\\begin{split}\n",
    "                & \\frac{dR}{dt} = Q - V_0(R) N_1 \\vphantom{\\sum_{i=1}^{n}}\\hphantom{+\\sum_{i=1}^{n} a_i m_i N_i,}, \\\\\n",
    "                & \\frac{dN_1}{dt} = -m_1 N_1 + k_1 V_0(R) N_1 - V_1(N_1) N_2, \\\\\n",
    "                & \\frac{dN_i}{dt} = -m_i N_i + k_i V_{i-1}(N_{i-1}) N_i - V_i(N_i) N_{i+1}, \\\\\n",
    "                & \\frac{dN_n}{dt} = -m_n N_n + k_n V_{n-1}(N_{n-1}) N_n.\n",
    "            \\end{split}\\right.\"\"\", tex_environment=\"equation*\").scale(0.8).to_corner(RIGHT)\n",
    "\n",
    "        self.play(FadeIn(diff1, shift=UP), AnimGroupFunc(obozn, FadeOut, shift=UP, lag_ratio=0.025))\n",
    "        self.sw()\n",
    "\n",
    "        graph2 = Tikz(self.graph2_text).scale(0.5).to_corner(LEFT)\n",
    "        \n",
    "        diff2 = MathTex(r\"\"\"\\left\\{\\begin{split}\n",
    "                & \\frac{dR}{dt} = Q - V_0(R) N_1 \\mathcolor{yellow}{+ \\sum_{i=1}^{n} a_i m_i N_i}, \\\\\n",
    "                & \\frac{dN_1}{dt} = -m_1 N_1 + k_1 V_0(R) N_1 - V_1(N_1) N_2, \\\\\n",
    "                & \\frac{dN_i}{dt} = -m_i N_i + k_i V_{i-1}(N_{i-1}) N_i - V_i(N_i) N_{i+1}, \\\\\n",
    "                & \\frac{dN_n}{dt} = -m_n N_n + k_n V_{n-1}(N_{n-1}) N_n.\n",
    "            \\end{split}\\right.\"\"\", \n",
    "            tex_environment=\"equation*\",\n",
    "            tex_template = TexTemplate().add_to_preamble(r\"\\usepackage{xcolor}\")\n",
    "        ).scale(0.8).to_corner(RIGHT)\n",
    "\n",
    "        ka_limits = MathTex(r\"0 \\leq k_i, a_i \\leq 1\").scale(0.8).to_corner(DOWN)\n",
    "\n",
    "        self.play(\n",
    "            FadeOut(diff1), FadeIn(diff2), \n",
    "            Write(ka_limits), \n",
    "            FadeOut(graph1), FadeIn(graph2)\n",
    "        )\n",
    "        self.sw()\n",
    "\n",
    "        \n",
    "        subst = VGroup(MathTex(r\"{{ V_0(R) }}\", \"=\", r\"{{ \\alpha_0 R }}\", \"=\", r\"{{ \\alpha_0 N_0 }}\"), MathTex(r\"V_i(N_i) = \\alpha_i N_i\")).arrange(DOWN).to_corner(UP)\n",
    "        subst[-1].align_to(subst[0], LEFT)\n",
    "\n",
    "        self.play(\n",
    "            diff2.animate.scale(0.6).to_corner(RIGHT),\n",
    "            Write(subst),\n",
    "            PAGE_NUM.animate.bump(),\n",
    "            run_time=1\n",
    "        )\n",
    "        self.sw()\n",
    "\n",
    "        diff3 = MathTex(r\"\"\"\\left\\{\\begin{split}\n",
    "                & \\frac{dN_0}{dt} = Q - \\alpha_0 N_0 N_1 \\mathcolor{yellow}{+ \\sum_{i=1}^{n} a_i m_i N_i}, \\\\\n",
    "                & \\frac{dN_i}{dt} = N_i (-m_i + k_i \\alpha_{i-1} N_{i-1} - \\alpha_i N_{i+1}), \\\\\n",
    "                & N_{n+1} \\equiv 0.\n",
    "            \\end{split}\\right.\"\"\", \n",
    "            tex_environment=\"equation*\",\n",
    "            tex_template = TexTemplate().add_to_preamble(r\"\\usepackage{xcolor}\")\n",
    "            ).scale(0.8).to_corner(LEFT).align_to(diff2, UP)\n",
    "\n",
    "        self.play(FadeOut(graph2, shift=LEFT), FadeIn(diff3, shift=RIGHT), run_time=1)\n",
    "        self.sw()\n",
    "\n",
    "        self.play(FadeOut(subst, shift=UP), FadeOut(diff2, shift=RIGHT), FadeOut(diff3, shift=LEFT), Unwrite(ka_limits), run_time=1)\n",
    "        # self.sw()\n",
    "\n",
    "        diff_split = MathTex(r\"\"\"\\left\\{\\begin{split}\n",
    "                & \\frac{d N_0}{dt} = Q + N_1 ( -\\alpha_0 N_0 + a_1 m_1 ), \\\\\n",
    "                & \\frac{d N_i}{dt} = N_i (-m_i + k_i \\alpha_{i-1} N_{i-1} - \\alpha_i N_{i+1}), ~ i \\neq s, \\\\\n",
    "                & \\frac{d N_s}{dt} = N_s ( -m_s + k_s \\alpha_{s-1} N_{s-1} - \\alpha_s N_{s+1} \\mathcolor{yellow}{ - \\alpha_s^b N'_1 } ), \\\\\n",
    "                & \\mathcolor{yellow}{ \\frac{d N'_1}{dt} = N'_1 ( -m'_1 + k'_1 \\alpha_s^b N_s - \\alpha'_1 N'_{2} ) }, \\\\\n",
    "                & \\mathcolor{yellow}{ \\frac{d N'_k}{dt} = N'_k ( -m'_k + k'_k \\alpha'_{k-1} N'_{k-1} - \\alpha'_k N'_{k+1} ) }, ~ k > 1.\n",
    "            \\end{split}\\right.\"\"\", \n",
    "            tex_environment=\"equation*\",\n",
    "            tex_template = TexTemplate().add_to_preamble(r\"\\usepackage{xcolor}\")\n",
    "        ).scale(0.6).to_corner(RIGHT)\n",
    "\n",
    "\n",
    "        graph3 = Tikz(self.graph3_text).scale(0.4).to_corner(LEFT)\n",
    "        q2 = MathTex(r\"\\ldots (q, r)?\").to_corner(UP).shift(2*RIGHT)\n",
    "\n",
    "        self.play( \n",
    "            AnimationGroup(\n",
    "                FadeIn(graph3), \n",
    "                FadeIn(diff_split, shift=LEFT),\n",
    "                Write(q2), \n",
    "                lag_ratio=0.05\n",
    "            ), \n",
    "            PAGE_NUM.animate.bump()\n",
    "        )\n",
    "        self.sw()\n",
    "\n",
    "        self.play(\n",
    "            ShrinkToCenter(graph3), \n",
    "            FadeOut(q2, shift=RIGHT),\n",
    "            FadeOut(diff_split, shift=RIGHT),\n",
    "            PAGE_NUM.animate.bump(),\n",
    "            run_time=1)\n",
    "        self.sw()"
   ]
  },
  {
   "cell_type": "code",
   "execution_count": 7,
   "metadata": {},
   "outputs": [
    {
     "data": {
      "text/html": [
       "<pre style=\"white-space:pre;overflow-x:auto;line-height:normal;font-family:Menlo,'DejaVu Sans Mono',consolas,'Courier New',monospace\">Manim Community <span style=\"color: #008000; text-decoration-color: #008000\">v0.19.0</span>\n",
       "\n",
       "</pre>\n"
      ],
      "text/plain": [
       "Manim Community \u001b[32mv0.\u001b[0m\u001b[32m19.0\u001b[0m\n",
       "\n"
      ]
     },
     "metadata": {},
     "output_type": "display_data"
    },
    {
     "name": "stderr",
     "output_type": "stream",
     "text": [
      "                                                                                                                                        \r"
     ]
    },
    {
     "data": {
      "text/html": [
       "<pre style=\"white-space:pre;overflow-x:auto;line-height:normal;font-family:Menlo,'DejaVu Sans Mono',consolas,'Courier New',monospace\"><span style=\"color: #7fbfbf; text-decoration-color: #7fbfbf\">[06/19/25 16:38:49] </span><span style=\"color: #000080; text-decoration-color: #000080\">INFO    </span> Generated <span style=\"color: #008080; text-decoration-color: #008080; font-weight: bold\">2</span> slides to                                                      <a href=\"file://c:\\Users\\foler\\AppData\\Local\\Programs\\Python\\Python312\\Lib\\site-packages\\manim_slides\\slide\\base.py\" target=\"_blank\"><span style=\"color: #7f7f7f; text-decoration-color: #7f7f7f\">base.py</span></a><span style=\"color: #7f7f7f; text-decoration-color: #7f7f7f\">:</span><a href=\"file://c:\\Users\\foler\\AppData\\Local\\Programs\\Python\\Python312\\Lib\\site-packages\\manim_slides\\slide\\base.py#599\" target=\"_blank\"><span style=\"color: #7f7f7f; text-decoration-color: #7f7f7f\">599</span></a>\n",
       "<span style=\"color: #7fbfbf; text-decoration-color: #7fbfbf\">                    </span>         <span style=\"color: #008000; text-decoration-color: #008000\">'c:\\Programs\\Github\\TeX-files\\Other\\diplopa-25\\manim\\slides\\files\\Stabilit</span> <span style=\"color: #7f7f7f; text-decoration-color: #7f7f7f\">           </span>\n",
       "<span style=\"color: #7fbfbf; text-decoration-color: #7fbfbf\">                    </span>         <span style=\"color: #008000; text-decoration-color: #008000\">yTypes'</span>                                                                    <span style=\"color: #7f7f7f; text-decoration-color: #7f7f7f\">           </span>\n",
       "</pre>\n"
      ],
      "text/plain": [
       "\u001b[2;36m[06/19/25 16:38:49]\u001b[0m\u001b[2;36m \u001b[0m\u001b[34mINFO    \u001b[0m Generated \u001b[1;36m2\u001b[0m slides to                                                      \u001b]8;id=686769;file://c:\\Users\\foler\\AppData\\Local\\Programs\\Python\\Python312\\Lib\\site-packages\\manim_slides\\slide\\base.py\u001b\\\u001b[2mbase.py\u001b[0m\u001b]8;;\u001b\\\u001b[2m:\u001b[0m\u001b]8;id=687314;file://c:\\Users\\foler\\AppData\\Local\\Programs\\Python\\Python312\\Lib\\site-packages\\manim_slides\\slide\\base.py#599\u001b\\\u001b[2m599\u001b[0m\u001b]8;;\u001b\\\n",
       "\u001b[2;36m                    \u001b[0m         \u001b[32m'c:\\Programs\\Github\\TeX-files\\Other\\diplopa-25\\manim\\slides\\files\\Stabilit\u001b[0m \u001b[2m           \u001b[0m\n",
       "\u001b[2;36m                    \u001b[0m         \u001b[32myTypes'\u001b[0m                                                                    \u001b[2m           \u001b[0m\n"
      ]
     },
     "metadata": {},
     "output_type": "display_data"
    },
    {
     "data": {
      "text/html": [
       "<pre style=\"white-space:pre;overflow-x:auto;line-height:normal;font-family:Menlo,'DejaVu Sans Mono',consolas,'Courier New',monospace\"><span style=\"color: #7fbfbf; text-decoration-color: #7fbfbf\">[06/19/25 16:38:49] </span><span style=\"color: #008000; text-decoration-color: #008000\">INFO    </span> Generated <span style=\"color: #008000; text-decoration-color: #008000\">2</span> slides to                                                      <a href=\"file://c:\\Users\\foler\\AppData\\Local\\Programs\\Python\\Python312\\Lib\\site-packages\\manim_slides\\slide\\base.py\" target=\"_blank\"><span style=\"color: #7f7f7f; text-decoration-color: #7f7f7f\">base.py</span></a><span style=\"color: #7f7f7f; text-decoration-color: #7f7f7f\">:</span><a href=\"file://c:\\Users\\foler\\AppData\\Local\\Programs\\Python\\Python312\\Lib\\site-packages\\manim_slides\\slide\\base.py#599\" target=\"_blank\"><span style=\"color: #7f7f7f; text-decoration-color: #7f7f7f\">599</span></a>\n",
       "<span style=\"color: #7fbfbf; text-decoration-color: #7fbfbf\">                    </span>         <span style=\"color: #008000; text-decoration-color: #008000\">'c:\\Programs\\Github\\TeX-files\\Other\\diplopa-25\\manim\\slides\\files\\Stabilit</span> <span style=\"color: #7f7f7f; text-decoration-color: #7f7f7f\">           </span>\n",
       "<span style=\"color: #7fbfbf; text-decoration-color: #7fbfbf\">                    </span>         <span style=\"color: #008000; text-decoration-color: #008000\">yTypes'</span>                                                                    <span style=\"color: #7f7f7f; text-decoration-color: #7f7f7f\">           </span>\n",
       "</pre>\n"
      ],
      "text/plain": [
       "\u001b[2;36m[06/19/25 16:38:49]\u001b[0m\u001b[2;36m \u001b[0m\u001b[32mINFO    \u001b[0m Generated \u001b[32m2\u001b[0m slides to                                                      \u001b]8;id=789014;file://c:\\Users\\foler\\AppData\\Local\\Programs\\Python\\Python312\\Lib\\site-packages\\manim_slides\\slide\\base.py\u001b\\\u001b[2mbase.py\u001b[0m\u001b]8;;\u001b\\\u001b[2m:\u001b[0m\u001b]8;id=61;file://c:\\Users\\foler\\AppData\\Local\\Programs\\Python\\Python312\\Lib\\site-packages\\manim_slides\\slide\\base.py#599\u001b\\\u001b[2m599\u001b[0m\u001b]8;;\u001b\\\n",
       "\u001b[2;36m                    \u001b[0m         \u001b[32m'c:\\Programs\\Github\\TeX-files\\Other\\diplopa-25\\manim\\slides\\files\\Stabilit\u001b[0m \u001b[2m           \u001b[0m\n",
       "\u001b[2;36m                    \u001b[0m         \u001b[32myTypes'\u001b[0m                                                                    \u001b[2m           \u001b[0m\n"
      ]
     },
     "metadata": {},
     "output_type": "display_data"
    },
    {
     "data": {
      "text/html": [
       "<pre style=\"white-space:pre;overflow-x:auto;line-height:normal;font-family:Menlo,'DejaVu Sans Mono',consolas,'Courier New',monospace\"><span style=\"color: #7fbfbf; text-decoration-color: #7fbfbf\">                    </span><span style=\"color: #000080; text-decoration-color: #000080\">INFO    </span> Slide <span style=\"color: #008000; text-decoration-color: #008000\">'StabilityTypes'</span> configuration written in                            <a href=\"file://c:\\Users\\foler\\AppData\\Local\\Programs\\Python\\Python312\\Lib\\site-packages\\manim_slides\\slide\\base.py\" target=\"_blank\"><span style=\"color: #7f7f7f; text-decoration-color: #7f7f7f\">base.py</span></a><span style=\"color: #7f7f7f; text-decoration-color: #7f7f7f\">:</span><a href=\"file://c:\\Users\\foler\\AppData\\Local\\Programs\\Python\\Python312\\Lib\\site-packages\\manim_slides\\slide\\base.py#611\" target=\"_blank\"><span style=\"color: #7f7f7f; text-decoration-color: #7f7f7f\">611</span></a>\n",
       "<span style=\"color: #7fbfbf; text-decoration-color: #7fbfbf\">                    </span>         <span style=\"color: #008000; text-decoration-color: #008000\">'c:\\Programs\\Github\\TeX-files\\Other\\diplopa-25\\manim\\slides\\StabilityTypes</span> <span style=\"color: #7f7f7f; text-decoration-color: #7f7f7f\">           </span>\n",
       "<span style=\"color: #7fbfbf; text-decoration-color: #7fbfbf\">                    </span>         <span style=\"color: #008000; text-decoration-color: #008000\">.json'</span>                                                                     <span style=\"color: #7f7f7f; text-decoration-color: #7f7f7f\">           </span>\n",
       "</pre>\n"
      ],
      "text/plain": [
       "\u001b[2;36m                   \u001b[0m\u001b[2;36m \u001b[0m\u001b[34mINFO    \u001b[0m Slide \u001b[32m'StabilityTypes'\u001b[0m configuration written in                            \u001b]8;id=495746;file://c:\\Users\\foler\\AppData\\Local\\Programs\\Python\\Python312\\Lib\\site-packages\\manim_slides\\slide\\base.py\u001b\\\u001b[2mbase.py\u001b[0m\u001b]8;;\u001b\\\u001b[2m:\u001b[0m\u001b]8;id=125282;file://c:\\Users\\foler\\AppData\\Local\\Programs\\Python\\Python312\\Lib\\site-packages\\manim_slides\\slide\\base.py#611\u001b\\\u001b[2m611\u001b[0m\u001b]8;;\u001b\\\n",
       "\u001b[2;36m                    \u001b[0m         \u001b[32m'c:\\Programs\\Github\\TeX-files\\Other\\diplopa-25\\manim\\slides\\StabilityTypes\u001b[0m \u001b[2m           \u001b[0m\n",
       "\u001b[2;36m                    \u001b[0m         \u001b[32m.json'\u001b[0m                                                                     \u001b[2m           \u001b[0m\n"
      ]
     },
     "metadata": {},
     "output_type": "display_data"
    },
    {
     "data": {
      "text/html": [
       "<pre style=\"white-space:pre;overflow-x:auto;line-height:normal;font-family:Menlo,'DejaVu Sans Mono',consolas,'Courier New',monospace\"><span style=\"color: #7fbfbf; text-decoration-color: #7fbfbf\">                    </span><span style=\"color: #008000; text-decoration-color: #008000\">INFO    </span> Slide <span style=\"color: #008000; text-decoration-color: #008000\">'StabilityTypes'</span> configuration written in                            <a href=\"file://c:\\Users\\foler\\AppData\\Local\\Programs\\Python\\Python312\\Lib\\site-packages\\manim_slides\\slide\\base.py\" target=\"_blank\"><span style=\"color: #7f7f7f; text-decoration-color: #7f7f7f\">base.py</span></a><span style=\"color: #7f7f7f; text-decoration-color: #7f7f7f\">:</span><a href=\"file://c:\\Users\\foler\\AppData\\Local\\Programs\\Python\\Python312\\Lib\\site-packages\\manim_slides\\slide\\base.py#611\" target=\"_blank\"><span style=\"color: #7f7f7f; text-decoration-color: #7f7f7f\">611</span></a>\n",
       "<span style=\"color: #7fbfbf; text-decoration-color: #7fbfbf\">                    </span>         <span style=\"color: #008000; text-decoration-color: #008000\">'c:\\Programs\\Github\\TeX-files\\Other\\diplopa-25\\manim\\slides\\StabilityTypes</span> <span style=\"color: #7f7f7f; text-decoration-color: #7f7f7f\">           </span>\n",
       "<span style=\"color: #7fbfbf; text-decoration-color: #7fbfbf\">                    </span>         <span style=\"color: #008000; text-decoration-color: #008000\">.json'</span>                                                                     <span style=\"color: #7f7f7f; text-decoration-color: #7f7f7f\">           </span>\n",
       "</pre>\n"
      ],
      "text/plain": [
       "\u001b[2;36m                   \u001b[0m\u001b[2;36m \u001b[0m\u001b[32mINFO    \u001b[0m Slide \u001b[32m'StabilityTypes'\u001b[0m configuration written in                            \u001b]8;id=153186;file://c:\\Users\\foler\\AppData\\Local\\Programs\\Python\\Python312\\Lib\\site-packages\\manim_slides\\slide\\base.py\u001b\\\u001b[2mbase.py\u001b[0m\u001b]8;;\u001b\\\u001b[2m:\u001b[0m\u001b]8;id=779789;file://c:\\Users\\foler\\AppData\\Local\\Programs\\Python\\Python312\\Lib\\site-packages\\manim_slides\\slide\\base.py#611\u001b\\\u001b[2m611\u001b[0m\u001b]8;;\u001b\\\n",
       "\u001b[2;36m                    \u001b[0m         \u001b[32m'c:\\Programs\\Github\\TeX-files\\Other\\diplopa-25\\manim\\slides\\StabilityTypes\u001b[0m \u001b[2m           \u001b[0m\n",
       "\u001b[2;36m                    \u001b[0m         \u001b[32m.json'\u001b[0m                                                                     \u001b[2m           \u001b[0m\n"
      ]
     },
     "metadata": {},
     "output_type": "display_data"
    },
    {
     "data": {
      "text/html": [
       "<video src=\"media\\jupyter\\StabilityTypes@2025-06-19@16-38-49.mp4\" controls autoplay loop style=\"max-width: 60%;\"  >\n",
       "      Your browser does not support the <code>video</code> element.\n",
       "    </video>"
      ],
      "text/plain": [
       "<IPython.core.display.Video object>"
      ]
     },
     "metadata": {},
     "output_type": "display_data"
    }
   ],
   "source": [
    "%%manim -qp -v WARNING StabilityTypes\n",
    "\n",
    "class StabilityTypes(SWSlide):    \n",
    "    def construct(self):\n",
    "        PAGE_NUM = PageNum(8)\n",
    "        self.add(PAGE_NUM)\n",
    "\n",
    "        title = Title2(\"Способы исследования устойчивости\")\n",
    "\n",
    "        models_names = [\n",
    "            \"Проточная\",\n",
    "            \"Циклическая\",\n",
    "            \"Ветвящаяся\"\n",
    "        ]\n",
    "\n",
    "        models_group = VGroup(*map(lambda x: Text(x, weight=BOLD), models_names)).scale(0.8).arrange(RIGHT, buff=1.0).move_to(UP*1.5)\n",
    "\n",
    "        stability_names = [\n",
    "            [\"Качественная\",\"устойчивость\"],\n",
    "            [\"По первому\",\"приближению\"],\n",
    "            [\"По функции\",\"Ляпунова\"]\n",
    "        ]\n",
    "\n",
    "        stability_group = VGroup(*map(lambda x: Paragraph(*x, alignment=\"center\", line_spacing=0.5), stability_names)).scale(0.8)\n",
    "\n",
    "        models_group[-1].set_color(YELLOW)\n",
    "        stability_group[-1].set_color(YELLOW)\n",
    "\n",
    "        for sg, mg in zip(stability_group, models_group):\n",
    "            sg.next_to(mg, DOWN)\n",
    "            sg.shift(DOWN)\n",
    "\n",
    "        anim_list = [Write(title, run_time=1)] + [FadeIn(mg, shift=UP) for mg in models_group] + [FadeIn(sg, shift=UP) for sg in stability_group]\n",
    "\n",
    "        self.play(AnimationGroup(*anim_list, lag_ratio=0.05))\n",
    "        self.sw()\n",
    "\n",
    "        self.play(\n",
    "            FadeOut(title, shift=UP), \n",
    "            FadeOut(models_group, shift=UP),\n",
    "            FadeOut(stability_group, shift=DOWN),\n",
    "            PAGE_NUM.animate.bump()\n",
    "        )\n",
    "        self.sw()\n",
    "\n"
   ]
  },
  {
   "cell_type": "code",
   "execution_count": 19,
   "metadata": {},
   "outputs": [
    {
     "data": {
      "text/html": [
       "<pre style=\"white-space:pre;overflow-x:auto;line-height:normal;font-family:Menlo,'DejaVu Sans Mono',consolas,'Courier New',monospace\">Manim Community <span style=\"color: #008000; text-decoration-color: #008000\">v0.19.0</span>\n",
       "\n",
       "</pre>\n"
      ],
      "text/plain": [
       "Manim Community \u001b[32mv0.\u001b[0m\u001b[32m19.0\u001b[0m\n",
       "\n"
      ]
     },
     "metadata": {},
     "output_type": "display_data"
    },
    {
     "name": "stderr",
     "output_type": "stream",
     "text": [
      "                                                                                                                                               \r"
     ]
    },
    {
     "data": {
      "text/html": [
       "<pre style=\"white-space:pre;overflow-x:auto;line-height:normal;font-family:Menlo,'DejaVu Sans Mono',consolas,'Courier New',monospace\"><span style=\"color: #7fbfbf; text-decoration-color: #7fbfbf\">[06/12/25 00:39:24] </span><span style=\"color: #000080; text-decoration-color: #000080\">INFO    </span> Generated <span style=\"color: #008080; text-decoration-color: #008080; font-weight: bold\">2</span> slides to                                                      <a href=\"file://c:\\Users\\foler\\AppData\\Local\\Programs\\Python\\Python312\\Lib\\site-packages\\manim_slides\\slide\\base.py\" target=\"_blank\"><span style=\"color: #7f7f7f; text-decoration-color: #7f7f7f\">base.py</span></a><span style=\"color: #7f7f7f; text-decoration-color: #7f7f7f\">:</span><a href=\"file://c:\\Users\\foler\\AppData\\Local\\Programs\\Python\\Python312\\Lib\\site-packages\\manim_slides\\slide\\base.py#599\" target=\"_blank\"><span style=\"color: #7f7f7f; text-decoration-color: #7f7f7f\">599</span></a>\n",
       "<span style=\"color: #7fbfbf; text-decoration-color: #7fbfbf\">                    </span>         <span style=\"color: #008000; text-decoration-color: #008000\">'c:\\Programs\\Github\\TeX-files\\Other\\diplopa-25\\manim\\slides\\files\\SignStab</span> <span style=\"color: #7f7f7f; text-decoration-color: #7f7f7f\">           </span>\n",
       "<span style=\"color: #7fbfbf; text-decoration-color: #7fbfbf\">                    </span>         <span style=\"color: #008000; text-decoration-color: #008000\">ility'</span>                                                                     <span style=\"color: #7f7f7f; text-decoration-color: #7f7f7f\">           </span>\n",
       "</pre>\n"
      ],
      "text/plain": [
       "\u001b[2;36m[06/12/25 00:39:24]\u001b[0m\u001b[2;36m \u001b[0m\u001b[34mINFO    \u001b[0m Generated \u001b[1;36m2\u001b[0m slides to                                                      \u001b]8;id=580223;file://c:\\Users\\foler\\AppData\\Local\\Programs\\Python\\Python312\\Lib\\site-packages\\manim_slides\\slide\\base.py\u001b\\\u001b[2mbase.py\u001b[0m\u001b]8;;\u001b\\\u001b[2m:\u001b[0m\u001b]8;id=820710;file://c:\\Users\\foler\\AppData\\Local\\Programs\\Python\\Python312\\Lib\\site-packages\\manim_slides\\slide\\base.py#599\u001b\\\u001b[2m599\u001b[0m\u001b]8;;\u001b\\\n",
       "\u001b[2;36m                    \u001b[0m         \u001b[32m'c:\\Programs\\Github\\TeX-files\\Other\\diplopa-25\\manim\\slides\\files\\SignStab\u001b[0m \u001b[2m           \u001b[0m\n",
       "\u001b[2;36m                    \u001b[0m         \u001b[32mility'\u001b[0m                                                                     \u001b[2m           \u001b[0m\n"
      ]
     },
     "metadata": {},
     "output_type": "display_data"
    },
    {
     "data": {
      "text/html": [
       "<pre style=\"white-space:pre;overflow-x:auto;line-height:normal;font-family:Menlo,'DejaVu Sans Mono',consolas,'Courier New',monospace\"><span style=\"color: #7fbfbf; text-decoration-color: #7fbfbf\">[06/12/25 00:39:24] </span><span style=\"color: #008000; text-decoration-color: #008000\">INFO    </span> Generated <span style=\"color: #008000; text-decoration-color: #008000\">2</span> slides to                                                      <a href=\"file://c:\\Users\\foler\\AppData\\Local\\Programs\\Python\\Python312\\Lib\\site-packages\\manim_slides\\slide\\base.py\" target=\"_blank\"><span style=\"color: #7f7f7f; text-decoration-color: #7f7f7f\">base.py</span></a><span style=\"color: #7f7f7f; text-decoration-color: #7f7f7f\">:</span><a href=\"file://c:\\Users\\foler\\AppData\\Local\\Programs\\Python\\Python312\\Lib\\site-packages\\manim_slides\\slide\\base.py#599\" target=\"_blank\"><span style=\"color: #7f7f7f; text-decoration-color: #7f7f7f\">599</span></a>\n",
       "<span style=\"color: #7fbfbf; text-decoration-color: #7fbfbf\">                    </span>         <span style=\"color: #008000; text-decoration-color: #008000\">'c:\\Programs\\Github\\TeX-files\\Other\\diplopa-25\\manim\\slides\\files\\SignStab</span> <span style=\"color: #7f7f7f; text-decoration-color: #7f7f7f\">           </span>\n",
       "<span style=\"color: #7fbfbf; text-decoration-color: #7fbfbf\">                    </span>         <span style=\"color: #008000; text-decoration-color: #008000\">ility'</span>                                                                     <span style=\"color: #7f7f7f; text-decoration-color: #7f7f7f\">           </span>\n",
       "</pre>\n"
      ],
      "text/plain": [
       "\u001b[2;36m[06/12/25 00:39:24]\u001b[0m\u001b[2;36m \u001b[0m\u001b[32mINFO    \u001b[0m Generated \u001b[32m2\u001b[0m slides to                                                      \u001b]8;id=779228;file://c:\\Users\\foler\\AppData\\Local\\Programs\\Python\\Python312\\Lib\\site-packages\\manim_slides\\slide\\base.py\u001b\\\u001b[2mbase.py\u001b[0m\u001b]8;;\u001b\\\u001b[2m:\u001b[0m\u001b]8;id=656359;file://c:\\Users\\foler\\AppData\\Local\\Programs\\Python\\Python312\\Lib\\site-packages\\manim_slides\\slide\\base.py#599\u001b\\\u001b[2m599\u001b[0m\u001b]8;;\u001b\\\n",
       "\u001b[2;36m                    \u001b[0m         \u001b[32m'c:\\Programs\\Github\\TeX-files\\Other\\diplopa-25\\manim\\slides\\files\\SignStab\u001b[0m \u001b[2m           \u001b[0m\n",
       "\u001b[2;36m                    \u001b[0m         \u001b[32mility'\u001b[0m                                                                     \u001b[2m           \u001b[0m\n"
      ]
     },
     "metadata": {},
     "output_type": "display_data"
    },
    {
     "data": {
      "text/html": [
       "<pre style=\"white-space:pre;overflow-x:auto;line-height:normal;font-family:Menlo,'DejaVu Sans Mono',consolas,'Courier New',monospace\"><span style=\"color: #7fbfbf; text-decoration-color: #7fbfbf\">                    </span><span style=\"color: #000080; text-decoration-color: #000080\">INFO    </span> Slide <span style=\"color: #008000; text-decoration-color: #008000\">'SignStability'</span> configuration written in                             <a href=\"file://c:\\Users\\foler\\AppData\\Local\\Programs\\Python\\Python312\\Lib\\site-packages\\manim_slides\\slide\\base.py\" target=\"_blank\"><span style=\"color: #7f7f7f; text-decoration-color: #7f7f7f\">base.py</span></a><span style=\"color: #7f7f7f; text-decoration-color: #7f7f7f\">:</span><a href=\"file://c:\\Users\\foler\\AppData\\Local\\Programs\\Python\\Python312\\Lib\\site-packages\\manim_slides\\slide\\base.py#611\" target=\"_blank\"><span style=\"color: #7f7f7f; text-decoration-color: #7f7f7f\">611</span></a>\n",
       "<span style=\"color: #7fbfbf; text-decoration-color: #7fbfbf\">                    </span>         <span style=\"color: #008000; text-decoration-color: #008000\">'c:\\Programs\\Github\\TeX-files\\Other\\diplopa-25\\manim\\slides\\SignStability.</span> <span style=\"color: #7f7f7f; text-decoration-color: #7f7f7f\">           </span>\n",
       "<span style=\"color: #7fbfbf; text-decoration-color: #7fbfbf\">                    </span>         <span style=\"color: #008000; text-decoration-color: #008000\">json'</span>                                                                      <span style=\"color: #7f7f7f; text-decoration-color: #7f7f7f\">           </span>\n",
       "</pre>\n"
      ],
      "text/plain": [
       "\u001b[2;36m                   \u001b[0m\u001b[2;36m \u001b[0m\u001b[34mINFO    \u001b[0m Slide \u001b[32m'SignStability'\u001b[0m configuration written in                             \u001b]8;id=115061;file://c:\\Users\\foler\\AppData\\Local\\Programs\\Python\\Python312\\Lib\\site-packages\\manim_slides\\slide\\base.py\u001b\\\u001b[2mbase.py\u001b[0m\u001b]8;;\u001b\\\u001b[2m:\u001b[0m\u001b]8;id=987805;file://c:\\Users\\foler\\AppData\\Local\\Programs\\Python\\Python312\\Lib\\site-packages\\manim_slides\\slide\\base.py#611\u001b\\\u001b[2m611\u001b[0m\u001b]8;;\u001b\\\n",
       "\u001b[2;36m                    \u001b[0m         \u001b[32m'c:\\Programs\\Github\\TeX-files\\Other\\diplopa-25\\manim\\slides\\SignStability.\u001b[0m \u001b[2m           \u001b[0m\n",
       "\u001b[2;36m                    \u001b[0m         \u001b[32mjson'\u001b[0m                                                                      \u001b[2m           \u001b[0m\n"
      ]
     },
     "metadata": {},
     "output_type": "display_data"
    },
    {
     "data": {
      "text/html": [
       "<pre style=\"white-space:pre;overflow-x:auto;line-height:normal;font-family:Menlo,'DejaVu Sans Mono',consolas,'Courier New',monospace\"><span style=\"color: #7fbfbf; text-decoration-color: #7fbfbf\">                    </span><span style=\"color: #008000; text-decoration-color: #008000\">INFO    </span> Slide <span style=\"color: #008000; text-decoration-color: #008000\">'SignStability'</span> configuration written in                             <a href=\"file://c:\\Users\\foler\\AppData\\Local\\Programs\\Python\\Python312\\Lib\\site-packages\\manim_slides\\slide\\base.py\" target=\"_blank\"><span style=\"color: #7f7f7f; text-decoration-color: #7f7f7f\">base.py</span></a><span style=\"color: #7f7f7f; text-decoration-color: #7f7f7f\">:</span><a href=\"file://c:\\Users\\foler\\AppData\\Local\\Programs\\Python\\Python312\\Lib\\site-packages\\manim_slides\\slide\\base.py#611\" target=\"_blank\"><span style=\"color: #7f7f7f; text-decoration-color: #7f7f7f\">611</span></a>\n",
       "<span style=\"color: #7fbfbf; text-decoration-color: #7fbfbf\">                    </span>         <span style=\"color: #008000; text-decoration-color: #008000\">'c:\\Programs\\Github\\TeX-files\\Other\\diplopa-25\\manim\\slides\\SignStability.</span> <span style=\"color: #7f7f7f; text-decoration-color: #7f7f7f\">           </span>\n",
       "<span style=\"color: #7fbfbf; text-decoration-color: #7fbfbf\">                    </span>         <span style=\"color: #008000; text-decoration-color: #008000\">json'</span>                                                                      <span style=\"color: #7f7f7f; text-decoration-color: #7f7f7f\">           </span>\n",
       "</pre>\n"
      ],
      "text/plain": [
       "\u001b[2;36m                   \u001b[0m\u001b[2;36m \u001b[0m\u001b[32mINFO    \u001b[0m Slide \u001b[32m'SignStability'\u001b[0m configuration written in                             \u001b]8;id=159393;file://c:\\Users\\foler\\AppData\\Local\\Programs\\Python\\Python312\\Lib\\site-packages\\manim_slides\\slide\\base.py\u001b\\\u001b[2mbase.py\u001b[0m\u001b]8;;\u001b\\\u001b[2m:\u001b[0m\u001b]8;id=402341;file://c:\\Users\\foler\\AppData\\Local\\Programs\\Python\\Python312\\Lib\\site-packages\\manim_slides\\slide\\base.py#611\u001b\\\u001b[2m611\u001b[0m\u001b]8;;\u001b\\\n",
       "\u001b[2;36m                    \u001b[0m         \u001b[32m'c:\\Programs\\Github\\TeX-files\\Other\\diplopa-25\\manim\\slides\\SignStability.\u001b[0m \u001b[2m           \u001b[0m\n",
       "\u001b[2;36m                    \u001b[0m         \u001b[32mjson'\u001b[0m                                                                      \u001b[2m           \u001b[0m\n"
      ]
     },
     "metadata": {},
     "output_type": "display_data"
    },
    {
     "data": {
      "text/html": [
       "<video src=\"media\\jupyter\\SignStability@2025-06-12@00-39-24.mp4\" controls autoplay loop style=\"max-width: 60%;\"  >\n",
       "      Your browser does not support the <code>video</code> element.\n",
       "    </video>"
      ],
      "text/plain": [
       "<IPython.core.display.Video object>"
      ]
     },
     "metadata": {},
     "output_type": "display_data"
    }
   ],
   "source": [
    "%%manim -qp -v WARNING SignStability\n",
    "\n",
    "class SignStability(SWSlide):    \n",
    "    def construct(self):\n",
    "        PAGE_NUM = PageNum(9)\n",
    "        self.add(PAGE_NUM)\n",
    "        \n",
    "        sign_stab = Paragraph(\n",
    "            \"Качественной устойчивостью матрицы\",\n",
    "            \"(или знак-устойчивостью) называется\",\n",
    "            \"устойчивость этой матрицы при любых\",\n",
    "            \"значениях абсолютных величин\",\n",
    "            \"её ненулевых элементов\",\n",
    "            alignment=\"center\",\n",
    "            line_spacing=0.5,\n",
    "            t2w={'Качественной устойчивостью матрицы':BOLD}\n",
    "        ).scale(0.9)\n",
    "\n",
    "        sign_stab[0].shift(0.2*UP)\n",
    "\n",
    "        ul = Underline(sign_stab[0])\n",
    "\n",
    "        anim_list = list(map(lambda x: FadeIn(x, shift=UP), sign_stab)) + [Create(ul)]\n",
    "\n",
    "        self.play(AnimationGroup(*anim_list, lag_ratio=0.1))\n",
    "        self.sw()\n",
    "\n",
    "        self.play(FadeOut(sign_stab, shift=DOWN), FadeOut(ul, shift=DOWN), PAGE_NUM.animate.bump())\n",
    "        self.sw()"
   ]
  },
  {
   "cell_type": "code",
   "execution_count": 15,
   "metadata": {},
   "outputs": [
    {
     "data": {
      "text/html": [
       "<pre style=\"white-space:pre;overflow-x:auto;line-height:normal;font-family:Menlo,'DejaVu Sans Mono',consolas,'Courier New',monospace\">Manim Community <span style=\"color: #008000; text-decoration-color: #008000\">v0.19.0</span>\n",
       "\n",
       "</pre>\n"
      ],
      "text/plain": [
       "Manim Community \u001b[32mv0.\u001b[0m\u001b[32m19.0\u001b[0m\n",
       "\n"
      ]
     },
     "metadata": {},
     "output_type": "display_data"
    },
    {
     "name": "stderr",
     "output_type": "stream",
     "text": [
      "                                                                                                                                                   \r"
     ]
    },
    {
     "data": {
      "text/html": [
       "<pre style=\"white-space:pre;overflow-x:auto;line-height:normal;font-family:Menlo,'DejaVu Sans Mono',consolas,'Courier New',monospace\"><span style=\"color: #7fbfbf; text-decoration-color: #7fbfbf\">[06/19/25 17:14:25] </span><span style=\"color: #000080; text-decoration-color: #000080\">INFO    </span> Generated <span style=\"color: #008080; text-decoration-color: #008080; font-weight: bold\">2</span> slides to                                                      <a href=\"file://c:\\Users\\foler\\AppData\\Local\\Programs\\Python\\Python312\\Lib\\site-packages\\manim_slides\\slide\\base.py\" target=\"_blank\"><span style=\"color: #7f7f7f; text-decoration-color: #7f7f7f\">base.py</span></a><span style=\"color: #7f7f7f; text-decoration-color: #7f7f7f\">:</span><a href=\"file://c:\\Users\\foler\\AppData\\Local\\Programs\\Python\\Python312\\Lib\\site-packages\\manim_slides\\slide\\base.py#599\" target=\"_blank\"><span style=\"color: #7f7f7f; text-decoration-color: #7f7f7f\">599</span></a>\n",
       "<span style=\"color: #7fbfbf; text-decoration-color: #7fbfbf\">                    </span>         <span style=\"color: #008000; text-decoration-color: #008000\">'c:\\Programs\\Github\\TeX-files\\Other\\diplopa-25\\manim\\slides\\files\\ExampleF</span> <span style=\"color: #7f7f7f; text-decoration-color: #7f7f7f\">           </span>\n",
       "<span style=\"color: #7fbfbf; text-decoration-color: #7fbfbf\">                    </span>         <span style=\"color: #008000; text-decoration-color: #008000\">low1Intro'</span>                                                                 <span style=\"color: #7f7f7f; text-decoration-color: #7f7f7f\">           </span>\n",
       "</pre>\n"
      ],
      "text/plain": [
       "\u001b[2;36m[06/19/25 17:14:25]\u001b[0m\u001b[2;36m \u001b[0m\u001b[34mINFO    \u001b[0m Generated \u001b[1;36m2\u001b[0m slides to                                                      \u001b]8;id=485791;file://c:\\Users\\foler\\AppData\\Local\\Programs\\Python\\Python312\\Lib\\site-packages\\manim_slides\\slide\\base.py\u001b\\\u001b[2mbase.py\u001b[0m\u001b]8;;\u001b\\\u001b[2m:\u001b[0m\u001b]8;id=405968;file://c:\\Users\\foler\\AppData\\Local\\Programs\\Python\\Python312\\Lib\\site-packages\\manim_slides\\slide\\base.py#599\u001b\\\u001b[2m599\u001b[0m\u001b]8;;\u001b\\\n",
       "\u001b[2;36m                    \u001b[0m         \u001b[32m'c:\\Programs\\Github\\TeX-files\\Other\\diplopa-25\\manim\\slides\\files\\ExampleF\u001b[0m \u001b[2m           \u001b[0m\n",
       "\u001b[2;36m                    \u001b[0m         \u001b[32mlow1Intro'\u001b[0m                                                                 \u001b[2m           \u001b[0m\n"
      ]
     },
     "metadata": {},
     "output_type": "display_data"
    },
    {
     "data": {
      "text/html": [
       "<pre style=\"white-space:pre;overflow-x:auto;line-height:normal;font-family:Menlo,'DejaVu Sans Mono',consolas,'Courier New',monospace\"><span style=\"color: #7fbfbf; text-decoration-color: #7fbfbf\">[06/19/25 17:14:25] </span><span style=\"color: #008000; text-decoration-color: #008000\">INFO    </span> Generated <span style=\"color: #008000; text-decoration-color: #008000\">2</span> slides to                                                      <a href=\"file://c:\\Users\\foler\\AppData\\Local\\Programs\\Python\\Python312\\Lib\\site-packages\\manim_slides\\slide\\base.py\" target=\"_blank\"><span style=\"color: #7f7f7f; text-decoration-color: #7f7f7f\">base.py</span></a><span style=\"color: #7f7f7f; text-decoration-color: #7f7f7f\">:</span><a href=\"file://c:\\Users\\foler\\AppData\\Local\\Programs\\Python\\Python312\\Lib\\site-packages\\manim_slides\\slide\\base.py#599\" target=\"_blank\"><span style=\"color: #7f7f7f; text-decoration-color: #7f7f7f\">599</span></a>\n",
       "<span style=\"color: #7fbfbf; text-decoration-color: #7fbfbf\">                    </span>         <span style=\"color: #008000; text-decoration-color: #008000\">'c:\\Programs\\Github\\TeX-files\\Other\\diplopa-25\\manim\\slides\\files\\ExampleF</span> <span style=\"color: #7f7f7f; text-decoration-color: #7f7f7f\">           </span>\n",
       "<span style=\"color: #7fbfbf; text-decoration-color: #7fbfbf\">                    </span>         <span style=\"color: #008000; text-decoration-color: #008000\">low1Intro'</span>                                                                 <span style=\"color: #7f7f7f; text-decoration-color: #7f7f7f\">           </span>\n",
       "</pre>\n"
      ],
      "text/plain": [
       "\u001b[2;36m[06/19/25 17:14:25]\u001b[0m\u001b[2;36m \u001b[0m\u001b[32mINFO    \u001b[0m Generated \u001b[32m2\u001b[0m slides to                                                      \u001b]8;id=864373;file://c:\\Users\\foler\\AppData\\Local\\Programs\\Python\\Python312\\Lib\\site-packages\\manim_slides\\slide\\base.py\u001b\\\u001b[2mbase.py\u001b[0m\u001b]8;;\u001b\\\u001b[2m:\u001b[0m\u001b]8;id=470165;file://c:\\Users\\foler\\AppData\\Local\\Programs\\Python\\Python312\\Lib\\site-packages\\manim_slides\\slide\\base.py#599\u001b\\\u001b[2m599\u001b[0m\u001b]8;;\u001b\\\n",
       "\u001b[2;36m                    \u001b[0m         \u001b[32m'c:\\Programs\\Github\\TeX-files\\Other\\diplopa-25\\manim\\slides\\files\\ExampleF\u001b[0m \u001b[2m           \u001b[0m\n",
       "\u001b[2;36m                    \u001b[0m         \u001b[32mlow1Intro'\u001b[0m                                                                 \u001b[2m           \u001b[0m\n"
      ]
     },
     "metadata": {},
     "output_type": "display_data"
    },
    {
     "data": {
      "text/html": [
       "<pre style=\"white-space:pre;overflow-x:auto;line-height:normal;font-family:Menlo,'DejaVu Sans Mono',consolas,'Courier New',monospace\"><span style=\"color: #7fbfbf; text-decoration-color: #7fbfbf\">                    </span><span style=\"color: #000080; text-decoration-color: #000080\">INFO    </span> Slide <span style=\"color: #008000; text-decoration-color: #008000\">'ExampleFlow1Intro'</span> configuration written in                         <a href=\"file://c:\\Users\\foler\\AppData\\Local\\Programs\\Python\\Python312\\Lib\\site-packages\\manim_slides\\slide\\base.py\" target=\"_blank\"><span style=\"color: #7f7f7f; text-decoration-color: #7f7f7f\">base.py</span></a><span style=\"color: #7f7f7f; text-decoration-color: #7f7f7f\">:</span><a href=\"file://c:\\Users\\foler\\AppData\\Local\\Programs\\Python\\Python312\\Lib\\site-packages\\manim_slides\\slide\\base.py#611\" target=\"_blank\"><span style=\"color: #7f7f7f; text-decoration-color: #7f7f7f\">611</span></a>\n",
       "<span style=\"color: #7fbfbf; text-decoration-color: #7fbfbf\">                    </span>         <span style=\"color: #008000; text-decoration-color: #008000\">'c:\\Programs\\Github\\TeX-files\\Other\\diplopa-25\\manim\\slides\\ExampleFlow1In</span> <span style=\"color: #7f7f7f; text-decoration-color: #7f7f7f\">           </span>\n",
       "<span style=\"color: #7fbfbf; text-decoration-color: #7fbfbf\">                    </span>         <span style=\"color: #008000; text-decoration-color: #008000\">tro.json'</span>                                                                  <span style=\"color: #7f7f7f; text-decoration-color: #7f7f7f\">           </span>\n",
       "</pre>\n"
      ],
      "text/plain": [
       "\u001b[2;36m                   \u001b[0m\u001b[2;36m \u001b[0m\u001b[34mINFO    \u001b[0m Slide \u001b[32m'ExampleFlow1Intro'\u001b[0m configuration written in                         \u001b]8;id=779875;file://c:\\Users\\foler\\AppData\\Local\\Programs\\Python\\Python312\\Lib\\site-packages\\manim_slides\\slide\\base.py\u001b\\\u001b[2mbase.py\u001b[0m\u001b]8;;\u001b\\\u001b[2m:\u001b[0m\u001b]8;id=861615;file://c:\\Users\\foler\\AppData\\Local\\Programs\\Python\\Python312\\Lib\\site-packages\\manim_slides\\slide\\base.py#611\u001b\\\u001b[2m611\u001b[0m\u001b]8;;\u001b\\\n",
       "\u001b[2;36m                    \u001b[0m         \u001b[32m'c:\\Programs\\Github\\TeX-files\\Other\\diplopa-25\\manim\\slides\\ExampleFlow1In\u001b[0m \u001b[2m           \u001b[0m\n",
       "\u001b[2;36m                    \u001b[0m         \u001b[32mtro.json'\u001b[0m                                                                  \u001b[2m           \u001b[0m\n"
      ]
     },
     "metadata": {},
     "output_type": "display_data"
    },
    {
     "data": {
      "text/html": [
       "<pre style=\"white-space:pre;overflow-x:auto;line-height:normal;font-family:Menlo,'DejaVu Sans Mono',consolas,'Courier New',monospace\"><span style=\"color: #7fbfbf; text-decoration-color: #7fbfbf\">                    </span><span style=\"color: #008000; text-decoration-color: #008000\">INFO    </span> Slide <span style=\"color: #008000; text-decoration-color: #008000\">'ExampleFlow1Intro'</span> configuration written in                         <a href=\"file://c:\\Users\\foler\\AppData\\Local\\Programs\\Python\\Python312\\Lib\\site-packages\\manim_slides\\slide\\base.py\" target=\"_blank\"><span style=\"color: #7f7f7f; text-decoration-color: #7f7f7f\">base.py</span></a><span style=\"color: #7f7f7f; text-decoration-color: #7f7f7f\">:</span><a href=\"file://c:\\Users\\foler\\AppData\\Local\\Programs\\Python\\Python312\\Lib\\site-packages\\manim_slides\\slide\\base.py#611\" target=\"_blank\"><span style=\"color: #7f7f7f; text-decoration-color: #7f7f7f\">611</span></a>\n",
       "<span style=\"color: #7fbfbf; text-decoration-color: #7fbfbf\">                    </span>         <span style=\"color: #008000; text-decoration-color: #008000\">'c:\\Programs\\Github\\TeX-files\\Other\\diplopa-25\\manim\\slides\\ExampleFlow1In</span> <span style=\"color: #7f7f7f; text-decoration-color: #7f7f7f\">           </span>\n",
       "<span style=\"color: #7fbfbf; text-decoration-color: #7fbfbf\">                    </span>         <span style=\"color: #008000; text-decoration-color: #008000\">tro.json'</span>                                                                  <span style=\"color: #7f7f7f; text-decoration-color: #7f7f7f\">           </span>\n",
       "</pre>\n"
      ],
      "text/plain": [
       "\u001b[2;36m                   \u001b[0m\u001b[2;36m \u001b[0m\u001b[32mINFO    \u001b[0m Slide \u001b[32m'ExampleFlow1Intro'\u001b[0m configuration written in                         \u001b]8;id=775145;file://c:\\Users\\foler\\AppData\\Local\\Programs\\Python\\Python312\\Lib\\site-packages\\manim_slides\\slide\\base.py\u001b\\\u001b[2mbase.py\u001b[0m\u001b]8;;\u001b\\\u001b[2m:\u001b[0m\u001b]8;id=442574;file://c:\\Users\\foler\\AppData\\Local\\Programs\\Python\\Python312\\Lib\\site-packages\\manim_slides\\slide\\base.py#611\u001b\\\u001b[2m611\u001b[0m\u001b]8;;\u001b\\\n",
       "\u001b[2;36m                    \u001b[0m         \u001b[32m'c:\\Programs\\Github\\TeX-files\\Other\\diplopa-25\\manim\\slides\\ExampleFlow1In\u001b[0m \u001b[2m           \u001b[0m\n",
       "\u001b[2;36m                    \u001b[0m         \u001b[32mtro.json'\u001b[0m                                                                  \u001b[2m           \u001b[0m\n"
      ]
     },
     "metadata": {},
     "output_type": "display_data"
    },
    {
     "data": {
      "text/html": [
       "<video src=\"media\\jupyter\\ExampleFlow1Intro@2025-06-19@17-14-25.mp4\" controls autoplay loop style=\"max-width: 60%;\"  >\n",
       "      Your browser does not support the <code>video</code> element.\n",
       "    </video>"
      ],
      "text/plain": [
       "<IPython.core.display.Video object>"
      ]
     },
     "metadata": {},
     "output_type": "display_data"
    }
   ],
   "source": [
    "%%manim -qp -v WARNING ExampleFlow1Intro\n",
    "\n",
    "class ExampleFlow1Intro(SWSlide):    \n",
    "    def construct(self):\n",
    "        PAGE_NUM = PageNum(10)\n",
    "        self.add(PAGE_NUM)\n",
    "        title = Title2(\"Пример проточной цепи\")\n",
    "\n",
    "        line = NumberLine(\n",
    "            x_range=[0, 120, 10],\n",
    "            length=12,\n",
    "            numbers_to_include=[0],\n",
    "            numbers_with_elongated_ticks=[0],\n",
    "            include_tip=True,\n",
    "            include_numbers=True,\n",
    "            font_size=40,\n",
    "        )\n",
    "\n",
    "        d_vals = {12.5: MathTex(r\"12.5\"), 95.83: MathTex(r\"95.83\\ldots\")}\n",
    "        line.add_labels(d_vals)\n",
    "        for x in d_vals.keys():\n",
    "            line.add(line.get_tick(x, line.tick_size * 2).set_color(YELLOW))\n",
    "\n",
    "        Q = MathTex(\"Q\").next_to(line, RIGHT).shift(0.2*UP)\n",
    "\n",
    "        sig_stab = Paragraph(\n",
    "            \"Проточная цепь качественно устойчива\",\n",
    "            \"Длина зависит от входящей энергии\",\n",
    "            alignment=\"center\",\n",
    "            line_spacing=1\n",
    "        ).scale(0.9).to_corner(DOWN)\n",
    "\n",
    "        points = [0, 12.5, 95.83, 140]\n",
    "        ii = [1, 2, 3]\n",
    "\n",
    "        shift = 0.2\n",
    "        braces = VGroup(\n",
    "            VGroup(\n",
    "                b := BraceBetweenPoints(*line.n2p([p1+shift, p2-shift]), UP).set_color(YELLOW),\n",
    "                MathTex(fr\"q = {i}\").next_to(b, UP)\n",
    "            ).shift(0.1 * UP)\n",
    "            for p1, p2, i in zip(points[:-1], points[1:], ii)\n",
    "        )\n",
    "\n",
    "        anim_list = list(map(lambda x: FadeIn(x, shift=DOWN), braces))\n",
    "\n",
    "        self.play(\n",
    "            AnimationGroup(\n",
    "                FadeIn(title, shift=UP),\n",
    "                AnimationGroup( FadeIn(sig_stab, shift=DOWN), Write(line, run_time=1.5), Write(Q) ),\n",
    "                AnimationGroup(*anim_list, lag_ratio=0.1),\n",
    "                lag_ratio=0.1\n",
    "            )\n",
    "        )\n",
    "        self.sw()\n",
    "\n",
    "        self.play(\n",
    "            FadeOut(title, shift=UP),\n",
    "            FadeOut(braces, shift=DOWN),\n",
    "            FadeOut(line, shift=DOWN),\n",
    "            FadeOut(Q, shift=DOWN),\n",
    "            FadeOut(sig_stab, shift=DOWN),\n",
    "            PAGE_NUM.animate.bump()\n",
    "        )\n",
    "        self.sw()"
   ]
  },
  {
   "cell_type": "code",
   "execution_count": null,
   "metadata": {},
   "outputs": [
    {
     "data": {
      "text/html": [
       "<pre style=\"white-space:pre;overflow-x:auto;line-height:normal;font-family:Menlo,'DejaVu Sans Mono',consolas,'Courier New',monospace\">Manim Community <span style=\"color: #008000; text-decoration-color: #008000\">v0.19.0</span>\n",
       "\n",
       "</pre>\n"
      ],
      "text/plain": [
       "Manim Community \u001b[32mv0.\u001b[0m\u001b[32m19.0\u001b[0m\n",
       "\n"
      ]
     },
     "metadata": {},
     "output_type": "display_data"
    },
    {
     "name": "stderr",
     "output_type": "stream",
     "text": [
      "                                                                                                                                              \r"
     ]
    },
    {
     "data": {
      "text/html": [
       "<pre style=\"white-space:pre;overflow-x:auto;line-height:normal;font-family:Menlo,'DejaVu Sans Mono',consolas,'Courier New',monospace\"><span style=\"color: #7fbfbf; text-decoration-color: #7fbfbf\">[06/12/25 15:20:17] </span><span style=\"color: #000080; text-decoration-color: #000080\">INFO    </span> Generated <span style=\"color: #008080; text-decoration-color: #008080; font-weight: bold\">8</span> slides to                                                      <a href=\"file://c:\\Users\\foler\\AppData\\Local\\Programs\\Python\\Python312\\Lib\\site-packages\\manim_slides\\slide\\base.py\" target=\"_blank\"><span style=\"color: #7f7f7f; text-decoration-color: #7f7f7f\">base.py</span></a><span style=\"color: #7f7f7f; text-decoration-color: #7f7f7f\">:</span><a href=\"file://c:\\Users\\foler\\AppData\\Local\\Programs\\Python\\Python312\\Lib\\site-packages\\manim_slides\\slide\\base.py#599\" target=\"_blank\"><span style=\"color: #7f7f7f; text-decoration-color: #7f7f7f\">599</span></a>\n",
       "<span style=\"color: #7fbfbf; text-decoration-color: #7fbfbf\">                    </span>         <span style=\"color: #008000; text-decoration-color: #008000\">'c:\\Programs\\Github\\TeX-files\\Other\\diplopa-25\\manim\\slides\\files\\ExampleF</span> <span style=\"color: #7f7f7f; text-decoration-color: #7f7f7f\">           </span>\n",
       "<span style=\"color: #7fbfbf; text-decoration-color: #7fbfbf\">                    </span>         <span style=\"color: #008000; text-decoration-color: #008000\">low1'</span>                                                                      <span style=\"color: #7f7f7f; text-decoration-color: #7f7f7f\">           </span>\n",
       "</pre>\n"
      ],
      "text/plain": [
       "\u001b[2;36m[06/12/25 15:20:17]\u001b[0m\u001b[2;36m \u001b[0m\u001b[34mINFO    \u001b[0m Generated \u001b[1;36m8\u001b[0m slides to                                                      \u001b]8;id=792882;file://c:\\Users\\foler\\AppData\\Local\\Programs\\Python\\Python312\\Lib\\site-packages\\manim_slides\\slide\\base.py\u001b\\\u001b[2mbase.py\u001b[0m\u001b]8;;\u001b\\\u001b[2m:\u001b[0m\u001b]8;id=28772;file://c:\\Users\\foler\\AppData\\Local\\Programs\\Python\\Python312\\Lib\\site-packages\\manim_slides\\slide\\base.py#599\u001b\\\u001b[2m599\u001b[0m\u001b]8;;\u001b\\\n",
       "\u001b[2;36m                    \u001b[0m         \u001b[32m'c:\\Programs\\Github\\TeX-files\\Other\\diplopa-25\\manim\\slides\\files\\ExampleF\u001b[0m \u001b[2m           \u001b[0m\n",
       "\u001b[2;36m                    \u001b[0m         \u001b[32mlow1'\u001b[0m                                                                      \u001b[2m           \u001b[0m\n"
      ]
     },
     "metadata": {},
     "output_type": "display_data"
    },
    {
     "data": {
      "text/html": [
       "<pre style=\"white-space:pre;overflow-x:auto;line-height:normal;font-family:Menlo,'DejaVu Sans Mono',consolas,'Courier New',monospace\"><span style=\"color: #7fbfbf; text-decoration-color: #7fbfbf\">[06/12/25 15:20:17] </span><span style=\"color: #008000; text-decoration-color: #008000\">INFO    </span> Generated <span style=\"color: #008000; text-decoration-color: #008000\">8</span> slides to                                                      <a href=\"file://c:\\Users\\foler\\AppData\\Local\\Programs\\Python\\Python312\\Lib\\site-packages\\manim_slides\\slide\\base.py\" target=\"_blank\"><span style=\"color: #7f7f7f; text-decoration-color: #7f7f7f\">base.py</span></a><span style=\"color: #7f7f7f; text-decoration-color: #7f7f7f\">:</span><a href=\"file://c:\\Users\\foler\\AppData\\Local\\Programs\\Python\\Python312\\Lib\\site-packages\\manim_slides\\slide\\base.py#599\" target=\"_blank\"><span style=\"color: #7f7f7f; text-decoration-color: #7f7f7f\">599</span></a>\n",
       "<span style=\"color: #7fbfbf; text-decoration-color: #7fbfbf\">                    </span>         <span style=\"color: #008000; text-decoration-color: #008000\">'c:\\Programs\\Github\\TeX-files\\Other\\diplopa-25\\manim\\slides\\files\\ExampleF</span> <span style=\"color: #7f7f7f; text-decoration-color: #7f7f7f\">           </span>\n",
       "<span style=\"color: #7fbfbf; text-decoration-color: #7fbfbf\">                    </span>         <span style=\"color: #008000; text-decoration-color: #008000\">low1'</span>                                                                      <span style=\"color: #7f7f7f; text-decoration-color: #7f7f7f\">           </span>\n",
       "</pre>\n"
      ],
      "text/plain": [
       "\u001b[2;36m[06/12/25 15:20:17]\u001b[0m\u001b[2;36m \u001b[0m\u001b[32mINFO    \u001b[0m Generated \u001b[32m8\u001b[0m slides to                                                      \u001b]8;id=958265;file://c:\\Users\\foler\\AppData\\Local\\Programs\\Python\\Python312\\Lib\\site-packages\\manim_slides\\slide\\base.py\u001b\\\u001b[2mbase.py\u001b[0m\u001b]8;;\u001b\\\u001b[2m:\u001b[0m\u001b]8;id=10541;file://c:\\Users\\foler\\AppData\\Local\\Programs\\Python\\Python312\\Lib\\site-packages\\manim_slides\\slide\\base.py#599\u001b\\\u001b[2m599\u001b[0m\u001b]8;;\u001b\\\n",
       "\u001b[2;36m                    \u001b[0m         \u001b[32m'c:\\Programs\\Github\\TeX-files\\Other\\diplopa-25\\manim\\slides\\files\\ExampleF\u001b[0m \u001b[2m           \u001b[0m\n",
       "\u001b[2;36m                    \u001b[0m         \u001b[32mlow1'\u001b[0m                                                                      \u001b[2m           \u001b[0m\n"
      ]
     },
     "metadata": {},
     "output_type": "display_data"
    },
    {
     "data": {
      "text/html": [
       "<pre style=\"white-space:pre;overflow-x:auto;line-height:normal;font-family:Menlo,'DejaVu Sans Mono',consolas,'Courier New',monospace\"><span style=\"color: #7fbfbf; text-decoration-color: #7fbfbf\">                    </span><span style=\"color: #000080; text-decoration-color: #000080\">INFO    </span> Slide <span style=\"color: #008000; text-decoration-color: #008000\">'ExampleFlow1'</span> configuration written in                              <a href=\"file://c:\\Users\\foler\\AppData\\Local\\Programs\\Python\\Python312\\Lib\\site-packages\\manim_slides\\slide\\base.py\" target=\"_blank\"><span style=\"color: #7f7f7f; text-decoration-color: #7f7f7f\">base.py</span></a><span style=\"color: #7f7f7f; text-decoration-color: #7f7f7f\">:</span><a href=\"file://c:\\Users\\foler\\AppData\\Local\\Programs\\Python\\Python312\\Lib\\site-packages\\manim_slides\\slide\\base.py#611\" target=\"_blank\"><span style=\"color: #7f7f7f; text-decoration-color: #7f7f7f\">611</span></a>\n",
       "<span style=\"color: #7fbfbf; text-decoration-color: #7fbfbf\">                    </span>         <span style=\"color: #008000; text-decoration-color: #008000\">'c:\\Programs\\Github\\TeX-files\\Other\\diplopa-25\\manim\\slides\\ExampleFlow1.j</span> <span style=\"color: #7f7f7f; text-decoration-color: #7f7f7f\">           </span>\n",
       "<span style=\"color: #7fbfbf; text-decoration-color: #7fbfbf\">                    </span>         <span style=\"color: #008000; text-decoration-color: #008000\">son'</span>                                                                       <span style=\"color: #7f7f7f; text-decoration-color: #7f7f7f\">           </span>\n",
       "</pre>\n"
      ],
      "text/plain": [
       "\u001b[2;36m                   \u001b[0m\u001b[2;36m \u001b[0m\u001b[34mINFO    \u001b[0m Slide \u001b[32m'ExampleFlow1'\u001b[0m configuration written in                              \u001b]8;id=372837;file://c:\\Users\\foler\\AppData\\Local\\Programs\\Python\\Python312\\Lib\\site-packages\\manim_slides\\slide\\base.py\u001b\\\u001b[2mbase.py\u001b[0m\u001b]8;;\u001b\\\u001b[2m:\u001b[0m\u001b]8;id=375559;file://c:\\Users\\foler\\AppData\\Local\\Programs\\Python\\Python312\\Lib\\site-packages\\manim_slides\\slide\\base.py#611\u001b\\\u001b[2m611\u001b[0m\u001b]8;;\u001b\\\n",
       "\u001b[2;36m                    \u001b[0m         \u001b[32m'c:\\Programs\\Github\\TeX-files\\Other\\diplopa-25\\manim\\slides\\ExampleFlow1.j\u001b[0m \u001b[2m           \u001b[0m\n",
       "\u001b[2;36m                    \u001b[0m         \u001b[32mson'\u001b[0m                                                                       \u001b[2m           \u001b[0m\n"
      ]
     },
     "metadata": {},
     "output_type": "display_data"
    },
    {
     "data": {
      "text/html": [
       "<pre style=\"white-space:pre;overflow-x:auto;line-height:normal;font-family:Menlo,'DejaVu Sans Mono',consolas,'Courier New',monospace\"><span style=\"color: #7fbfbf; text-decoration-color: #7fbfbf\">                    </span><span style=\"color: #008000; text-decoration-color: #008000\">INFO    </span> Slide <span style=\"color: #008000; text-decoration-color: #008000\">'ExampleFlow1'</span> configuration written in                              <a href=\"file://c:\\Users\\foler\\AppData\\Local\\Programs\\Python\\Python312\\Lib\\site-packages\\manim_slides\\slide\\base.py\" target=\"_blank\"><span style=\"color: #7f7f7f; text-decoration-color: #7f7f7f\">base.py</span></a><span style=\"color: #7f7f7f; text-decoration-color: #7f7f7f\">:</span><a href=\"file://c:\\Users\\foler\\AppData\\Local\\Programs\\Python\\Python312\\Lib\\site-packages\\manim_slides\\slide\\base.py#611\" target=\"_blank\"><span style=\"color: #7f7f7f; text-decoration-color: #7f7f7f\">611</span></a>\n",
       "<span style=\"color: #7fbfbf; text-decoration-color: #7fbfbf\">                    </span>         <span style=\"color: #008000; text-decoration-color: #008000\">'c:\\Programs\\Github\\TeX-files\\Other\\diplopa-25\\manim\\slides\\ExampleFlow1.j</span> <span style=\"color: #7f7f7f; text-decoration-color: #7f7f7f\">           </span>\n",
       "<span style=\"color: #7fbfbf; text-decoration-color: #7fbfbf\">                    </span>         <span style=\"color: #008000; text-decoration-color: #008000\">son'</span>                                                                       <span style=\"color: #7f7f7f; text-decoration-color: #7f7f7f\">           </span>\n",
       "</pre>\n"
      ],
      "text/plain": [
       "\u001b[2;36m                   \u001b[0m\u001b[2;36m \u001b[0m\u001b[32mINFO    \u001b[0m Slide \u001b[32m'ExampleFlow1'\u001b[0m configuration written in                              \u001b]8;id=312028;file://c:\\Users\\foler\\AppData\\Local\\Programs\\Python\\Python312\\Lib\\site-packages\\manim_slides\\slide\\base.py\u001b\\\u001b[2mbase.py\u001b[0m\u001b]8;;\u001b\\\u001b[2m:\u001b[0m\u001b]8;id=103837;file://c:\\Users\\foler\\AppData\\Local\\Programs\\Python\\Python312\\Lib\\site-packages\\manim_slides\\slide\\base.py#611\u001b\\\u001b[2m611\u001b[0m\u001b]8;;\u001b\\\n",
       "\u001b[2;36m                    \u001b[0m         \u001b[32m'c:\\Programs\\Github\\TeX-files\\Other\\diplopa-25\\manim\\slides\\ExampleFlow1.j\u001b[0m \u001b[2m           \u001b[0m\n",
       "\u001b[2;36m                    \u001b[0m         \u001b[32mson'\u001b[0m                                                                       \u001b[2m           \u001b[0m\n"
      ]
     },
     "metadata": {},
     "output_type": "display_data"
    },
    {
     "data": {
      "text/html": [
       "<video src=\"media\\jupyter\\ExampleFlow1@2025-06-12@15-20-17.mp4\" controls autoplay loop style=\"max-width: 60%;\"  >\n",
       "      Your browser does not support the <code>video</code> element.\n",
       "    </video>"
      ],
      "text/plain": [
       "<IPython.core.display.Video object>"
      ]
     },
     "metadata": {},
     "output_type": "display_data"
    }
   ],
   "source": [
    "%%manim -qp -v WARNING ExampleFlow1\n",
    "\n",
    "## Not include\n",
    "\n",
    "class ExampleFlow1(SWSlide):\n",
    "    def construct(self):\n",
    "        def get_graph_points(data_main: DataClass, func_v, y0) -> VGroup:\n",
    "            _Q = Q.tracker.get_value()\n",
    "            data = data_main.with_Q(_Q)\n",
    "            \n",
    "            right_flow = get_right_flow(func_v, data)\n",
    "\n",
    "            h = 0.01\n",
    "            X, Y = runge_kutta(\n",
    "                function=right_flow,\n",
    "                time_space_params=(x_max, h),\n",
    "                y0=y0,\n",
    "                Q=_Q,\n",
    "                add=\"_flow_1\"\n",
    "            )\n",
    "\n",
    "            return VGroup(*[ \n",
    "                VMobject().set_points_as_corners(axes.c2p(np.matrix([X, y_i]).T)).set_color(clr)\n",
    "                for y_i, clr in zip(Y.T, colors)\n",
    "            ], *[\n",
    "                DecimalNumber(y_i[-1], num_decimal_places=3)\n",
    "                    .move_to(axes.c2p(X[-1], y_i[-1]))\n",
    "                    .shift(UP/4 + ii * 1.2 * LEFT)\n",
    "                    .set_color(clr)\n",
    "                    .set_stroke(BLACK, width=2, background=True)\n",
    "                for ii, (y_i, clr) in enumerate(zip(Y.T, colors))\n",
    "            ])\n",
    "        \n",
    "        PAGE_NUM = PageNum(12)\n",
    "\n",
    "        x_max = 100\n",
    "        y_max = 10\n",
    "        Q = Variable(0.5, \"Q\", num_decimal_places=2).to_corner(UP)\n",
    "        Q.value.group_with_commas=False\n",
    "\n",
    "        axes = Axes(\n",
    "            x_range=[0, x_max, 10],\n",
    "            y_range=[0, y_max, 2]\n",
    "        ).add_coordinates()\n",
    "\n",
    "\n",
    "        x_label = axes.get_x_axis_label(\"t\", edge=RIGHT, direction=DR)\n",
    "        y_label = axes.get_y_axis_label(\"N\", edge=UP, direction=UL)\n",
    "        axes_labels = VGroup(x_label, y_label)\n",
    "\n",
    "\n",
    "        self.add(axes, axes_labels, Q, PAGE_NUM)\n",
    "        self.play(Write(axes), Write(axes_labels), Write(Q), PAGE_NUM.animate.shift(0.3*DR))\n",
    "        self.sw()\n",
    "\n",
    "        data = DataClass.get_example1()\n",
    "        y0 = (2,)*data.n\n",
    "        \n",
    "        curves = always_redraw(lambda: get_graph_points(data, identity, y0))\n",
    "\n",
    "        \n",
    "        species = VGroup(*[\n",
    "            MathTex(f\"N_{i}\").set_color(c) for i, c in enumerate(colors[:data.n])\n",
    "        ]).arrange().to_corner(UR)\n",
    "\n",
    "        self.play(\n",
    "            AnimationGroup(\n",
    "                Create(curves[:4], run_time=3),\n",
    "                Write(curves[4:], run_time=1),\n",
    "                lag_ratio=0.2\n",
    "            ),\n",
    "            Write(species, run_time=1)\n",
    "        )\n",
    "        self.add(curves, species)\n",
    "        self.sw()\n",
    "\n",
    "        self.play(\n",
    "            Q.tracker.animate.set_value(12), \n",
    "            run_time=3\n",
    "        )\n",
    "        self.sw()\n",
    "        \n",
    "        self.play(\n",
    "            Q.tracker.animate.set_value(13), \n",
    "            run_time=2\n",
    "        )\n",
    "        self.sw(0.1)        \n",
    "        \n",
    "        self.play(\n",
    "            Q.tracker.animate.set_value(95), \n",
    "            run_time=4\n",
    "        )\n",
    "        self.sw(0.1)\n",
    "\n",
    "        self.play(\n",
    "            Q.tracker.animate.set_value(100), \n",
    "            run_time=2\n",
    "        )\n",
    "        self.sw(0.1)\n",
    "\n",
    "        self.play(\n",
    "            Q.tracker.animate.set_value(1000), \n",
    "            run_time=4\n",
    "        )\n",
    "        self.sw(0.1)\n",
    "\n",
    "        self.play(\n",
    "            Uncreate(axes),\n",
    "            Uncreate(curves[:4]),\n",
    "            Unwrite(curves[4:]),\n",
    "            Unwrite(axes_labels),\n",
    "            Unwrite(Q),\n",
    "            Unwrite(species),\n",
    "            PAGE_NUM.animate.bump(),\n",
    "            run_time=2\n",
    "        )\n",
    "        self.sw(0.1)\n"
   ]
  },
  {
   "cell_type": "code",
   "execution_count": 18,
   "metadata": {},
   "outputs": [
    {
     "data": {
      "text/html": [
       "<pre style=\"white-space:pre;overflow-x:auto;line-height:normal;font-family:Menlo,'DejaVu Sans Mono',consolas,'Courier New',monospace\">Manim Community <span style=\"color: #008000; text-decoration-color: #008000\">v0.19.0</span>\n",
       "\n",
       "</pre>\n"
      ],
      "text/plain": [
       "Manim Community \u001b[32mv0.\u001b[0m\u001b[32m19.0\u001b[0m\n",
       "\n"
      ]
     },
     "metadata": {},
     "output_type": "display_data"
    },
    {
     "name": "stderr",
     "output_type": "stream",
     "text": [
      "                                                                                                                                                                                                                                                                                                                        \r"
     ]
    },
    {
     "data": {
      "text/html": [
       "<pre style=\"white-space:pre;overflow-x:auto;line-height:normal;font-family:Menlo,'DejaVu Sans Mono',consolas,'Courier New',monospace\"><span style=\"color: #7fbfbf; text-decoration-color: #7fbfbf\">[06/19/25 17:24:28] </span><span style=\"color: #000080; text-decoration-color: #000080\">INFO    </span> Generated <span style=\"color: #008080; text-decoration-color: #008080; font-weight: bold\">4</span> slides to                                                      <a href=\"file://c:\\Users\\foler\\AppData\\Local\\Programs\\Python\\Python312\\Lib\\site-packages\\manim_slides\\slide\\base.py\" target=\"_blank\"><span style=\"color: #7f7f7f; text-decoration-color: #7f7f7f\">base.py</span></a><span style=\"color: #7f7f7f; text-decoration-color: #7f7f7f\">:</span><a href=\"file://c:\\Users\\foler\\AppData\\Local\\Programs\\Python\\Python312\\Lib\\site-packages\\manim_slides\\slide\\base.py#599\" target=\"_blank\"><span style=\"color: #7f7f7f; text-decoration-color: #7f7f7f\">599</span></a>\n",
       "<span style=\"color: #7fbfbf; text-decoration-color: #7fbfbf\">                    </span>         <span style=\"color: #008000; text-decoration-color: #008000\">'c:\\Programs\\Github\\TeX-files\\Other\\diplopa-25\\manim\\slides\\files\\CycleSpl</span> <span style=\"color: #7f7f7f; text-decoration-color: #7f7f7f\">           </span>\n",
       "<span style=\"color: #7fbfbf; text-decoration-color: #7fbfbf\">                    </span>         <span style=\"color: #008000; text-decoration-color: #008000\">itIntro'</span>                                                                   <span style=\"color: #7f7f7f; text-decoration-color: #7f7f7f\">           </span>\n",
       "</pre>\n"
      ],
      "text/plain": [
       "\u001b[2;36m[06/19/25 17:24:28]\u001b[0m\u001b[2;36m \u001b[0m\u001b[34mINFO    \u001b[0m Generated \u001b[1;36m4\u001b[0m slides to                                                      \u001b]8;id=678785;file://c:\\Users\\foler\\AppData\\Local\\Programs\\Python\\Python312\\Lib\\site-packages\\manim_slides\\slide\\base.py\u001b\\\u001b[2mbase.py\u001b[0m\u001b]8;;\u001b\\\u001b[2m:\u001b[0m\u001b]8;id=425711;file://c:\\Users\\foler\\AppData\\Local\\Programs\\Python\\Python312\\Lib\\site-packages\\manim_slides\\slide\\base.py#599\u001b\\\u001b[2m599\u001b[0m\u001b]8;;\u001b\\\n",
       "\u001b[2;36m                    \u001b[0m         \u001b[32m'c:\\Programs\\Github\\TeX-files\\Other\\diplopa-25\\manim\\slides\\files\\CycleSpl\u001b[0m \u001b[2m           \u001b[0m\n",
       "\u001b[2;36m                    \u001b[0m         \u001b[32mitIntro'\u001b[0m                                                                   \u001b[2m           \u001b[0m\n"
      ]
     },
     "metadata": {},
     "output_type": "display_data"
    },
    {
     "data": {
      "text/html": [
       "<pre style=\"white-space:pre;overflow-x:auto;line-height:normal;font-family:Menlo,'DejaVu Sans Mono',consolas,'Courier New',monospace\"><span style=\"color: #7fbfbf; text-decoration-color: #7fbfbf\">[06/19/25 17:24:28] </span><span style=\"color: #008000; text-decoration-color: #008000\">INFO    </span> Generated <span style=\"color: #008000; text-decoration-color: #008000\">4</span> slides to                                                      <a href=\"file://c:\\Users\\foler\\AppData\\Local\\Programs\\Python\\Python312\\Lib\\site-packages\\manim_slides\\slide\\base.py\" target=\"_blank\"><span style=\"color: #7f7f7f; text-decoration-color: #7f7f7f\">base.py</span></a><span style=\"color: #7f7f7f; text-decoration-color: #7f7f7f\">:</span><a href=\"file://c:\\Users\\foler\\AppData\\Local\\Programs\\Python\\Python312\\Lib\\site-packages\\manim_slides\\slide\\base.py#599\" target=\"_blank\"><span style=\"color: #7f7f7f; text-decoration-color: #7f7f7f\">599</span></a>\n",
       "<span style=\"color: #7fbfbf; text-decoration-color: #7fbfbf\">                    </span>         <span style=\"color: #008000; text-decoration-color: #008000\">'c:\\Programs\\Github\\TeX-files\\Other\\diplopa-25\\manim\\slides\\files\\CycleSpl</span> <span style=\"color: #7f7f7f; text-decoration-color: #7f7f7f\">           </span>\n",
       "<span style=\"color: #7fbfbf; text-decoration-color: #7fbfbf\">                    </span>         <span style=\"color: #008000; text-decoration-color: #008000\">itIntro'</span>                                                                   <span style=\"color: #7f7f7f; text-decoration-color: #7f7f7f\">           </span>\n",
       "</pre>\n"
      ],
      "text/plain": [
       "\u001b[2;36m[06/19/25 17:24:28]\u001b[0m\u001b[2;36m \u001b[0m\u001b[32mINFO    \u001b[0m Generated \u001b[32m4\u001b[0m slides to                                                      \u001b]8;id=487648;file://c:\\Users\\foler\\AppData\\Local\\Programs\\Python\\Python312\\Lib\\site-packages\\manim_slides\\slide\\base.py\u001b\\\u001b[2mbase.py\u001b[0m\u001b]8;;\u001b\\\u001b[2m:\u001b[0m\u001b]8;id=247757;file://c:\\Users\\foler\\AppData\\Local\\Programs\\Python\\Python312\\Lib\\site-packages\\manim_slides\\slide\\base.py#599\u001b\\\u001b[2m599\u001b[0m\u001b]8;;\u001b\\\n",
       "\u001b[2;36m                    \u001b[0m         \u001b[32m'c:\\Programs\\Github\\TeX-files\\Other\\diplopa-25\\manim\\slides\\files\\CycleSpl\u001b[0m \u001b[2m           \u001b[0m\n",
       "\u001b[2;36m                    \u001b[0m         \u001b[32mitIntro'\u001b[0m                                                                   \u001b[2m           \u001b[0m\n"
      ]
     },
     "metadata": {},
     "output_type": "display_data"
    },
    {
     "data": {
      "text/html": [
       "<pre style=\"white-space:pre;overflow-x:auto;line-height:normal;font-family:Menlo,'DejaVu Sans Mono',consolas,'Courier New',monospace\"><span style=\"color: #7fbfbf; text-decoration-color: #7fbfbf\">                    </span><span style=\"color: #000080; text-decoration-color: #000080\">INFO    </span> Slide <span style=\"color: #008000; text-decoration-color: #008000\">'CycleSplitIntro'</span> configuration written in                           <a href=\"file://c:\\Users\\foler\\AppData\\Local\\Programs\\Python\\Python312\\Lib\\site-packages\\manim_slides\\slide\\base.py\" target=\"_blank\"><span style=\"color: #7f7f7f; text-decoration-color: #7f7f7f\">base.py</span></a><span style=\"color: #7f7f7f; text-decoration-color: #7f7f7f\">:</span><a href=\"file://c:\\Users\\foler\\AppData\\Local\\Programs\\Python\\Python312\\Lib\\site-packages\\manim_slides\\slide\\base.py#611\" target=\"_blank\"><span style=\"color: #7f7f7f; text-decoration-color: #7f7f7f\">611</span></a>\n",
       "<span style=\"color: #7fbfbf; text-decoration-color: #7fbfbf\">                    </span>         <span style=\"color: #008000; text-decoration-color: #008000\">'c:\\Programs\\Github\\TeX-files\\Other\\diplopa-25\\manim\\slides\\CycleSplitIntr</span> <span style=\"color: #7f7f7f; text-decoration-color: #7f7f7f\">           </span>\n",
       "<span style=\"color: #7fbfbf; text-decoration-color: #7fbfbf\">                    </span>         <span style=\"color: #008000; text-decoration-color: #008000\">o.json'</span>                                                                    <span style=\"color: #7f7f7f; text-decoration-color: #7f7f7f\">           </span>\n",
       "</pre>\n"
      ],
      "text/plain": [
       "\u001b[2;36m                   \u001b[0m\u001b[2;36m \u001b[0m\u001b[34mINFO    \u001b[0m Slide \u001b[32m'CycleSplitIntro'\u001b[0m configuration written in                           \u001b]8;id=821945;file://c:\\Users\\foler\\AppData\\Local\\Programs\\Python\\Python312\\Lib\\site-packages\\manim_slides\\slide\\base.py\u001b\\\u001b[2mbase.py\u001b[0m\u001b]8;;\u001b\\\u001b[2m:\u001b[0m\u001b]8;id=247948;file://c:\\Users\\foler\\AppData\\Local\\Programs\\Python\\Python312\\Lib\\site-packages\\manim_slides\\slide\\base.py#611\u001b\\\u001b[2m611\u001b[0m\u001b]8;;\u001b\\\n",
       "\u001b[2;36m                    \u001b[0m         \u001b[32m'c:\\Programs\\Github\\TeX-files\\Other\\diplopa-25\\manim\\slides\\CycleSplitIntr\u001b[0m \u001b[2m           \u001b[0m\n",
       "\u001b[2;36m                    \u001b[0m         \u001b[32mo.json'\u001b[0m                                                                    \u001b[2m           \u001b[0m\n"
      ]
     },
     "metadata": {},
     "output_type": "display_data"
    },
    {
     "data": {
      "text/html": [
       "<pre style=\"white-space:pre;overflow-x:auto;line-height:normal;font-family:Menlo,'DejaVu Sans Mono',consolas,'Courier New',monospace\"><span style=\"color: #7fbfbf; text-decoration-color: #7fbfbf\">                    </span><span style=\"color: #008000; text-decoration-color: #008000\">INFO    </span> Slide <span style=\"color: #008000; text-decoration-color: #008000\">'CycleSplitIntro'</span> configuration written in                           <a href=\"file://c:\\Users\\foler\\AppData\\Local\\Programs\\Python\\Python312\\Lib\\site-packages\\manim_slides\\slide\\base.py\" target=\"_blank\"><span style=\"color: #7f7f7f; text-decoration-color: #7f7f7f\">base.py</span></a><span style=\"color: #7f7f7f; text-decoration-color: #7f7f7f\">:</span><a href=\"file://c:\\Users\\foler\\AppData\\Local\\Programs\\Python\\Python312\\Lib\\site-packages\\manim_slides\\slide\\base.py#611\" target=\"_blank\"><span style=\"color: #7f7f7f; text-decoration-color: #7f7f7f\">611</span></a>\n",
       "<span style=\"color: #7fbfbf; text-decoration-color: #7fbfbf\">                    </span>         <span style=\"color: #008000; text-decoration-color: #008000\">'c:\\Programs\\Github\\TeX-files\\Other\\diplopa-25\\manim\\slides\\CycleSplitIntr</span> <span style=\"color: #7f7f7f; text-decoration-color: #7f7f7f\">           </span>\n",
       "<span style=\"color: #7fbfbf; text-decoration-color: #7fbfbf\">                    </span>         <span style=\"color: #008000; text-decoration-color: #008000\">o.json'</span>                                                                    <span style=\"color: #7f7f7f; text-decoration-color: #7f7f7f\">           </span>\n",
       "</pre>\n"
      ],
      "text/plain": [
       "\u001b[2;36m                   \u001b[0m\u001b[2;36m \u001b[0m\u001b[32mINFO    \u001b[0m Slide \u001b[32m'CycleSplitIntro'\u001b[0m configuration written in                           \u001b]8;id=847641;file://c:\\Users\\foler\\AppData\\Local\\Programs\\Python\\Python312\\Lib\\site-packages\\manim_slides\\slide\\base.py\u001b\\\u001b[2mbase.py\u001b[0m\u001b]8;;\u001b\\\u001b[2m:\u001b[0m\u001b]8;id=110778;file://c:\\Users\\foler\\AppData\\Local\\Programs\\Python\\Python312\\Lib\\site-packages\\manim_slides\\slide\\base.py#611\u001b\\\u001b[2m611\u001b[0m\u001b]8;;\u001b\\\n",
       "\u001b[2;36m                    \u001b[0m         \u001b[32m'c:\\Programs\\Github\\TeX-files\\Other\\diplopa-25\\manim\\slides\\CycleSplitIntr\u001b[0m \u001b[2m           \u001b[0m\n",
       "\u001b[2;36m                    \u001b[0m         \u001b[32mo.json'\u001b[0m                                                                    \u001b[2m           \u001b[0m\n"
      ]
     },
     "metadata": {},
     "output_type": "display_data"
    },
    {
     "data": {
      "text/html": [
       "<video src=\"media\\jupyter\\CycleSplitIntro@2025-06-19@17-24-28.mp4\" controls autoplay loop style=\"max-width: 60%;\"  >\n",
       "      Your browser does not support the <code>video</code> element.\n",
       "    </video>"
      ],
      "text/plain": [
       "<IPython.core.display.Video object>"
      ]
     },
     "metadata": {},
     "output_type": "display_data"
    }
   ],
   "source": [
    "%%manim -qp -v WARNING CycleSplitIntro\n",
    "\n",
    "class CycleSplitIntro(SWSlide):    \n",
    "    def construct(self):\n",
    "        PAGE_NUM = PageNum(11)\n",
    "        self.add(PAGE_NUM)\n",
    "\n",
    "        title = Title2(\"Циклическая цепь\")\n",
    "\n",
    "        p1 = Paragraph(\n",
    "            \"Критерии качественной устойчивости\",\n",
    "            \"не применяются к циклической цепи\",\n",
    "            \"\",\n",
    "            \"Для любой длины\",\n",
    "            \"можно определить устойчивость\",\n",
    "            alignment=\"center\"\n",
    "        )\n",
    "\n",
    "        self.play(AnimationGroup( \n",
    "            FadeIn(title, shift=UP), \n",
    "            AnimGroupFunc(p1, FadeIn, lag_ratio=0.1, shift=UP), \n",
    "            lag_ratio=0.1)\n",
    "        )\n",
    "        self.sw()\n",
    "\n",
    "        title2 = Title2(\"Циклическая и ветвящаяся цепи\")\n",
    "        if_near = Paragraph(\n",
    "            \"Если в окрестности равновесия\",\n",
    "            \"система выглядят так:\",\n",
    "            alignment=\"center\"\n",
    "        ).next_to(title2, DOWN)\n",
    "\n",
    "        matrix = Matrix([\n",
    "                [\"-h_1\", \"-d_1\", \"\", \"\", r\"\\mathbf{0}\"], \n",
    "                [\"b_2\", \"-h_2\", \"-d_2\", \"\", \"\"],\n",
    "                [\"\", r\"\\ddots\", r\"\\ddots\", r\"\\ddots\", \"\"],\n",
    "                [\"\", \"\", r\"b_{q-1}\", r\"-h_{q-1}\", r\"-d_{q-1}\"],\n",
    "                [r\"\\mathbf{0}\", \"\", \"\", \"b_q\", \"-h_q\"]\n",
    "            ],\n",
    "            left_bracket=\"(\",\n",
    "            right_bracket=\")\",\n",
    "            h_buff=1.5\n",
    "        ).scale(0.95)\n",
    "        mat_restrict = MathTex(r\"b_i, d_i, h_i > 0, ~ 2 b_0 h_1 > b_1 (c_1 - d_0)\").next_to(matrix, DOWN)\n",
    "        b_q = MathTex(r\"B_q =\").next_to(matrix, LEFT)\n",
    "        grp = VGroup(b_q, matrix, mat_restrict).scale(0.8).shift(DOWN).to_corner(LEFT)\n",
    "\n",
    "        system = MathTex(r\"\"\"\\begin{split}\n",
    "            & \\frac{d \\mathrm{x}}{dt} = B \\mathrm{x} \\mathcolor{yellow}{+ b_1 x_0 \\mathrm{\\delta_1} - d^b_s x'_1 \\mathrm{\\delta_s}}, \\\\\n",
    "            & \\mathcolor{yellow}{\\frac{d \\mathrm{x'}}{dt}= B' \\mathrm{x'} + b'_1 x_s \\mathrm{\\delta_1}}, \\\\\n",
    "            & \\frac{d x_0}{dt} = \\mathrm{c}^T \\mathrm{x} \\mathcolor{yellow}{+ \\mathrm{c'}{}^T \\mathrm{x'}} - b_0 x_0.\n",
    "            \\end{split}\"\"\", \n",
    "            tex_environment=\"equation*\",\n",
    "            tex_template = TexTemplate().add_to_preamble(r\"\\usepackage{xcolor}\")\n",
    "        ).scale(0.9).to_corner(RIGHT).shift(DOWN)\n",
    "\n",
    "        self.play(AnimationGroup(\n",
    "            Transform(title, title2), \n",
    "            AnimGroupFunc(p1[::-1], FadeOut, lag_ratio=0.05, shift=DOWN), \n",
    "            AnimGroupFunc(if_near, FadeIn, lag_ratio=0.05, shift=UP),\n",
    "            PAGE_NUM.animate.bump(),\n",
    "            FadeIn(grp, shift=RIGHT), \n",
    "            FadeIn(system, shift=LEFT),\n",
    "            lag_ratio=0.1)\n",
    "        )\n",
    "        self.sw()\n",
    "\n",
    "        dost_usl = MathTex(r\"b_0 \\left[ b_1 (d_0 - c_1) + b_0 h_1 \\right] > \\frac{b_1^2}{4} \\left( \\sum_{i=2}^{q} \\frac{c_i^2}{h_i \\widetilde{g}_i} \\mathcolor{yellow}{+ \\sum_{k=1}^{r} \\frac{c'_i{}^2}{h_i \\Lambda_s \\widetilde{g}'_i} } \\right)\",\n",
    "            tex_template = TexTemplate().add_to_preamble(r\"\\usepackage{xcolor}\"))\n",
    "\n",
    "        then_near = Paragraph(\n",
    "            \"Тогда достаточное условие\",\n",
    "            \"устойчивости выглядят так:\",\n",
    "            alignment=\"center\"\n",
    "        ).next_to(title2, DOWN)\n",
    "\n",
    "        self.play(\n",
    "            FadeIn(dost_usl, shift=DOWN),\n",
    "            Transform(if_near, then_near),\n",
    "            grp.animate.scale(0.7).to_corner(DOWN),\n",
    "            system.animate.scale(0.7).to_corner(DOWN),\n",
    "        )\n",
    "        self.sw()\n",
    "\n",
    "        self.remove(title, if_near)\n",
    "        \n",
    "        self.play(\n",
    "            AnimGroupFunc([title2] + list(then_near[::]) + [dost_usl], FadeOut, lag_ratio=0.05, shift=UP),\n",
    "            AnimGroupFunc(list(grp[::]) + list(system[::]), FadeOut, lag_ratio=0.05, shift=DOWN),\n",
    "            PAGE_NUM.animate.bump()\n",
    "        )\n",
    "        self.sw()\n",
    "        "
   ]
  },
  {
   "cell_type": "code",
   "execution_count": 20,
   "metadata": {},
   "outputs": [
    {
     "data": {
      "text/html": [
       "<pre style=\"white-space:pre;overflow-x:auto;line-height:normal;font-family:Menlo,'DejaVu Sans Mono',consolas,'Courier New',monospace\">Manim Community <span style=\"color: #008000; text-decoration-color: #008000\">v0.19.0</span>\n",
       "\n",
       "</pre>\n"
      ],
      "text/plain": [
       "Manim Community \u001b[32mv0.\u001b[0m\u001b[32m19.0\u001b[0m\n",
       "\n"
      ]
     },
     "metadata": {},
     "output_type": "display_data"
    },
    {
     "name": "stderr",
     "output_type": "stream",
     "text": [
      "                                                                                                                                                \r"
     ]
    },
    {
     "data": {
      "text/html": [
       "<pre style=\"white-space:pre;overflow-x:auto;line-height:normal;font-family:Menlo,'DejaVu Sans Mono',consolas,'Courier New',monospace\"><span style=\"color: #7fbfbf; text-decoration-color: #7fbfbf\">[06/19/25 17:28:47] </span><span style=\"color: #000080; text-decoration-color: #000080\">INFO    </span> Generated <span style=\"color: #008080; text-decoration-color: #008080; font-weight: bold\">5</span> slides to                                                      <a href=\"file://c:\\Users\\foler\\AppData\\Local\\Programs\\Python\\Python312\\Lib\\site-packages\\manim_slides\\slide\\base.py\" target=\"_blank\"><span style=\"color: #7f7f7f; text-decoration-color: #7f7f7f\">base.py</span></a><span style=\"color: #7f7f7f; text-decoration-color: #7f7f7f\">:</span><a href=\"file://c:\\Users\\foler\\AppData\\Local\\Programs\\Python\\Python312\\Lib\\site-packages\\manim_slides\\slide\\base.py#599\" target=\"_blank\"><span style=\"color: #7f7f7f; text-decoration-color: #7f7f7f\">599</span></a>\n",
       "<span style=\"color: #7fbfbf; text-decoration-color: #7fbfbf\">                    </span>         <span style=\"color: #008000; text-decoration-color: #008000\">'c:\\Programs\\Github\\TeX-files\\Other\\diplopa-25\\manim\\slides\\files\\SplitSta</span> <span style=\"color: #7f7f7f; text-decoration-color: #7f7f7f\">           </span>\n",
       "<span style=\"color: #7fbfbf; text-decoration-color: #7fbfbf\">                    </span>         <span style=\"color: #008000; text-decoration-color: #008000\">bility'</span>                                                                    <span style=\"color: #7f7f7f; text-decoration-color: #7f7f7f\">           </span>\n",
       "</pre>\n"
      ],
      "text/plain": [
       "\u001b[2;36m[06/19/25 17:28:47]\u001b[0m\u001b[2;36m \u001b[0m\u001b[34mINFO    \u001b[0m Generated \u001b[1;36m5\u001b[0m slides to                                                      \u001b]8;id=651337;file://c:\\Users\\foler\\AppData\\Local\\Programs\\Python\\Python312\\Lib\\site-packages\\manim_slides\\slide\\base.py\u001b\\\u001b[2mbase.py\u001b[0m\u001b]8;;\u001b\\\u001b[2m:\u001b[0m\u001b]8;id=619516;file://c:\\Users\\foler\\AppData\\Local\\Programs\\Python\\Python312\\Lib\\site-packages\\manim_slides\\slide\\base.py#599\u001b\\\u001b[2m599\u001b[0m\u001b]8;;\u001b\\\n",
       "\u001b[2;36m                    \u001b[0m         \u001b[32m'c:\\Programs\\Github\\TeX-files\\Other\\diplopa-25\\manim\\slides\\files\\SplitSta\u001b[0m \u001b[2m           \u001b[0m\n",
       "\u001b[2;36m                    \u001b[0m         \u001b[32mbility'\u001b[0m                                                                    \u001b[2m           \u001b[0m\n"
      ]
     },
     "metadata": {},
     "output_type": "display_data"
    },
    {
     "data": {
      "text/html": [
       "<pre style=\"white-space:pre;overflow-x:auto;line-height:normal;font-family:Menlo,'DejaVu Sans Mono',consolas,'Courier New',monospace\"><span style=\"color: #7fbfbf; text-decoration-color: #7fbfbf\">[06/19/25 17:28:47] </span><span style=\"color: #008000; text-decoration-color: #008000\">INFO    </span> Generated <span style=\"color: #008000; text-decoration-color: #008000\">5</span> slides to                                                      <a href=\"file://c:\\Users\\foler\\AppData\\Local\\Programs\\Python\\Python312\\Lib\\site-packages\\manim_slides\\slide\\base.py\" target=\"_blank\"><span style=\"color: #7f7f7f; text-decoration-color: #7f7f7f\">base.py</span></a><span style=\"color: #7f7f7f; text-decoration-color: #7f7f7f\">:</span><a href=\"file://c:\\Users\\foler\\AppData\\Local\\Programs\\Python\\Python312\\Lib\\site-packages\\manim_slides\\slide\\base.py#599\" target=\"_blank\"><span style=\"color: #7f7f7f; text-decoration-color: #7f7f7f\">599</span></a>\n",
       "<span style=\"color: #7fbfbf; text-decoration-color: #7fbfbf\">                    </span>         <span style=\"color: #008000; text-decoration-color: #008000\">'c:\\Programs\\Github\\TeX-files\\Other\\diplopa-25\\manim\\slides\\files\\SplitSta</span> <span style=\"color: #7f7f7f; text-decoration-color: #7f7f7f\">           </span>\n",
       "<span style=\"color: #7fbfbf; text-decoration-color: #7fbfbf\">                    </span>         <span style=\"color: #008000; text-decoration-color: #008000\">bility'</span>                                                                    <span style=\"color: #7f7f7f; text-decoration-color: #7f7f7f\">           </span>\n",
       "</pre>\n"
      ],
      "text/plain": [
       "\u001b[2;36m[06/19/25 17:28:47]\u001b[0m\u001b[2;36m \u001b[0m\u001b[32mINFO    \u001b[0m Generated \u001b[32m5\u001b[0m slides to                                                      \u001b]8;id=456474;file://c:\\Users\\foler\\AppData\\Local\\Programs\\Python\\Python312\\Lib\\site-packages\\manim_slides\\slide\\base.py\u001b\\\u001b[2mbase.py\u001b[0m\u001b]8;;\u001b\\\u001b[2m:\u001b[0m\u001b]8;id=378939;file://c:\\Users\\foler\\AppData\\Local\\Programs\\Python\\Python312\\Lib\\site-packages\\manim_slides\\slide\\base.py#599\u001b\\\u001b[2m599\u001b[0m\u001b]8;;\u001b\\\n",
       "\u001b[2;36m                    \u001b[0m         \u001b[32m'c:\\Programs\\Github\\TeX-files\\Other\\diplopa-25\\manim\\slides\\files\\SplitSta\u001b[0m \u001b[2m           \u001b[0m\n",
       "\u001b[2;36m                    \u001b[0m         \u001b[32mbility'\u001b[0m                                                                    \u001b[2m           \u001b[0m\n"
      ]
     },
     "metadata": {},
     "output_type": "display_data"
    },
    {
     "data": {
      "text/html": [
       "<pre style=\"white-space:pre;overflow-x:auto;line-height:normal;font-family:Menlo,'DejaVu Sans Mono',consolas,'Courier New',monospace\"><span style=\"color: #7fbfbf; text-decoration-color: #7fbfbf\">                    </span><span style=\"color: #000080; text-decoration-color: #000080\">INFO    </span> Slide <span style=\"color: #008000; text-decoration-color: #008000\">'SplitStability'</span> configuration written in                            <a href=\"file://c:\\Users\\foler\\AppData\\Local\\Programs\\Python\\Python312\\Lib\\site-packages\\manim_slides\\slide\\base.py\" target=\"_blank\"><span style=\"color: #7f7f7f; text-decoration-color: #7f7f7f\">base.py</span></a><span style=\"color: #7f7f7f; text-decoration-color: #7f7f7f\">:</span><a href=\"file://c:\\Users\\foler\\AppData\\Local\\Programs\\Python\\Python312\\Lib\\site-packages\\manim_slides\\slide\\base.py#611\" target=\"_blank\"><span style=\"color: #7f7f7f; text-decoration-color: #7f7f7f\">611</span></a>\n",
       "<span style=\"color: #7fbfbf; text-decoration-color: #7fbfbf\">                    </span>         <span style=\"color: #008000; text-decoration-color: #008000\">'c:\\Programs\\Github\\TeX-files\\Other\\diplopa-25\\manim\\slides\\SplitStability</span> <span style=\"color: #7f7f7f; text-decoration-color: #7f7f7f\">           </span>\n",
       "<span style=\"color: #7fbfbf; text-decoration-color: #7fbfbf\">                    </span>         <span style=\"color: #008000; text-decoration-color: #008000\">.json'</span>                                                                     <span style=\"color: #7f7f7f; text-decoration-color: #7f7f7f\">           </span>\n",
       "</pre>\n"
      ],
      "text/plain": [
       "\u001b[2;36m                   \u001b[0m\u001b[2;36m \u001b[0m\u001b[34mINFO    \u001b[0m Slide \u001b[32m'SplitStability'\u001b[0m configuration written in                            \u001b]8;id=806774;file://c:\\Users\\foler\\AppData\\Local\\Programs\\Python\\Python312\\Lib\\site-packages\\manim_slides\\slide\\base.py\u001b\\\u001b[2mbase.py\u001b[0m\u001b]8;;\u001b\\\u001b[2m:\u001b[0m\u001b]8;id=880538;file://c:\\Users\\foler\\AppData\\Local\\Programs\\Python\\Python312\\Lib\\site-packages\\manim_slides\\slide\\base.py#611\u001b\\\u001b[2m611\u001b[0m\u001b]8;;\u001b\\\n",
       "\u001b[2;36m                    \u001b[0m         \u001b[32m'c:\\Programs\\Github\\TeX-files\\Other\\diplopa-25\\manim\\slides\\SplitStability\u001b[0m \u001b[2m           \u001b[0m\n",
       "\u001b[2;36m                    \u001b[0m         \u001b[32m.json'\u001b[0m                                                                     \u001b[2m           \u001b[0m\n"
      ]
     },
     "metadata": {},
     "output_type": "display_data"
    },
    {
     "data": {
      "text/html": [
       "<pre style=\"white-space:pre;overflow-x:auto;line-height:normal;font-family:Menlo,'DejaVu Sans Mono',consolas,'Courier New',monospace\"><span style=\"color: #7fbfbf; text-decoration-color: #7fbfbf\">                    </span><span style=\"color: #008000; text-decoration-color: #008000\">INFO    </span> Slide <span style=\"color: #008000; text-decoration-color: #008000\">'SplitStability'</span> configuration written in                            <a href=\"file://c:\\Users\\foler\\AppData\\Local\\Programs\\Python\\Python312\\Lib\\site-packages\\manim_slides\\slide\\base.py\" target=\"_blank\"><span style=\"color: #7f7f7f; text-decoration-color: #7f7f7f\">base.py</span></a><span style=\"color: #7f7f7f; text-decoration-color: #7f7f7f\">:</span><a href=\"file://c:\\Users\\foler\\AppData\\Local\\Programs\\Python\\Python312\\Lib\\site-packages\\manim_slides\\slide\\base.py#611\" target=\"_blank\"><span style=\"color: #7f7f7f; text-decoration-color: #7f7f7f\">611</span></a>\n",
       "<span style=\"color: #7fbfbf; text-decoration-color: #7fbfbf\">                    </span>         <span style=\"color: #008000; text-decoration-color: #008000\">'c:\\Programs\\Github\\TeX-files\\Other\\diplopa-25\\manim\\slides\\SplitStability</span> <span style=\"color: #7f7f7f; text-decoration-color: #7f7f7f\">           </span>\n",
       "<span style=\"color: #7fbfbf; text-decoration-color: #7fbfbf\">                    </span>         <span style=\"color: #008000; text-decoration-color: #008000\">.json'</span>                                                                     <span style=\"color: #7f7f7f; text-decoration-color: #7f7f7f\">           </span>\n",
       "</pre>\n"
      ],
      "text/plain": [
       "\u001b[2;36m                   \u001b[0m\u001b[2;36m \u001b[0m\u001b[32mINFO    \u001b[0m Slide \u001b[32m'SplitStability'\u001b[0m configuration written in                            \u001b]8;id=868809;file://c:\\Users\\foler\\AppData\\Local\\Programs\\Python\\Python312\\Lib\\site-packages\\manim_slides\\slide\\base.py\u001b\\\u001b[2mbase.py\u001b[0m\u001b]8;;\u001b\\\u001b[2m:\u001b[0m\u001b]8;id=1219;file://c:\\Users\\foler\\AppData\\Local\\Programs\\Python\\Python312\\Lib\\site-packages\\manim_slides\\slide\\base.py#611\u001b\\\u001b[2m611\u001b[0m\u001b]8;;\u001b\\\n",
       "\u001b[2;36m                    \u001b[0m         \u001b[32m'c:\\Programs\\Github\\TeX-files\\Other\\diplopa-25\\manim\\slides\\SplitStability\u001b[0m \u001b[2m           \u001b[0m\n",
       "\u001b[2;36m                    \u001b[0m         \u001b[32m.json'\u001b[0m                                                                     \u001b[2m           \u001b[0m\n"
      ]
     },
     "metadata": {},
     "output_type": "display_data"
    },
    {
     "data": {
      "text/html": [
       "<video src=\"media\\jupyter\\SplitStability@2025-06-19@17-28-47.mp4\" controls autoplay loop style=\"max-width: 60%;\"  >\n",
       "      Your browser does not support the <code>video</code> element.\n",
       "    </video>"
      ],
      "text/plain": [
       "<IPython.core.display.Video object>"
      ]
     },
     "metadata": {},
     "output_type": "display_data"
    }
   ],
   "source": [
    "%%manim -qp -v WARNING SplitStability\n",
    "\n",
    "class SplitStability(SWSlide):    \n",
    "    def construct(self):\n",
    "        PAGE_NUM = PageNum(13)\n",
    "        self.add(PAGE_NUM)\n",
    "\n",
    "        title = Title2(\"Линейная ветвящаяся цепь\")\n",
    "        sub_title = Text(\"С замыканием по первому уровню\").scale(0.6).next_to(title, DOWN)\n",
    "\n",
    "        ust_par = Paragraph(\n",
    "            \"Функция Ляпунова\",\n",
    "            \"+\",\n",
    "            \"Теорема Барбашина-Красовского\",\n",
    "            alignment=\"center\",\n",
    "            line_spacing=1\n",
    "        )\n",
    "\n",
    "        self.play(\n",
    "            Write(title, run_time=1),\n",
    "            Write(sub_title, run_time=1),\n",
    "            FadeIn(ust_par[0], shift=UP),\n",
    "        )\n",
    "        self.sw()\n",
    "\n",
    "        bar_kr = VGroup(\n",
    "            MathTex(r\"\\Bigg(\"),\n",
    "            MathTex(r\"M = \\left\\{ \\mathbf{x} ~ \\Big\\vert ~ \\frac{dV}{dt}(\\mathbf{x}) = 0 \\right\\}\"),\n",
    "            Text(\"содержит только решение\"),\n",
    "            MathTex(r\"\\mathbf{x} = 0\"),\n",
    "            MathTex(r\"\\Bigg)\"),\n",
    "        ).move_to(ORIGIN).arrange(RIGHT).scale(0.7).next_to(ust_par, DOWN*1.5).set_opacity(0.8)\n",
    "        ust_par += bar_kr\n",
    "        bar_kr[2].shift(DOWN*0.05)\n",
    "\n",
    "        self.play(\n",
    "            AnimGroupFunc(ust_par[1:], FadeIn, lag_ratio=0.2, shift=UP)\n",
    "        )\n",
    "        self.sw()\n",
    "\n",
    "        as_ust = Paragraph(\n",
    "            \"=\",\n",
    "            \"Асимптотическая устойчивость\",\n",
    "            alignment=\"center\",\n",
    "            line_spacing=1\n",
    "        ).next_to(ust_par[-2], DOWN)\n",
    "\n",
    "        self.play(\n",
    "            FadeOut(bar_kr, shift=LEFT),\n",
    "            ust_par[:-1].animate.shift(UP*0.5),\n",
    "            AnimGroupFunc(as_ust, FadeIn, lag_ratio=0.2, shift=LEFT)\n",
    "        )\n",
    "        self.sw()\n",
    "\n",
    "        ust_par -= bar_kr\n",
    "        self.remove(bar_kr)\n",
    "\n",
    "        ust_par += as_ust[::]\n",
    "\n",
    "        dyn = Paragraph(\n",
    "            \"Динамика зависит от\",\n",
    "            \"троки чётностей\",\n",
    "            \"разных параметров:\",\n",
    "            alignment=\"left\",\n",
    "            line_spacing=1\n",
    "        ).to_corner(LEFT).shift(DOWN*0.6)\n",
    "\n",
    "        ch_s = VGroup(\n",
    "            Text(\"Уровень начала ветвления\").scale(0.8),\n",
    "            MathTex(\"s\").scale(1.4),\n",
    "        ).arrange(DOWN)\n",
    "        ch_q = VGroup(\n",
    "            Text(\"Длина главной цепи\").scale(0.8),\n",
    "            MathTex(\"q\").scale(1.4),\n",
    "        ).arrange(DOWN)\n",
    "        ch_r = VGroup(\n",
    "            Text(\"Длина боковой цепи\").scale(0.8),\n",
    "            MathTex(\"r\").scale(1.4),\n",
    "        ).arrange(DOWN)\n",
    "\n",
    "        chets = VGroup(ch_s, ch_q, ch_r).arrange(DOWN, buff=0.8).to_corner(RIGHT).shift(DOWN)\n",
    "        \n",
    "        self.play(\n",
    "            AnimGroupFunc(ust_par, FadeOut, lag_ratio=0.1, shift=DOWN),\n",
    "            AnimGroupFunc(dyn, FadeIn, lag_ratio=0.1, shift=RIGHT),\n",
    "            AnimGroupFunc(chets, FadeIn, lag_ratio=0.1, shift=LEFT),\n",
    "        )\n",
    "        self.sw()\n",
    "\n",
    "        self.play(\n",
    "            PAGE_NUM.animate.bump(),\n",
    "            AnimGroupFunc([title, sub_title], Unwrite, lag_ratio=0.1, run_time=1),\n",
    "            AnimGroupFunc(dyn, FadeOut, lag_ratio=0.1, shift=LEFT),\n",
    "            AnimGroupFunc(chets, FadeOut, lag_ratio=0.1, shift=RIGHT),\n",
    "        )\n",
    "        self.sw()\n",
    "        "
   ]
  },
  {
   "cell_type": "code",
   "execution_count": null,
   "metadata": {},
   "outputs": [
    {
     "data": {
      "text/html": [
       "<pre style=\"white-space:pre;overflow-x:auto;line-height:normal;font-family:Menlo,'DejaVu Sans Mono',consolas,'Courier New',monospace\">Manim Community <span style=\"color: #008000; text-decoration-color: #008000\">v0.19.0</span>\n",
       "\n",
       "</pre>\n"
      ],
      "text/plain": [
       "Manim Community \u001b[32mv0.\u001b[0m\u001b[32m19.0\u001b[0m\n",
       "\n"
      ]
     },
     "metadata": {},
     "output_type": "display_data"
    },
    {
     "name": "stderr",
     "output_type": "stream",
     "text": [
      "                                                                                                                                                   \r"
     ]
    },
    {
     "data": {
      "text/html": [
       "<pre style=\"white-space:pre;overflow-x:auto;line-height:normal;font-family:Menlo,'DejaVu Sans Mono',consolas,'Courier New',monospace\"><span style=\"color: #7fbfbf; text-decoration-color: #7fbfbf\">[06/12/25 02:00:04] </span><span style=\"color: #000080; text-decoration-color: #000080\">INFO    </span> Generated <span style=\"color: #008080; text-decoration-color: #008080; font-weight: bold\">5</span> slides to                                                      <a href=\"file://c:\\Users\\foler\\AppData\\Local\\Programs\\Python\\Python312\\Lib\\site-packages\\manim_slides\\slide\\base.py\" target=\"_blank\"><span style=\"color: #7f7f7f; text-decoration-color: #7f7f7f\">base.py</span></a><span style=\"color: #7f7f7f; text-decoration-color: #7f7f7f\">:</span><a href=\"file://c:\\Users\\foler\\AppData\\Local\\Programs\\Python\\Python312\\Lib\\site-packages\\manim_slides\\slide\\base.py#599\" target=\"_blank\"><span style=\"color: #7f7f7f; text-decoration-color: #7f7f7f\">599</span></a>\n",
       "<span style=\"color: #7fbfbf; text-decoration-color: #7fbfbf\">                    </span>         <span style=\"color: #008000; text-decoration-color: #008000\">'c:\\Programs\\Github\\TeX-files\\Other\\diplopa-25\\manim\\slides\\files\\ExampleS</span> <span style=\"color: #7f7f7f; text-decoration-color: #7f7f7f\">           </span>\n",
       "<span style=\"color: #7fbfbf; text-decoration-color: #7fbfbf\">                    </span>         <span style=\"color: #008000; text-decoration-color: #008000\">plitIntro'</span>                                                                 <span style=\"color: #7f7f7f; text-decoration-color: #7f7f7f\">           </span>\n",
       "</pre>\n"
      ],
      "text/plain": [
       "\u001b[2;36m[06/12/25 02:00:04]\u001b[0m\u001b[2;36m \u001b[0m\u001b[34mINFO    \u001b[0m Generated \u001b[1;36m5\u001b[0m slides to                                                      \u001b]8;id=588711;file://c:\\Users\\foler\\AppData\\Local\\Programs\\Python\\Python312\\Lib\\site-packages\\manim_slides\\slide\\base.py\u001b\\\u001b[2mbase.py\u001b[0m\u001b]8;;\u001b\\\u001b[2m:\u001b[0m\u001b]8;id=888805;file://c:\\Users\\foler\\AppData\\Local\\Programs\\Python\\Python312\\Lib\\site-packages\\manim_slides\\slide\\base.py#599\u001b\\\u001b[2m599\u001b[0m\u001b]8;;\u001b\\\n",
       "\u001b[2;36m                    \u001b[0m         \u001b[32m'c:\\Programs\\Github\\TeX-files\\Other\\diplopa-25\\manim\\slides\\files\\ExampleS\u001b[0m \u001b[2m           \u001b[0m\n",
       "\u001b[2;36m                    \u001b[0m         \u001b[32mplitIntro'\u001b[0m                                                                 \u001b[2m           \u001b[0m\n"
      ]
     },
     "metadata": {},
     "output_type": "display_data"
    },
    {
     "data": {
      "text/html": [
       "<pre style=\"white-space:pre;overflow-x:auto;line-height:normal;font-family:Menlo,'DejaVu Sans Mono',consolas,'Courier New',monospace\"><span style=\"color: #7fbfbf; text-decoration-color: #7fbfbf\">[06/12/25 02:00:04] </span><span style=\"color: #008000; text-decoration-color: #008000\">INFO    </span> Generated <span style=\"color: #008000; text-decoration-color: #008000\">5</span> slides to                                                      <a href=\"file://c:\\Users\\foler\\AppData\\Local\\Programs\\Python\\Python312\\Lib\\site-packages\\manim_slides\\slide\\base.py\" target=\"_blank\"><span style=\"color: #7f7f7f; text-decoration-color: #7f7f7f\">base.py</span></a><span style=\"color: #7f7f7f; text-decoration-color: #7f7f7f\">:</span><a href=\"file://c:\\Users\\foler\\AppData\\Local\\Programs\\Python\\Python312\\Lib\\site-packages\\manim_slides\\slide\\base.py#599\" target=\"_blank\"><span style=\"color: #7f7f7f; text-decoration-color: #7f7f7f\">599</span></a>\n",
       "<span style=\"color: #7fbfbf; text-decoration-color: #7fbfbf\">                    </span>         <span style=\"color: #008000; text-decoration-color: #008000\">'c:\\Programs\\Github\\TeX-files\\Other\\diplopa-25\\manim\\slides\\files\\ExampleS</span> <span style=\"color: #7f7f7f; text-decoration-color: #7f7f7f\">           </span>\n",
       "<span style=\"color: #7fbfbf; text-decoration-color: #7fbfbf\">                    </span>         <span style=\"color: #008000; text-decoration-color: #008000\">plitIntro'</span>                                                                 <span style=\"color: #7f7f7f; text-decoration-color: #7f7f7f\">           </span>\n",
       "</pre>\n"
      ],
      "text/plain": [
       "\u001b[2;36m[06/12/25 02:00:04]\u001b[0m\u001b[2;36m \u001b[0m\u001b[32mINFO    \u001b[0m Generated \u001b[32m5\u001b[0m slides to                                                      \u001b]8;id=602839;file://c:\\Users\\foler\\AppData\\Local\\Programs\\Python\\Python312\\Lib\\site-packages\\manim_slides\\slide\\base.py\u001b\\\u001b[2mbase.py\u001b[0m\u001b]8;;\u001b\\\u001b[2m:\u001b[0m\u001b]8;id=874360;file://c:\\Users\\foler\\AppData\\Local\\Programs\\Python\\Python312\\Lib\\site-packages\\manim_slides\\slide\\base.py#599\u001b\\\u001b[2m599\u001b[0m\u001b]8;;\u001b\\\n",
       "\u001b[2;36m                    \u001b[0m         \u001b[32m'c:\\Programs\\Github\\TeX-files\\Other\\diplopa-25\\manim\\slides\\files\\ExampleS\u001b[0m \u001b[2m           \u001b[0m\n",
       "\u001b[2;36m                    \u001b[0m         \u001b[32mplitIntro'\u001b[0m                                                                 \u001b[2m           \u001b[0m\n"
      ]
     },
     "metadata": {},
     "output_type": "display_data"
    },
    {
     "data": {
      "text/html": [
       "<pre style=\"white-space:pre;overflow-x:auto;line-height:normal;font-family:Menlo,'DejaVu Sans Mono',consolas,'Courier New',monospace\"><span style=\"color: #7fbfbf; text-decoration-color: #7fbfbf\">                    </span><span style=\"color: #000080; text-decoration-color: #000080\">INFO    </span> Slide <span style=\"color: #008000; text-decoration-color: #008000\">'ExampleSplitIntro'</span> configuration written in                         <a href=\"file://c:\\Users\\foler\\AppData\\Local\\Programs\\Python\\Python312\\Lib\\site-packages\\manim_slides\\slide\\base.py\" target=\"_blank\"><span style=\"color: #7f7f7f; text-decoration-color: #7f7f7f\">base.py</span></a><span style=\"color: #7f7f7f; text-decoration-color: #7f7f7f\">:</span><a href=\"file://c:\\Users\\foler\\AppData\\Local\\Programs\\Python\\Python312\\Lib\\site-packages\\manim_slides\\slide\\base.py#611\" target=\"_blank\"><span style=\"color: #7f7f7f; text-decoration-color: #7f7f7f\">611</span></a>\n",
       "<span style=\"color: #7fbfbf; text-decoration-color: #7fbfbf\">                    </span>         <span style=\"color: #008000; text-decoration-color: #008000\">'c:\\Programs\\Github\\TeX-files\\Other\\diplopa-25\\manim\\slides\\ExampleSplitIn</span> <span style=\"color: #7f7f7f; text-decoration-color: #7f7f7f\">           </span>\n",
       "<span style=\"color: #7fbfbf; text-decoration-color: #7fbfbf\">                    </span>         <span style=\"color: #008000; text-decoration-color: #008000\">tro.json'</span>                                                                  <span style=\"color: #7f7f7f; text-decoration-color: #7f7f7f\">           </span>\n",
       "</pre>\n"
      ],
      "text/plain": [
       "\u001b[2;36m                   \u001b[0m\u001b[2;36m \u001b[0m\u001b[34mINFO    \u001b[0m Slide \u001b[32m'ExampleSplitIntro'\u001b[0m configuration written in                         \u001b]8;id=885918;file://c:\\Users\\foler\\AppData\\Local\\Programs\\Python\\Python312\\Lib\\site-packages\\manim_slides\\slide\\base.py\u001b\\\u001b[2mbase.py\u001b[0m\u001b]8;;\u001b\\\u001b[2m:\u001b[0m\u001b]8;id=254579;file://c:\\Users\\foler\\AppData\\Local\\Programs\\Python\\Python312\\Lib\\site-packages\\manim_slides\\slide\\base.py#611\u001b\\\u001b[2m611\u001b[0m\u001b]8;;\u001b\\\n",
       "\u001b[2;36m                    \u001b[0m         \u001b[32m'c:\\Programs\\Github\\TeX-files\\Other\\diplopa-25\\manim\\slides\\ExampleSplitIn\u001b[0m \u001b[2m           \u001b[0m\n",
       "\u001b[2;36m                    \u001b[0m         \u001b[32mtro.json'\u001b[0m                                                                  \u001b[2m           \u001b[0m\n"
      ]
     },
     "metadata": {},
     "output_type": "display_data"
    },
    {
     "data": {
      "text/html": [
       "<pre style=\"white-space:pre;overflow-x:auto;line-height:normal;font-family:Menlo,'DejaVu Sans Mono',consolas,'Courier New',monospace\"><span style=\"color: #7fbfbf; text-decoration-color: #7fbfbf\">                    </span><span style=\"color: #008000; text-decoration-color: #008000\">INFO    </span> Slide <span style=\"color: #008000; text-decoration-color: #008000\">'ExampleSplitIntro'</span> configuration written in                         <a href=\"file://c:\\Users\\foler\\AppData\\Local\\Programs\\Python\\Python312\\Lib\\site-packages\\manim_slides\\slide\\base.py\" target=\"_blank\"><span style=\"color: #7f7f7f; text-decoration-color: #7f7f7f\">base.py</span></a><span style=\"color: #7f7f7f; text-decoration-color: #7f7f7f\">:</span><a href=\"file://c:\\Users\\foler\\AppData\\Local\\Programs\\Python\\Python312\\Lib\\site-packages\\manim_slides\\slide\\base.py#611\" target=\"_blank\"><span style=\"color: #7f7f7f; text-decoration-color: #7f7f7f\">611</span></a>\n",
       "<span style=\"color: #7fbfbf; text-decoration-color: #7fbfbf\">                    </span>         <span style=\"color: #008000; text-decoration-color: #008000\">'c:\\Programs\\Github\\TeX-files\\Other\\diplopa-25\\manim\\slides\\ExampleSplitIn</span> <span style=\"color: #7f7f7f; text-decoration-color: #7f7f7f\">           </span>\n",
       "<span style=\"color: #7fbfbf; text-decoration-color: #7fbfbf\">                    </span>         <span style=\"color: #008000; text-decoration-color: #008000\">tro.json'</span>                                                                  <span style=\"color: #7f7f7f; text-decoration-color: #7f7f7f\">           </span>\n",
       "</pre>\n"
      ],
      "text/plain": [
       "\u001b[2;36m                   \u001b[0m\u001b[2;36m \u001b[0m\u001b[32mINFO    \u001b[0m Slide \u001b[32m'ExampleSplitIntro'\u001b[0m configuration written in                         \u001b]8;id=296292;file://c:\\Users\\foler\\AppData\\Local\\Programs\\Python\\Python312\\Lib\\site-packages\\manim_slides\\slide\\base.py\u001b\\\u001b[2mbase.py\u001b[0m\u001b]8;;\u001b\\\u001b[2m:\u001b[0m\u001b]8;id=493791;file://c:\\Users\\foler\\AppData\\Local\\Programs\\Python\\Python312\\Lib\\site-packages\\manim_slides\\slide\\base.py#611\u001b\\\u001b[2m611\u001b[0m\u001b]8;;\u001b\\\n",
       "\u001b[2;36m                    \u001b[0m         \u001b[32m'c:\\Programs\\Github\\TeX-files\\Other\\diplopa-25\\manim\\slides\\ExampleSplitIn\u001b[0m \u001b[2m           \u001b[0m\n",
       "\u001b[2;36m                    \u001b[0m         \u001b[32mtro.json'\u001b[0m                                                                  \u001b[2m           \u001b[0m\n"
      ]
     },
     "metadata": {},
     "output_type": "display_data"
    },
    {
     "data": {
      "text/html": [
       "<video src=\"media\\jupyter\\ExampleSplitIntro@2025-06-12@02-00-04.mp4\" controls autoplay loop style=\"max-width: 60%;\"  >\n",
       "      Your browser does not support the <code>video</code> element.\n",
       "    </video>"
      ],
      "text/plain": [
       "<IPython.core.display.Video object>"
      ]
     },
     "metadata": {},
     "output_type": "display_data"
    }
   ],
   "source": [
    "# %%manim -qp -v WARNING ExampleSplitIntro\n",
    "\n",
    "### Old\n",
    "\n",
    "# class ExampleSplitIntro(SWSlide):    \n",
    "#     def construct(self):\n",
    "#         PAGE_NUM = PageNum(16)\n",
    "#         self.add(PAGE_NUM)\n",
    "\n",
    "#         title = Title2(\"Таблица состояний\")\n",
    "\n",
    "#         tab = MathTable([\n",
    "#             [ r\" q(0.0, 5.14) \\\\ r?(-0.87, -0.36) \",  \"-\",  r\" q(4.28, 9.42) \\\\ r?(-0.87, -0.87) \",  ],\n",
    "#             [ r\" q(5.14, 18.47) \\\\ r(9.3, 15.14) \",  r\" q?(-0.87, 0.29) \\\\ r(15.14, 27.76) \",  r\" q(9.42, 33.87) \\\\ r(27.76, +\\infty) \",  ],\n",
    "#             [ r\" q(18.47, 73.9) \\\\ r?(0.29, 0.8) \",  \"-\",  r\" q(33.87, 89.3) \\\\ r?(0.29, 0.29) \",  ],\n",
    "#             [ r\" q(73.9, +\\infty) \\\\ r(37.23, 60.57) \",  r\" q?(0.29, 0.29) \\\\ r(60.57, 73.19) \",  r\" q(89.3, +\\infty) \\\\ r(73.19, +\\infty) \",  ]\n",
    "#             ],\n",
    "#             include_outer_lines=True,\n",
    "#             row_labels=[Tex(1),Tex(2),Tex(3),Tex(4)],\n",
    "#             col_labels=[Tex(0),Tex(1),Tex(2)],\n",
    "#             top_left_entry=VGroup( MathTex(\"q\"), MathTex(\"r\") ).arrange(UR),\n",
    "#         ).scale(0.6).shift(DOWN*0.7)\n",
    "        \n",
    "#         self.play(FadeIn(tab, shift=UP), FadeIn(title, shift=DOWN))\n",
    "#         self.sw()\n",
    "\n",
    "#         normal = VGroup(\n",
    "#             MathTex(r\"q(x, y), ~ r(x, y) \\Leftrightarrow x < Q < y\"),\n",
    "#             Tex(\"--\"),\n",
    "#             Text(\"ограничение энергии\").scale(0.8)\n",
    "#         ).arrange(RIGHT)\n",
    "#         question = VGroup(\n",
    "#             MathTex(r\"q?(x, y), ~ r?(x, y) \\Leftrightarrow x < 0 < y\"),\n",
    "#             Tex(\"--\"),\n",
    "#             Text(\"условие перехода\").scale(0.8)\n",
    "#         ).arrange(RIGHT)\n",
    "#         grp = VGroup(normal, question).arrange(DOWN).to_corner(UP).shift(UP*0.2)\n",
    "#         normal[-1].shift(DOWN*0.05)\n",
    "#         question[-1].shift(DOWN*0.05)\n",
    "\n",
    "#         examp0 = VGroup(\n",
    "#             Text(\"Пример 0\"),\n",
    "#             MathTex(\"s=2\"),\n",
    "#             MathTex(r\"\\alpha^b_s=16\"),\n",
    "#         ).arrange(DOWN).to_corner(RIGHT).shift(0.2*RIGHT)\n",
    "\n",
    "#         self.play(\n",
    "#             FadeOut(title, shift=UP),\n",
    "#             AnimGroupFunc(examp0, FadeIn, lag_ratio=0.05, shift=LEFT),\n",
    "#             AnimGroupFunc(grp, FadeIn, lag_ratio=0.05, shift=UP),\n",
    "#             tab.animate.shift(LEFT)\n",
    "#         )\n",
    "#         self.sw()\n",
    "\n",
    "#         cell_show = [(1,1), (2,1), (2,2), (2,3), (3,3), (4,3)]\n",
    "                \n",
    "#         cell_show = VGroup(*map(lambda x: tab.get_highlighted_cell((x[0]+1, x[1]+1), color=YELLOW).set_opacity(0.1), cell_show))\n",
    "#         cell_anim = AnimGroupFunc(cell_show, FadeIn, lag_ratio=0.05)\n",
    "\n",
    "#         self.play(cell_anim)\n",
    "#         self.sw()\n",
    "\n",
    "#         tab1 = MathTable([\n",
    "#             [ r\" q(0.0, 5.14) \\\\ r(1.87, 9.0) \",  r\" q?(-1.0, -0.42) \\\\ r(9.0, 12.33) \",  r\" q(0.0, 7.04) \\\\ r(12.33, +\\infty) \",  ],\n",
    "#             [ r\" q(5.14, 18.47) \\\\ r?(-0.42, 0.36) \",  \"-\",  r\" q(7.04, 20.38) \\\\ r?(-0.42, -0.42) \",  ],\n",
    "#             [ r\" q(18.47, 73.9) \\\\ r(6.73, 32.33) \",  r\" q?(-0.42, 1.28) \\\\ r(32.33, 35.66) \",  r\" q(20.38, 81.52) \\\\ r(35.66, +\\infty) \",  ],\n",
    "#             [ r\" q(73.9, +\\infty) \\\\ r?(1.28, 2.07) \",  \"-\",  r\" q(81.52, +\\infty) \\\\ r?(1.28, 1.28) \",  ]\n",
    "#             ],\n",
    "#             include_outer_lines=True,\n",
    "#             row_labels=[Tex(1),Tex(2),Tex(3),Tex(4)],\n",
    "#             col_labels=[Tex(0),Tex(1),Tex(2)],\n",
    "#             top_left_entry=VGroup( MathTex(\"q\"), MathTex(\"r\") ).arrange(UR),\n",
    "#         ).scale(0.6).shift(DOWN*0.7+LEFT)\n",
    "\n",
    "#         examp1 = VGroup(\n",
    "#             Text(\"Пример 1\"),\n",
    "#             MathTex(\"s=1\"),\n",
    "#             MathTex(r\"\\alpha^b_s=8\"),\n",
    "#         ).arrange(DOWN).to_corner(RIGHT).shift(0.2*RIGHT)\n",
    "\n",
    "#         cell_show1 = [(1,1), (2,1), (3,1), (3,2), (3,3), (4,3)]\n",
    "#         cell_show1 = VGroup(*map(lambda x: tab1.get_highlighted_cell((x[0]+1, x[1]+1), color=YELLOW).set_opacity(0.1), cell_show1))\n",
    "\n",
    "#         self.play(\n",
    "#             Transform(tab, tab1),\n",
    "#             TransformMatchingShapes(examp0, examp1),\n",
    "#             AnimGroupFunc(cell_show, FadeOut, lag_ratio=0.05),\n",
    "#             AnimGroupFunc(cell_show1, FadeIn, lag_ratio=0.05),\n",
    "#         )\n",
    "#         self.sw()\n",
    "\n",
    "#         self.remove(tab)\n",
    "#         tab1 += cell_show1\n",
    "#         self.play(\n",
    "#             AnimationGroup(\n",
    "#                 FadeOut(tab1, shift=DOWN),\n",
    "#                 AnimGroupFunc(examp1, FadeOut, lag_ratio=0.05, shift=RIGHT),\n",
    "#                 lag_ratio=0.1\n",
    "#             ),\n",
    "#             AnimGroupFunc(grp, FadeOut, lag_ratio=0.05, shift=UP),\n",
    "#             PAGE_NUM.animate.bump(),\n",
    "#         )\n",
    "#         self.sw()\n",
    "\n"
   ]
  },
  {
   "cell_type": "code",
   "execution_count": 33,
   "metadata": {},
   "outputs": [
    {
     "data": {
      "text/html": [
       "<pre style=\"white-space:pre;overflow-x:auto;line-height:normal;font-family:Menlo,'DejaVu Sans Mono',consolas,'Courier New',monospace\">Manim Community <span style=\"color: #008000; text-decoration-color: #008000\">v0.19.0</span>\n",
       "\n",
       "</pre>\n"
      ],
      "text/plain": [
       "Manim Community \u001b[32mv0.\u001b[0m\u001b[32m19.0\u001b[0m\n",
       "\n"
      ]
     },
     "metadata": {},
     "output_type": "display_data"
    },
    {
     "name": "stderr",
     "output_type": "stream",
     "text": [
      "                                                                                                                                                   \r"
     ]
    },
    {
     "data": {
      "text/html": [
       "<pre style=\"white-space:pre;overflow-x:auto;line-height:normal;font-family:Menlo,'DejaVu Sans Mono',consolas,'Courier New',monospace\"><span style=\"color: #7fbfbf; text-decoration-color: #7fbfbf\">[06/19/25 17:55:33] </span><span style=\"color: #000080; text-decoration-color: #000080\">INFO    </span> Generated <span style=\"color: #008080; text-decoration-color: #008080; font-weight: bold\">5</span> slides to                                                      <a href=\"file://c:\\Users\\foler\\AppData\\Local\\Programs\\Python\\Python312\\Lib\\site-packages\\manim_slides\\slide\\base.py\" target=\"_blank\"><span style=\"color: #7f7f7f; text-decoration-color: #7f7f7f\">base.py</span></a><span style=\"color: #7f7f7f; text-decoration-color: #7f7f7f\">:</span><a href=\"file://c:\\Users\\foler\\AppData\\Local\\Programs\\Python\\Python312\\Lib\\site-packages\\manim_slides\\slide\\base.py#599\" target=\"_blank\"><span style=\"color: #7f7f7f; text-decoration-color: #7f7f7f\">599</span></a>\n",
       "<span style=\"color: #7fbfbf; text-decoration-color: #7fbfbf\">                    </span>         <span style=\"color: #008000; text-decoration-color: #008000\">'c:\\Programs\\Github\\TeX-files\\Other\\diplopa-25\\manim\\slides\\files\\ExampleS</span> <span style=\"color: #7f7f7f; text-decoration-color: #7f7f7f\">           </span>\n",
       "<span style=\"color: #7fbfbf; text-decoration-color: #7fbfbf\">                    </span>         <span style=\"color: #008000; text-decoration-color: #008000\">plitIntro'</span>                                                                 <span style=\"color: #7f7f7f; text-decoration-color: #7f7f7f\">           </span>\n",
       "</pre>\n"
      ],
      "text/plain": [
       "\u001b[2;36m[06/19/25 17:55:33]\u001b[0m\u001b[2;36m \u001b[0m\u001b[34mINFO    \u001b[0m Generated \u001b[1;36m5\u001b[0m slides to                                                      \u001b]8;id=667584;file://c:\\Users\\foler\\AppData\\Local\\Programs\\Python\\Python312\\Lib\\site-packages\\manim_slides\\slide\\base.py\u001b\\\u001b[2mbase.py\u001b[0m\u001b]8;;\u001b\\\u001b[2m:\u001b[0m\u001b]8;id=955761;file://c:\\Users\\foler\\AppData\\Local\\Programs\\Python\\Python312\\Lib\\site-packages\\manim_slides\\slide\\base.py#599\u001b\\\u001b[2m599\u001b[0m\u001b]8;;\u001b\\\n",
       "\u001b[2;36m                    \u001b[0m         \u001b[32m'c:\\Programs\\Github\\TeX-files\\Other\\diplopa-25\\manim\\slides\\files\\ExampleS\u001b[0m \u001b[2m           \u001b[0m\n",
       "\u001b[2;36m                    \u001b[0m         \u001b[32mplitIntro'\u001b[0m                                                                 \u001b[2m           \u001b[0m\n"
      ]
     },
     "metadata": {},
     "output_type": "display_data"
    },
    {
     "data": {
      "text/html": [
       "<pre style=\"white-space:pre;overflow-x:auto;line-height:normal;font-family:Menlo,'DejaVu Sans Mono',consolas,'Courier New',monospace\"><span style=\"color: #7fbfbf; text-decoration-color: #7fbfbf\">[06/19/25 17:55:33] </span><span style=\"color: #008000; text-decoration-color: #008000\">INFO    </span> Generated <span style=\"color: #008000; text-decoration-color: #008000\">5</span> slides to                                                      <a href=\"file://c:\\Users\\foler\\AppData\\Local\\Programs\\Python\\Python312\\Lib\\site-packages\\manim_slides\\slide\\base.py\" target=\"_blank\"><span style=\"color: #7f7f7f; text-decoration-color: #7f7f7f\">base.py</span></a><span style=\"color: #7f7f7f; text-decoration-color: #7f7f7f\">:</span><a href=\"file://c:\\Users\\foler\\AppData\\Local\\Programs\\Python\\Python312\\Lib\\site-packages\\manim_slides\\slide\\base.py#599\" target=\"_blank\"><span style=\"color: #7f7f7f; text-decoration-color: #7f7f7f\">599</span></a>\n",
       "<span style=\"color: #7fbfbf; text-decoration-color: #7fbfbf\">                    </span>         <span style=\"color: #008000; text-decoration-color: #008000\">'c:\\Programs\\Github\\TeX-files\\Other\\diplopa-25\\manim\\slides\\files\\ExampleS</span> <span style=\"color: #7f7f7f; text-decoration-color: #7f7f7f\">           </span>\n",
       "<span style=\"color: #7fbfbf; text-decoration-color: #7fbfbf\">                    </span>         <span style=\"color: #008000; text-decoration-color: #008000\">plitIntro'</span>                                                                 <span style=\"color: #7f7f7f; text-decoration-color: #7f7f7f\">           </span>\n",
       "</pre>\n"
      ],
      "text/plain": [
       "\u001b[2;36m[06/19/25 17:55:33]\u001b[0m\u001b[2;36m \u001b[0m\u001b[32mINFO    \u001b[0m Generated \u001b[32m5\u001b[0m slides to                                                      \u001b]8;id=518396;file://c:\\Users\\foler\\AppData\\Local\\Programs\\Python\\Python312\\Lib\\site-packages\\manim_slides\\slide\\base.py\u001b\\\u001b[2mbase.py\u001b[0m\u001b]8;;\u001b\\\u001b[2m:\u001b[0m\u001b]8;id=631609;file://c:\\Users\\foler\\AppData\\Local\\Programs\\Python\\Python312\\Lib\\site-packages\\manim_slides\\slide\\base.py#599\u001b\\\u001b[2m599\u001b[0m\u001b]8;;\u001b\\\n",
       "\u001b[2;36m                    \u001b[0m         \u001b[32m'c:\\Programs\\Github\\TeX-files\\Other\\diplopa-25\\manim\\slides\\files\\ExampleS\u001b[0m \u001b[2m           \u001b[0m\n",
       "\u001b[2;36m                    \u001b[0m         \u001b[32mplitIntro'\u001b[0m                                                                 \u001b[2m           \u001b[0m\n"
      ]
     },
     "metadata": {},
     "output_type": "display_data"
    },
    {
     "data": {
      "text/html": [
       "<pre style=\"white-space:pre;overflow-x:auto;line-height:normal;font-family:Menlo,'DejaVu Sans Mono',consolas,'Courier New',monospace\"><span style=\"color: #7fbfbf; text-decoration-color: #7fbfbf\">                    </span><span style=\"color: #000080; text-decoration-color: #000080\">INFO    </span> Slide <span style=\"color: #008000; text-decoration-color: #008000\">'ExampleSplitIntro'</span> configuration written in                         <a href=\"file://c:\\Users\\foler\\AppData\\Local\\Programs\\Python\\Python312\\Lib\\site-packages\\manim_slides\\slide\\base.py\" target=\"_blank\"><span style=\"color: #7f7f7f; text-decoration-color: #7f7f7f\">base.py</span></a><span style=\"color: #7f7f7f; text-decoration-color: #7f7f7f\">:</span><a href=\"file://c:\\Users\\foler\\AppData\\Local\\Programs\\Python\\Python312\\Lib\\site-packages\\manim_slides\\slide\\base.py#611\" target=\"_blank\"><span style=\"color: #7f7f7f; text-decoration-color: #7f7f7f\">611</span></a>\n",
       "<span style=\"color: #7fbfbf; text-decoration-color: #7fbfbf\">                    </span>         <span style=\"color: #008000; text-decoration-color: #008000\">'c:\\Programs\\Github\\TeX-files\\Other\\diplopa-25\\manim\\slides\\ExampleSplitIn</span> <span style=\"color: #7f7f7f; text-decoration-color: #7f7f7f\">           </span>\n",
       "<span style=\"color: #7fbfbf; text-decoration-color: #7fbfbf\">                    </span>         <span style=\"color: #008000; text-decoration-color: #008000\">tro.json'</span>                                                                  <span style=\"color: #7f7f7f; text-decoration-color: #7f7f7f\">           </span>\n",
       "</pre>\n"
      ],
      "text/plain": [
       "\u001b[2;36m                   \u001b[0m\u001b[2;36m \u001b[0m\u001b[34mINFO    \u001b[0m Slide \u001b[32m'ExampleSplitIntro'\u001b[0m configuration written in                         \u001b]8;id=182276;file://c:\\Users\\foler\\AppData\\Local\\Programs\\Python\\Python312\\Lib\\site-packages\\manim_slides\\slide\\base.py\u001b\\\u001b[2mbase.py\u001b[0m\u001b]8;;\u001b\\\u001b[2m:\u001b[0m\u001b]8;id=496832;file://c:\\Users\\foler\\AppData\\Local\\Programs\\Python\\Python312\\Lib\\site-packages\\manim_slides\\slide\\base.py#611\u001b\\\u001b[2m611\u001b[0m\u001b]8;;\u001b\\\n",
       "\u001b[2;36m                    \u001b[0m         \u001b[32m'c:\\Programs\\Github\\TeX-files\\Other\\diplopa-25\\manim\\slides\\ExampleSplitIn\u001b[0m \u001b[2m           \u001b[0m\n",
       "\u001b[2;36m                    \u001b[0m         \u001b[32mtro.json'\u001b[0m                                                                  \u001b[2m           \u001b[0m\n"
      ]
     },
     "metadata": {},
     "output_type": "display_data"
    },
    {
     "data": {
      "text/html": [
       "<pre style=\"white-space:pre;overflow-x:auto;line-height:normal;font-family:Menlo,'DejaVu Sans Mono',consolas,'Courier New',monospace\"><span style=\"color: #7fbfbf; text-decoration-color: #7fbfbf\">                    </span><span style=\"color: #008000; text-decoration-color: #008000\">INFO    </span> Slide <span style=\"color: #008000; text-decoration-color: #008000\">'ExampleSplitIntro'</span> configuration written in                         <a href=\"file://c:\\Users\\foler\\AppData\\Local\\Programs\\Python\\Python312\\Lib\\site-packages\\manim_slides\\slide\\base.py\" target=\"_blank\"><span style=\"color: #7f7f7f; text-decoration-color: #7f7f7f\">base.py</span></a><span style=\"color: #7f7f7f; text-decoration-color: #7f7f7f\">:</span><a href=\"file://c:\\Users\\foler\\AppData\\Local\\Programs\\Python\\Python312\\Lib\\site-packages\\manim_slides\\slide\\base.py#611\" target=\"_blank\"><span style=\"color: #7f7f7f; text-decoration-color: #7f7f7f\">611</span></a>\n",
       "<span style=\"color: #7fbfbf; text-decoration-color: #7fbfbf\">                    </span>         <span style=\"color: #008000; text-decoration-color: #008000\">'c:\\Programs\\Github\\TeX-files\\Other\\diplopa-25\\manim\\slides\\ExampleSplitIn</span> <span style=\"color: #7f7f7f; text-decoration-color: #7f7f7f\">           </span>\n",
       "<span style=\"color: #7fbfbf; text-decoration-color: #7fbfbf\">                    </span>         <span style=\"color: #008000; text-decoration-color: #008000\">tro.json'</span>                                                                  <span style=\"color: #7f7f7f; text-decoration-color: #7f7f7f\">           </span>\n",
       "</pre>\n"
      ],
      "text/plain": [
       "\u001b[2;36m                   \u001b[0m\u001b[2;36m \u001b[0m\u001b[32mINFO    \u001b[0m Slide \u001b[32m'ExampleSplitIntro'\u001b[0m configuration written in                         \u001b]8;id=419390;file://c:\\Users\\foler\\AppData\\Local\\Programs\\Python\\Python312\\Lib\\site-packages\\manim_slides\\slide\\base.py\u001b\\\u001b[2mbase.py\u001b[0m\u001b]8;;\u001b\\\u001b[2m:\u001b[0m\u001b]8;id=276772;file://c:\\Users\\foler\\AppData\\Local\\Programs\\Python\\Python312\\Lib\\site-packages\\manim_slides\\slide\\base.py#611\u001b\\\u001b[2m611\u001b[0m\u001b]8;;\u001b\\\n",
       "\u001b[2;36m                    \u001b[0m         \u001b[32m'c:\\Programs\\Github\\TeX-files\\Other\\diplopa-25\\manim\\slides\\ExampleSplitIn\u001b[0m \u001b[2m           \u001b[0m\n",
       "\u001b[2;36m                    \u001b[0m         \u001b[32mtro.json'\u001b[0m                                                                  \u001b[2m           \u001b[0m\n"
      ]
     },
     "metadata": {},
     "output_type": "display_data"
    },
    {
     "data": {
      "text/html": [
       "<video src=\"media\\jupyter\\ExampleSplitIntro@2025-06-19@17-55-33.mp4\" controls autoplay loop style=\"max-width: 60%;\"  >\n",
       "      Your browser does not support the <code>video</code> element.\n",
       "    </video>"
      ],
      "text/plain": [
       "<IPython.core.display.Video object>"
      ]
     },
     "metadata": {},
     "output_type": "display_data"
    }
   ],
   "source": [
    "%%manim -qp -v WARNING ExampleSplitIntro\n",
    "\n",
    "class ExampleSplitIntro(SWSlide):    \n",
    "    def construct(self):\n",
    "        PAGE_NUM = PageNum(14)\n",
    "        self.add(PAGE_NUM)\n",
    "\n",
    "        title = Title2(\"Таблица состояний\")\n",
    "\n",
    "        nqr = VGroup(\n",
    "            MathTex(\"0\", \"<\", \"N_q\", \"<\", r\"\\frac{m_{q+1}}{\\alpha_q k_{q+1}}\"),\n",
    "            MathTex(\"0\", \"<\", \"N'_r\", \"<\", r\"\\frac{m'_{r+1}}{\\alpha'_r k'_{r+1}}\")\n",
    "        ).scale(1.1).arrange(DOWN)\n",
    "\n",
    "        self.play(\n",
    "            FadeIn(nqr, shift=UP),\n",
    "            FadeIn(title, shift=DOWN)\n",
    "        )\n",
    "        self.sw()\n",
    "\n",
    "        tab = MathTable([\n",
    "            [ r\" q(0.0, 5.14) \\\\ r(1.87, 9.0) \",  r\" q?(-1.0, -0.42) \\\\ r(9.0, 12.33) \",  r\" q(0.0, 7.04) \\\\ r(12.33, +\\infty) \",  ],\n",
    "            [ r\" q(5.14, 18.47) \\\\ r?(-0.42, 0.36) \",  \"-\",  r\" q(7.04, 20.38) \\\\ r?(-0.42, -0.42) \",  ],\n",
    "            [ r\" q(18.47, 73.9) \\\\ r(6.73, 32.33) \",  r\" q?(-0.42, 1.28) \\\\ r(32.33, 35.66) \",  r\" q(20.38, 81.52) \\\\ r(35.66, +\\infty) \",  ],\n",
    "            [ r\" q(73.9, +\\infty) \\\\ r?(1.28, 2.07) \",  \"-\",  r\" q(81.52, +\\infty) \\\\ r?(1.28, 1.28) \",  ]\n",
    "            ],\n",
    "            include_outer_lines=True,\n",
    "            row_labels=[Tex(1),Tex(2),Tex(3),Tex(4)],\n",
    "            col_labels=[Tex(0),Tex(1),Tex(2)],\n",
    "            top_left_entry=VGroup( MathTex(\"q\"), MathTex(\"r\") ).arrange(UR),\n",
    "        ).scale(0.6).shift(DOWN*0.7)\n",
    "        \n",
    "        self.play(\n",
    "            AnimGroupFunc(nqr, FadeOut, shift=UP, lag_ratio=0.05),\n",
    "            FadeIn(tab, shift=UP)\n",
    "        )\n",
    "        self.sw()\n",
    "\n",
    "        normal = VGroup(\n",
    "            MathTex(r\"q(x, y), ~ r(x, y) \\Leftrightarrow x < Q < y\"),\n",
    "            Tex(\"--\"),\n",
    "            Text(\"ограничение энергии\").scale(0.8)\n",
    "        ).arrange(RIGHT)\n",
    "        question = VGroup(\n",
    "            MathTex(r\"q?(x, y), ~ r?(x, y) \\Leftrightarrow x < 0 < y\"),\n",
    "            Tex(\"--\"),\n",
    "            Text(\"условие перехода\").scale(0.8)\n",
    "        ).arrange(RIGHT)\n",
    "        grp = VGroup(normal, question).arrange(DOWN).to_corner(UP).shift(UP*0.2)\n",
    "        normal[-1].shift(DOWN*0.05)\n",
    "        question[-1].shift(DOWN*0.05)\n",
    "\n",
    "        examp =  VGroup(\n",
    "            Text(\"Пример 1\"),\n",
    "            MathTex(\"s=1\"),\n",
    "            MathTex(r\"\\alpha^b_s=8\"),\n",
    "        ).arrange(DOWN).to_corner(RIGHT).shift(0.2*RIGHT)\n",
    "\n",
    "        self.play(\n",
    "            FadeOut(title, shift=UP),\n",
    "            AnimGroupFunc(examp, FadeIn, lag_ratio=0.05, shift=LEFT),\n",
    "            AnimGroupFunc(grp, FadeIn, lag_ratio=0.05, shift=UP),\n",
    "            tab.animate.shift(LEFT)\n",
    "        )\n",
    "        self.sw()\n",
    "\n",
    "        cell_show = [(1,1), (2,1), (3,1), (3,2), (3,3), (4,3)]\n",
    "                \n",
    "        cell_show = VGroup(*map(lambda x: tab.get_cell((x[0]+1, x[1]+1), color=YELLOW).scale(0.9), cell_show))\n",
    "        cell_anim = AnimGroupFunc(cell_show, FadeIn, lag_ratio=0.05)\n",
    "\n",
    "        self.play(cell_anim)\n",
    "        self.sw()\n",
    "\n",
    "        tab += cell_show\n",
    "        self.play(\n",
    "            AnimationGroup(\n",
    "                FadeOut(tab, shift=DOWN),\n",
    "                AnimGroupFunc(examp, FadeOut, lag_ratio=0.05, shift=RIGHT),\n",
    "                lag_ratio=0.1\n",
    "            ),\n",
    "            AnimGroupFunc(grp, FadeOut, lag_ratio=0.05, shift=UP),\n",
    "            PAGE_NUM.animate.bump(),\n",
    "        )\n",
    "        self.sw()\n"
   ]
  },
  {
   "cell_type": "code",
   "execution_count": 34,
   "metadata": {},
   "outputs": [
    {
     "data": {
      "text/html": [
       "<pre style=\"white-space:pre;overflow-x:auto;line-height:normal;font-family:Menlo,'DejaVu Sans Mono',consolas,'Courier New',monospace\">Manim Community <span style=\"color: #008000; text-decoration-color: #008000\">v0.19.0</span>\n",
       "\n",
       "</pre>\n"
      ],
      "text/plain": [
       "Manim Community \u001b[32mv0.\u001b[0m\u001b[32m19.0\u001b[0m\n",
       "\n"
      ]
     },
     "metadata": {},
     "output_type": "display_data"
    },
    {
     "name": "stderr",
     "output_type": "stream",
     "text": [
      "                                                                                                                                              \r"
     ]
    },
    {
     "data": {
      "text/html": [
       "<pre style=\"white-space:pre;overflow-x:auto;line-height:normal;font-family:Menlo,'DejaVu Sans Mono',consolas,'Courier New',monospace\"><span style=\"color: #7fbfbf; text-decoration-color: #7fbfbf\">[06/19/25 18:07:48] </span><span style=\"color: #000080; text-decoration-color: #000080\">INFO    </span> Generated <span style=\"color: #008080; text-decoration-color: #008080; font-weight: bold\">7</span> slides to                                                      <a href=\"file://c:\\Users\\foler\\AppData\\Local\\Programs\\Python\\Python312\\Lib\\site-packages\\manim_slides\\slide\\base.py\" target=\"_blank\"><span style=\"color: #7f7f7f; text-decoration-color: #7f7f7f\">base.py</span></a><span style=\"color: #7f7f7f; text-decoration-color: #7f7f7f\">:</span><a href=\"file://c:\\Users\\foler\\AppData\\Local\\Programs\\Python\\Python312\\Lib\\site-packages\\manim_slides\\slide\\base.py#599\" target=\"_blank\"><span style=\"color: #7f7f7f; text-decoration-color: #7f7f7f\">599</span></a>\n",
       "<span style=\"color: #7fbfbf; text-decoration-color: #7fbfbf\">                    </span>         <span style=\"color: #008000; text-decoration-color: #008000\">'c:\\Programs\\Github\\TeX-files\\Other\\diplopa-25\\manim\\slides\\files\\ExampleS</span> <span style=\"color: #7f7f7f; text-decoration-color: #7f7f7f\">           </span>\n",
       "<span style=\"color: #7fbfbf; text-decoration-color: #7fbfbf\">                    </span>         <span style=\"color: #008000; text-decoration-color: #008000\">plit'</span>                                                                      <span style=\"color: #7f7f7f; text-decoration-color: #7f7f7f\">           </span>\n",
       "</pre>\n"
      ],
      "text/plain": [
       "\u001b[2;36m[06/19/25 18:07:48]\u001b[0m\u001b[2;36m \u001b[0m\u001b[34mINFO    \u001b[0m Generated \u001b[1;36m7\u001b[0m slides to                                                      \u001b]8;id=7536;file://c:\\Users\\foler\\AppData\\Local\\Programs\\Python\\Python312\\Lib\\site-packages\\manim_slides\\slide\\base.py\u001b\\\u001b[2mbase.py\u001b[0m\u001b]8;;\u001b\\\u001b[2m:\u001b[0m\u001b]8;id=723644;file://c:\\Users\\foler\\AppData\\Local\\Programs\\Python\\Python312\\Lib\\site-packages\\manim_slides\\slide\\base.py#599\u001b\\\u001b[2m599\u001b[0m\u001b]8;;\u001b\\\n",
       "\u001b[2;36m                    \u001b[0m         \u001b[32m'c:\\Programs\\Github\\TeX-files\\Other\\diplopa-25\\manim\\slides\\files\\ExampleS\u001b[0m \u001b[2m           \u001b[0m\n",
       "\u001b[2;36m                    \u001b[0m         \u001b[32mplit'\u001b[0m                                                                      \u001b[2m           \u001b[0m\n"
      ]
     },
     "metadata": {},
     "output_type": "display_data"
    },
    {
     "data": {
      "text/html": [
       "<pre style=\"white-space:pre;overflow-x:auto;line-height:normal;font-family:Menlo,'DejaVu Sans Mono',consolas,'Courier New',monospace\"><span style=\"color: #7fbfbf; text-decoration-color: #7fbfbf\">[06/19/25 18:07:48] </span><span style=\"color: #008000; text-decoration-color: #008000\">INFO    </span> Generated <span style=\"color: #008000; text-decoration-color: #008000\">7</span> slides to                                                      <a href=\"file://c:\\Users\\foler\\AppData\\Local\\Programs\\Python\\Python312\\Lib\\site-packages\\manim_slides\\slide\\base.py\" target=\"_blank\"><span style=\"color: #7f7f7f; text-decoration-color: #7f7f7f\">base.py</span></a><span style=\"color: #7f7f7f; text-decoration-color: #7f7f7f\">:</span><a href=\"file://c:\\Users\\foler\\AppData\\Local\\Programs\\Python\\Python312\\Lib\\site-packages\\manim_slides\\slide\\base.py#599\" target=\"_blank\"><span style=\"color: #7f7f7f; text-decoration-color: #7f7f7f\">599</span></a>\n",
       "<span style=\"color: #7fbfbf; text-decoration-color: #7fbfbf\">                    </span>         <span style=\"color: #008000; text-decoration-color: #008000\">'c:\\Programs\\Github\\TeX-files\\Other\\diplopa-25\\manim\\slides\\files\\ExampleS</span> <span style=\"color: #7f7f7f; text-decoration-color: #7f7f7f\">           </span>\n",
       "<span style=\"color: #7fbfbf; text-decoration-color: #7fbfbf\">                    </span>         <span style=\"color: #008000; text-decoration-color: #008000\">plit'</span>                                                                      <span style=\"color: #7f7f7f; text-decoration-color: #7f7f7f\">           </span>\n",
       "</pre>\n"
      ],
      "text/plain": [
       "\u001b[2;36m[06/19/25 18:07:48]\u001b[0m\u001b[2;36m \u001b[0m\u001b[32mINFO    \u001b[0m Generated \u001b[32m7\u001b[0m slides to                                                      \u001b]8;id=98343;file://c:\\Users\\foler\\AppData\\Local\\Programs\\Python\\Python312\\Lib\\site-packages\\manim_slides\\slide\\base.py\u001b\\\u001b[2mbase.py\u001b[0m\u001b]8;;\u001b\\\u001b[2m:\u001b[0m\u001b]8;id=3757;file://c:\\Users\\foler\\AppData\\Local\\Programs\\Python\\Python312\\Lib\\site-packages\\manim_slides\\slide\\base.py#599\u001b\\\u001b[2m599\u001b[0m\u001b]8;;\u001b\\\n",
       "\u001b[2;36m                    \u001b[0m         \u001b[32m'c:\\Programs\\Github\\TeX-files\\Other\\diplopa-25\\manim\\slides\\files\\ExampleS\u001b[0m \u001b[2m           \u001b[0m\n",
       "\u001b[2;36m                    \u001b[0m         \u001b[32mplit'\u001b[0m                                                                      \u001b[2m           \u001b[0m\n"
      ]
     },
     "metadata": {},
     "output_type": "display_data"
    },
    {
     "data": {
      "text/html": [
       "<pre style=\"white-space:pre;overflow-x:auto;line-height:normal;font-family:Menlo,'DejaVu Sans Mono',consolas,'Courier New',monospace\"><span style=\"color: #7fbfbf; text-decoration-color: #7fbfbf\">                    </span><span style=\"color: #000080; text-decoration-color: #000080\">INFO    </span> Slide <span style=\"color: #008000; text-decoration-color: #008000\">'ExampleSplit'</span> configuration written in                              <a href=\"file://c:\\Users\\foler\\AppData\\Local\\Programs\\Python\\Python312\\Lib\\site-packages\\manim_slides\\slide\\base.py\" target=\"_blank\"><span style=\"color: #7f7f7f; text-decoration-color: #7f7f7f\">base.py</span></a><span style=\"color: #7f7f7f; text-decoration-color: #7f7f7f\">:</span><a href=\"file://c:\\Users\\foler\\AppData\\Local\\Programs\\Python\\Python312\\Lib\\site-packages\\manim_slides\\slide\\base.py#611\" target=\"_blank\"><span style=\"color: #7f7f7f; text-decoration-color: #7f7f7f\">611</span></a>\n",
       "<span style=\"color: #7fbfbf; text-decoration-color: #7fbfbf\">                    </span>         <span style=\"color: #008000; text-decoration-color: #008000\">'c:\\Programs\\Github\\TeX-files\\Other\\diplopa-25\\manim\\slides\\ExampleSplit.j</span> <span style=\"color: #7f7f7f; text-decoration-color: #7f7f7f\">           </span>\n",
       "<span style=\"color: #7fbfbf; text-decoration-color: #7fbfbf\">                    </span>         <span style=\"color: #008000; text-decoration-color: #008000\">son'</span>                                                                       <span style=\"color: #7f7f7f; text-decoration-color: #7f7f7f\">           </span>\n",
       "</pre>\n"
      ],
      "text/plain": [
       "\u001b[2;36m                   \u001b[0m\u001b[2;36m \u001b[0m\u001b[34mINFO    \u001b[0m Slide \u001b[32m'ExampleSplit'\u001b[0m configuration written in                              \u001b]8;id=598412;file://c:\\Users\\foler\\AppData\\Local\\Programs\\Python\\Python312\\Lib\\site-packages\\manim_slides\\slide\\base.py\u001b\\\u001b[2mbase.py\u001b[0m\u001b]8;;\u001b\\\u001b[2m:\u001b[0m\u001b]8;id=492738;file://c:\\Users\\foler\\AppData\\Local\\Programs\\Python\\Python312\\Lib\\site-packages\\manim_slides\\slide\\base.py#611\u001b\\\u001b[2m611\u001b[0m\u001b]8;;\u001b\\\n",
       "\u001b[2;36m                    \u001b[0m         \u001b[32m'c:\\Programs\\Github\\TeX-files\\Other\\diplopa-25\\manim\\slides\\ExampleSplit.j\u001b[0m \u001b[2m           \u001b[0m\n",
       "\u001b[2;36m                    \u001b[0m         \u001b[32mson'\u001b[0m                                                                       \u001b[2m           \u001b[0m\n"
      ]
     },
     "metadata": {},
     "output_type": "display_data"
    },
    {
     "data": {
      "text/html": [
       "<pre style=\"white-space:pre;overflow-x:auto;line-height:normal;font-family:Menlo,'DejaVu Sans Mono',consolas,'Courier New',monospace\"><span style=\"color: #7fbfbf; text-decoration-color: #7fbfbf\">                    </span><span style=\"color: #008000; text-decoration-color: #008000\">INFO    </span> Slide <span style=\"color: #008000; text-decoration-color: #008000\">'ExampleSplit'</span> configuration written in                              <a href=\"file://c:\\Users\\foler\\AppData\\Local\\Programs\\Python\\Python312\\Lib\\site-packages\\manim_slides\\slide\\base.py\" target=\"_blank\"><span style=\"color: #7f7f7f; text-decoration-color: #7f7f7f\">base.py</span></a><span style=\"color: #7f7f7f; text-decoration-color: #7f7f7f\">:</span><a href=\"file://c:\\Users\\foler\\AppData\\Local\\Programs\\Python\\Python312\\Lib\\site-packages\\manim_slides\\slide\\base.py#611\" target=\"_blank\"><span style=\"color: #7f7f7f; text-decoration-color: #7f7f7f\">611</span></a>\n",
       "<span style=\"color: #7fbfbf; text-decoration-color: #7fbfbf\">                    </span>         <span style=\"color: #008000; text-decoration-color: #008000\">'c:\\Programs\\Github\\TeX-files\\Other\\diplopa-25\\manim\\slides\\ExampleSplit.j</span> <span style=\"color: #7f7f7f; text-decoration-color: #7f7f7f\">           </span>\n",
       "<span style=\"color: #7fbfbf; text-decoration-color: #7fbfbf\">                    </span>         <span style=\"color: #008000; text-decoration-color: #008000\">son'</span>                                                                       <span style=\"color: #7f7f7f; text-decoration-color: #7f7f7f\">           </span>\n",
       "</pre>\n"
      ],
      "text/plain": [
       "\u001b[2;36m                   \u001b[0m\u001b[2;36m \u001b[0m\u001b[32mINFO    \u001b[0m Slide \u001b[32m'ExampleSplit'\u001b[0m configuration written in                              \u001b]8;id=172298;file://c:\\Users\\foler\\AppData\\Local\\Programs\\Python\\Python312\\Lib\\site-packages\\manim_slides\\slide\\base.py\u001b\\\u001b[2mbase.py\u001b[0m\u001b]8;;\u001b\\\u001b[2m:\u001b[0m\u001b]8;id=521595;file://c:\\Users\\foler\\AppData\\Local\\Programs\\Python\\Python312\\Lib\\site-packages\\manim_slides\\slide\\base.py#611\u001b\\\u001b[2m611\u001b[0m\u001b]8;;\u001b\\\n",
       "\u001b[2;36m                    \u001b[0m         \u001b[32m'c:\\Programs\\Github\\TeX-files\\Other\\diplopa-25\\manim\\slides\\ExampleSplit.j\u001b[0m \u001b[2m           \u001b[0m\n",
       "\u001b[2;36m                    \u001b[0m         \u001b[32mson'\u001b[0m                                                                       \u001b[2m           \u001b[0m\n"
      ]
     },
     "metadata": {},
     "output_type": "display_data"
    },
    {
     "data": {
      "text/html": [
       "<video src=\"media\\jupyter\\ExampleSplit@2025-06-19@18-07-48.mp4\" controls autoplay loop style=\"max-width: 60%;\"  >\n",
       "      Your browser does not support the <code>video</code> element.\n",
       "    </video>"
      ],
      "text/plain": [
       "<IPython.core.display.Video object>"
      ]
     },
     "metadata": {},
     "output_type": "display_data"
    }
   ],
   "source": [
    "%%manim -qp -v WARNING ExampleSplit\n",
    "\n",
    "class ExampleSplit(SWSlide):    \n",
    "    def construct(self):\n",
    "        PAGE_NUM = PageNum(15)\n",
    "        self.add(PAGE_NUM)\n",
    "\n",
    "        def get_graph_points(data_main: DataClass, func_v, y0) -> VGroup:\n",
    "            _Q = Q.tracker.get_value()\n",
    "            data = data_main.with_Q(_Q)\n",
    "            \n",
    "            right_flow = get_right_split(func_v, data)\n",
    "\n",
    "            h = 0.01\n",
    "            X, Y = runge_kutta(\n",
    "                function=right_flow,\n",
    "                time_space_params=(x_max, h),\n",
    "                y0=y0,\n",
    "                Q=_Q,\n",
    "                add=\"_s1_a8\"\n",
    "            )\n",
    "\n",
    "            return VGroup(*[ \n",
    "                VMobject().set_points_as_corners(axes.c2p(np.matrix([X, y_i]).T)).set_color(clr)\n",
    "                for y_i, clr in zip(Y.T, colors)\n",
    "            ], *[\n",
    "                DecimalNumber(y_i[-1], num_decimal_places=3)\n",
    "                    .move_to(axes.c2p(X[-1], y_i[-1]))\n",
    "                    .shift(UP/4 + ii * 1.2 * LEFT)\n",
    "                    .set_color(clr)\n",
    "                    .set_stroke(BLACK, width=2, background=True)\n",
    "                for ii, (y_i, clr) in enumerate(zip(Y.T, colors))\n",
    "            ])\n",
    "        \n",
    "\n",
    "        x_max = 100\n",
    "        y_max = 10\n",
    "        Q = Variable(0.5, \"Q\", num_decimal_places=2).to_corner(UP).shift(2*LEFT)\n",
    "        Q.value.group_with_commas=False\n",
    "\n",
    "        axes = Axes(\n",
    "            x_range=[0, x_max, 10],\n",
    "            y_range=[0, y_max, 2]\n",
    "        ).add_coordinates()\n",
    "\n",
    "\n",
    "        x_label = axes.get_x_axis_label(\"t\", edge=RIGHT, direction=DR)\n",
    "        y_label = axes.get_y_axis_label(\"N\", edge=UP, direction=UL)\n",
    "\n",
    "        axes += VGroup(x_label, y_label)\n",
    "\n",
    "\n",
    "        self.play(\n",
    "            Write(axes),\n",
    "            Write(Q), \n",
    "            PAGE_NUM.animate.shift(0.3*DR), \n",
    "            run_time=1\n",
    "        )\n",
    "        self.add(axes, Q)\n",
    "        self.sw()\n",
    "\n",
    "        data = DataClass.get_example_split_s1a8()\n",
    "        q, r = data.n \n",
    "        nn = (1 + q + r)\n",
    "        y0 = (0.5,) * nn\n",
    "        \n",
    "        curves = always_redraw(lambda: get_graph_points(data, identity, y0))\n",
    "\n",
    "        \n",
    "        species = VGroup(*[\n",
    "            MathTex(f\"N{\"'\" if i > q else \"\"}_{i if i <= q else i %(1+q) + 1}\").set_color(c) for i, c in enumerate(colors[:nn])\n",
    "        ]).arrange().to_corner(UR)\n",
    "\n",
    "        self.play(\n",
    "            AnimationGroup(\n",
    "                Create(curves[:nn], run_time=2),\n",
    "                Write(curves[nn:], run_time=1),\n",
    "                lag_ratio=0.2\n",
    "            ),\n",
    "            Write(species, run_time=1)\n",
    "        )\n",
    "        self.add(curves, species)\n",
    "        self.sw()\n",
    "\n",
    "        self.play(\n",
    "            Q.tracker.animate.set_value(30), \n",
    "            run_time=3\n",
    "        )\n",
    "        self.sw(0.1)\n",
    "        \n",
    "        self.play(\n",
    "            Q.tracker.animate.set_value(80), \n",
    "            run_time=4\n",
    "        )\n",
    "        self.sw(0.1)        \n",
    "        \n",
    "        self.play(\n",
    "            Q.tracker.animate.set_value(100), \n",
    "            run_time=2\n",
    "        )\n",
    "        self.sw(0.1)\n",
    "        \n",
    "        self.play(\n",
    "            Q.tracker.animate.set_value(1000), \n",
    "            run_time=3\n",
    "        )\n",
    "        self.sw(0.1)\n",
    "\n",
    "        self.play(\n",
    "            Uncreate(axes),\n",
    "            Uncreate(curves[:nn]),\n",
    "            Unwrite(curves[nn:]),\n",
    "            Unwrite(Q),\n",
    "            Unwrite(species),\n",
    "            PAGE_NUM.animate.bump(),\n",
    "            run_time=2\n",
    "        )\n",
    "        self.sw(0.1)"
   ]
  },
  {
   "cell_type": "code",
   "execution_count": 2,
   "metadata": {},
   "outputs": [
    {
     "data": {
      "text/html": [
       "<pre style=\"white-space:pre;overflow-x:auto;line-height:normal;font-family:Menlo,'DejaVu Sans Mono',consolas,'Courier New',monospace\">Manim Community <span style=\"color: #008000; text-decoration-color: #008000\">v0.19.0</span>\n",
       "\n",
       "</pre>\n"
      ],
      "text/plain": [
       "Manim Community \u001b[32mv0.\u001b[0m\u001b[32m19.0\u001b[0m\n",
       "\n"
      ]
     },
     "metadata": {},
     "output_type": "display_data"
    },
    {
     "name": "stderr",
     "output_type": "stream",
     "text": [
      "                                                                                                                                                    \r"
     ]
    },
    {
     "data": {
      "text/html": [
       "<pre style=\"white-space:pre;overflow-x:auto;line-height:normal;font-family:Menlo,'DejaVu Sans Mono',consolas,'Courier New',monospace\"><span style=\"color: #7fbfbf; text-decoration-color: #7fbfbf\">[06/19/25 18:16:59] </span><span style=\"color: #000080; text-decoration-color: #000080\">INFO    </span> Generated <span style=\"color: #008080; text-decoration-color: #008080; font-weight: bold\">3</span> slides to                                                      <a href=\"file://c:\\Users\\foler\\AppData\\Local\\Programs\\Python\\Python312\\Lib\\site-packages\\manim_slides\\slide\\base.py\" target=\"_blank\"><span style=\"color: #7f7f7f; text-decoration-color: #7f7f7f\">base.py</span></a><span style=\"color: #7f7f7f; text-decoration-color: #7f7f7f\">:</span><a href=\"file://c:\\Users\\foler\\AppData\\Local\\Programs\\Python\\Python312\\Lib\\site-packages\\manim_slides\\slide\\base.py#599\" target=\"_blank\"><span style=\"color: #7f7f7f; text-decoration-color: #7f7f7f\">599</span></a>\n",
       "<span style=\"color: #7fbfbf; text-decoration-color: #7fbfbf\">                    </span>         <span style=\"color: #008000; text-decoration-color: #008000\">'c:\\Programs\\Github\\TeX-files\\Other\\diplopa-25\\manim\\slides\\files\\ExampleS</span> <span style=\"color: #7f7f7f; text-decoration-color: #7f7f7f\">           </span>\n",
       "<span style=\"color: #7fbfbf; text-decoration-color: #7fbfbf\">                    </span>         <span style=\"color: #008000; text-decoration-color: #008000\">plit2Intro'</span>                                                                <span style=\"color: #7f7f7f; text-decoration-color: #7f7f7f\">           </span>\n",
       "</pre>\n"
      ],
      "text/plain": [
       "\u001b[2;36m[06/19/25 18:16:59]\u001b[0m\u001b[2;36m \u001b[0m\u001b[34mINFO    \u001b[0m Generated \u001b[1;36m3\u001b[0m slides to                                                      \u001b]8;id=945604;file://c:\\Users\\foler\\AppData\\Local\\Programs\\Python\\Python312\\Lib\\site-packages\\manim_slides\\slide\\base.py\u001b\\\u001b[2mbase.py\u001b[0m\u001b]8;;\u001b\\\u001b[2m:\u001b[0m\u001b]8;id=147886;file://c:\\Users\\foler\\AppData\\Local\\Programs\\Python\\Python312\\Lib\\site-packages\\manim_slides\\slide\\base.py#599\u001b\\\u001b[2m599\u001b[0m\u001b]8;;\u001b\\\n",
       "\u001b[2;36m                    \u001b[0m         \u001b[32m'c:\\Programs\\Github\\TeX-files\\Other\\diplopa-25\\manim\\slides\\files\\ExampleS\u001b[0m \u001b[2m           \u001b[0m\n",
       "\u001b[2;36m                    \u001b[0m         \u001b[32mplit2Intro'\u001b[0m                                                                \u001b[2m           \u001b[0m\n"
      ]
     },
     "metadata": {},
     "output_type": "display_data"
    },
    {
     "data": {
      "text/html": [
       "<pre style=\"white-space:pre;overflow-x:auto;line-height:normal;font-family:Menlo,'DejaVu Sans Mono',consolas,'Courier New',monospace\"><span style=\"color: #7fbfbf; text-decoration-color: #7fbfbf\">[06/19/25 18:16:59] </span><span style=\"color: #008000; text-decoration-color: #008000\">INFO    </span> Generated <span style=\"color: #008000; text-decoration-color: #008000\">3</span> slides to                                                      <a href=\"file://c:\\Users\\foler\\AppData\\Local\\Programs\\Python\\Python312\\Lib\\site-packages\\manim_slides\\slide\\base.py\" target=\"_blank\"><span style=\"color: #7f7f7f; text-decoration-color: #7f7f7f\">base.py</span></a><span style=\"color: #7f7f7f; text-decoration-color: #7f7f7f\">:</span><a href=\"file://c:\\Users\\foler\\AppData\\Local\\Programs\\Python\\Python312\\Lib\\site-packages\\manim_slides\\slide\\base.py#599\" target=\"_blank\"><span style=\"color: #7f7f7f; text-decoration-color: #7f7f7f\">599</span></a>\n",
       "<span style=\"color: #7fbfbf; text-decoration-color: #7fbfbf\">                    </span>         <span style=\"color: #008000; text-decoration-color: #008000\">'c:\\Programs\\Github\\TeX-files\\Other\\diplopa-25\\manim\\slides\\files\\ExampleS</span> <span style=\"color: #7f7f7f; text-decoration-color: #7f7f7f\">           </span>\n",
       "<span style=\"color: #7fbfbf; text-decoration-color: #7fbfbf\">                    </span>         <span style=\"color: #008000; text-decoration-color: #008000\">plit2Intro'</span>                                                                <span style=\"color: #7f7f7f; text-decoration-color: #7f7f7f\">           </span>\n",
       "</pre>\n"
      ],
      "text/plain": [
       "\u001b[2;36m[06/19/25 18:16:59]\u001b[0m\u001b[2;36m \u001b[0m\u001b[32mINFO    \u001b[0m Generated \u001b[32m3\u001b[0m slides to                                                      \u001b]8;id=216952;file://c:\\Users\\foler\\AppData\\Local\\Programs\\Python\\Python312\\Lib\\site-packages\\manim_slides\\slide\\base.py\u001b\\\u001b[2mbase.py\u001b[0m\u001b]8;;\u001b\\\u001b[2m:\u001b[0m\u001b]8;id=884853;file://c:\\Users\\foler\\AppData\\Local\\Programs\\Python\\Python312\\Lib\\site-packages\\manim_slides\\slide\\base.py#599\u001b\\\u001b[2m599\u001b[0m\u001b]8;;\u001b\\\n",
       "\u001b[2;36m                    \u001b[0m         \u001b[32m'c:\\Programs\\Github\\TeX-files\\Other\\diplopa-25\\manim\\slides\\files\\ExampleS\u001b[0m \u001b[2m           \u001b[0m\n",
       "\u001b[2;36m                    \u001b[0m         \u001b[32mplit2Intro'\u001b[0m                                                                \u001b[2m           \u001b[0m\n"
      ]
     },
     "metadata": {},
     "output_type": "display_data"
    },
    {
     "data": {
      "text/html": [
       "<pre style=\"white-space:pre;overflow-x:auto;line-height:normal;font-family:Menlo,'DejaVu Sans Mono',consolas,'Courier New',monospace\"><span style=\"color: #7fbfbf; text-decoration-color: #7fbfbf\">                    </span><span style=\"color: #000080; text-decoration-color: #000080\">INFO    </span> Slide <span style=\"color: #008000; text-decoration-color: #008000\">'ExampleSplit2Intro'</span> configuration written in                        <a href=\"file://c:\\Users\\foler\\AppData\\Local\\Programs\\Python\\Python312\\Lib\\site-packages\\manim_slides\\slide\\base.py\" target=\"_blank\"><span style=\"color: #7f7f7f; text-decoration-color: #7f7f7f\">base.py</span></a><span style=\"color: #7f7f7f; text-decoration-color: #7f7f7f\">:</span><a href=\"file://c:\\Users\\foler\\AppData\\Local\\Programs\\Python\\Python312\\Lib\\site-packages\\manim_slides\\slide\\base.py#611\" target=\"_blank\"><span style=\"color: #7f7f7f; text-decoration-color: #7f7f7f\">611</span></a>\n",
       "<span style=\"color: #7fbfbf; text-decoration-color: #7fbfbf\">                    </span>         <span style=\"color: #008000; text-decoration-color: #008000\">'c:\\Programs\\Github\\TeX-files\\Other\\diplopa-25\\manim\\slides\\ExampleSplit2I</span> <span style=\"color: #7f7f7f; text-decoration-color: #7f7f7f\">           </span>\n",
       "<span style=\"color: #7fbfbf; text-decoration-color: #7fbfbf\">                    </span>         <span style=\"color: #008000; text-decoration-color: #008000\">ntro.json'</span>                                                                 <span style=\"color: #7f7f7f; text-decoration-color: #7f7f7f\">           </span>\n",
       "</pre>\n"
      ],
      "text/plain": [
       "\u001b[2;36m                   \u001b[0m\u001b[2;36m \u001b[0m\u001b[34mINFO    \u001b[0m Slide \u001b[32m'ExampleSplit2Intro'\u001b[0m configuration written in                        \u001b]8;id=21627;file://c:\\Users\\foler\\AppData\\Local\\Programs\\Python\\Python312\\Lib\\site-packages\\manim_slides\\slide\\base.py\u001b\\\u001b[2mbase.py\u001b[0m\u001b]8;;\u001b\\\u001b[2m:\u001b[0m\u001b]8;id=757294;file://c:\\Users\\foler\\AppData\\Local\\Programs\\Python\\Python312\\Lib\\site-packages\\manim_slides\\slide\\base.py#611\u001b\\\u001b[2m611\u001b[0m\u001b]8;;\u001b\\\n",
       "\u001b[2;36m                    \u001b[0m         \u001b[32m'c:\\Programs\\Github\\TeX-files\\Other\\diplopa-25\\manim\\slides\\ExampleSplit2I\u001b[0m \u001b[2m           \u001b[0m\n",
       "\u001b[2;36m                    \u001b[0m         \u001b[32mntro.json'\u001b[0m                                                                 \u001b[2m           \u001b[0m\n"
      ]
     },
     "metadata": {},
     "output_type": "display_data"
    },
    {
     "data": {
      "text/html": [
       "<pre style=\"white-space:pre;overflow-x:auto;line-height:normal;font-family:Menlo,'DejaVu Sans Mono',consolas,'Courier New',monospace\"><span style=\"color: #7fbfbf; text-decoration-color: #7fbfbf\">                    </span><span style=\"color: #008000; text-decoration-color: #008000\">INFO    </span> Slide <span style=\"color: #008000; text-decoration-color: #008000\">'ExampleSplit2Intro'</span> configuration written in                        <a href=\"file://c:\\Users\\foler\\AppData\\Local\\Programs\\Python\\Python312\\Lib\\site-packages\\manim_slides\\slide\\base.py\" target=\"_blank\"><span style=\"color: #7f7f7f; text-decoration-color: #7f7f7f\">base.py</span></a><span style=\"color: #7f7f7f; text-decoration-color: #7f7f7f\">:</span><a href=\"file://c:\\Users\\foler\\AppData\\Local\\Programs\\Python\\Python312\\Lib\\site-packages\\manim_slides\\slide\\base.py#611\" target=\"_blank\"><span style=\"color: #7f7f7f; text-decoration-color: #7f7f7f\">611</span></a>\n",
       "<span style=\"color: #7fbfbf; text-decoration-color: #7fbfbf\">                    </span>         <span style=\"color: #008000; text-decoration-color: #008000\">'c:\\Programs\\Github\\TeX-files\\Other\\diplopa-25\\manim\\slides\\ExampleSplit2I</span> <span style=\"color: #7f7f7f; text-decoration-color: #7f7f7f\">           </span>\n",
       "<span style=\"color: #7fbfbf; text-decoration-color: #7fbfbf\">                    </span>         <span style=\"color: #008000; text-decoration-color: #008000\">ntro.json'</span>                                                                 <span style=\"color: #7f7f7f; text-decoration-color: #7f7f7f\">           </span>\n",
       "</pre>\n"
      ],
      "text/plain": [
       "\u001b[2;36m                   \u001b[0m\u001b[2;36m \u001b[0m\u001b[32mINFO    \u001b[0m Slide \u001b[32m'ExampleSplit2Intro'\u001b[0m configuration written in                        \u001b]8;id=588345;file://c:\\Users\\foler\\AppData\\Local\\Programs\\Python\\Python312\\Lib\\site-packages\\manim_slides\\slide\\base.py\u001b\\\u001b[2mbase.py\u001b[0m\u001b]8;;\u001b\\\u001b[2m:\u001b[0m\u001b]8;id=372236;file://c:\\Users\\foler\\AppData\\Local\\Programs\\Python\\Python312\\Lib\\site-packages\\manim_slides\\slide\\base.py#611\u001b\\\u001b[2m611\u001b[0m\u001b]8;;\u001b\\\n",
       "\u001b[2;36m                    \u001b[0m         \u001b[32m'c:\\Programs\\Github\\TeX-files\\Other\\diplopa-25\\manim\\slides\\ExampleSplit2I\u001b[0m \u001b[2m           \u001b[0m\n",
       "\u001b[2;36m                    \u001b[0m         \u001b[32mntro.json'\u001b[0m                                                                 \u001b[2m           \u001b[0m\n"
      ]
     },
     "metadata": {},
     "output_type": "display_data"
    },
    {
     "data": {
      "text/html": [
       "<video src=\"media\\jupyter\\ExampleSplit2Intro@2025-06-19@18-16-59.mp4\" controls autoplay loop style=\"max-width: 60%;\"  >\n",
       "      Your browser does not support the <code>video</code> element.\n",
       "    </video>"
      ],
      "text/plain": [
       "<IPython.core.display.Video object>"
      ]
     },
     "metadata": {},
     "output_type": "display_data"
    }
   ],
   "source": [
    "%%manim -qp -v WARNING ExampleSplit2Intro\n",
    "\n",
    "class ExampleSplit2Intro(SWSlide):\n",
    "    def construct(self):\n",
    "        PAGE_NUM = PageNum(16)\n",
    "        self.add(PAGE_NUM)\n",
    "\n",
    "        normal = VGroup(\n",
    "            MathTex(r\"q(x, y), ~ r(x, y) \\Leftrightarrow x < Q < y\"),\n",
    "            Tex(\"--\"),\n",
    "            Text(\"ограничение энергии\").scale(0.8)\n",
    "        ).arrange(RIGHT)\n",
    "        question = VGroup(\n",
    "            MathTex(r\"q?(x, y), ~ r?(x, y) \\Leftrightarrow x < 0 < y\"),\n",
    "            Tex(\"--\"),\n",
    "            Text(\"условие перехода\").scale(0.8)\n",
    "        ).arrange(RIGHT)\n",
    "        subs = VGroup(normal, question).arrange(DOWN).to_corner(UP).shift(UP*0.2)\n",
    "        normal[-1].shift(DOWN*0.05)\n",
    "        question[-1].shift(DOWN*0.05)\n",
    "\n",
    "        examp2 = VGroup(\n",
    "            Text(\"Пример 2\"),\n",
    "            MathTex(\"s=3\"),\n",
    "            MathTex(r\"\\alpha^b_s=8\"),\n",
    "        ).arrange(DOWN).to_corner(RIGHT).shift(0.2*RIGHT)\n",
    "\n",
    "        tab1 = MathTable([\n",
    "            [ r\" q(0.0, 5.14) \\\\ r(9.16, 24.42) \",  r\" q?(-2.71, -2.14) \\\\ r(24.42, 59.61) \",  r\" q(0.0, 12.55) \\\\ r(59.61, +\\infty) \",  ],\n",
    "            [ r\" q(5.14, 18.47) \\\\ r?(-2.14, -0.44) \",  \"-\",  r\" q(12.55, 25.88) \\\\ r?(-2.14, -2.14) \",  ],\n",
    "            [ r\" q(18.47, 73.9) \\\\ r(32.91, 87.76) \",  r\" q?(-2.14, -0.42) \\\\ r(87.76, 122.94) \",  r\" q(25.88, 103.53) \\\\ r(122.94, +\\infty) \",  ],\n",
    "            [ r\" q(73.9, +\\infty) \\\\ r?(-0.42, 1.26) \",  \"-\",  r\" q(103.53, +\\infty) \\\\ r?(-0.42, -0.42) \",  ]\n",
    "            ],\n",
    "            include_outer_lines=True,\n",
    "            row_labels=[Tex(1),Tex(2),Tex(3),Tex(4)],\n",
    "            col_labels=[Tex(0),Tex(1),Tex(2)],\n",
    "            top_left_entry=VGroup( MathTex(\"q\"), MathTex(\"r\") ).arrange(UR),\n",
    "        ).scale(0.6).shift(DOWN*0.7+LEFT)\n",
    "\n",
    "        self.play(\n",
    "            FadeIn(tab1, shift=UP),\n",
    "            AnimGroupFunc(subs[::-1], FadeIn, lag_ratio=0.05, shift=DOWN),\n",
    "            AnimGroupFunc(examp2, FadeIn, lag_ratio=0.05, shift=LEFT),\n",
    "        )\n",
    "        self.sw()\n",
    "\n",
    "        cell_show = [(1,1, YELLOW), (2,1, YELLOW), (3,1, YELLOW), (4,1, YELLOW), (4,2, RED, 0.7)]\n",
    "        cell_show = VGroup(*map(lambda x: tab1.get_cell((x[0]+1, x[1]+1), color=x[2]).scale(len(x) == 4 and x[3] or 0.9), cell_show))\n",
    "\n",
    "        self.play(\n",
    "            AnimGroupFunc(cell_show, FadeIn, lag_ratio=0.05),\n",
    "        )\n",
    "        self.sw()\n",
    "\n",
    "        self.play(\n",
    "            FadeOut(tab1, shift=DOWN),\n",
    "            FadeOut(cell_show, shift=DOWN),\n",
    "            AnimGroupFunc(subs, FadeOut, lag_ratio=0.05, shift=UP),\n",
    "            AnimGroupFunc(examp2, FadeOut, lag_ratio=0.05, shift=RIGHT),\n",
    "            PAGE_NUM.animate.bump(),\n",
    "        )\n",
    "        self.sw()"
   ]
  },
  {
   "cell_type": "code",
   "execution_count": 3,
   "metadata": {},
   "outputs": [
    {
     "data": {
      "text/html": [
       "<pre style=\"white-space:pre;overflow-x:auto;line-height:normal;font-family:Menlo,'DejaVu Sans Mono',consolas,'Courier New',monospace\">Manim Community <span style=\"color: #008000; text-decoration-color: #008000\">v0.19.0</span>\n",
       "\n",
       "</pre>\n"
      ],
      "text/plain": [
       "Manim Community \u001b[32mv0.\u001b[0m\u001b[32m19.0\u001b[0m\n",
       "\n"
      ]
     },
     "metadata": {},
     "output_type": "display_data"
    },
    {
     "name": "stderr",
     "output_type": "stream",
     "text": [
      "                                                                                                                                               \r"
     ]
    },
    {
     "data": {
      "text/html": [
       "<pre style=\"white-space:pre;overflow-x:auto;line-height:normal;font-family:Menlo,'DejaVu Sans Mono',consolas,'Courier New',monospace\"><span style=\"color: #7fbfbf; text-decoration-color: #7fbfbf\">[06/19/25 18:26:36] </span><span style=\"color: #000080; text-decoration-color: #000080\">INFO    </span> Generated <span style=\"color: #008080; text-decoration-color: #008080; font-weight: bold\">6</span> slides to                                                      <a href=\"file://c:\\Users\\foler\\AppData\\Local\\Programs\\Python\\Python312\\Lib\\site-packages\\manim_slides\\slide\\base.py\" target=\"_blank\"><span style=\"color: #7f7f7f; text-decoration-color: #7f7f7f\">base.py</span></a><span style=\"color: #7f7f7f; text-decoration-color: #7f7f7f\">:</span><a href=\"file://c:\\Users\\foler\\AppData\\Local\\Programs\\Python\\Python312\\Lib\\site-packages\\manim_slides\\slide\\base.py#599\" target=\"_blank\"><span style=\"color: #7f7f7f; text-decoration-color: #7f7f7f\">599</span></a>\n",
       "<span style=\"color: #7fbfbf; text-decoration-color: #7fbfbf\">                    </span>         <span style=\"color: #008000; text-decoration-color: #008000\">'c:\\Programs\\Github\\TeX-files\\Other\\diplopa-25\\manim\\slides\\files\\ExampleS</span> <span style=\"color: #7f7f7f; text-decoration-color: #7f7f7f\">           </span>\n",
       "<span style=\"color: #7fbfbf; text-decoration-color: #7fbfbf\">                    </span>         <span style=\"color: #008000; text-decoration-color: #008000\">plit2'</span>                                                                     <span style=\"color: #7f7f7f; text-decoration-color: #7f7f7f\">           </span>\n",
       "</pre>\n"
      ],
      "text/plain": [
       "\u001b[2;36m[06/19/25 18:26:36]\u001b[0m\u001b[2;36m \u001b[0m\u001b[34mINFO    \u001b[0m Generated \u001b[1;36m6\u001b[0m slides to                                                      \u001b]8;id=120037;file://c:\\Users\\foler\\AppData\\Local\\Programs\\Python\\Python312\\Lib\\site-packages\\manim_slides\\slide\\base.py\u001b\\\u001b[2mbase.py\u001b[0m\u001b]8;;\u001b\\\u001b[2m:\u001b[0m\u001b]8;id=51734;file://c:\\Users\\foler\\AppData\\Local\\Programs\\Python\\Python312\\Lib\\site-packages\\manim_slides\\slide\\base.py#599\u001b\\\u001b[2m599\u001b[0m\u001b]8;;\u001b\\\n",
       "\u001b[2;36m                    \u001b[0m         \u001b[32m'c:\\Programs\\Github\\TeX-files\\Other\\diplopa-25\\manim\\slides\\files\\ExampleS\u001b[0m \u001b[2m           \u001b[0m\n",
       "\u001b[2;36m                    \u001b[0m         \u001b[32mplit2'\u001b[0m                                                                     \u001b[2m           \u001b[0m\n"
      ]
     },
     "metadata": {},
     "output_type": "display_data"
    },
    {
     "data": {
      "text/html": [
       "<pre style=\"white-space:pre;overflow-x:auto;line-height:normal;font-family:Menlo,'DejaVu Sans Mono',consolas,'Courier New',monospace\"><span style=\"color: #7fbfbf; text-decoration-color: #7fbfbf\">[06/19/25 18:26:36] </span><span style=\"color: #008000; text-decoration-color: #008000\">INFO    </span> Generated <span style=\"color: #008000; text-decoration-color: #008000\">6</span> slides to                                                      <a href=\"file://c:\\Users\\foler\\AppData\\Local\\Programs\\Python\\Python312\\Lib\\site-packages\\manim_slides\\slide\\base.py\" target=\"_blank\"><span style=\"color: #7f7f7f; text-decoration-color: #7f7f7f\">base.py</span></a><span style=\"color: #7f7f7f; text-decoration-color: #7f7f7f\">:</span><a href=\"file://c:\\Users\\foler\\AppData\\Local\\Programs\\Python\\Python312\\Lib\\site-packages\\manim_slides\\slide\\base.py#599\" target=\"_blank\"><span style=\"color: #7f7f7f; text-decoration-color: #7f7f7f\">599</span></a>\n",
       "<span style=\"color: #7fbfbf; text-decoration-color: #7fbfbf\">                    </span>         <span style=\"color: #008000; text-decoration-color: #008000\">'c:\\Programs\\Github\\TeX-files\\Other\\diplopa-25\\manim\\slides\\files\\ExampleS</span> <span style=\"color: #7f7f7f; text-decoration-color: #7f7f7f\">           </span>\n",
       "<span style=\"color: #7fbfbf; text-decoration-color: #7fbfbf\">                    </span>         <span style=\"color: #008000; text-decoration-color: #008000\">plit2'</span>                                                                     <span style=\"color: #7f7f7f; text-decoration-color: #7f7f7f\">           </span>\n",
       "</pre>\n"
      ],
      "text/plain": [
       "\u001b[2;36m[06/19/25 18:26:36]\u001b[0m\u001b[2;36m \u001b[0m\u001b[32mINFO    \u001b[0m Generated \u001b[32m6\u001b[0m slides to                                                      \u001b]8;id=291487;file://c:\\Users\\foler\\AppData\\Local\\Programs\\Python\\Python312\\Lib\\site-packages\\manim_slides\\slide\\base.py\u001b\\\u001b[2mbase.py\u001b[0m\u001b]8;;\u001b\\\u001b[2m:\u001b[0m\u001b]8;id=385373;file://c:\\Users\\foler\\AppData\\Local\\Programs\\Python\\Python312\\Lib\\site-packages\\manim_slides\\slide\\base.py#599\u001b\\\u001b[2m599\u001b[0m\u001b]8;;\u001b\\\n",
       "\u001b[2;36m                    \u001b[0m         \u001b[32m'c:\\Programs\\Github\\TeX-files\\Other\\diplopa-25\\manim\\slides\\files\\ExampleS\u001b[0m \u001b[2m           \u001b[0m\n",
       "\u001b[2;36m                    \u001b[0m         \u001b[32mplit2'\u001b[0m                                                                     \u001b[2m           \u001b[0m\n"
      ]
     },
     "metadata": {},
     "output_type": "display_data"
    },
    {
     "data": {
      "text/html": [
       "<pre style=\"white-space:pre;overflow-x:auto;line-height:normal;font-family:Menlo,'DejaVu Sans Mono',consolas,'Courier New',monospace\"><span style=\"color: #7fbfbf; text-decoration-color: #7fbfbf\">                    </span><span style=\"color: #000080; text-decoration-color: #000080\">INFO    </span> Slide <span style=\"color: #008000; text-decoration-color: #008000\">'ExampleSplit2'</span> configuration written in                             <a href=\"file://c:\\Users\\foler\\AppData\\Local\\Programs\\Python\\Python312\\Lib\\site-packages\\manim_slides\\slide\\base.py\" target=\"_blank\"><span style=\"color: #7f7f7f; text-decoration-color: #7f7f7f\">base.py</span></a><span style=\"color: #7f7f7f; text-decoration-color: #7f7f7f\">:</span><a href=\"file://c:\\Users\\foler\\AppData\\Local\\Programs\\Python\\Python312\\Lib\\site-packages\\manim_slides\\slide\\base.py#611\" target=\"_blank\"><span style=\"color: #7f7f7f; text-decoration-color: #7f7f7f\">611</span></a>\n",
       "<span style=\"color: #7fbfbf; text-decoration-color: #7fbfbf\">                    </span>         <span style=\"color: #008000; text-decoration-color: #008000\">'c:\\Programs\\Github\\TeX-files\\Other\\diplopa-25\\manim\\slides\\ExampleSplit2.</span> <span style=\"color: #7f7f7f; text-decoration-color: #7f7f7f\">           </span>\n",
       "<span style=\"color: #7fbfbf; text-decoration-color: #7fbfbf\">                    </span>         <span style=\"color: #008000; text-decoration-color: #008000\">json'</span>                                                                      <span style=\"color: #7f7f7f; text-decoration-color: #7f7f7f\">           </span>\n",
       "</pre>\n"
      ],
      "text/plain": [
       "\u001b[2;36m                   \u001b[0m\u001b[2;36m \u001b[0m\u001b[34mINFO    \u001b[0m Slide \u001b[32m'ExampleSplit2'\u001b[0m configuration written in                             \u001b]8;id=956042;file://c:\\Users\\foler\\AppData\\Local\\Programs\\Python\\Python312\\Lib\\site-packages\\manim_slides\\slide\\base.py\u001b\\\u001b[2mbase.py\u001b[0m\u001b]8;;\u001b\\\u001b[2m:\u001b[0m\u001b]8;id=199133;file://c:\\Users\\foler\\AppData\\Local\\Programs\\Python\\Python312\\Lib\\site-packages\\manim_slides\\slide\\base.py#611\u001b\\\u001b[2m611\u001b[0m\u001b]8;;\u001b\\\n",
       "\u001b[2;36m                    \u001b[0m         \u001b[32m'c:\\Programs\\Github\\TeX-files\\Other\\diplopa-25\\manim\\slides\\ExampleSplit2.\u001b[0m \u001b[2m           \u001b[0m\n",
       "\u001b[2;36m                    \u001b[0m         \u001b[32mjson'\u001b[0m                                                                      \u001b[2m           \u001b[0m\n"
      ]
     },
     "metadata": {},
     "output_type": "display_data"
    },
    {
     "data": {
      "text/html": [
       "<pre style=\"white-space:pre;overflow-x:auto;line-height:normal;font-family:Menlo,'DejaVu Sans Mono',consolas,'Courier New',monospace\"><span style=\"color: #7fbfbf; text-decoration-color: #7fbfbf\">                    </span><span style=\"color: #008000; text-decoration-color: #008000\">INFO    </span> Slide <span style=\"color: #008000; text-decoration-color: #008000\">'ExampleSplit2'</span> configuration written in                             <a href=\"file://c:\\Users\\foler\\AppData\\Local\\Programs\\Python\\Python312\\Lib\\site-packages\\manim_slides\\slide\\base.py\" target=\"_blank\"><span style=\"color: #7f7f7f; text-decoration-color: #7f7f7f\">base.py</span></a><span style=\"color: #7f7f7f; text-decoration-color: #7f7f7f\">:</span><a href=\"file://c:\\Users\\foler\\AppData\\Local\\Programs\\Python\\Python312\\Lib\\site-packages\\manim_slides\\slide\\base.py#611\" target=\"_blank\"><span style=\"color: #7f7f7f; text-decoration-color: #7f7f7f\">611</span></a>\n",
       "<span style=\"color: #7fbfbf; text-decoration-color: #7fbfbf\">                    </span>         <span style=\"color: #008000; text-decoration-color: #008000\">'c:\\Programs\\Github\\TeX-files\\Other\\diplopa-25\\manim\\slides\\ExampleSplit2.</span> <span style=\"color: #7f7f7f; text-decoration-color: #7f7f7f\">           </span>\n",
       "<span style=\"color: #7fbfbf; text-decoration-color: #7fbfbf\">                    </span>         <span style=\"color: #008000; text-decoration-color: #008000\">json'</span>                                                                      <span style=\"color: #7f7f7f; text-decoration-color: #7f7f7f\">           </span>\n",
       "</pre>\n"
      ],
      "text/plain": [
       "\u001b[2;36m                   \u001b[0m\u001b[2;36m \u001b[0m\u001b[32mINFO    \u001b[0m Slide \u001b[32m'ExampleSplit2'\u001b[0m configuration written in                             \u001b]8;id=266629;file://c:\\Users\\foler\\AppData\\Local\\Programs\\Python\\Python312\\Lib\\site-packages\\manim_slides\\slide\\base.py\u001b\\\u001b[2mbase.py\u001b[0m\u001b]8;;\u001b\\\u001b[2m:\u001b[0m\u001b]8;id=39546;file://c:\\Users\\foler\\AppData\\Local\\Programs\\Python\\Python312\\Lib\\site-packages\\manim_slides\\slide\\base.py#611\u001b\\\u001b[2m611\u001b[0m\u001b]8;;\u001b\\\n",
       "\u001b[2;36m                    \u001b[0m         \u001b[32m'c:\\Programs\\Github\\TeX-files\\Other\\diplopa-25\\manim\\slides\\ExampleSplit2.\u001b[0m \u001b[2m           \u001b[0m\n",
       "\u001b[2;36m                    \u001b[0m         \u001b[32mjson'\u001b[0m                                                                      \u001b[2m           \u001b[0m\n"
      ]
     },
     "metadata": {},
     "output_type": "display_data"
    },
    {
     "data": {
      "text/html": [
       "<video src=\"media\\jupyter\\ExampleSplit2@2025-06-19@18-26-36.mp4\" controls autoplay loop style=\"max-width: 60%;\"  >\n",
       "      Your browser does not support the <code>video</code> element.\n",
       "    </video>"
      ],
      "text/plain": [
       "<IPython.core.display.Video object>"
      ]
     },
     "metadata": {},
     "output_type": "display_data"
    }
   ],
   "source": [
    "%%manim -qp -v WARNING ExampleSplit2\n",
    "\n",
    "class ExampleSplit2(SWSlide):\n",
    "    def construct(self):\n",
    "        PAGE_NUM = PageNum(17)\n",
    "        self.add(PAGE_NUM)\n",
    "\n",
    "        def get_graph_points(data_main: DataClass, func_v, y0) -> VGroup:\n",
    "            _Q = Q.tracker.get_value()\n",
    "            data = data_main.with_Q(_Q)\n",
    "            \n",
    "            right_flow = get_right_split(func_v, data)\n",
    "\n",
    "            h = 0.01\n",
    "            X, Y = runge_kutta(\n",
    "                function=right_flow,\n",
    "                time_space_params=(x_max, h),\n",
    "                y0=y0,\n",
    "                Q=_Q,\n",
    "                add=\"_s3_a8\"\n",
    "            )\n",
    "\n",
    "            return VGroup(*[ \n",
    "                VMobject().set_points_as_corners(axes.c2p(np.matrix([X, y_i]).T)).set_color(clr)\n",
    "                for y_i, clr in zip(Y.T, colors)\n",
    "            ], *[\n",
    "                DecimalNumber(y_i[-1], num_decimal_places=3)\n",
    "                    .move_to(axes.c2p(X[-1], y_i[-1]))\n",
    "                    .shift(UP/4 + ii * 1.2 * LEFT)\n",
    "                    .set_color(clr)\n",
    "                    .set_stroke(BLACK, width=2, background=True)\n",
    "                for ii, (y_i, clr) in enumerate(zip(Y.T, colors))\n",
    "            ])\n",
    "        \n",
    "\n",
    "        x_max = 100\n",
    "        y_max = 10\n",
    "        Q = Variable(0.5, \"Q\", num_decimal_places=2).to_corner(UP).shift(2*LEFT)\n",
    "        Q.value.group_with_commas=False\n",
    "\n",
    "        axes = Axes(\n",
    "            x_range=[0, x_max, 10],\n",
    "            y_range=[0, y_max, 2]\n",
    "        ).add_coordinates()\n",
    "\n",
    "\n",
    "        x_label = axes.get_x_axis_label(\"t\", edge=RIGHT, direction=DR)\n",
    "        y_label = axes.get_y_axis_label(\"N\", edge=UP, direction=UL)\n",
    "\n",
    "        axes += VGroup(x_label, y_label)\n",
    "\n",
    "\n",
    "        self.play(\n",
    "            Write(axes),\n",
    "            Write(Q), \n",
    "            PAGE_NUM.animate.shift(0.3*DR), \n",
    "            run_time=1\n",
    "        )\n",
    "        self.add(axes, Q)\n",
    "        self.sw()\n",
    "\n",
    "        data = DataClass.get_example_split_s3a8()\n",
    "        q, r = data.n \n",
    "        nn = (1 + q + r)\n",
    "        y0 = (0.5,) * nn\n",
    "        \n",
    "        curves = always_redraw(lambda: get_graph_points(data, identity, y0))\n",
    "\n",
    "        \n",
    "        species = VGroup(*[\n",
    "            MathTex(f\"N{\"'\" if i > q else \"\"}_{i if i <= q else i %(1+q) + 1}\").set_color(c) for i, c in enumerate(colors[:nn])\n",
    "        ]).arrange().to_corner(UR)\n",
    "\n",
    "        self.play(\n",
    "            AnimationGroup(\n",
    "                Create(curves[:nn], run_time=2),\n",
    "                Write(curves[nn:], run_time=1),\n",
    "                lag_ratio=0.2\n",
    "            ),\n",
    "            Write(species, run_time=1)\n",
    "        )\n",
    "        self.add(curves, species)\n",
    "        self.sw()\n",
    "\n",
    "        self.play(\n",
    "            Q.tracker.animate.set_value(70), \n",
    "            run_time=3\n",
    "        )\n",
    "        self.sw()\n",
    "        \n",
    "        self.play(\n",
    "            Q.tracker.animate.set_value(120), \n",
    "            run_time=3\n",
    "        )\n",
    "        self.sw()\n",
    "        \n",
    "        self.play(\n",
    "            Q.tracker.animate.set_value(1000), \n",
    "            run_time=3\n",
    "        )\n",
    "        self.sw()\n",
    "\n",
    "        self.play(\n",
    "            Uncreate(axes),\n",
    "            Uncreate(curves[:nn]),\n",
    "            Unwrite(curves[nn:]),\n",
    "            Unwrite(Q),\n",
    "            Unwrite(species),\n",
    "            PAGE_NUM.animate.bump(),\n",
    "            run_time=2\n",
    "        )\n",
    "        self.sw()"
   ]
  },
  {
   "cell_type": "code",
   "execution_count": 4,
   "metadata": {},
   "outputs": [
    {
     "data": {
      "text/html": [
       "<pre style=\"white-space:pre;overflow-x:auto;line-height:normal;font-family:Menlo,'DejaVu Sans Mono',consolas,'Courier New',monospace\">Manim Community <span style=\"color: #008000; text-decoration-color: #008000\">v0.19.0</span>\n",
       "\n",
       "</pre>\n"
      ],
      "text/plain": [
       "Manim Community \u001b[32mv0.\u001b[0m\u001b[32m19.0\u001b[0m\n",
       "\n"
      ]
     },
     "metadata": {},
     "output_type": "display_data"
    },
    {
     "name": "stderr",
     "output_type": "stream",
     "text": [
      "                                                                                                                                            \r"
     ]
    },
    {
     "data": {
      "text/html": [
       "<pre style=\"white-space:pre;overflow-x:auto;line-height:normal;font-family:Menlo,'DejaVu Sans Mono',consolas,'Courier New',monospace\"><span style=\"color: #7fbfbf; text-decoration-color: #7fbfbf\">[06/19/25 18:29:06] </span><span style=\"color: #000080; text-decoration-color: #000080\">INFO    </span> Generated <span style=\"color: #008080; text-decoration-color: #008080; font-weight: bold\">3</span> slides to                                                      <a href=\"file://c:\\Users\\foler\\AppData\\Local\\Programs\\Python\\Python312\\Lib\\site-packages\\manim_slides\\slide\\base.py\" target=\"_blank\"><span style=\"color: #7f7f7f; text-decoration-color: #7f7f7f\">base.py</span></a><span style=\"color: #7f7f7f; text-decoration-color: #7f7f7f\">:</span><a href=\"file://c:\\Users\\foler\\AppData\\Local\\Programs\\Python\\Python312\\Lib\\site-packages\\manim_slides\\slide\\base.py#599\" target=\"_blank\"><span style=\"color: #7f7f7f; text-decoration-color: #7f7f7f\">599</span></a>\n",
       "<span style=\"color: #7fbfbf; text-decoration-color: #7fbfbf\">                    </span>         <span style=\"color: #008000; text-decoration-color: #008000\">'c:\\Programs\\Github\\TeX-files\\Other\\diplopa-25\\manim\\slides\\files\\Conclusi</span> <span style=\"color: #7f7f7f; text-decoration-color: #7f7f7f\">           </span>\n",
       "<span style=\"color: #7fbfbf; text-decoration-color: #7fbfbf\">                    </span>         <span style=\"color: #008000; text-decoration-color: #008000\">on'</span>                                                                        <span style=\"color: #7f7f7f; text-decoration-color: #7f7f7f\">           </span>\n",
       "</pre>\n"
      ],
      "text/plain": [
       "\u001b[2;36m[06/19/25 18:29:06]\u001b[0m\u001b[2;36m \u001b[0m\u001b[34mINFO    \u001b[0m Generated \u001b[1;36m3\u001b[0m slides to                                                      \u001b]8;id=151339;file://c:\\Users\\foler\\AppData\\Local\\Programs\\Python\\Python312\\Lib\\site-packages\\manim_slides\\slide\\base.py\u001b\\\u001b[2mbase.py\u001b[0m\u001b]8;;\u001b\\\u001b[2m:\u001b[0m\u001b]8;id=957072;file://c:\\Users\\foler\\AppData\\Local\\Programs\\Python\\Python312\\Lib\\site-packages\\manim_slides\\slide\\base.py#599\u001b\\\u001b[2m599\u001b[0m\u001b]8;;\u001b\\\n",
       "\u001b[2;36m                    \u001b[0m         \u001b[32m'c:\\Programs\\Github\\TeX-files\\Other\\diplopa-25\\manim\\slides\\files\\Conclusi\u001b[0m \u001b[2m           \u001b[0m\n",
       "\u001b[2;36m                    \u001b[0m         \u001b[32mon'\u001b[0m                                                                        \u001b[2m           \u001b[0m\n"
      ]
     },
     "metadata": {},
     "output_type": "display_data"
    },
    {
     "data": {
      "text/html": [
       "<pre style=\"white-space:pre;overflow-x:auto;line-height:normal;font-family:Menlo,'DejaVu Sans Mono',consolas,'Courier New',monospace\"><span style=\"color: #7fbfbf; text-decoration-color: #7fbfbf\">[06/19/25 18:29:06] </span><span style=\"color: #008000; text-decoration-color: #008000\">INFO    </span> Generated <span style=\"color: #008000; text-decoration-color: #008000\">3</span> slides to                                                      <a href=\"file://c:\\Users\\foler\\AppData\\Local\\Programs\\Python\\Python312\\Lib\\site-packages\\manim_slides\\slide\\base.py\" target=\"_blank\"><span style=\"color: #7f7f7f; text-decoration-color: #7f7f7f\">base.py</span></a><span style=\"color: #7f7f7f; text-decoration-color: #7f7f7f\">:</span><a href=\"file://c:\\Users\\foler\\AppData\\Local\\Programs\\Python\\Python312\\Lib\\site-packages\\manim_slides\\slide\\base.py#599\" target=\"_blank\"><span style=\"color: #7f7f7f; text-decoration-color: #7f7f7f\">599</span></a>\n",
       "<span style=\"color: #7fbfbf; text-decoration-color: #7fbfbf\">                    </span>         <span style=\"color: #008000; text-decoration-color: #008000\">'c:\\Programs\\Github\\TeX-files\\Other\\diplopa-25\\manim\\slides\\files\\Conclusi</span> <span style=\"color: #7f7f7f; text-decoration-color: #7f7f7f\">           </span>\n",
       "<span style=\"color: #7fbfbf; text-decoration-color: #7fbfbf\">                    </span>         <span style=\"color: #008000; text-decoration-color: #008000\">on'</span>                                                                        <span style=\"color: #7f7f7f; text-decoration-color: #7f7f7f\">           </span>\n",
       "</pre>\n"
      ],
      "text/plain": [
       "\u001b[2;36m[06/19/25 18:29:06]\u001b[0m\u001b[2;36m \u001b[0m\u001b[32mINFO    \u001b[0m Generated \u001b[32m3\u001b[0m slides to                                                      \u001b]8;id=115447;file://c:\\Users\\foler\\AppData\\Local\\Programs\\Python\\Python312\\Lib\\site-packages\\manim_slides\\slide\\base.py\u001b\\\u001b[2mbase.py\u001b[0m\u001b]8;;\u001b\\\u001b[2m:\u001b[0m\u001b]8;id=919460;file://c:\\Users\\foler\\AppData\\Local\\Programs\\Python\\Python312\\Lib\\site-packages\\manim_slides\\slide\\base.py#599\u001b\\\u001b[2m599\u001b[0m\u001b]8;;\u001b\\\n",
       "\u001b[2;36m                    \u001b[0m         \u001b[32m'c:\\Programs\\Github\\TeX-files\\Other\\diplopa-25\\manim\\slides\\files\\Conclusi\u001b[0m \u001b[2m           \u001b[0m\n",
       "\u001b[2;36m                    \u001b[0m         \u001b[32mon'\u001b[0m                                                                        \u001b[2m           \u001b[0m\n"
      ]
     },
     "metadata": {},
     "output_type": "display_data"
    },
    {
     "data": {
      "text/html": [
       "<pre style=\"white-space:pre;overflow-x:auto;line-height:normal;font-family:Menlo,'DejaVu Sans Mono',consolas,'Courier New',monospace\"><span style=\"color: #7fbfbf; text-decoration-color: #7fbfbf\">                    </span><span style=\"color: #000080; text-decoration-color: #000080\">INFO    </span> Slide <span style=\"color: #008000; text-decoration-color: #008000\">'Conclusion'</span> configuration written in                                <a href=\"file://c:\\Users\\foler\\AppData\\Local\\Programs\\Python\\Python312\\Lib\\site-packages\\manim_slides\\slide\\base.py\" target=\"_blank\"><span style=\"color: #7f7f7f; text-decoration-color: #7f7f7f\">base.py</span></a><span style=\"color: #7f7f7f; text-decoration-color: #7f7f7f\">:</span><a href=\"file://c:\\Users\\foler\\AppData\\Local\\Programs\\Python\\Python312\\Lib\\site-packages\\manim_slides\\slide\\base.py#611\" target=\"_blank\"><span style=\"color: #7f7f7f; text-decoration-color: #7f7f7f\">611</span></a>\n",
       "<span style=\"color: #7fbfbf; text-decoration-color: #7fbfbf\">                    </span>         <span style=\"color: #008000; text-decoration-color: #008000\">'c:\\Programs\\Github\\TeX-files\\Other\\diplopa-25\\manim\\slides\\Conclusion.jso</span> <span style=\"color: #7f7f7f; text-decoration-color: #7f7f7f\">           </span>\n",
       "<span style=\"color: #7fbfbf; text-decoration-color: #7fbfbf\">                    </span>         <span style=\"color: #008000; text-decoration-color: #008000\">n'</span>                                                                         <span style=\"color: #7f7f7f; text-decoration-color: #7f7f7f\">           </span>\n",
       "</pre>\n"
      ],
      "text/plain": [
       "\u001b[2;36m                   \u001b[0m\u001b[2;36m \u001b[0m\u001b[34mINFO    \u001b[0m Slide \u001b[32m'Conclusion'\u001b[0m configuration written in                                \u001b]8;id=618211;file://c:\\Users\\foler\\AppData\\Local\\Programs\\Python\\Python312\\Lib\\site-packages\\manim_slides\\slide\\base.py\u001b\\\u001b[2mbase.py\u001b[0m\u001b]8;;\u001b\\\u001b[2m:\u001b[0m\u001b]8;id=447074;file://c:\\Users\\foler\\AppData\\Local\\Programs\\Python\\Python312\\Lib\\site-packages\\manim_slides\\slide\\base.py#611\u001b\\\u001b[2m611\u001b[0m\u001b]8;;\u001b\\\n",
       "\u001b[2;36m                    \u001b[0m         \u001b[32m'c:\\Programs\\Github\\TeX-files\\Other\\diplopa-25\\manim\\slides\\Conclusion.jso\u001b[0m \u001b[2m           \u001b[0m\n",
       "\u001b[2;36m                    \u001b[0m         \u001b[32mn'\u001b[0m                                                                         \u001b[2m           \u001b[0m\n"
      ]
     },
     "metadata": {},
     "output_type": "display_data"
    },
    {
     "data": {
      "text/html": [
       "<pre style=\"white-space:pre;overflow-x:auto;line-height:normal;font-family:Menlo,'DejaVu Sans Mono',consolas,'Courier New',monospace\"><span style=\"color: #7fbfbf; text-decoration-color: #7fbfbf\">                    </span><span style=\"color: #008000; text-decoration-color: #008000\">INFO    </span> Slide <span style=\"color: #008000; text-decoration-color: #008000\">'Conclusion'</span> configuration written in                                <a href=\"file://c:\\Users\\foler\\AppData\\Local\\Programs\\Python\\Python312\\Lib\\site-packages\\manim_slides\\slide\\base.py\" target=\"_blank\"><span style=\"color: #7f7f7f; text-decoration-color: #7f7f7f\">base.py</span></a><span style=\"color: #7f7f7f; text-decoration-color: #7f7f7f\">:</span><a href=\"file://c:\\Users\\foler\\AppData\\Local\\Programs\\Python\\Python312\\Lib\\site-packages\\manim_slides\\slide\\base.py#611\" target=\"_blank\"><span style=\"color: #7f7f7f; text-decoration-color: #7f7f7f\">611</span></a>\n",
       "<span style=\"color: #7fbfbf; text-decoration-color: #7fbfbf\">                    </span>         <span style=\"color: #008000; text-decoration-color: #008000\">'c:\\Programs\\Github\\TeX-files\\Other\\diplopa-25\\manim\\slides\\Conclusion.jso</span> <span style=\"color: #7f7f7f; text-decoration-color: #7f7f7f\">           </span>\n",
       "<span style=\"color: #7fbfbf; text-decoration-color: #7fbfbf\">                    </span>         <span style=\"color: #008000; text-decoration-color: #008000\">n'</span>                                                                         <span style=\"color: #7f7f7f; text-decoration-color: #7f7f7f\">           </span>\n",
       "</pre>\n"
      ],
      "text/plain": [
       "\u001b[2;36m                   \u001b[0m\u001b[2;36m \u001b[0m\u001b[32mINFO    \u001b[0m Slide \u001b[32m'Conclusion'\u001b[0m configuration written in                                \u001b]8;id=646032;file://c:\\Users\\foler\\AppData\\Local\\Programs\\Python\\Python312\\Lib\\site-packages\\manim_slides\\slide\\base.py\u001b\\\u001b[2mbase.py\u001b[0m\u001b]8;;\u001b\\\u001b[2m:\u001b[0m\u001b]8;id=355567;file://c:\\Users\\foler\\AppData\\Local\\Programs\\Python\\Python312\\Lib\\site-packages\\manim_slides\\slide\\base.py#611\u001b\\\u001b[2m611\u001b[0m\u001b]8;;\u001b\\\n",
       "\u001b[2;36m                    \u001b[0m         \u001b[32m'c:\\Programs\\Github\\TeX-files\\Other\\diplopa-25\\manim\\slides\\Conclusion.jso\u001b[0m \u001b[2m           \u001b[0m\n",
       "\u001b[2;36m                    \u001b[0m         \u001b[32mn'\u001b[0m                                                                         \u001b[2m           \u001b[0m\n"
      ]
     },
     "metadata": {},
     "output_type": "display_data"
    },
    {
     "data": {
      "text/html": [
       "<video src=\"media\\jupyter\\Conclusion@2025-06-19@18-29-06.mp4\" controls autoplay loop style=\"max-width: 60%;\"  >\n",
       "      Your browser does not support the <code>video</code> element.\n",
       "    </video>"
      ],
      "text/plain": [
       "<IPython.core.display.Video object>"
      ]
     },
     "metadata": {},
     "output_type": "display_data"
    }
   ],
   "source": [
    "%%manim -qp -v WARNING Conclusion\n",
    "\n",
    "class Conclusion(SWSlide):\n",
    "    def construct(self):\n",
    "        PAGE_NUM = PageNum(18)\n",
    "        self.add(PAGE_NUM)\n",
    "\n",
    "        title = Title2(\"Заключение\")\n",
    "        \n",
    "        conclusion = Paragraph(\n",
    "            \"Динамика\",\n",
    "            \"Устойчивость\",\n",
    "            \"Численные эксперименты\",\n",
    "            alignment=\"center\",\n",
    "            line_spacing=0.5,\n",
    "        )\n",
    "\n",
    "        t1 = Text(\"Изучены и проведены\", weight=BOLD).next_to(conclusion, UP).shift(UP*0.2)\n",
    "        t2 = Text(\"для различных трофических цепей\", weight=BOLD).next_to(conclusion, DOWN).shift(DOWN*0.2)\n",
    "\n",
    " \n",
    "        self.play(\n",
    "            Write(title, run_time=1),\n",
    "            AnimGroupFunc([t1, *conclusion, t2], FadeIn, lag_ratio=0.1, shift=UP),\n",
    "        )\n",
    "        self.sw()\n",
    "\n",
    "        c2 = Paragraph(\n",
    "            \"Результаты могут быть использованы\",\n",
    "            \"в исследовании динамики сообществ\",\n",
    "            \"при изменении наблюдаемых параметров.\",\n",
    "            \"(в частности, кол-ва поступающей энергии)\",\n",
    "            alignment=\"center\",\n",
    "            line_spacing=0.5,\n",
    "        )\n",
    "        c2[-1].scale(0.8)\n",
    "        \n",
    "        self.play(\n",
    "            AnimationGroup(\n",
    "                AnimGroupFunc([t1, *conclusion, t2], FadeOut, lag_ratio=0.1, shift=UP),\n",
    "                AnimGroupFunc(c2, FadeIn, lag_ratio=0.1, shift=UP), \n",
    "                lag_ratio=0.1\n",
    "            )\n",
    "        )\n",
    "        self.sw()\n",
    "\n",
    "        self.play(\n",
    "            Unwrite(title, run_time=1),\n",
    "            AnimGroupFunc(c2, FadeOut, lag_ratio=0.1, shift=DOWN),\n",
    "            FadeOut(PAGE_NUM, shift=DOWN)\n",
    "        )\n",
    "        self.sw()"
   ]
  }
 ],
 "metadata": {
  "kernelspec": {
   "display_name": "Python 3",
   "language": "python",
   "name": "python3"
  },
  "language_info": {
   "codemirror_mode": {
    "name": "ipython",
    "version": 3
   },
   "file_extension": ".py",
   "mimetype": "text/x-python",
   "name": "python",
   "nbconvert_exporter": "python",
   "pygments_lexer": "ipython3",
   "version": "3.12.9"
  }
 },
 "nbformat": 4,
 "nbformat_minor": 2
}
